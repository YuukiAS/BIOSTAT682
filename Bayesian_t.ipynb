{
 "cells": [
  {
   "cell_type": "code",
   "execution_count": 1,
   "source": [
    "library(tidyr)\n",
    "library(dplyr)\n",
    "library(corrplot)\n",
    "\n",
    "\n",
    "lifeData <- read.csv(\"C:/Code/BIOSTAT682/Life Expectancy_v5.csv\")\n",
    "\n",
    "dim(lifeData)\n",
    "head(lifeData)"
   ],
   "outputs": [
    {
     "output_type": "stream",
     "name": "stderr",
     "text": [
      "\n",
      "Attaching package: 'dplyr'\n",
      "\n",
      "\n",
      "The following objects are masked from 'package:stats':\n",
      "\n",
      "    filter, lag\n",
      "\n",
      "\n",
      "The following objects are masked from 'package:base':\n",
      "\n",
      "    intersect, setdiff, setequal, union\n",
      "\n",
      "\n",
      "Warning message:\n",
      "\"package 'corrplot' was built under R version 4.2.2\"\n",
      "corrplot 0.92 loaded\n",
      "\n"
     ]
    },
    {
     "output_type": "display_data",
     "data": {
      "text/html": [
       "<style>\n",
       ".list-inline {list-style: none; margin:0; padding: 0}\n",
       ".list-inline>li {display: inline-block}\n",
       ".list-inline>li:not(:last-child)::after {content: \"\\00b7\"; padding: 0 .5ex}\n",
       "</style>\n",
       "<ol class=list-inline><li>1646</li><li>19</li></ol>\n"
      ],
      "text/latex": [
       "\\begin{enumerate*}\n",
       "\\item 1646\n",
       "\\item 19\n",
       "\\end{enumerate*}\n"
      ],
      "text/markdown": [
       "1. 1646\n",
       "2. 19\n",
       "\n",
       "\n"
      ],
      "text/plain": [
       "[1] 1646   19"
      ]
     },
     "metadata": {}
    },
    {
     "output_type": "display_data",
     "data": {
      "text/html": [
       "<table class=\"dataframe\">\n",
       "<caption>A data.frame: 6 × 19</caption>\n",
       "<thead>\n",
       "\t<tr><th></th><th scope=col>Country</th><th scope=col>Year</th><th scope=col>Status</th><th scope=col>Life.expectancy</th><th scope=col>Adult.Mortality</th><th scope=col>Alcohol</th><th scope=col>Hepatitis.B</th><th scope=col>Measles</th><th scope=col>BMI</th><th scope=col>Polio</th><th scope=col>Total.expenditure</th><th scope=col>Diphtheria</th><th scope=col>HIV.AIDS</th><th scope=col>GDP</th><th scope=col>Population</th><th scope=col>thinness.1.19.years.</th><th scope=col>Income.composition.of.resources</th><th scope=col>Schooling</th><th scope=col>Continent</th></tr>\n",
       "\t<tr><th></th><th scope=col>&lt;chr&gt;</th><th scope=col>&lt;int&gt;</th><th scope=col>&lt;chr&gt;</th><th scope=col>&lt;dbl&gt;</th><th scope=col>&lt;int&gt;</th><th scope=col>&lt;dbl&gt;</th><th scope=col>&lt;int&gt;</th><th scope=col>&lt;int&gt;</th><th scope=col>&lt;dbl&gt;</th><th scope=col>&lt;int&gt;</th><th scope=col>&lt;dbl&gt;</th><th scope=col>&lt;int&gt;</th><th scope=col>&lt;dbl&gt;</th><th scope=col>&lt;dbl&gt;</th><th scope=col>&lt;dbl&gt;</th><th scope=col>&lt;dbl&gt;</th><th scope=col>&lt;dbl&gt;</th><th scope=col>&lt;dbl&gt;</th><th scope=col>&lt;chr&gt;</th></tr>\n",
       "</thead>\n",
       "<tbody>\n",
       "\t<tr><th scope=row>1</th><td>Afghanistan</td><td>2015</td><td>Developing</td><td>65.0</td><td>263</td><td>0.01</td><td>65</td><td>1154</td><td>19.1</td><td> 6</td><td>8.16</td><td>65</td><td>0.1</td><td>0.005842592</td><td>33736494</td><td>17.2</td><td>0.479</td><td>10.1</td><td>Asia</td></tr>\n",
       "\t<tr><th scope=row>2</th><td>Afghanistan</td><td>2014</td><td>Developing</td><td>59.9</td><td>271</td><td>0.01</td><td>62</td><td> 492</td><td>18.6</td><td>58</td><td>8.18</td><td>62</td><td>0.1</td><td>0.006126965</td><td>32758200</td><td>17.5</td><td>0.476</td><td>10.0</td><td>Asia</td></tr>\n",
       "\t<tr><th scope=row>3</th><td>Afghanistan</td><td>2013</td><td>Developing</td><td>59.9</td><td>268</td><td>0.01</td><td>64</td><td> 430</td><td>18.1</td><td>62</td><td>8.13</td><td>64</td><td>0.1</td><td>0.006317450</td><td>31731688</td><td>17.7</td><td>0.470</td><td> 9.9</td><td>Asia</td></tr>\n",
       "\t<tr><th scope=row>4</th><td>Afghanistan</td><td>2012</td><td>Developing</td><td>59.5</td><td>272</td><td>0.01</td><td>67</td><td>2787</td><td>17.6</td><td>67</td><td>8.52</td><td>67</td><td>0.1</td><td>0.006699590</td><td>36969580</td><td>17.9</td><td>0.463</td><td> 9.8</td><td>Asia</td></tr>\n",
       "\t<tr><th scope=row>5</th><td>Afghanistan</td><td>2011</td><td>Developing</td><td>59.2</td><td>275</td><td>0.01</td><td>68</td><td>3013</td><td>17.2</td><td>68</td><td>7.87</td><td>68</td><td>0.1</td><td>0.006353723</td><td>29785990</td><td>18.2</td><td>0.454</td><td> 9.5</td><td>Asia</td></tr>\n",
       "\t<tr><th scope=row>6</th><td>Afghanistan</td><td>2010</td><td>Developing</td><td>58.8</td><td>279</td><td>0.01</td><td>66</td><td>1989</td><td>16.7</td><td>66</td><td>9.20</td><td>66</td><td>0.1</td><td>0.005533289</td><td>28831670</td><td>18.4</td><td>0.448</td><td> 9.2</td><td>Asia</td></tr>\n",
       "</tbody>\n",
       "</table>\n"
      ],
      "text/latex": [
       "A data.frame: 6 × 19\n",
       "\\begin{tabular}{r|lllllllllllllllllll}\n",
       "  & Country & Year & Status & Life.expectancy & Adult.Mortality & Alcohol & Hepatitis.B & Measles & BMI & Polio & Total.expenditure & Diphtheria & HIV.AIDS & GDP & Population & thinness.1.19.years. & Income.composition.of.resources & Schooling & Continent\\\\\n",
       "  & <chr> & <int> & <chr> & <dbl> & <int> & <dbl> & <int> & <int> & <dbl> & <int> & <dbl> & <int> & <dbl> & <dbl> & <dbl> & <dbl> & <dbl> & <dbl> & <chr>\\\\\n",
       "\\hline\n",
       "\t1 & Afghanistan & 2015 & Developing & 65.0 & 263 & 0.01 & 65 & 1154 & 19.1 &  6 & 8.16 & 65 & 0.1 & 0.005842592 & 33736494 & 17.2 & 0.479 & 10.1 & Asia\\\\\n",
       "\t2 & Afghanistan & 2014 & Developing & 59.9 & 271 & 0.01 & 62 &  492 & 18.6 & 58 & 8.18 & 62 & 0.1 & 0.006126965 & 32758200 & 17.5 & 0.476 & 10.0 & Asia\\\\\n",
       "\t3 & Afghanistan & 2013 & Developing & 59.9 & 268 & 0.01 & 64 &  430 & 18.1 & 62 & 8.13 & 64 & 0.1 & 0.006317450 & 31731688 & 17.7 & 0.470 &  9.9 & Asia\\\\\n",
       "\t4 & Afghanistan & 2012 & Developing & 59.5 & 272 & 0.01 & 67 & 2787 & 17.6 & 67 & 8.52 & 67 & 0.1 & 0.006699590 & 36969580 & 17.9 & 0.463 &  9.8 & Asia\\\\\n",
       "\t5 & Afghanistan & 2011 & Developing & 59.2 & 275 & 0.01 & 68 & 3013 & 17.2 & 68 & 7.87 & 68 & 0.1 & 0.006353723 & 29785990 & 18.2 & 0.454 &  9.5 & Asia\\\\\n",
       "\t6 & Afghanistan & 2010 & Developing & 58.8 & 279 & 0.01 & 66 & 1989 & 16.7 & 66 & 9.20 & 66 & 0.1 & 0.005533289 & 28831670 & 18.4 & 0.448 &  9.2 & Asia\\\\\n",
       "\\end{tabular}\n"
      ],
      "text/markdown": [
       "\n",
       "A data.frame: 6 × 19\n",
       "\n",
       "| <!--/--> | Country &lt;chr&gt; | Year &lt;int&gt; | Status &lt;chr&gt; | Life.expectancy &lt;dbl&gt; | Adult.Mortality &lt;int&gt; | Alcohol &lt;dbl&gt; | Hepatitis.B &lt;int&gt; | Measles &lt;int&gt; | BMI &lt;dbl&gt; | Polio &lt;int&gt; | Total.expenditure &lt;dbl&gt; | Diphtheria &lt;int&gt; | HIV.AIDS &lt;dbl&gt; | GDP &lt;dbl&gt; | Population &lt;dbl&gt; | thinness.1.19.years. &lt;dbl&gt; | Income.composition.of.resources &lt;dbl&gt; | Schooling &lt;dbl&gt; | Continent &lt;chr&gt; |\n",
       "|---|---|---|---|---|---|---|---|---|---|---|---|---|---|---|---|---|---|---|---|\n",
       "| 1 | Afghanistan | 2015 | Developing | 65.0 | 263 | 0.01 | 65 | 1154 | 19.1 |  6 | 8.16 | 65 | 0.1 | 0.005842592 | 33736494 | 17.2 | 0.479 | 10.1 | Asia |\n",
       "| 2 | Afghanistan | 2014 | Developing | 59.9 | 271 | 0.01 | 62 |  492 | 18.6 | 58 | 8.18 | 62 | 0.1 | 0.006126965 | 32758200 | 17.5 | 0.476 | 10.0 | Asia |\n",
       "| 3 | Afghanistan | 2013 | Developing | 59.9 | 268 | 0.01 | 64 |  430 | 18.1 | 62 | 8.13 | 64 | 0.1 | 0.006317450 | 31731688 | 17.7 | 0.470 |  9.9 | Asia |\n",
       "| 4 | Afghanistan | 2012 | Developing | 59.5 | 272 | 0.01 | 67 | 2787 | 17.6 | 67 | 8.52 | 67 | 0.1 | 0.006699590 | 36969580 | 17.9 | 0.463 |  9.8 | Asia |\n",
       "| 5 | Afghanistan | 2011 | Developing | 59.2 | 275 | 0.01 | 68 | 3013 | 17.2 | 68 | 7.87 | 68 | 0.1 | 0.006353723 | 29785990 | 18.2 | 0.454 |  9.5 | Asia |\n",
       "| 6 | Afghanistan | 2010 | Developing | 58.8 | 279 | 0.01 | 66 | 1989 | 16.7 | 66 | 9.20 | 66 | 0.1 | 0.005533289 | 28831670 | 18.4 | 0.448 |  9.2 | Asia |\n",
       "\n"
      ],
      "text/plain": [
       "  Country     Year Status     Life.expectancy Adult.Mortality Alcohol\n",
       "1 Afghanistan 2015 Developing 65.0            263             0.01   \n",
       "2 Afghanistan 2014 Developing 59.9            271             0.01   \n",
       "3 Afghanistan 2013 Developing 59.9            268             0.01   \n",
       "4 Afghanistan 2012 Developing 59.5            272             0.01   \n",
       "5 Afghanistan 2011 Developing 59.2            275             0.01   \n",
       "6 Afghanistan 2010 Developing 58.8            279             0.01   \n",
       "  Hepatitis.B Measles BMI  Polio Total.expenditure Diphtheria HIV.AIDS\n",
       "1 65          1154    19.1  6    8.16              65         0.1     \n",
       "2 62           492    18.6 58    8.18              62         0.1     \n",
       "3 64           430    18.1 62    8.13              64         0.1     \n",
       "4 67          2787    17.6 67    8.52              67         0.1     \n",
       "5 68          3013    17.2 68    7.87              68         0.1     \n",
       "6 66          1989    16.7 66    9.20              66         0.1     \n",
       "  GDP         Population thinness.1.19.years. Income.composition.of.resources\n",
       "1 0.005842592 33736494   17.2                 0.479                          \n",
       "2 0.006126965 32758200   17.5                 0.476                          \n",
       "3 0.006317450 31731688   17.7                 0.470                          \n",
       "4 0.006699590 36969580   17.9                 0.463                          \n",
       "5 0.006353723 29785990   18.2                 0.454                          \n",
       "6 0.005533289 28831670   18.4                 0.448                          \n",
       "  Schooling Continent\n",
       "1 10.1      Asia     \n",
       "2 10.0      Asia     \n",
       "3  9.9      Asia     \n",
       "4  9.8      Asia     \n",
       "5  9.5      Asia     \n",
       "6  9.2      Asia     "
      ]
     },
     "metadata": {}
    }
   ],
   "metadata": {
    "vscode": {
     "languageId": "r"
    }
   }
  },
  {
   "cell_type": "code",
   "execution_count": 2,
   "source": [
    "lifeData_train <- lifeData %>% filter(Year < 2013)\n",
    "lifeData_test <- lifeData %>% filter(Year >= 2013)\n",
    "dim(lifeData_train)\n",
    "dim(lifeData_test)"
   ],
   "outputs": [
    {
     "output_type": "display_data",
     "data": {
      "text/html": [
       "<style>\n",
       ".list-inline {list-style: none; margin:0; padding: 0}\n",
       ".list-inline>li {display: inline-block}\n",
       ".list-inline>li:not(:last-child)::after {content: \"\\00b7\"; padding: 0 .5ex}\n",
       "</style>\n",
       "<ol class=list-inline><li>1386</li><li>19</li></ol>\n"
      ],
      "text/latex": [
       "\\begin{enumerate*}\n",
       "\\item 1386\n",
       "\\item 19\n",
       "\\end{enumerate*}\n"
      ],
      "text/markdown": [
       "1. 1386\n",
       "2. 19\n",
       "\n",
       "\n"
      ],
      "text/plain": [
       "[1] 1386   19"
      ]
     },
     "metadata": {}
    },
    {
     "output_type": "display_data",
     "data": {
      "text/html": [
       "<style>\n",
       ".list-inline {list-style: none; margin:0; padding: 0}\n",
       ".list-inline>li {display: inline-block}\n",
       ".list-inline>li:not(:last-child)::after {content: \"\\00b7\"; padding: 0 .5ex}\n",
       "</style>\n",
       "<ol class=list-inline><li>260</li><li>19</li></ol>\n"
      ],
      "text/latex": [
       "\\begin{enumerate*}\n",
       "\\item 260\n",
       "\\item 19\n",
       "\\end{enumerate*}\n"
      ],
      "text/markdown": [
       "1. 260\n",
       "2. 19\n",
       "\n",
       "\n"
      ],
      "text/plain": [
       "[1] 260  19"
      ]
     },
     "metadata": {}
    }
   ],
   "metadata": {
    "vscode": {
     "languageId": "r"
    }
   }
  },
  {
   "cell_type": "code",
   "execution_count": 5,
   "source": [
    "library(corrplot)\n",
    "\n",
    "lifeData_train.matrix <- as.matrix(lifeData_train)[,-(1:4)]\n",
    "lifeData_train.matrix <- apply(lifeData_train.matrix, 2, as.numeric)\n",
    "corrplot(cor(lifeData_train.matrix))"
   ],
   "outputs": [
    {
     "output_type": "stream",
     "name": "stderr",
     "text": [
      "Warning message in apply(lifeData_train.matrix, 2, as.numeric):\n",
      "\"NAs introduced by coercion\"\n"
     ]
    },
    {
     "output_type": "display_data",
     "data": {
      "image/png": "[encoded data removed]",
      "text/plain": [
       "Plot with title \"\""
      ]
     },
     "metadata": {
      "image/png": {
       "width": 420,
       "height": 420
      }
     }
    }
   ],
   "metadata": {}
  },
  {
   "cell_type": "code",
   "execution_count": 3,
   "source": [
    "library(R2jags)\n",
    "\n",
    "status = rep(0,nrow(lifeData_train))\n",
    "for (i in 1:nrow(lifeData_train)) {\n",
    "  status[i] = ifelse(lifeData_train$Status[i]==\"Developing\",1,2)\n",
    "}\n",
    "\n",
    "continent = as.numeric(as.factor(lifeData_train$Continent))\n",
    "mortality = lifeData_train$\"Adult.Mortality\"\n",
    "infant_deaths = lifeData_train$\"infant.deaths\"\n",
    "alcohol = lifeData_train$\"Alcohol\"\n",
    "percExp = lifeData_train$\"percentage.expenditure\"\n",
    "hepB = lifeData_train$\"Hepatitis.B\"\n",
    "measles = lifeData_train$\"Measles\" / 100\n",
    "BMI = lifeData_train$\"BMI\"\n",
    "under5Deaths = lifeData_train$\"under.five.deaths\"\n",
    "polio = lifeData_train$\"Polio\"\n",
    "totalExp = lifeData_train$\"Total.expenditure\"\n",
    "dipth = lifeData_train$\"Diphtheria\"\n",
    "hivaids = lifeData_train$\"HIV.AIDS\"\n",
    "gdp = lifeData_train$\"GDP\" \n",
    "pop = lifeData_train$\"Population\" / 10000000\n",
    "thin1019 = lifeData_train$\"thinness.1.19.years\"\n",
    "thin59 = lifeData_train$\"thinness.5.9.years\"\n",
    "incomeComp = lifeData_train$\"Income.composition.of.resources\"\n",
    "school = lifeData_train$\"Schooling\"\n",
    "y = lifeData_train$\"Life.expectancy\"\n",
    "N = length(lifeData_train$Country) #go through each point\n",
    "J = length(unique(lifeData_train$Country)) #go through each country\n",
    "\n",
    "# encode country\n",
    "indicesDict = c(unique(lifeData_train$Country))\n",
    "indices = rep(0,N)\n",
    "for (i in 1:N) {\n",
    "  indices[i] = which(indicesDict==lifeData_train$Country[i])\n",
    "}"
   ],
   "outputs": [
    {
     "output_type": "stream",
     "name": "stderr",
     "text": [
      "Loading required package: rjags\n",
      "\n",
      "Loading required package: coda\n",
      "\n",
      "Linked to JAGS 4.3.1\n",
      "\n",
      "Loaded modules: basemod,bugs\n",
      "\n",
      "\n",
      "Attaching package: 'R2jags'\n",
      "\n",
      "\n",
      "The following object is masked from 'package:coda':\n",
      "\n",
      "    traceplot\n",
      "\n",
      "\n"
     ]
    }
   ],
   "metadata": {
    "vscode": {
     "languageId": "r"
    }
   }
  },
  {
   "cell_type": "markdown",
   "source": [
    "## Model using Country + Continent as encoding"
   ],
   "metadata": {}
  },
  {
   "cell_type": "code",
   "execution_count": 4,
   "source": [
    "save.parms.1 = c(\"alpha\", \"alphay\", \"beta\",\"betay\")\n",
    "life_expectancy.data.1 = c(\"y\",\"mortality\",\"alcohol\", \n",
    "                            \"hepB\",\"measles\",\"BMI\",\"polio\",\"totalExp\",\n",
    "                            \"dipth\",\"hivaids\",\"gdp\",\"pop\",\"thin1019\",\n",
    "                            \"incomeComp\",\"school\",\"N\",\"J\",\"indices\", \"continent\")                         "
   ],
   "outputs": [],
   "metadata": {
    "vscode": {
     "languageId": "r"
    }
   }
  },
  {
   "cell_type": "code",
   "execution_count": 5,
   "source": [
    "life_expectancy.model.1 = function()\n",
    "{\n",
    "  for (i in 1:N) {\n",
    "     y[i] ~ dnorm(mu[i],tau) \n",
    "     mu[i] <- \n",
    "          alphay[indices[i]] # intercept\n",
    "          + betay[continent[i],1]*mortality[i] \n",
    "          + betay[continent[i],2]*alcohol[i] \n",
    "          + betay[continent[i],3]*hepB[i] \n",
    "          + betay[continent[i],4]*measles[i] \n",
    "          + betay[continent[i],5]*BMI[i] \n",
    "          + betay[continent[i],6]*polio[i] \n",
    "          + betay[continent[i],7]*totalExp[i] \n",
    "          + betay[continent[i],8]*dipth[i] \n",
    "          + betay[continent[i],9]*hivaids[i] \n",
    "          + betay[continent[i],10]*gdp[i] \n",
    "          + betay[continent[i],11]*pop[i] \n",
    "          + betay[continent[i],12]*thin1019[i] \n",
    "          + betay[continent[i],13]*incomeComp[i] \n",
    "          + betay[continent[i],14]*school[i] \n",
    "  }\n",
    "  alpha ~ dnorm(60, 1e-4)\n",
    "  for (j in 1:J) {\n",
    "    alphay[j] ~ dnorm(alpha, tau2)\n",
    "  }      \n",
    "\n",
    "  for (k in 1:14) {\n",
    "    beta[k] ~ dnorm(0,1e-3)\n",
    "  }\n",
    "  \n",
    "  for(j in 1:6) {\n",
    "      for (k in 1:14) {\n",
    "      betay[j,k] ~ dnorm(beta[k], tau2)\n",
    "    }\n",
    "  }\n",
    "  tau ~ dgamma(1e-6,1e-6)\n",
    "  tau2 ~ dgamma(1e-6,1e-6)\n",
    "}"
   ],
   "outputs": [],
   "metadata": {
    "vscode": {
     "languageId": "r"
    }
   }
  },
  {
   "cell_type": "code",
   "execution_count": 6,
   "source": [
    "life_expectancy.out.1 = jags(data=life_expectancy.data.1,parameters.to.save=save.parms.1,model.file=life_expectancy.model.1,\n",
    "                           n.chains=3,n.iter=20000,n.burnin=5000,n.thin=1)\n",
    "print(life_expectancy.out.1, digits = 6)"
   ],
   "outputs": [
    {
     "output_type": "stream",
     "name": "stderr",
     "text": [
      "module glm loaded\n",
      "\n"
     ]
    },
    {
     "output_type": "stream",
     "name": "stdout",
     "text": [
      "Compiling model graph\n",
      "   Resolving undeclared variables\n",
      "   Allocating nodes\n",
      "Graph information:\n",
      "   Observed stochastic nodes: 1386\n",
      "   Unobserved stochastic nodes: 232\n",
      "   Total graph size: 34979\n",
      "\n",
      "Initializing model\n",
      "\n",
      "Inference for Bugs model at \"C:/Users/MINGCH~1/AppData/Local/Temp/RtmpUjRdO3/model4d902d2d5c8a.txt\", fit using jags,\n",
      " 3 chains, each with 20000 iterations (first 5000 discarded)\n",
      " n.sims = 45000 iterations saved\n",
      "                mu.vect   sd.vect        2.5%         25%         50%\n",
      "alpha         58.117575  1.222794   55.847651   57.332052   58.079359\n",
      "alphay[1]     53.530694  1.532849   50.616365   52.500509   53.478897\n",
      "alphay[2]     57.566419  1.401183   54.950717   56.689934   57.500547\n",
      "alphay[3]     60.879814  1.547496   58.085475   59.881102   60.808072\n",
      "alphay[4]     52.251927  1.403982   49.564561   51.322371   52.214637\n",
      "alphay[5]     55.396278  1.526845   52.542787   54.333176   55.338992\n",
      "alphay[6]     60.554586  1.427138   57.914274   59.598044   60.505745\n",
      "alphay[7]     57.682408  2.138049   53.507848   56.247545   57.660441\n",
      "alphay[8]     61.807646  1.306926   59.307932   60.932024   61.770372\n",
      "alphay[9]     59.326089  1.393339   56.727569   58.388071   59.280927\n",
      "alphay[10]    60.626648  1.491818   57.804273   59.643405   60.597749\n",
      "alphay[11]    54.442052  1.475460   51.663111   53.465165   54.390054\n",
      "alphay[12]    56.946339  1.352341   54.346596   56.058010   56.899527\n",
      "alphay[13]    55.624499  1.461468   52.826981   54.634884   55.603440\n",
      "alphay[14]    55.256627  1.241894   52.954668   54.434047   55.212782\n",
      "alphay[15]    58.473334  1.547021   55.586403   57.450503   58.431529\n",
      "alphay[16]    60.226474  1.444460   57.392465   59.273566   60.216586\n",
      "alphay[17]    57.568979  1.567978   54.622693   56.533721   57.511910\n",
      "alphay[18]    57.842872  1.655580   54.658950   56.723505   57.825030\n",
      "alphay[19]    55.483253  1.552907   52.651571   54.502486   55.386716\n",
      "alphay[20]    57.025932  1.476704   54.323720   56.064907   56.957688\n",
      "alphay[21]    56.541893  1.454364   53.839260   55.592686   56.478892\n",
      "alphay[22]    62.518054  1.420308   60.025653   61.600195   62.448201\n",
      "alphay[23]    57.163587  1.446218   54.403898   56.220667   57.119974\n",
      "alphay[24]    55.534086  1.370167   52.951688   54.630618   55.489472\n",
      "alphay[25]    58.918976  1.493621   56.203208   57.960980   58.811173\n",
      "alphay[26]    57.105056  1.307940   54.566805   56.214088   57.100962\n",
      "alphay[27]    57.355448  1.167052   55.047585   56.568382   57.354672\n",
      "alphay[28]    59.596631  1.510933   56.760934   58.590381   59.543973\n",
      "alphay[29]    60.313759  1.498220   57.440528   59.330796   60.284760\n",
      "alphay[30]    58.366492  1.353079   55.793322   57.445846   58.349194\n",
      "alphay[31]    58.230902  1.237062   55.901807   57.413532   58.181737\n",
      "alphay[32]    63.132874  1.382907   60.485086   62.182625   63.143614\n",
      "alphay[33]    56.485969  1.547522   53.622352   55.489795   56.398868\n",
      "alphay[34]    58.872403  1.412163   56.258535   57.987302   58.796290\n",
      "alphay[35]    61.420764  1.464680   58.701937   60.464785   61.365512\n",
      "alphay[36]    59.052983  1.502554   56.166879   58.029109   59.046104\n",
      "alphay[37]    58.429222  1.320574   56.008833   57.494266   58.389580\n",
      "alphay[38]    55.666561  1.442300   52.925535   54.668515   55.637076\n",
      "alphay[39]    61.891497  1.415895   59.293306   60.968163   61.821083\n",
      "alphay[40]    56.682850  1.417908   53.935611   55.725048   56.646327\n",
      "alphay[41]    58.878975  1.380121   56.305373   57.969993   58.822448\n",
      "alphay[42]    57.062720  1.793968   53.635664   55.844478   57.029734\n",
      "alphay[43]    60.887580  1.459522   58.168242   59.938062   60.818153\n",
      "alphay[44]    58.541517  1.384165   55.937043   57.625780   58.508808\n",
      "alphay[45]    60.204534  1.470970   57.433002   59.232484   60.159348\n",
      "alphay[46]    59.658340  1.378589   57.024765   58.747524   59.608358\n",
      "alphay[47]    57.996238  1.358885   55.508723   57.105734   57.932923\n",
      "alphay[48]    58.963381  1.369408   56.368469   58.077271   58.898557\n",
      "alphay[49]    58.957211  1.416651   56.322387   58.002993   58.909011\n",
      "alphay[50]    57.726343  1.227317   55.393601   56.907529   57.691605\n",
      "alphay[51]    55.827226  1.412519   53.201141   54.885779   55.781414\n",
      "alphay[52]    55.931605  1.913502   52.208798   54.650727   55.924221\n",
      "alphay[53]    59.365261  1.445468   56.646092   58.387953   59.339904\n",
      "alphay[54]    58.104320  2.273406   53.620718   56.592660   58.118335\n",
      "alphay[55]    57.708818  1.321207   55.215656   56.817853   57.679279\n",
      "alphay[56]    57.919452  2.060075   53.836992   56.562096   57.922153\n",
      "alphay[57]    60.507794  1.505616   57.592760   59.491941   60.476918\n",
      "alphay[58]    58.584268  2.040569   54.568442   57.195025   58.605228\n",
      "alphay[59]    60.512776  1.378196   57.876754   59.625369   60.465301\n",
      "alphay[60]    58.900884  1.418517   56.247933   57.937883   58.885855\n",
      "alphay[61]    56.531167  2.055253   52.492568   55.174734   56.529696\n",
      "alphay[62]    54.346430  1.590461   51.341560   53.289535   54.310031\n",
      "alphay[63]    56.264953  1.400312   53.716918   55.336499   56.196972\n",
      "alphay[64]    54.255759  1.684631   50.940880   53.136056   54.288332\n",
      "alphay[65]    57.186096  1.414866   54.451415   56.233723   57.159153\n",
      "alphay[66]    58.535284  1.990029   54.604958   57.202752   58.528757\n",
      "alphay[67]    56.391557  1.580126   53.444797   55.341991   56.332377\n",
      "alphay[68]    59.460469  1.436742   56.773857   58.514006   59.417157\n",
      "alphay[69]    56.324376  1.525489   53.370365   55.291174   56.296932\n",
      "alphay[70]    58.667719  1.455356   56.004487   57.730767   58.586097\n",
      "alphay[71]    59.494422  1.263860   57.160257   58.654793   59.437490\n",
      "alphay[72]    56.075193  1.498501   53.262927   55.080300   56.008306\n",
      "alphay[73]    60.275354  1.383536   57.616099   59.376754   60.233282\n",
      "alphay[74]    60.962363  1.497793   58.145666   59.983489   60.903365\n",
      "alphay[75]    55.064782  1.267395   52.710806   54.230832   55.018954\n",
      "alphay[76]    58.875783  1.535043   56.198291   57.898704   58.792477\n",
      "alphay[77]    58.971768  1.242794   56.686748   58.152851   58.914767\n",
      "alphay[78]    61.887365  1.444622   59.302579   60.947231   61.831596\n",
      "alphay[79]    58.926525  1.444149   56.195264   57.976462   58.893584\n",
      "alphay[80]    55.087943  1.486864   52.268569   54.109175   55.061015\n",
      "alphay[81]    56.649784  1.424081   53.966964   55.719265   56.587521\n",
      "alphay[82]    60.857082  1.531999   58.124109   59.868087   60.784130\n",
      "alphay[83]    57.577434  1.280695   55.239677   56.716387   57.519226\n",
      "alphay[84]    56.748182  1.390248   54.158792   55.809848   56.712739\n",
      "alphay[85]    59.910625  1.532975   57.020671   58.896113   59.875474\n",
      "alphay[86]    57.395866  1.451436   54.641686   56.449236   57.350422\n",
      "alphay[87]    56.981418  1.635788   53.832349   55.887700   56.933602\n",
      "alphay[88]    58.831787  1.364165   56.290605   57.908132   58.785312\n",
      "alphay[89]    58.708445  1.307234   56.303277   57.837601   58.643274\n",
      "alphay[90]    54.045081  1.951017   50.333949   52.714896   54.017922\n",
      "alphay[91]    57.943062  1.524603   55.122351   56.904079   57.902219\n",
      "alphay[92]    60.264686  1.350262   57.723845   59.371740   60.232177\n",
      "alphay[93]    55.047631  1.612432   51.973573   53.935561   55.008064\n",
      "alphay[94]    57.902543  1.307361   55.502286   57.015847   57.851535\n",
      "alphay[95]    56.950395  1.339819   54.477041   56.023941   56.895055\n",
      "alphay[96]    58.135077  1.314165   55.592087   57.287206   58.120471\n",
      "alphay[97]    57.889278  1.386518   55.222301   56.971462   57.839914\n",
      "alphay[98]    58.731659  1.332022   56.171245   57.845647   58.695157\n",
      "alphay[99]    58.608939  1.532366   55.608361   57.597724   58.576250\n",
      "alphay[100]   54.520527  1.758204   51.203579   53.342732   54.465563\n",
      "alphay[101]   58.968288  1.440779   56.318484   58.027154   58.911917\n",
      "alphay[102]   60.034921  1.613761   56.861432   58.971354   60.044330\n",
      "alphay[103]   59.463563  1.420281   56.915020   58.525975   59.406118\n",
      "alphay[104]   59.532579  1.456414   56.881775   58.588092   59.449245\n",
      "alphay[105]   57.482680  1.437992   54.741495   56.554002   57.434105\n",
      "alphay[106]   62.786626  1.473885   60.130067   61.820837   62.726625\n",
      "alphay[107]   51.818712  1.555174   48.881604   50.784209   51.770709\n",
      "alphay[108]   58.331607  1.416545   55.560958   57.381349   58.311101\n",
      "alphay[109]   58.186343  1.649063   55.044868   57.132165   58.128449\n",
      "alphay[110]   60.182537  1.388109   57.577495   59.284092   60.124262\n",
      "alphay[111]   60.176926  1.522162   57.205297   59.205285   60.138484\n",
      "alphay[112]   57.522945  1.575992   54.484634   56.447316   57.502902\n",
      "alphay[113]   58.198695  1.517627   55.429310   57.216099   58.143287\n",
      "alphay[114]   58.987968  1.625238   55.887481   57.910975   58.935740\n",
      "alphay[115]   59.006435  1.989911   55.397320   57.603166   58.922843\n",
      "alphay[116]   56.508834  1.331702   53.929549   55.644387   56.478583\n",
      "alphay[117]   60.654052  1.471210   57.830587   59.704181   60.612764\n",
      "alphay[118]   56.714199  1.415878   53.982389   55.767427   56.684441\n",
      "alphay[119]   55.936046  1.403634   53.305128   54.995450   55.888242\n",
      "alphay[120]   58.281726  1.574016   55.244437   57.203644   58.259013\n",
      "alphay[121]   59.452233  2.068266   55.379352   58.052568   59.466199\n",
      "alphay[122]   58.607327  1.552486   55.905220   57.619898   58.538970\n",
      "alphay[123]   60.044189  1.576247   57.137768   58.971611   59.979566\n",
      "alphay[124]   56.231072  1.457705   53.480489   55.240450   56.216246\n",
      "alphay[125]   58.633422  1.453263   55.881126   57.664185   58.592212\n",
      "alphay[126]   57.273257  1.485307   54.443395   56.273901   57.241113\n",
      "alphay[127]   57.463050  1.426845   54.762212   56.501274   57.431060\n",
      "alphay[128]   56.596519  1.415127   53.922392   55.671178   56.559347\n",
      "alphay[129]   62.376763  1.251635   60.027967   61.517863   62.340762\n",
      "alphay[130]   57.595557  1.403628   54.967475   56.662818   57.545599\n",
      "alphay[131]   59.045688  1.465709   56.237718   58.083759   59.005412\n",
      "beta[1]       -0.020222  0.791799   -1.580301   -0.546243   -0.026138\n",
      "beta[2]        0.167322  0.818755   -1.449879   -0.380334    0.166152\n",
      "beta[3]        0.030418  0.794296   -1.537022   -0.502547    0.032429\n",
      "beta[4]        0.051703  0.795421   -1.497378   -0.477871    0.049834\n",
      "beta[5]        0.045650  0.791315   -1.509790   -0.481150    0.041867\n",
      "beta[6]       -0.001556  0.791707   -1.566921   -0.529296   -0.001776\n",
      "beta[7]        0.018455  0.795088   -1.543783   -0.517861    0.017421\n",
      "beta[8]        0.029526  0.792394   -1.531232   -0.509059    0.033341\n",
      "beta[9]       -1.206180  0.964576   -3.111477   -1.852509   -1.208084\n",
      "beta[10]       5.287798  1.670260    2.040549    4.154779    5.282765\n",
      "beta[11]       0.422355  0.812963   -1.177822   -0.123646    0.422961\n",
      "beta[12]      -0.549420  0.804810   -2.131807   -1.086917   -0.550558\n",
      "beta[13]       2.708009  1.059717    0.639734    1.995482    2.709526\n",
      "beta[14]       0.592743  0.798434   -0.976572    0.059301    0.591679\n",
      "betay[1,1]    -0.030001  0.002227   -0.033777   -0.031411   -0.030070\n",
      "betay[2,1]    -0.021283  0.003404   -0.028190   -0.023491   -0.021159\n",
      "betay[3,1]    -0.016485  0.003817   -0.024022   -0.019041   -0.016461\n",
      "betay[4,1]     0.012288  0.004309    0.003459    0.009415    0.012401\n",
      "betay[5,1]    -0.049093  0.009902   -0.068227   -0.055772   -0.049363\n",
      "betay[6,1]     0.001669  0.004268   -0.006666   -0.001209    0.001669\n",
      "betay[1,2]    -0.150188  0.072855   -0.292601   -0.198589   -0.151098\n",
      "betay[2,2]     0.031282  0.127091   -0.216547   -0.053794    0.030454\n",
      "betay[3,2]    -0.083923  0.066047   -0.210454   -0.129489   -0.084982\n",
      "betay[4,2]     0.179525  0.225549   -0.240835    0.019385    0.183097\n",
      "betay[5,2]     0.397116  1.014196   -1.589355   -0.284117    0.407001\n",
      "betay[6,2]     0.658554  0.249648    0.168619    0.489242    0.657871\n",
      "betay[1,3]    -0.002025  0.008909   -0.019418   -0.008218   -0.002150\n",
      "betay[2,3]     0.013902  0.007273   -0.000552    0.009088    0.013938\n",
      "betay[3,3]    -0.004619  0.007660   -0.019522   -0.009750   -0.004597\n",
      "betay[4,3]     0.015344  0.017361   -0.018597    0.003916    0.014987\n",
      "betay[5,3]     0.119816  0.070254   -0.004206    0.072298    0.113487\n",
      "betay[6,3]     0.013894  0.029165   -0.045055   -0.005173    0.013951\n",
      "betay[1,4]    -0.002128  0.000873   -0.003844   -0.002710   -0.002123\n",
      "betay[2,4]     0.001782  0.000981   -0.000134    0.001118    0.001777\n",
      "betay[3,4]    -0.002775  0.002903   -0.008440   -0.004735   -0.002776\n",
      "betay[4,4]     0.310382  0.373852   -0.422295    0.056548    0.310571\n",
      "betay[5,4]    -0.000774  0.005946   -0.012452   -0.004786   -0.000782\n",
      "betay[6,4]    -0.010817  0.009767   -0.029990   -0.017355   -0.010795\n",
      "betay[1,5]     0.024181  0.021713   -0.019357    0.009922    0.024183\n",
      "betay[2,5]     0.018501  0.030611   -0.043088   -0.001919    0.018072\n",
      "betay[3,5]     0.223749  0.059292    0.029358    0.203632    0.233604\n",
      "betay[4,5]     0.073183  0.045168   -0.004087    0.037831    0.072015\n",
      "betay[5,5]    -0.066056  0.080649   -0.239659   -0.119772   -0.061783\n",
      "betay[6,5]     0.016477  0.047211   -0.074148   -0.016841    0.016340\n",
      "betay[1,6]    -0.012824  0.025893   -0.065464   -0.029065   -0.011059\n",
      "betay[2,6]     0.025581  0.034821   -0.038603   -0.001535    0.024671\n",
      "betay[3,6]     0.005570  0.045477   -0.078805   -0.028539    0.003663\n",
      "betay[4,6]     0.011384  0.039337   -0.057308   -0.019233    0.009271\n",
      "betay[5,6]    -0.069759  0.081780   -0.208593   -0.132948   -0.076801\n",
      "betay[6,6]     0.000294  0.029377   -0.064550   -0.018006    0.002029\n",
      "betay[1,7]    -0.095676  0.063889   -0.224893   -0.137890   -0.095044\n",
      "betay[2,7]     0.096545  0.097469   -0.096733    0.031273    0.096753\n",
      "betay[3,7]    -0.125644  0.042533   -0.211240   -0.153706   -0.125069\n",
      "betay[4,7]     0.072873  0.126128   -0.175171   -0.009722    0.069913\n",
      "betay[5,7]     0.190823  0.162952   -0.118512    0.079032    0.188731\n",
      "betay[6,7]    -0.029179  0.081964   -0.191383   -0.083335   -0.029124\n",
      "betay[1,8]     0.074605  0.028659    0.015638    0.055266    0.075476\n",
      "betay[2,8]     0.007608  0.036787   -0.068653   -0.018260    0.009775\n",
      "betay[3,8]     0.040919  0.042958   -0.031223    0.006293    0.041929\n",
      "betay[4,8]     0.019370  0.045011   -0.070440   -0.013750    0.024018\n",
      "betay[5,8]     0.020871  0.017932   -0.013364    0.008695    0.020577\n",
      "betay[6,8]     0.020817  0.042179   -0.059816   -0.008244    0.019372\n",
      "betay[1,9]    -0.107248  0.025624   -0.153031   -0.122087   -0.106432\n",
      "betay[2,9]    -0.529080  0.987310   -2.475386   -1.199511   -0.523197\n",
      "betay[3,9]    -4.590226  1.392230   -7.365873   -5.515440   -4.575705\n",
      "betay[4,9]    -0.104801  0.349091   -0.798394   -0.339341   -0.103253\n",
      "betay[5,9]    -1.259917  2.163391   -5.497213   -2.707276   -1.268010\n",
      "betay[6,9]    -0.605751  0.928686   -2.444822   -1.226882   -0.592569\n",
      "betay[1,10]    5.288774  2.466284    0.513714    3.626998    5.276088\n",
      "betay[2,10]    5.629854  2.405165    0.931255    4.006963    5.609801\n",
      "betay[3,10]    4.675920  0.895068    2.896241    4.079520    4.684490\n",
      "betay[4,10]    5.008257  2.412521    0.242105    3.406816    5.003643\n",
      "betay[5,10]    5.506347  2.273208    1.062745    3.962722    5.491464\n",
      "betay[6,10]    5.614650  2.262967    1.133783    4.111510    5.622485\n",
      "betay[1,11]    0.245990  0.105027    0.038686    0.175658    0.247034\n",
      "betay[2,11]   -0.005603  0.018392   -0.041544   -0.017958   -0.005746\n",
      "betay[3,11]   -0.053114  0.084960   -0.219701   -0.110573   -0.053236\n",
      "betay[4,11]   -0.024704  0.057495   -0.138144   -0.063274   -0.024570\n",
      "betay[5,11]    3.041538  0.908342    1.308358    2.415366    3.031284\n",
      "betay[6,11]   -0.678518  0.521407   -1.692133   -1.033594   -0.680013\n",
      "betay[1,12]   -0.037838  0.051980   -0.139552   -0.072009   -0.037677\n",
      "betay[2,12]    0.020173  0.052549   -0.087088   -0.013676    0.020823\n",
      "betay[3,12]   -0.773245  0.416959   -1.569070   -1.049635   -0.793189\n",
      "betay[4,12]   -1.505846  0.435251   -2.381799   -1.781723   -1.507513\n",
      "betay[5,12]   -0.245907  0.561026   -1.421644   -0.622134   -0.227430\n",
      "betay[6,12]   -0.745277  0.380345   -1.506781   -0.999536   -0.738770\n",
      "betay[1,13]    3.842352  1.188674    1.458000    3.077852    3.840660\n",
      "betay[2,13]    2.255576  1.026586    0.246793    1.568281    2.235203\n",
      "betay[3,13]    2.569675  1.305506    0.059888    1.687478    2.535263\n",
      "betay[4,13]    3.729865  2.075772   -0.357198    2.333994    3.796923\n",
      "betay[5,13]    0.934915  1.320862   -1.635956    0.033960    0.921377\n",
      "betay[6,13]    2.935337  1.048217    0.881535    2.223668    2.932586\n",
      "betay[1,14]    0.529258  0.096959    0.344963    0.465999    0.529621\n",
      "betay[2,14]    0.677710  0.135618    0.400061    0.586932    0.674725\n",
      "betay[3,14]    0.297818  0.208431   -0.000759    0.173909    0.269144\n",
      "betay[4,14]    0.379839  0.225477   -0.006720    0.209793    0.372730\n",
      "betay[5,14]    1.193973  0.486899    0.241905    0.854151    1.184808\n",
      "betay[6,14]    0.478229  0.247744    0.023458    0.295904    0.461921\n",
      "deviance    5145.453584 30.444938 5092.824003 5125.138062 5143.782532\n",
      "                    75%       97.5%     Rhat n.eff\n",
      "alpha         58.807903   60.961432 1.064009    36\n",
      "alphay[1]     54.494808   56.752014 1.056655    42\n",
      "alphay[2]     58.344423   60.785322 1.050427    45\n",
      "alphay[3]     61.768089   64.054353 1.045772    50\n",
      "alphay[4]     53.133029   55.197115 1.044735    50\n",
      "alphay[5]     56.392474   58.531791 1.018309   160\n",
      "alphay[6]     61.422736   63.735884 1.038358    57\n",
      "alphay[7]     59.112816   61.888605 1.058887    41\n",
      "alphay[8]     62.653881   64.486447 1.034430    64\n",
      "alphay[9]     60.174508   62.358581 1.046477    48\n",
      "alphay[10]    61.537923   63.773947 1.033631    70\n",
      "alphay[11]    55.377047   57.478786 1.030406    72\n",
      "alphay[12]    57.780673   59.863581 1.067066    35\n",
      "alphay[13]    56.574852   58.690350 1.061813    37\n",
      "alphay[14]    55.990256   57.976106 1.052028    44\n",
      "alphay[15]    59.421440   61.776520 1.041949    53\n",
      "alphay[16]    61.138454   63.234320 1.038186    58\n",
      "alphay[17]    58.510185   60.941070 1.060302    38\n",
      "alphay[18]    58.926742   61.188316 1.036135    61\n",
      "alphay[19]    56.352983   59.018529 1.032534    67\n",
      "alphay[20]    57.876708   60.299947 1.040397    55\n",
      "alphay[21]    57.391142   59.763772 1.051473    44\n",
      "alphay[22]    63.319269   65.359390 1.042907    52\n",
      "alphay[23]    58.036915   60.244011 1.041144    54\n",
      "alphay[24]    56.359089   58.564030 1.056168    41\n",
      "alphay[25]    59.750869   62.412834 1.057016    40\n",
      "alphay[26]    57.976496   59.740084 1.044550    50\n",
      "alphay[27]    58.143401   59.630876 1.036915    60\n",
      "alphay[28]    60.526536   62.814788 1.030810    71\n",
      "alphay[29]    61.238229   63.436138 1.031048    70\n",
      "alphay[30]    59.226670   61.204947 1.065022    36\n",
      "alphay[31]    58.993418   60.837470 1.053193    43\n",
      "alphay[32]    64.043170   65.976755 1.060685    39\n",
      "alphay[33]    57.377400   59.928718 1.035469    62\n",
      "alphay[34]    59.652148   62.185553 1.048663    46\n",
      "alphay[35]    62.280457   64.714726 1.048285    47\n",
      "alphay[36]    60.042247   62.095080 1.059836    38\n",
      "alphay[37]    59.306329   61.169321 1.042204    53\n",
      "alphay[38]    56.610134   58.613928 1.038910    57\n",
      "alphay[39]    62.716400   65.068177 1.051009    44\n",
      "alphay[40]    57.611997   59.583860 1.037301    59\n",
      "alphay[41]    59.722945   61.740659 1.025634    84\n",
      "alphay[42]    58.243071   60.683369 1.030962    71\n",
      "alphay[43]    61.729446   64.200559 1.058860    39\n",
      "alphay[44]    59.408263   61.279642 1.039088    56\n",
      "alphay[45]    61.102124   63.346429 1.038497    57\n",
      "alphay[46]    60.507334   62.620224 1.049874    46\n",
      "alphay[47]    58.770147   61.070725 1.055171    41\n",
      "alphay[48]    59.767861   62.057169 1.057576    40\n",
      "alphay[49]    59.845575   61.958911 1.054939    43\n",
      "alphay[50]    58.509180   60.298710 1.056105    41\n",
      "alphay[51]    56.691111   58.828885 1.045585    49\n",
      "alphay[52]    57.204075   59.799292 1.057286    40\n",
      "alphay[53]    60.285956   62.420632 1.062791    38\n",
      "alphay[54]    59.578851   62.607404 1.016479   130\n",
      "alphay[55]    58.548925   60.515764 1.043241    52\n",
      "alphay[56]    59.291577   61.980792 1.028974    78\n",
      "alphay[57]    61.492795   63.550816 1.048311    47\n",
      "alphay[58]    59.954999   62.590122 1.013213   170\n",
      "alphay[59]    61.337986   63.555439 1.069903    34\n",
      "alphay[60]    59.804999   61.825891 1.051478    44\n",
      "alphay[61]    57.873947   60.662613 1.007870   290\n",
      "alphay[62]    55.329961   57.755156 1.047902    47\n",
      "alphay[63]    57.079361   59.354864 1.050420    45\n",
      "alphay[64]    55.374969   57.600512 1.014714   150\n",
      "alphay[65]    58.108874   60.136455 1.038899    57\n",
      "alphay[66]    59.859547   62.465090 1.119254    22\n",
      "alphay[67]    57.364826   59.839085 1.063920    36\n",
      "alphay[68]    60.338707   62.538294 1.038583    57\n",
      "alphay[69]    57.348737   59.430141 1.025284    85\n",
      "alphay[70]    59.477270   62.050979 1.038319    57\n",
      "alphay[71]    60.242493   62.266934 1.051489    44\n",
      "alphay[72]    56.993854   59.322106 1.053984    42\n",
      "alphay[73]    61.112380   63.347428 1.047757    48\n",
      "alphay[74]    61.861774   64.122417 1.038687    57\n",
      "alphay[75]    55.818422   57.848325 1.048003    47\n",
      "alphay[76]    59.691689   62.625867 1.044054    53\n",
      "alphay[77]    59.700168   61.727731 1.051639    44\n",
      "alphay[78]    62.705787   64.809368 1.046697    48\n",
      "alphay[79]    59.794930   62.090091 1.078919    31\n",
      "alphay[80]    55.993447   58.398990 1.044293    50\n",
      "alphay[81]    57.505881   59.759734 1.045376    49\n",
      "alphay[82]    61.710336   64.150780 1.047865    48\n",
      "alphay[83]    58.338761   60.450146 1.061343    38\n",
      "alphay[84]    57.614909   59.736046 1.039312    56\n",
      "alphay[85]    60.850071   63.095409 1.039625    56\n",
      "alphay[86]    58.262101   60.557309 1.051003    44\n",
      "alphay[87]    58.014532   60.375485 1.048364    47\n",
      "alphay[88]    59.673347   61.779824 1.058299    40\n",
      "alphay[89]    59.496562   61.602778 1.047534    47\n",
      "alphay[90]    55.314167   57.918259 1.016751   130\n",
      "alphay[91]    58.897122   61.189662 1.038014    58\n",
      "alphay[92]    61.079144   63.238380 1.057078    40\n",
      "alphay[93]    56.132468   58.307449 1.038342    58\n",
      "alphay[94]    58.717910   60.728492 1.053768    42\n",
      "alphay[95]    57.811010   59.800179 1.040699    54\n",
      "alphay[96]    58.940048   60.890531 1.036312    61\n",
      "alphay[97]    58.750301   60.874994 1.035332    62\n",
      "alphay[98]    59.563124   61.556349 1.051051    45\n",
      "alphay[99]    59.583005   61.802379 1.026077    82\n",
      "alphay[100]   55.627367   58.240621 1.021557   100\n",
      "alphay[101]   59.806002   62.101339 1.047568    47\n",
      "alphay[102]   61.074533   63.302000 1.027063    84\n",
      "alphay[103]   60.264344   62.568514 1.047196    48\n",
      "alphay[104]   60.353386   62.783326 1.052647    43\n",
      "alphay[105]   58.340091   60.609770 1.044746    50\n",
      "alphay[106]   63.658290   65.811448 1.041753    53\n",
      "alphay[107]   52.776329   55.143042 1.047278    48\n",
      "alphay[108]   59.255192   61.224290 1.027095    79\n",
      "alphay[109]   59.184507   61.551488 1.048837    46\n",
      "alphay[110]   60.995401   63.328349 1.055565    41\n",
      "alphay[111]   61.084269   63.485758 1.049403    46\n",
      "alphay[112]   58.576918   60.696445 1.062973    37\n",
      "alphay[113]   59.085810   61.354174 1.047538    48\n",
      "alphay[114]   60.013718   62.389391 1.044407    50\n",
      "alphay[115]   60.268788   63.207037 1.006835  1300\n",
      "alphay[116]   57.317214   59.424677 1.040580    55\n",
      "alphay[117]   61.547675   63.780997 1.039058    56\n",
      "alphay[118]   57.618762   59.662009 1.047969    47\n",
      "alphay[119]   56.810114   58.910518 1.045362    49\n",
      "alphay[120]   59.341456   61.468852 1.042026    53\n",
      "alphay[121]   60.810676   63.575410 1.019451   110\n",
      "alphay[122]   59.481873   61.594563 1.042887    53\n",
      "alphay[123]   61.033984   63.471774 1.038560    57\n",
      "alphay[124]   57.168763   59.298143 1.026958    79\n",
      "alphay[125]   59.540762   61.622904 1.040561    55\n",
      "alphay[126]   58.229440   60.303476 1.032583    68\n",
      "alphay[127]   58.367537   60.436832 1.031889    68\n",
      "alphay[128]   57.438883   59.742950 1.041457    54\n",
      "alphay[129]   63.193517   64.938490 1.038955    57\n",
      "alphay[130]   58.457077   60.556648 1.052627    43\n",
      "alphay[131]   59.967587   62.181855 1.062902    37\n",
      "beta[1]        0.511363    1.532586 1.001042 26000\n",
      "beta[2]        0.718853    1.762379 1.003083   950\n",
      "beta[3]        0.563917    1.582063 1.001021 36000\n",
      "beta[4]        0.581000    1.626458 1.001049 24000\n",
      "beta[5]        0.578736    1.601724 1.001017 38000\n",
      "beta[6]        0.530364    1.544242 1.000983 45000\n",
      "beta[7]        0.551990    1.576314 1.001107 14000\n",
      "beta[8]        0.557160    1.589803 1.000967 45000\n",
      "beta[9]       -0.562346    0.689717 1.000997 45000\n",
      "beta[10]       6.409792    8.574689 1.002493  1300\n",
      "beta[11]       0.971295    2.022829 1.001349  5200\n",
      "beta[12]      -0.012849    1.035589 1.001311  5800\n",
      "beta[13]       3.420377    4.782447 1.009134   250\n",
      "beta[14]       1.127255    2.154353 1.003992   660\n",
      "betay[1,1]    -0.028747   -0.026158 1.020105   110\n",
      "betay[2,1]    -0.019040   -0.014704 1.013528   190\n",
      "betay[3,1]    -0.013920   -0.009075 1.002410  1800\n",
      "betay[4,1]     0.015362    0.020186 1.006190   400\n",
      "betay[5,1]    -0.042535   -0.029262 1.049168    51\n",
      "betay[6,1]     0.004573    0.009920 1.015406   140\n",
      "betay[1,2]    -0.102237   -0.006237 1.001387  4700\n",
      "betay[2,2]     0.116595    0.283165 1.000997 45000\n",
      "betay[3,2]    -0.038790    0.045274 1.005683   430\n",
      "betay[4,2]     0.333730    0.635857 1.001547 25000\n",
      "betay[5,2]     1.068725    2.375327 1.050820    45\n",
      "betay[6,2]     0.828986    1.144656 1.002265  1500\n",
      "betay[1,3]     0.004141    0.015208 1.008671   260\n",
      "betay[2,3]     0.018732    0.028066 1.001500  3700\n",
      "betay[3,3]     0.000455    0.010605 1.010327   220\n",
      "betay[4,3]     0.026448    0.050730 1.018704   220\n",
      "betay[5,3]     0.161058    0.282363 1.033293   130\n",
      "betay[6,3]     0.033696    0.071355 1.013127   170\n",
      "betay[1,4]    -0.001543   -0.000412 1.002805  1100\n",
      "betay[2,4]     0.002448    0.003696 1.002107  1800\n",
      "betay[3,4]    -0.000825    0.002958 1.000981 45000\n",
      "betay[4,4]     0.562955    1.042859 1.001694  2700\n",
      "betay[5,4]     0.003234    0.010845 1.002457  1300\n",
      "betay[6,4]    -0.004245    0.008297 1.004180   620\n",
      "betay[1,5]     0.038445    0.067396 1.008062   350\n",
      "betay[2,5]     0.038813    0.080363 1.002559  1300\n",
      "betay[3,5]     0.259276    0.310568 1.022448   740\n",
      "betay[4,5]     0.105412    0.163426 1.026389    87\n",
      "betay[5,5]    -0.008158    0.078049 1.151872    18\n",
      "betay[6,5]     0.051341    0.103797 1.015925   150\n",
      "betay[1,6]     0.004278    0.035684 1.092053    27\n",
      "betay[2,6]     0.049372    0.093874 1.042226   100\n",
      "betay[3,6]     0.041954    0.089837 1.449904     8\n",
      "betay[4,6]     0.040745    0.090425 1.115092    24\n",
      "betay[5,6]    -0.010816    0.095646 1.320890    10\n",
      "betay[6,6]     0.020529    0.052879 1.027359   290\n",
      "betay[1,7]    -0.052330    0.027738 1.003458   800\n",
      "betay[2,7]     0.163231    0.282745 1.002385  1400\n",
      "betay[3,7]    -0.096614   -0.044624 1.002216  1600\n",
      "betay[4,7]     0.155563    0.330239 1.004271  1200\n",
      "betay[5,7]     0.301753    0.512279 1.012162   180\n",
      "betay[6,7]     0.025791    0.132609 1.001130 12000\n",
      "betay[1,8]     0.094634    0.129976 1.131266    20\n",
      "betay[2,8]     0.035090    0.073853 1.037248    87\n",
      "betay[3,8]     0.070872    0.123394 1.457822     8\n",
      "betay[4,8]     0.052571    0.096428 1.205066    15\n",
      "betay[5,8]     0.032628    0.056714 1.103165    25\n",
      "betay[6,8]     0.047012    0.111607 1.023999   200\n",
      "betay[1,9]    -0.091116   -0.062438 1.004870   510\n",
      "betay[2,9]     0.133830    1.397573 1.001184  9200\n",
      "betay[3,9]    -3.643273   -1.868338 1.003663   740\n",
      "betay[4,9]     0.134199    0.569699 1.006790   350\n",
      "betay[5,9]     0.195567    2.970869 1.000971 45000\n",
      "betay[6,9]     0.025311    1.173952 1.004738   530\n",
      "betay[1,10]    6.934418   10.112102 1.001305  5900\n",
      "betay[2,10]    7.246930   10.354161 1.002015  1900\n",
      "betay[3,10]    5.280893    6.408755 1.001603  3100\n",
      "betay[4,10]    6.626660    9.719704 1.002966  1000\n",
      "betay[5,10]    7.054751    9.954999 1.002599  1200\n",
      "betay[6,10]    7.143102   10.016471 1.002233  1600\n",
      "betay[1,11]    0.316914    0.450700 1.001079 18000\n",
      "betay[2,11]    0.006814    0.030604 1.003029  1000\n",
      "betay[3,11]    0.004565    0.112868 1.001813  2400\n",
      "betay[4,11]    0.014031    0.087600 1.001291  6100\n",
      "betay[5,11]    3.644469    4.865278 1.003241   880\n",
      "betay[6,11]   -0.325814    0.345509 1.003810   710\n",
      "betay[1,12]   -0.002830    0.062727 1.008429   270\n",
      "betay[2,12]    0.054538    0.124368 1.017877   170\n",
      "betay[3,12]   -0.502581    0.092933 1.004364   890\n",
      "betay[4,12]   -1.217563   -0.655059 1.010399   210\n",
      "betay[5,12]    0.142182    0.779207 1.044073    53\n",
      "betay[6,12]   -0.484025   -0.013210 1.009265   240\n",
      "betay[1,13]    4.619818    6.238230 1.002787  4200\n",
      "betay[2,13]    2.955989    4.230576 1.004095   640\n",
      "betay[3,13]    3.425864    5.217322 1.004332  5200\n",
      "betay[4,13]    5.140334    7.718727 1.021557   120\n",
      "betay[5,13]    1.840103    3.526259 1.013745   160\n",
      "betay[6,13]    3.643040    5.003836 1.003716   760\n",
      "betay[1,14]    0.592940    0.718024 1.002197  3000\n",
      "betay[2,14]    0.769530    0.946545 1.029024   140\n",
      "betay[3,14]    0.368015    0.992594 1.025152   270\n",
      "betay[4,14]    0.540837    0.843172 1.035848    63\n",
      "betay[5,14]    1.518904    2.166034 1.401930     9\n",
      "betay[6,14]    0.648599    0.983282 1.029440    83\n",
      "deviance    5162.938420 5208.915856 1.004052   650\n",
      "\n",
      "For each parameter, n.eff is a crude measure of effective sample size,\n",
      "and Rhat is the potential scale reduction factor (at convergence, Rhat=1).\n",
      "\n",
      "DIC info (using the rule, pD = var(deviance)/2)\n",
      "pD = 462.0 and DIC = 5607.5\n",
      "DIC is an estimate of expected predictive error (lower deviance is better).\n"
     ]
    }
   ],
   "metadata": {
    "vscode": {
     "languageId": "r"
    }
   }
  },
  {
   "cell_type": "code",
   "execution_count": 11,
   "source": [
    "attach.jags(life_expectancy.out.1)\n",
    "\n",
    "# alphay.1 <- mcmc(alphay)\n",
    "# alphay.1 <- apply(alphay.1, 2, mean)\n",
    "# betay.1 <- mcmc(betay)\n",
    "# betay.1 <- apply(betay.1, 2, mean)\n",
    "# gamma.1 <- mcmc(gamma)\n",
    "# gamma.1 <- apply(gamma.1, 2, mean)"
   ],
   "outputs": [],
   "metadata": {}
  },
  {
   "cell_type": "code",
   "execution_count": 14,
   "source": [
    "alphay.1 <- apply(mcmc(alphay),2,mean)\n",
    "head(alphay.1)"
   ],
   "outputs": [
    {
     "output_type": "display_data",
     "data": {
      "text/html": [
       "<style>\n",
       ".dl-inline {width: auto; margin:0; padding: 0}\n",
       ".dl-inline>dt, .dl-inline>dd {float: none; width: auto; display: inline-block}\n",
       ".dl-inline>dt::after {content: \":\\0020\"; padding-right: .5ex}\n",
       ".dl-inline>dt:not(:first-of-type) {padding-left: .5ex}\n",
       "</style><dl class=dl-inline><dt>var1</dt><dd>53.5306939725645</dd><dt>var2</dt><dd>57.5664190821114</dd><dt>var3</dt><dd>60.8798140556182</dd><dt>var4</dt><dd>52.2519266622542</dd><dt>var5</dt><dd>55.3962779454217</dd><dt>var6</dt><dd>60.5545861045358</dd></dl>\n"
      ],
      "text/latex": [
       "\\begin{description*}\n",
       "\\item[var1] 53.5306939725645\n",
       "\\item[var2] 57.5664190821114\n",
       "\\item[var3] 60.8798140556182\n",
       "\\item[var4] 52.2519266622542\n",
       "\\item[var5] 55.3962779454217\n",
       "\\item[var6] 60.5545861045358\n",
       "\\end{description*}\n"
      ],
      "text/markdown": [
       "var1\n",
       ":   53.5306939725645var2\n",
       ":   57.5664190821114var3\n",
       ":   60.8798140556182var4\n",
       ":   52.2519266622542var5\n",
       ":   55.3962779454217var6\n",
       ":   60.5545861045358\n",
       "\n"
      ],
      "text/plain": [
       "    var1     var2     var3     var4     var5     var6 \n",
       "53.53069 57.56642 60.87981 52.25193 55.39628 60.55459 "
      ]
     },
     "metadata": {}
    }
   ],
   "metadata": {}
  },
  {
   "cell_type": "code",
   "execution_count": 16,
   "source": [
    "betay_matrix <- apply(mcmc(betay), 2:3, mean)"
   ],
   "outputs": [
    {
     "output_type": "display_data",
     "data": {
      "text/html": [
       "<style>\n",
       ".list-inline {list-style: none; margin:0; padding: 0}\n",
       ".list-inline>li {display: inline-block}\n",
       ".list-inline>li:not(:last-child)::after {content: \"\\00b7\"; padding: 0 .5ex}\n",
       "</style>\n",
       "<ol class=list-inline><li>-0.0300008725225166</li><li>-0.150187711168494</li><li>-0.00202453485592149</li><li>-0.00212819480880674</li><li>0.024181386615758</li><li>-0.0128243479656612</li><li>-0.0956757965725295</li><li>0.0746050491100208</li><li>-0.10724812172362</li><li>5.28877354976944</li><li>0.245990154621776</li><li>-0.0378378785717175</li><li>3.84235206391409</li><li>0.529258488726255</li></ol>\n"
      ],
      "text/latex": [
       "\\begin{enumerate*}\n",
       "\\item -0.0300008725225166\n",
       "\\item -0.150187711168494\n",
       "\\item -0.00202453485592149\n",
       "\\item -0.00212819480880674\n",
       "\\item 0.024181386615758\n",
       "\\item -0.0128243479656612\n",
       "\\item -0.0956757965725295\n",
       "\\item 0.0746050491100208\n",
       "\\item -0.10724812172362\n",
       "\\item 5.28877354976944\n",
       "\\item 0.245990154621776\n",
       "\\item -0.0378378785717175\n",
       "\\item 3.84235206391409\n",
       "\\item 0.529258488726255\n",
       "\\end{enumerate*}\n"
      ],
      "text/markdown": [
       "1. -0.0300008725225166\n",
       "2. -0.150187711168494\n",
       "3. -0.00202453485592149\n",
       "4. -0.00212819480880674\n",
       "5. 0.024181386615758\n",
       "6. -0.0128243479656612\n",
       "7. -0.0956757965725295\n",
       "8. 0.0746050491100208\n",
       "9. -0.10724812172362\n",
       "10. 5.28877354976944\n",
       "11. 0.245990154621776\n",
       "12. -0.0378378785717175\n",
       "13. 3.84235206391409\n",
       "14. 0.529258488726255\n",
       "\n",
       "\n"
      ],
      "text/plain": [
       " [1] -0.030000873 -0.150187711 -0.002024535 -0.002128195  0.024181387\n",
       " [6] -0.012824348 -0.095675797  0.074605049 -0.107248122  5.288773550\n",
       "[11]  0.245990155 -0.037837879  3.842352064  0.529258489"
      ]
     },
     "metadata": {}
    }
   ],
   "metadata": {}
  },
  {
   "cell_type": "code",
   "execution_count": 40,
   "source": [
    "\n",
    "X = cbind(mortality, alcohol, hepB, measles, BMI, polio,\n",
    "            totalExp, dipth, hivaids, gdp, pop, thin1019, incomeComp, school)\n",
    "\n",
    "fit = rep(NA, nrow(lifeData_train))\n",
    "for (i in 1:nrow(lifeData_train)) {\n",
    "    fit[i] = alphay.1[indices[i]]\n",
    "    continent_id = which(lifeData_train[i,]$Continent == levels(as.factor(lifeData_train$Continent)))\n",
    "    for (j in 1:14) {\n",
    "        fit[i] = fit[i] + betay_matrix[continent_id, j] * X[i,j]\n",
    "    }\n",
    "}\n"
   ],
   "outputs": [],
   "metadata": {}
  },
  {
   "cell_type": "code",
   "execution_count": 28,
   "source": [
    "r = fit - lifeData_train[,4]"
   ],
   "outputs": [],
   "metadata": {}
  },
  {
   "cell_type": "code",
   "execution_count": 30,
   "source": [
    "plot(fit, r)\n",
    "abline(h =0)\n",
    "qqnorm(r)\n",
    "qqline(r)"
   ],
   "outputs": [
    {
     "output_type": "display_data",
     "data": {
      "image/png": "[encoded data removed]",
      "text/plain": [
       "plot without title"
      ]
     },
     "metadata": {
      "image/png": {
       "width": 420,
       "height": 420
      }
     }
    },
    {
     "output_type": "display_data",
     "data": {
      "image/png": "[encoded data removed]",
      "text/plain": [
       "Plot with title \"Normal Q-Q Plot\""
      ]
     },
     "metadata": {
      "image/png": {
       "width": 420,
       "height": 420
      }
     }
    }
   ],
   "metadata": {}
  },
  {
   "cell_type": "markdown",
   "source": [
    "# Test"
   ],
   "metadata": {}
  },
  {
   "cell_type": "code",
   "execution_count": 36,
   "source": [
    "status_test = rep(0,nrow(lifeData_test))\n",
    "for (i in 1:nrow(lifeData_test)) {\n",
    "  status_test[i] = ifelse(lifeData_test$Status[i]==\"Developing\",0,1)\n",
    "}\n",
    "mortality_test = lifeData_test$\"Adult.Mortality\"\n",
    "alcohol_test = lifeData_test$\"Alcohol\"\n",
    "hepB_test = lifeData_test$\"Hepatitis.B\"\n",
    "measles_test = lifeData_test$\"Measles\" / 100\n",
    "BMI_test = lifeData_test$\"BMI\"\n",
    "polio_test = lifeData_test$\"Polio\"\n",
    "totalExp_test = lifeData_test$\"Total.expenditure\"\n",
    "dipth_test = lifeData_test$\"Diphtheria\"\n",
    "hivaids_test = lifeData_test$\"HIV.AIDS\"\n",
    "gdp_test = lifeData_test$\"GDP\"\n",
    "pop_test = lifeData_test$\"Population\" / 10000000\n",
    "thin1019_test = lifeData_test$\"thinness.1.19.years\"\n",
    "incomeComp_test = lifeData_test$\"Income.composition.of.resources\"\n",
    "school_test = lifeData_test$\"Schooling\"\n",
    "\n",
    "indicesDict_test = c(unique(lifeData_test$Country))\n",
    "indices_test = rep(0,nrow(lifeData_test))\n",
    "for (i in 1:nrow(lifeData_test)) {\n",
    "  indices_test[i] = which(indicesDict==lifeData_test$Country[i])\n",
    "}"
   ],
   "outputs": [],
   "metadata": {}
  },
  {
   "cell_type": "code",
   "execution_count": 47,
   "source": [
    "X_test = cbind(mortality_test, alcohol_test, hepB_test, measles_test, BMI_test, polio_test,\n",
    "            totalExp_test, dipth_test, hivaids_test, gdp_test, pop_test, thin1019_test, incomeComp_test, school_test)\n",
    "\n",
    "fit_test = rep(NA, nrow(lifeData_test))\n",
    "for (i in 1:nrow(lifeData_test)) {\n",
    "    fit_test[i] = alphay.1[indices_test[i]]\n",
    "    continent_id = which(lifeData_test[i,]$Continent == levels(as.factor(lifeData_test$Continent)))\n",
    "    for (j in 1:14) {\n",
    "        fit_test[i] = fit_test[i] + betay_matrix[continent_id, j] * X_test[i,j]\n",
    "    }\n",
    "}"
   ],
   "outputs": [],
   "metadata": {}
  },
  {
   "cell_type": "code",
   "execution_count": 52,
   "source": [
    "rmse <- function(x,y) {\n",
    "    return(sqrt(mean((x-y)^2)))\n",
    "}\n",
    "rmse(fit_test, lifeData_test[,4])"
   ],
   "outputs": [
    {
     "output_type": "display_data",
     "data": {
      "text/html": [
       "2.91160318053349"
      ],
      "text/latex": [
       "2.91160318053349"
      ],
      "text/markdown": [
       "2.91160318053349"
      ],
      "text/plain": [
       "[1] 2.911603"
      ]
     },
     "metadata": {}
    }
   ],
   "metadata": {}
  },
  {
   "cell_type": "code",
   "execution_count": null,
   "source": [],
   "outputs": [],
   "metadata": {}
  }
 ],
 "metadata": {
  "kernelspec": {
   "display_name": "R",
   "language": "R",
   "name": "ir"
  },
  "language_info": {
   "name": "R",
   "codemirror_mode": "r",
   "pygments_lexer": "r",
   "mimetype": "text/x-r-source",
   "file_extension": ".r",
   "version": "4.2.1"
  },
  "orig_nbformat": 4
 },
 "nbformat": 4,
 "nbformat_minor": 2
}