{
 "cells": [
  {
   "cell_type": "code",
   "execution_count": 64,
   "source": [
    "library(tidyr)\n",
    "library(dplyr)\n",
    "library(corrplot)\n",
    "\n",
    "\n",
    "lifeData_original <- read.csv(\"C:/Code/BIOSTAT682/Life Expectancy.csv\")\n",
    "\n",
    "countries_to_drop = c(\"Equatorial Guinea\", \"Haiti\")  # they only have predict data, no training data\n",
    "lifeData_full <- lifeData_original %>% drop_na() %>% filter(!Country %in% countries_to_drop)\n",
    "dim(lifeData_original)\n",
    "dim(lifeData_full)\n",
    "\n",
    "head(lifeData_full)"
   ],
   "outputs": [
    {
     "output_type": "display_data",
     "data": {
      "text/html": [
       "<style>\n",
       ".list-inline {list-style: none; margin:0; padding: 0}\n",
       ".list-inline>li {display: inline-block}\n",
       ".list-inline>li:not(:last-child)::after {content: \"\\00b7\"; padding: 0 .5ex}\n",
       "</style>\n",
       "<ol class=list-inline><li>2938</li><li>22</li></ol>\n"
      ],
      "text/latex": [
       "\\begin{enumerate*}\n",
       "\\item 2938\n",
       "\\item 22\n",
       "\\end{enumerate*}\n"
      ],
      "text/markdown": [
       "1. 2938\n",
       "2. 22\n",
       "\n",
       "\n"
      ],
      "text/plain": [
       "[1] 2938   22"
      ]
     },
     "metadata": {}
    },
    {
     "output_type": "display_data",
     "data": {
      "text/html": [
       "<style>\n",
       ".list-inline {list-style: none; margin:0; padding: 0}\n",
       ".list-inline>li {display: inline-block}\n",
       ".list-inline>li:not(:last-child)::after {content: \"\\00b7\"; padding: 0 .5ex}\n",
       "</style>\n",
       "<ol class=list-inline><li>1646</li><li>22</li></ol>\n"
      ],
      "text/latex": [
       "\\begin{enumerate*}\n",
       "\\item 1646\n",
       "\\item 22\n",
       "\\end{enumerate*}\n"
      ],
      "text/markdown": [
       "1. 1646\n",
       "2. 22\n",
       "\n",
       "\n"
      ],
      "text/plain": [
       "[1] 1646   22"
      ]
     },
     "metadata": {}
    },
    {
     "output_type": "display_data",
     "data": {
      "text/html": [
       "<table class=\"dataframe\">\n",
       "<caption>A data.frame: 6 × 22</caption>\n",
       "<thead>\n",
       "\t<tr><th></th><th scope=col>Country</th><th scope=col>Year</th><th scope=col>Status</th><th scope=col>Life.expectancy</th><th scope=col>Adult.Mortality</th><th scope=col>infant.deaths</th><th scope=col>Alcohol</th><th scope=col>percentage.expenditure</th><th scope=col>Hepatitis.B</th><th scope=col>Measles</th><th scope=col>⋯</th><th scope=col>Polio</th><th scope=col>Total.expenditure</th><th scope=col>Diphtheria</th><th scope=col>HIV.AIDS</th><th scope=col>GDP</th><th scope=col>Population</th><th scope=col>thinness.1.19.years.</th><th scope=col>thinness.5.9.years.</th><th scope=col>Income.composition.of.resources</th><th scope=col>Schooling</th></tr>\n",
       "\t<tr><th></th><th scope=col>&lt;chr&gt;</th><th scope=col>&lt;int&gt;</th><th scope=col>&lt;chr&gt;</th><th scope=col>&lt;dbl&gt;</th><th scope=col>&lt;int&gt;</th><th scope=col>&lt;int&gt;</th><th scope=col>&lt;dbl&gt;</th><th scope=col>&lt;dbl&gt;</th><th scope=col>&lt;int&gt;</th><th scope=col>&lt;int&gt;</th><th scope=col>⋯</th><th scope=col>&lt;int&gt;</th><th scope=col>&lt;dbl&gt;</th><th scope=col>&lt;int&gt;</th><th scope=col>&lt;dbl&gt;</th><th scope=col>&lt;dbl&gt;</th><th scope=col>&lt;dbl&gt;</th><th scope=col>&lt;dbl&gt;</th><th scope=col>&lt;dbl&gt;</th><th scope=col>&lt;dbl&gt;</th><th scope=col>&lt;dbl&gt;</th></tr>\n",
       "</thead>\n",
       "<tbody>\n",
       "\t<tr><th scope=row>1</th><td>Afghanistan</td><td>2015</td><td>Developing</td><td>65.0</td><td>263</td><td>62</td><td>0.01</td><td>71.279624</td><td>65</td><td>1154</td><td>⋯</td><td> 6</td><td>8.16</td><td>65</td><td>0.1</td><td>584.25921</td><td>33736494</td><td>17.2</td><td>17.3</td><td>0.479</td><td>10.1</td></tr>\n",
       "\t<tr><th scope=row>2</th><td>Afghanistan</td><td>2014</td><td>Developing</td><td>59.9</td><td>271</td><td>64</td><td>0.01</td><td>73.523582</td><td>62</td><td> 492</td><td>⋯</td><td>58</td><td>8.18</td><td>62</td><td>0.1</td><td>612.69651</td><td>  327582</td><td>17.5</td><td>17.5</td><td>0.476</td><td>10.0</td></tr>\n",
       "\t<tr><th scope=row>3</th><td>Afghanistan</td><td>2013</td><td>Developing</td><td>59.9</td><td>268</td><td>66</td><td>0.01</td><td>73.219243</td><td>64</td><td> 430</td><td>⋯</td><td>62</td><td>8.13</td><td>64</td><td>0.1</td><td>631.74498</td><td>31731688</td><td>17.7</td><td>17.7</td><td>0.470</td><td> 9.9</td></tr>\n",
       "\t<tr><th scope=row>4</th><td>Afghanistan</td><td>2012</td><td>Developing</td><td>59.5</td><td>272</td><td>69</td><td>0.01</td><td>78.184215</td><td>67</td><td>2787</td><td>⋯</td><td>67</td><td>8.52</td><td>67</td><td>0.1</td><td>669.95900</td><td> 3696958</td><td>17.9</td><td>18.0</td><td>0.463</td><td> 9.8</td></tr>\n",
       "\t<tr><th scope=row>5</th><td>Afghanistan</td><td>2011</td><td>Developing</td><td>59.2</td><td>275</td><td>71</td><td>0.01</td><td> 7.097109</td><td>68</td><td>3013</td><td>⋯</td><td>68</td><td>7.87</td><td>68</td><td>0.1</td><td> 63.53723</td><td> 2978599</td><td>18.2</td><td>18.2</td><td>0.454</td><td> 9.5</td></tr>\n",
       "\t<tr><th scope=row>6</th><td>Afghanistan</td><td>2010</td><td>Developing</td><td>58.8</td><td>279</td><td>74</td><td>0.01</td><td>79.679367</td><td>66</td><td>1989</td><td>⋯</td><td>66</td><td>9.20</td><td>66</td><td>0.1</td><td>553.32894</td><td> 2883167</td><td>18.4</td><td>18.4</td><td>0.448</td><td> 9.2</td></tr>\n",
       "</tbody>\n",
       "</table>\n"
      ],
      "text/latex": [
       "A data.frame: 6 × 22\n",
       "\\begin{tabular}{r|lllllllllllllllllllll}\n",
       "  & Country & Year & Status & Life.expectancy & Adult.Mortality & infant.deaths & Alcohol & percentage.expenditure & Hepatitis.B & Measles & ⋯ & Polio & Total.expenditure & Diphtheria & HIV.AIDS & GDP & Population & thinness.1.19.years. & thinness.5.9.years. & Income.composition.of.resources & Schooling\\\\\n",
       "  & <chr> & <int> & <chr> & <dbl> & <int> & <int> & <dbl> & <dbl> & <int> & <int> & ⋯ & <int> & <dbl> & <int> & <dbl> & <dbl> & <dbl> & <dbl> & <dbl> & <dbl> & <dbl>\\\\\n",
       "\\hline\n",
       "\t1 & Afghanistan & 2015 & Developing & 65.0 & 263 & 62 & 0.01 & 71.279624 & 65 & 1154 & ⋯ &  6 & 8.16 & 65 & 0.1 & 584.25921 & 33736494 & 17.2 & 17.3 & 0.479 & 10.1\\\\\n",
       "\t2 & Afghanistan & 2014 & Developing & 59.9 & 271 & 64 & 0.01 & 73.523582 & 62 &  492 & ⋯ & 58 & 8.18 & 62 & 0.1 & 612.69651 &   327582 & 17.5 & 17.5 & 0.476 & 10.0\\\\\n",
       "\t3 & Afghanistan & 2013 & Developing & 59.9 & 268 & 66 & 0.01 & 73.219243 & 64 &  430 & ⋯ & 62 & 8.13 & 64 & 0.1 & 631.74498 & 31731688 & 17.7 & 17.7 & 0.470 &  9.9\\\\\n",
       "\t4 & Afghanistan & 2012 & Developing & 59.5 & 272 & 69 & 0.01 & 78.184215 & 67 & 2787 & ⋯ & 67 & 8.52 & 67 & 0.1 & 669.95900 &  3696958 & 17.9 & 18.0 & 0.463 &  9.8\\\\\n",
       "\t5 & Afghanistan & 2011 & Developing & 59.2 & 275 & 71 & 0.01 &  7.097109 & 68 & 3013 & ⋯ & 68 & 7.87 & 68 & 0.1 &  63.53723 &  2978599 & 18.2 & 18.2 & 0.454 &  9.5\\\\\n",
       "\t6 & Afghanistan & 2010 & Developing & 58.8 & 279 & 74 & 0.01 & 79.679367 & 66 & 1989 & ⋯ & 66 & 9.20 & 66 & 0.1 & 553.32894 &  2883167 & 18.4 & 18.4 & 0.448 &  9.2\\\\\n",
       "\\end{tabular}\n"
      ],
      "text/markdown": [
       "\n",
       "A data.frame: 6 × 22\n",
       "\n",
       "| <!--/--> | Country &lt;chr&gt; | Year &lt;int&gt; | Status &lt;chr&gt; | Life.expectancy &lt;dbl&gt; | Adult.Mortality &lt;int&gt; | infant.deaths &lt;int&gt; | Alcohol &lt;dbl&gt; | percentage.expenditure &lt;dbl&gt; | Hepatitis.B &lt;int&gt; | Measles &lt;int&gt; | ⋯ ⋯ | Polio &lt;int&gt; | Total.expenditure &lt;dbl&gt; | Diphtheria &lt;int&gt; | HIV.AIDS &lt;dbl&gt; | GDP &lt;dbl&gt; | Population &lt;dbl&gt; | thinness.1.19.years. &lt;dbl&gt; | thinness.5.9.years. &lt;dbl&gt; | Income.composition.of.resources &lt;dbl&gt; | Schooling &lt;dbl&gt; |\n",
       "|---|---|---|---|---|---|---|---|---|---|---|---|---|---|---|---|---|---|---|---|---|---|\n",
       "| 1 | Afghanistan | 2015 | Developing | 65.0 | 263 | 62 | 0.01 | 71.279624 | 65 | 1154 | ⋯ |  6 | 8.16 | 65 | 0.1 | 584.25921 | 33736494 | 17.2 | 17.3 | 0.479 | 10.1 |\n",
       "| 2 | Afghanistan | 2014 | Developing | 59.9 | 271 | 64 | 0.01 | 73.523582 | 62 |  492 | ⋯ | 58 | 8.18 | 62 | 0.1 | 612.69651 |   327582 | 17.5 | 17.5 | 0.476 | 10.0 |\n",
       "| 3 | Afghanistan | 2013 | Developing | 59.9 | 268 | 66 | 0.01 | 73.219243 | 64 |  430 | ⋯ | 62 | 8.13 | 64 | 0.1 | 631.74498 | 31731688 | 17.7 | 17.7 | 0.470 |  9.9 |\n",
       "| 4 | Afghanistan | 2012 | Developing | 59.5 | 272 | 69 | 0.01 | 78.184215 | 67 | 2787 | ⋯ | 67 | 8.52 | 67 | 0.1 | 669.95900 |  3696958 | 17.9 | 18.0 | 0.463 |  9.8 |\n",
       "| 5 | Afghanistan | 2011 | Developing | 59.2 | 275 | 71 | 0.01 |  7.097109 | 68 | 3013 | ⋯ | 68 | 7.87 | 68 | 0.1 |  63.53723 |  2978599 | 18.2 | 18.2 | 0.454 |  9.5 |\n",
       "| 6 | Afghanistan | 2010 | Developing | 58.8 | 279 | 74 | 0.01 | 79.679367 | 66 | 1989 | ⋯ | 66 | 9.20 | 66 | 0.1 | 553.32894 |  2883167 | 18.4 | 18.4 | 0.448 |  9.2 |\n",
       "\n"
      ],
      "text/plain": [
       "  Country     Year Status     Life.expectancy Adult.Mortality infant.deaths\n",
       "1 Afghanistan 2015 Developing 65.0            263             62           \n",
       "2 Afghanistan 2014 Developing 59.9            271             64           \n",
       "3 Afghanistan 2013 Developing 59.9            268             66           \n",
       "4 Afghanistan 2012 Developing 59.5            272             69           \n",
       "5 Afghanistan 2011 Developing 59.2            275             71           \n",
       "6 Afghanistan 2010 Developing 58.8            279             74           \n",
       "  Alcohol percentage.expenditure Hepatitis.B Measles ⋯ Polio Total.expenditure\n",
       "1 0.01    71.279624              65          1154    ⋯  6    8.16             \n",
       "2 0.01    73.523582              62           492    ⋯ 58    8.18             \n",
       "3 0.01    73.219243              64           430    ⋯ 62    8.13             \n",
       "4 0.01    78.184215              67          2787    ⋯ 67    8.52             \n",
       "5 0.01     7.097109              68          3013    ⋯ 68    7.87             \n",
       "6 0.01    79.679367              66          1989    ⋯ 66    9.20             \n",
       "  Diphtheria HIV.AIDS GDP       Population thinness.1.19.years.\n",
       "1 65         0.1      584.25921 33736494   17.2                \n",
       "2 62         0.1      612.69651   327582   17.5                \n",
       "3 64         0.1      631.74498 31731688   17.7                \n",
       "4 67         0.1      669.95900  3696958   17.9                \n",
       "5 68         0.1       63.53723  2978599   18.2                \n",
       "6 66         0.1      553.32894  2883167   18.4                \n",
       "  thinness.5.9.years. Income.composition.of.resources Schooling\n",
       "1 17.3                0.479                           10.1     \n",
       "2 17.5                0.476                           10.0     \n",
       "3 17.7                0.470                            9.9     \n",
       "4 18.0                0.463                            9.8     \n",
       "5 18.2                0.454                            9.5     \n",
       "6 18.4                0.448                            9.2     "
      ]
     },
     "metadata": {}
    }
   ],
   "metadata": {}
  },
  {
   "cell_type": "code",
   "execution_count": 65,
   "source": [
    "lifeData_train <- lifeData_full %>% filter(Year < 2013)\n",
    "lifeData_test <- lifeData_full %>% filter(Year >= 2013)\n",
    "dim(lifeData_train)\n",
    "dim(lifeData_test)"
   ],
   "outputs": [
    {
     "output_type": "display_data",
     "data": {
      "text/html": [
       "<style>\n",
       ".list-inline {list-style: none; margin:0; padding: 0}\n",
       ".list-inline>li {display: inline-block}\n",
       ".list-inline>li:not(:last-child)::after {content: \"\\00b7\"; padding: 0 .5ex}\n",
       "</style>\n",
       "<ol class=list-inline><li>1386</li><li>22</li></ol>\n"
      ],
      "text/latex": [
       "\\begin{enumerate*}\n",
       "\\item 1386\n",
       "\\item 22\n",
       "\\end{enumerate*}\n"
      ],
      "text/markdown": [
       "1. 1386\n",
       "2. 22\n",
       "\n",
       "\n"
      ],
      "text/plain": [
       "[1] 1386   22"
      ]
     },
     "metadata": {}
    },
    {
     "output_type": "display_data",
     "data": {
      "text/html": [
       "<style>\n",
       ".list-inline {list-style: none; margin:0; padding: 0}\n",
       ".list-inline>li {display: inline-block}\n",
       ".list-inline>li:not(:last-child)::after {content: \"\\00b7\"; padding: 0 .5ex}\n",
       "</style>\n",
       "<ol class=list-inline><li>260</li><li>22</li></ol>\n"
      ],
      "text/latex": [
       "\\begin{enumerate*}\n",
       "\\item 260\n",
       "\\item 22\n",
       "\\end{enumerate*}\n"
      ],
      "text/markdown": [
       "1. 260\n",
       "2. 22\n",
       "\n",
       "\n"
      ],
      "text/plain": [
       "[1] 260  22"
      ]
     },
     "metadata": {}
    }
   ],
   "metadata": {}
  },
  {
   "cell_type": "code",
   "execution_count": 66,
   "source": [
    "lifeData_train.matrix <- as.matrix(lifeData_train)[,-(1:4)]\n",
    "lifeData_train.matrix <- apply(lifeData_train.matrix, 2, as.numeric)\n",
    "corrplot(cor(lifeData_train.matrix))"
   ],
   "outputs": [
    {
     "output_type": "display_data",
     "data": {
      "image/png": "[encoded data removed]",
      "text/plain": [
       "Plot with title \"\""
      ]
     },
     "metadata": {
      "image/png": {
       "width": 420,
       "height": 420
      }
     }
    }
   ],
   "metadata": {}
  },
  {
   "cell_type": "markdown",
   "source": [
    "# Least Square"
   ],
   "metadata": {}
  },
  {
   "cell_type": "code",
   "execution_count": 67,
   "source": [
    "lmod.full <- lm(Life.expectancy ~ ., data = lifeData_train[,-2])\n",
    "summary(lmod.full)"
   ],
   "outputs": [
    {
     "output_type": "display_data",
     "data": {
      "text/plain": [
       "\n",
       "Call:\n",
       "lm(formula = Life.expectancy ~ ., data = lifeData_train[, -2])\n",
       "\n",
       "Residuals:\n",
       "    Min      1Q  Median      3Q     Max \n",
       "-5.9563 -0.8061 -0.1140  0.4238  7.3416 \n",
       "\n",
       "Coefficients: (1 not defined because of singularities)\n",
       "                                  Estimate Std. Error t value Pr(>|t|)    \n",
       "(Intercept)                      4.901e+01  1.045e+00  46.887  < 2e-16 ***\n",
       "CountryAlbania                   1.278e+01  9.134e-01  13.990  < 2e-16 ***\n",
       "CountryAlgeria                   1.053e+01  9.053e-01  11.635  < 2e-16 ***\n",
       "CountryAngola                   -6.075e+00  9.610e-01  -6.321 3.61e-10 ***\n",
       "CountryArgentina                 9.112e+00  1.084e+00   8.408  < 2e-16 ***\n",
       "CountryArmenia                   1.133e+01  8.897e-01  12.734  < 2e-16 ***\n",
       "CountryAustralia                 1.230e+01  1.254e+00   9.809  < 2e-16 ***\n",
       "CountryAustria                   1.625e+01  1.129e+00  14.387  < 2e-16 ***\n",
       "CountryAzerbaijan                9.277e+00  8.865e-01  10.465  < 2e-16 ***\n",
       "CountryBangladesh                1.126e+01  8.079e-01  13.940  < 2e-16 ***\n",
       "CountryBelarus                   5.823e+00  1.092e+00   5.331 1.16e-07 ***\n",
       "CountryBelgium                   1.317e+01  1.136e+00  11.589  < 2e-16 ***\n",
       "CountryBelize                    6.775e+00  9.053e-01   7.484 1.37e-13 ***\n",
       "CountryBenin                    -3.578e-01  7.740e-01  -0.462 0.643993    \n",
       "CountryBhutan                    6.515e+00  7.829e-01   8.322 2.26e-16 ***\n",
       "CountryBosnia and Herzegovina    1.370e+01  9.615e-01  14.253  < 2e-16 ***\n",
       "CountryBotswana                 -1.380e+00  9.364e-01  -1.474 0.140851    \n",
       "CountryBrazil                    9.074e+00  9.626e-01   9.427  < 2e-16 ***\n",
       "CountryBulgaria                  9.429e+00  1.016e+00   9.277  < 2e-16 ***\n",
       "CountryBurkina Faso              2.470e+00  9.108e-01   2.712 0.006788 ** \n",
       "CountryBurundi                  -5.591e-01  8.377e-01  -0.667 0.504611    \n",
       "CountryCabo Verde                1.076e+01  8.502e-01  12.656  < 2e-16 ***\n",
       "CountryCambodia                  5.532e+00  8.669e-01   6.381 2.48e-10 ***\n",
       "CountryCameroon                 -1.442e+00  8.815e-01  -1.636 0.102191    \n",
       "CountryCanada                    1.682e+01  1.146e+00  14.678  < 2e-16 ***\n",
       "CountryCentral African Republic -4.122e+00  1.049e+00  -3.931 8.93e-05 ***\n",
       "CountryChad                     -1.852e+00  9.697e-01  -1.910 0.056386 .  \n",
       "CountryChile                     1.439e+01  1.109e+00  12.978  < 2e-16 ***\n",
       "CountryChina                     1.330e+01  1.425e+00   9.329  < 2e-16 ***\n",
       "CountryColombia                  1.103e+01  8.900e-01  12.391  < 2e-16 ***\n",
       "CountryComoros                   2.072e+00  8.250e-01   2.511 0.012160 *  \n",
       "CountryCosta Rica                1.577e+01  9.092e-01  17.350  < 2e-16 ***\n",
       "CountryCroatia                   1.252e+01  1.188e+00  10.535  < 2e-16 ***\n",
       "CountryCyprus                    1.530e+01  1.061e+00  14.419  < 2e-16 ***\n",
       "CountryDjibouti                  7.968e+00  9.838e-01   8.099 1.31e-15 ***\n",
       "CountryDominican Republic        1.018e+01  9.091e-01  11.196  < 2e-16 ***\n",
       "CountryEcuador                   1.171e+01  9.119e-01  12.841  < 2e-16 ***\n",
       "CountryEl Salvador               9.019e+00  8.896e-01  10.139  < 2e-16 ***\n",
       "CountryEritrea                   6.579e+00  8.524e-01   7.718 2.42e-14 ***\n",
       "CountryEstonia                   8.654e+00  1.164e+00   7.435 1.95e-13 ***\n",
       "CountryEthiopia                  7.515e+00  1.021e+00   7.362 3.30e-13 ***\n",
       "CountryFiji                      4.143e+00  9.025e-01   4.591 4.87e-06 ***\n",
       "CountryFrance                    1.705e+01  1.165e+00  14.629  < 2e-16 ***\n",
       "CountryGabon                     3.094e+00  9.948e-01   3.110 0.001914 ** \n",
       "CountryGeorgia                   1.113e+01  9.017e-01  12.340  < 2e-16 ***\n",
       "CountryGermany                   1.396e+01  1.173e+00  11.899  < 2e-16 ***\n",
       "CountryGhana                     3.034e+00  7.796e-01   3.892 0.000105 ***\n",
       "CountryGreece                    1.477e+01  1.060e+00  13.943  < 2e-16 ***\n",
       "CountryGuatemala                 1.330e+01  9.424e-01  14.113  < 2e-16 ***\n",
       "CountryGuinea                    5.338e-01  9.035e-01   0.591 0.554719    \n",
       "CountryGuinea-Bissau             2.816e-01  1.054e+00   0.267 0.789307    \n",
       "CountryGuyana                    5.314e+00  8.806e-01   6.035 2.10e-09 ***\n",
       "CountryHonduras                  1.224e+01  8.623e-01  14.198  < 2e-16 ***\n",
       "CountryIndia                     1.259e+01  4.210e+00   2.991 0.002838 ** \n",
       "CountryIndonesia                 5.968e+00  8.892e-01   6.712 2.92e-11 ***\n",
       "CountryIraq                      9.896e+00  8.634e-01  11.462  < 2e-16 ***\n",
       "CountryIreland                   1.646e+01  1.502e+00  10.958  < 2e-16 ***\n",
       "CountryIsrael                    1.460e+01  9.908e-01  14.731  < 2e-16 ***\n",
       "CountryItaly                     1.614e+01  1.067e+00  15.138  < 2e-16 ***\n",
       "CountryJamaica                   1.207e+01  9.421e-01  12.813  < 2e-16 ***\n",
       "CountryJordan                    9.000e+00  8.790e-01  10.239  < 2e-16 ***\n",
       "CountryKazakhstan                2.117e+00  9.529e-01   2.222 0.026452 *  \n",
       "CountryKenya                     8.567e-01  7.952e-01   1.077 0.281528    \n",
       "CountryKiribati                  4.292e+00  9.255e-01   4.638 3.89e-06 ***\n",
       "CountryLatvia                    8.394e+00  1.039e+00   8.083 1.49e-15 ***\n",
       "CountryLebanon                   1.102e+01  8.932e-01  12.342  < 2e-16 ***\n",
       "CountryLesotho                  -4.103e+00  9.726e-01  -4.219 2.64e-05 ***\n",
       "CountryLiberia                   3.069e+00  9.805e-01   3.130 0.001789 ** \n",
       "CountryLithuania                 7.279e+00  1.097e+00   6.636 4.81e-11 ***\n",
       "CountryLuxembourg                1.656e+01  1.121e+00  14.771  < 2e-16 ***\n",
       "CountryMadagascar                4.213e+00  7.745e-01   5.440 6.42e-08 ***\n",
       "CountryMalawi                   -4.026e+00  8.824e-01  -4.563 5.54e-06 ***\n",
       "CountryMalaysia                  1.003e+01  8.251e-01  12.159  < 2e-16 ***\n",
       "CountryMaldives                  1.244e+01  7.754e-01  16.043  < 2e-16 ***\n",
       "CountryMali                      3.056e-01  8.215e-01   0.372 0.709973    \n",
       "CountryMalta                     1.634e+01  1.040e+00  15.719  < 2e-16 ***\n",
       "CountryMauritania                5.898e+00  8.558e-01   6.892 8.75e-12 ***\n",
       "CountryMauritius                 8.694e+00  8.502e-01  10.225  < 2e-16 ***\n",
       "CountryMexico                    1.309e+01  9.042e-01  14.482  < 2e-16 ***\n",
       "CountryMongolia                  3.034e+00  8.839e-01   3.433 0.000617 ***\n",
       "CountryMontenegro                1.068e+01  1.060e+00  10.069  < 2e-16 ***\n",
       "CountryMorocco                   1.132e+01  7.985e-01  14.174  < 2e-16 ***\n",
       "CountryMozambique                6.752e-01  8.479e-01   0.796 0.425991    \n",
       "CountryMyanmar                   5.737e+00  7.605e-01   7.544 8.79e-14 ***\n",
       "CountryNamibia                   4.647e+00  1.197e+00   3.883 0.000109 ***\n",
       "CountryNepal                     6.157e+00  7.718e-01   7.977 3.38e-15 ***\n",
       "CountryNetherlands               1.363e+01  1.641e+00   8.307 2.54e-16 ***\n",
       "CountryNicaragua                 1.241e+01  8.733e-01  14.207  < 2e-16 ***\n",
       "CountryNiger                     6.654e+00  1.142e+00   5.825 7.29e-09 ***\n",
       "CountryNigeria                   4.204e+00  2.497e+00   1.684 0.092501 .  \n",
       "CountryPakistan                  7.901e+00  1.321e+00   5.981 2.90e-09 ***\n",
       "CountryPanama                    1.349e+01  9.388e-01  14.371  < 2e-16 ***\n",
       "CountryPapua New Guinea          3.955e+00  8.574e-01   4.613 4.37e-06 ***\n",
       "CountryParaguay                  1.074e+01  9.475e-01  11.341  < 2e-16 ***\n",
       "CountryPeru                      1.057e+01  9.661e-01  10.943  < 2e-16 ***\n",
       "CountryPhilippines               6.163e+00  8.975e-01   6.868 1.03e-11 ***\n",
       "CountryPoland                    1.037e+01  1.037e+00  10.002  < 2e-16 ***\n",
       "CountryPortugal                  1.374e+01  1.132e+00  12.142  < 2e-16 ***\n",
       "CountryRomania                   1.033e+01  9.897e-01  10.433  < 2e-16 ***\n",
       "CountryRussian Federation        3.533e+00  1.040e+00   3.396 0.000705 ***\n",
       "CountryRwanda                    2.769e+00  8.498e-01   3.259 0.001149 ** \n",
       "CountrySamoa                     1.114e+01  9.311e-01  11.967  < 2e-16 ***\n",
       "CountrySao Tome and Principe     5.607e+00  8.624e-01   6.501 1.15e-10 ***\n",
       "CountrySenegal                   6.379e+00  8.551e-01   7.460 1.63e-13 ***\n",
       "CountrySerbia                    1.074e+01  1.038e+00  10.348  < 2e-16 ***\n",
       "CountrySeychelles                9.430e+00  8.978e-01  10.504  < 2e-16 ***\n",
       "CountrySierra Leone             -9.771e+00  9.078e-01 -10.763  < 2e-16 ***\n",
       "CountrySolomon Islands           9.099e+00  8.716e-01  10.438  < 2e-16 ***\n",
       "CountrySouth Africa              1.044e+00  9.505e-01   1.099 0.272090    \n",
       "CountrySpain                     1.617e+01  1.113e+00  14.527  < 2e-16 ***\n",
       "CountrySri Lanka                 9.236e+00  8.599e-01  10.741  < 2e-16 ***\n",
       "CountrySuriname                  9.009e+00  9.624e-01   9.361  < 2e-16 ***\n",
       "CountrySwaziland                 2.799e+00  1.118e+00   2.504 0.012402 *  \n",
       "CountrySweden                    1.573e+01  1.635e+00   9.618  < 2e-16 ***\n",
       "CountrySyrian Arab Republic      1.216e+01  8.893e-01  13.672  < 2e-16 ***\n",
       "CountryTajikistan                5.548e+00  8.519e-01   6.512 1.07e-10 ***\n",
       "CountryThailand                  1.031e+01  8.556e-01  12.051  < 2e-16 ***\n",
       "CountryTimor-Leste               4.162e+00  1.006e+00   4.137 3.76e-05 ***\n",
       "CountryTogo                     -1.852e+00  9.864e-01  -1.878 0.060647 .  \n",
       "CountryTonga                     8.148e+00  9.597e-01   8.491  < 2e-16 ***\n",
       "CountryTrinidad and Tobago       9.099e+00  8.997e-01  10.114  < 2e-16 ***\n",
       "CountryTunisia                   9.854e+00  8.748e-01  11.264  < 2e-16 ***\n",
       "CountryTurkey                    1.078e+01  8.358e-01  12.898  < 2e-16 ***\n",
       "CountryTurkmenistan              5.394e+00  9.108e-01   5.923 4.10e-09 ***\n",
       "CountryUganda                   -3.257e-01  9.320e-01  -0.350 0.726755    \n",
       "CountryUkraine                   5.509e+00  9.795e-01   5.625 2.30e-08 ***\n",
       "CountryUruguay                   1.099e+01  9.888e-01  11.112  < 2e-16 ***\n",
       "CountryUzbekistan                6.040e+00  8.725e-01   6.922 7.12e-12 ***\n",
       "CountryVanuatu                   1.174e+01  8.825e-01  13.303  < 2e-16 ***\n",
       "CountryZambia                   -1.087e+00  9.058e-01  -1.201 0.230147    \n",
       "CountryZimbabwe                 -1.734e+00  9.404e-01  -1.843 0.065499 .  \n",
       "StatusDeveloping                        NA         NA      NA       NA    \n",
       "Adult.Mortality                 -3.274e-04  5.879e-04  -0.557 0.577752    \n",
       "infant.deaths                    4.487e-02  1.730e-02   2.594 0.009598 ** \n",
       "Alcohol                         -9.440e-02  4.487e-02  -2.104 0.035586 *  \n",
       "percentage.expenditure          -1.697e-04  1.467e-04  -1.156 0.247818    \n",
       "Hepatitis.B                      8.254e-03  2.630e-03   3.138 0.001740 ** \n",
       "Measles                         -3.973e-06  7.131e-06  -0.557 0.577498    \n",
       "BMI                              3.897e-03  3.845e-03   1.014 0.311019    \n",
       "under.five.deaths               -3.834e-02  1.277e-02  -3.003 0.002723 ** \n",
       "Polio                           -1.119e-03  2.887e-03  -0.388 0.698383    \n",
       "Total.expenditure               -2.955e-02  3.109e-02  -0.950 0.342118    \n",
       "Diphtheria                      -1.007e-03  3.200e-03  -0.315 0.753032    \n",
       "HIV.AIDS                        -3.304e-01  1.925e-02 -17.161  < 2e-16 ***\n",
       "GDP                              4.248e-05  2.243e-05   1.894 0.058446 .  \n",
       "Population                       1.178e-09  1.241e-09   0.949 0.342948    \n",
       "thinness.1.19.years.             8.181e-03  3.752e-02   0.218 0.827408    \n",
       "thinness.5.9.years.              3.962e-02  3.550e-02   1.116 0.264626    \n",
       "Income.composition.of.resources  3.564e+00  6.179e-01   5.767 1.02e-08 ***\n",
       "Schooling                        8.669e-01  7.283e-02  11.902  < 2e-16 ***\n",
       "---\n",
       "Signif. codes:  0 '***' 0.001 '**' 0.01 '*' 0.05 '.' 0.1 ' ' 1\n",
       "\n",
       "Residual standard error: 1.696 on 1237 degrees of freedom\n",
       "Multiple R-squared:  0.9672,\tAdjusted R-squared:  0.9633 \n",
       "F-statistic: 246.7 on 148 and 1237 DF,  p-value: < 2.2e-16\n"
      ]
     },
     "metadata": {}
    }
   ],
   "metadata": {}
  },
  {
   "cell_type": "code",
   "execution_count": 68,
   "source": [
    "plot(fitted(lmod.full), residuals(lmod.full))\n",
    "abline(h = 0)"
   ],
   "outputs": [
    {
     "output_type": "display_data",
     "data": {
      "image/png": "[encoded data removed]",
      "text/plain": [
       "plot without title"
      ]
     },
     "metadata": {
      "image/png": {
       "width": 420,
       "height": 420
      }
     }
    }
   ],
   "metadata": {}
  },
  {
   "cell_type": "code",
   "execution_count": 69,
   "source": [
    "qqnorm(residuals(lmod.full))\n",
    "qqline(residuals(lmod.full))"
   ],
   "outputs": [
    {
     "output_type": "display_data",
     "data": {
      "image/png": "[encoded data removed]",
      "text/plain": [
       "Plot with title \"Normal Q-Q Plot\""
      ]
     },
     "metadata": {
      "image/png": {
       "width": 420,
       "height": 420
      }
     }
    }
   ],
   "metadata": {}
  },
  {
   "cell_type": "code",
   "execution_count": 70,
   "source": [
    "step(lmod.full, trace = 0)"
   ],
   "outputs": [
    {
     "output_type": "display_data",
     "data": {
      "text/plain": [
       "\n",
       "Call:\n",
       "lm(formula = Life.expectancy ~ Country + infant.deaths + Alcohol + \n",
       "    Hepatitis.B + under.five.deaths + HIV.AIDS + GDP + thinness.5.9.years. + \n",
       "    Income.composition.of.resources + Schooling, data = lifeData_train[, \n",
       "    -2])\n",
       "\n",
       "Coefficients:\n",
       "                    (Intercept)                   CountryAlbania  \n",
       "                      4.849e+01                        1.291e+01  \n",
       "                 CountryAlgeria                    CountryAngola  \n",
       "                      1.071e+01                       -6.036e+00  \n",
       "               CountryArgentina                   CountryArmenia  \n",
       "                      9.103e+00                        1.148e+01  \n",
       "               CountryAustralia                   CountryAustria  \n",
       "                      1.204e+01                        1.627e+01  \n",
       "              CountryAzerbaijan                CountryBangladesh  \n",
       "                      9.462e+00                        1.127e+01  \n",
       "                 CountryBelarus                   CountryBelgium  \n",
       "                      5.863e+00                        1.312e+01  \n",
       "                  CountryBelize                     CountryBenin  \n",
       "                      6.891e+00                       -2.545e-01  \n",
       "                  CountryBhutan    CountryBosnia and Herzegovina  \n",
       "                      6.671e+00                        1.375e+01  \n",
       "                CountryBotswana                    CountryBrazil  \n",
       "                     -1.400e+00                        9.126e+00  \n",
       "                CountryBulgaria              CountryBurkina Faso  \n",
       "                      9.487e+00                        2.494e+00  \n",
       "                 CountryBurundi                CountryCabo Verde  \n",
       "                     -5.900e-01                        1.087e+01  \n",
       "                CountryCambodia                  CountryCameroon  \n",
       "                      5.634e+00                       -1.404e+00  \n",
       "                  CountryCanada  CountryCentral African Republic  \n",
       "                      1.660e+01                       -3.988e+00  \n",
       "                    CountryChad                     CountryChile  \n",
       "                     -1.642e+00                        1.444e+01  \n",
       "                   CountryChina                  CountryColombia  \n",
       "                      1.261e+01                        1.113e+01  \n",
       "                 CountryComoros                CountryCosta Rica  \n",
       "                      2.176e+00                        1.576e+01  \n",
       "                 CountryCroatia                    CountryCyprus  \n",
       "                      1.248e+01                        1.557e+01  \n",
       "                CountryDjibouti        CountryDominican Republic  \n",
       "                      8.029e+00                        1.032e+01  \n",
       "                 CountryEcuador               CountryEl Salvador  \n",
       "                      1.180e+01                        9.065e+00  \n",
       "                 CountryEritrea                   CountryEstonia  \n",
       "                      6.792e+00                        8.725e+00  \n",
       "                CountryEthiopia                      CountryFiji  \n",
       "                      7.438e+00                        4.342e+00  \n",
       "                  CountryFrance                     CountryGabon  \n",
       "                      1.699e+01                        3.292e+00  \n",
       "                 CountryGeorgia                   CountryGermany  \n",
       "                      1.121e+01                        1.392e+01  \n",
       "                   CountryGhana                    CountryGreece  \n",
       "                      3.116e+00                        1.484e+01  \n",
       "               CountryGuatemala                    CountryGuinea  \n",
       "                      1.340e+01                        7.071e-01  \n",
       "           CountryGuinea-Bissau                    CountryGuyana  \n",
       "                      3.567e-01                        5.375e+00  \n",
       "                CountryHonduras                     CountryIndia  \n",
       "                      1.227e+01                        1.115e+01  \n",
       "               CountryIndonesia                      CountryIraq  \n",
       "                      5.930e+00                        1.019e+01  \n",
       "                 CountryIreland                    CountryIsrael  \n",
       "                      1.655e+01                        1.479e+01  \n",
       "                   CountryItaly                   CountryJamaica  \n",
       "                      1.615e+01                        1.221e+01  \n",
       "                  CountryJordan                CountryKazakhstan  \n",
       "                      9.011e+00                        2.229e+00  \n",
       "                   CountryKenya                  CountryKiribati  \n",
       "                      8.277e-01                        4.508e+00  \n",
       "                  CountryLatvia                   CountryLebanon  \n",
       "                      8.506e+00                        1.124e+01  \n",
       "                 CountryLesotho                   CountryLiberia  \n",
       "                     -4.229e+00                        3.041e+00  \n",
       "               CountryLithuania                CountryLuxembourg  \n",
       "                      7.295e+00                        1.644e+01  \n",
       "              CountryMadagascar                    CountryMalawi  \n",
       "                      4.256e+00                       -4.184e+00  \n",
       "                CountryMalaysia                  CountryMaldives  \n",
       "                      1.024e+01                        1.247e+01  \n",
       "                    CountryMali                     CountryMalta  \n",
       "                      3.307e-01                        1.641e+01  \n",
       "              CountryMauritania                 CountryMauritius  \n",
       "                      6.166e+00                        8.792e+00  \n",
       "                  CountryMexico                  CountryMongolia  \n",
       "                      1.318e+01                        3.102e+00  \n",
       "              CountryMontenegro                   CountryMorocco  \n",
       "                      1.076e+01                        1.152e+01  \n",
       "              CountryMozambique                   CountryMyanmar  \n",
       "                      6.040e-01                        5.973e+00  \n",
       "                 CountryNamibia                     CountryNepal  \n",
       "                      4.621e+00                        6.264e+00  \n",
       "             CountryNetherlands                 CountryNicaragua  \n",
       "                      1.398e+01                        1.247e+01  \n",
       "                   CountryNiger                   CountryNigeria  \n",
       "                      6.739e+00                        3.440e+00  \n",
       "                CountryPakistan                    CountryPanama  \n",
       "                      7.620e+00                        1.355e+01  \n",
       "        CountryPapua New Guinea                  CountryParaguay  \n",
       "                      4.084e+00                        1.080e+01  \n",
       "                    CountryPeru               CountryPhilippines  \n",
       "                      1.066e+01                        6.124e+00  \n",
       "                  CountryPoland                  CountryPortugal  \n",
       "                      1.051e+01                        1.369e+01  \n",
       "                 CountryRomania        CountryRussian Federation  \n",
       "                      1.043e+01                        3.690e+00  \n",
       "                  CountryRwanda                     CountrySamoa  \n",
       "                      2.743e+00                        1.135e+01  \n",
       "   CountrySao Tome and Principe                   CountrySenegal  \n",
       "                      5.638e+00                        6.491e+00  \n",
       "                  CountrySerbia                CountrySeychelles  \n",
       "                      1.080e+01                        9.573e+00  \n",
       "            CountrySierra Leone           CountrySolomon Islands  \n",
       "                     -9.801e+00                        9.249e+00  \n",
       "            CountrySouth Africa                     CountrySpain  \n",
       "                      9.450e-01                        1.614e+01  \n",
       "               CountrySri Lanka                  CountrySuriname  \n",
       "                      9.335e+00                        9.159e+00  \n",
       "               CountrySwaziland                    CountrySweden  \n",
       "                      2.749e+00                        1.512e+01  \n",
       "    CountrySyrian Arab Republic                CountryTajikistan  \n",
       "                      1.240e+01                        5.638e+00  \n",
       "                CountryThailand               CountryTimor-Leste  \n",
       "                      1.038e+01                        4.386e+00  \n",
       "                    CountryTogo                     CountryTonga  \n",
       "                     -1.838e+00                        8.284e+00  \n",
       "     CountryTrinidad and Tobago                   CountryTunisia  \n",
       "                      9.267e+00                        9.999e+00  \n",
       "                  CountryTurkey              CountryTurkmenistan  \n",
       "                      1.096e+01                        5.592e+00  \n",
       "                  CountryUganda                   CountryUkraine  \n",
       "                     -5.914e-01                        5.522e+00  \n",
       "                 CountryUruguay                CountryUzbekistan  \n",
       "                      1.095e+01                        6.050e+00  \n",
       "                 CountryVanuatu                    CountryZambia  \n",
       "                      1.197e+01                       -1.134e+00  \n",
       "                CountryZimbabwe                    infant.deaths  \n",
       "                     -1.783e+00                        4.607e-02  \n",
       "                        Alcohol                      Hepatitis.B  \n",
       "                     -9.102e-02                        7.654e-03  \n",
       "              under.five.deaths                         HIV.AIDS  \n",
       "                     -3.799e-02                       -3.295e-01  \n",
       "                            GDP              thinness.5.9.years.  \n",
       "                      1.784e-05                        4.052e-02  \n",
       "Income.composition.of.resources                        Schooling  \n",
       "                      3.614e+00                        8.851e-01  \n"
      ]
     },
     "metadata": {}
    }
   ],
   "metadata": {}
  },
  {
   "cell_type": "markdown",
   "source": [
    "# Ridge regression"
   ],
   "metadata": {}
  },
  {
   "cell_type": "code",
   "execution_count": 71,
   "source": [
    "library(MASS)\n",
    "lifeData_train_ridge <- lifeData_train\n",
    "lifeData_train_ridge$Status <- rep(0, nrow(lifeData_train))\n",
    "for (i in 1:nrow(lifeData_full_ridge)) {\n",
    "    lifeData_train_ridge$Status <- ifelse(lifeData_train$Status == 'Developing', 0, 1)\n",
    "}\n",
    "lifeData_test_ridge <- lifeData_test\n",
    "lifeData_test_ridge$Status <- rep(0, nrow(lifeData_test))\n",
    "for (i in 1:nrow(lifeData_full_ridge)) {\n",
    "    lifeData_test_ridge$Status <- ifelse(lifeData_test$Status == 'Developing', 0, 1)\n",
    "}\n",
    "ridgemod <- lm.ridge(Life.expectancy ~ . - Country - Year, lambda = seq(0, 1, 1e-3), data = lifeData_train_ridge)\n",
    "select(ridgemod)"
   ],
   "outputs": [
    {
     "output_type": "stream",
     "name": "stdout",
     "text": [
      "modified HKB estimator is 0.7160818 \n",
      "modified L-W estimator is 3.315348 \n",
      "smallest value of GCV  at 0.055 \n"
     ]
    }
   ],
   "metadata": {}
  },
  {
   "cell_type": "code",
   "execution_count": 75,
   "source": [
    "yfit_ridge = ridgemod$ym + scale(lifeData_train_ridge[,-c(1,2,4)], center=ridgemod$xm, scale = ridgemod$scales) %*% ridgemod$coef[,56]\n",
    "residuals_ridge = yfit_ridge - lifeData_train[,4]\n",
    "\n",
    "plot(yfit_ridge, residuals_ridge)\n",
    "abline(h = 0)\n",
    "qqnorm(residuals_ridge)\n",
    "qqline(residuals_ridge)"
   ],
   "outputs": [
    {
     "output_type": "display_data",
     "data": {
      "image/png": "[encoded data removed]",
      "text/plain": [
       "plot without title"
      ]
     },
     "metadata": {
      "image/png": {
       "width": 420,
       "height": 420
      }
     }
    },
    {
     "output_type": "display_data",
     "data": {
      "image/png": "[encoded data removed]",
      "text/plain": [
       "Plot with title \"Normal Q-Q Plot\""
      ]
     },
     "metadata": {
      "image/png": {
       "width": 420,
       "height": 420
      }
     }
    }
   ],
   "metadata": {}
  },
  {
   "cell_type": "markdown",
   "source": [
    "# Comparison"
   ],
   "metadata": {}
  },
  {
   "cell_type": "code",
   "execution_count": null,
   "source": [
    "rmse <- function(x,y) sqrt(mean((x-y)^2))"
   ],
   "outputs": [],
   "metadata": {}
  },
  {
   "cell_type": "code",
   "execution_count": null,
   "source": [
    "ypred_ls <- predict(lmod.full, lifeData_test[,-c(2,4)])\n",
    "rmse(ypred_ls, lifeData_test[,4])"
   ],
   "outputs": [
    {
     "output_type": "stream",
     "name": "stderr",
     "text": [
      "Warning message in predict.lm(lmod.full, lifeData_test[, -c(2, 4)]):\n",
      "\"prediction from a rank-deficient fit may be misleading\"\n"
     ]
    },
    {
     "output_type": "display_data",
     "data": {
      "text/html": [
       "2.19745381549954"
      ],
      "text/latex": [
       "2.19745381549954"
      ],
      "text/markdown": [
       "2.19745381549954"
      ],
      "text/plain": [
       "[1] 2.197454"
      ]
     },
     "metadata": {}
    }
   ],
   "metadata": {}
  },
  {
   "cell_type": "code",
   "execution_count": null,
   "source": [
    "# ridge\n",
    "ypred_ridge = ridgemod$ym + scale(lifeData_test_ridge[,-c(1,2,4)], center=ridgemod$xm, scale = ridgemod$scales) %*% ridgemod$coef[,56]\n",
    "rmse(ypred_ridge, lifeData_test[,4])"
   ],
   "outputs": [
    {
     "output_type": "display_data",
     "data": {
      "text/html": [
       "3.69927416476752"
      ],
      "text/latex": [
       "3.69927416476752"
      ],
      "text/markdown": [
       "3.69927416476752"
      ],
      "text/plain": [
       "[1] 3.699274"
      ]
     },
     "metadata": {}
    }
   ],
   "metadata": {}
  }
 ],
 "metadata": {
  "orig_nbformat": 4,
  "language_info": {
   "name": "R",
   "codemirror_mode": "r",
   "pygments_lexer": "r",
   "mimetype": "text/x-r-source",
   "file_extension": ".r",
   "version": "4.2.1"
  },
  "kernelspec": {
   "name": "ir",
   "display_name": "R",
   "language": "R"
  }
 },
 "nbformat": 4,
 "nbformat_minor": 2
}