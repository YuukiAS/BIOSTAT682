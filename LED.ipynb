{
 "cells": [
  {
   "cell_type": "markdown",
   "metadata": {},
   "source": [
    "## Data Pre-processing"
   ]
  },
  {
   "cell_type": "code",
   "execution_count": 2,
   "metadata": {
    "vscode": {
     "languageId": "r"
    }
   },
   "outputs": [
    {
     "data": {
      "text/html": [
       "<table class=\"dataframe\">\n",
       "<caption>A data.frame: 6 × 22</caption>\n",
       "<thead>\n",
       "\t<tr><th></th><th scope=col>Country</th><th scope=col>Year</th><th scope=col>Status</th><th scope=col>Life.expectancy</th><th scope=col>Adult.Mortality</th><th scope=col>infant.deaths</th><th scope=col>Alcohol</th><th scope=col>percentage.expenditure</th><th scope=col>Hepatitis.B</th><th scope=col>Measles</th><th scope=col>⋯</th><th scope=col>Polio</th><th scope=col>Total.expenditure</th><th scope=col>Diphtheria</th><th scope=col>HIV.AIDS</th><th scope=col>GDP</th><th scope=col>Population</th><th scope=col>thinness..1.19.years</th><th scope=col>thinness.5.9.years</th><th scope=col>Income.composition.of.resources</th><th scope=col>Schooling</th></tr>\n",
       "\t<tr><th></th><th scope=col>&lt;chr&gt;</th><th scope=col>&lt;int&gt;</th><th scope=col>&lt;chr&gt;</th><th scope=col>&lt;dbl&gt;</th><th scope=col>&lt;int&gt;</th><th scope=col>&lt;int&gt;</th><th scope=col>&lt;dbl&gt;</th><th scope=col>&lt;dbl&gt;</th><th scope=col>&lt;int&gt;</th><th scope=col>&lt;int&gt;</th><th scope=col>⋯</th><th scope=col>&lt;int&gt;</th><th scope=col>&lt;dbl&gt;</th><th scope=col>&lt;int&gt;</th><th scope=col>&lt;dbl&gt;</th><th scope=col>&lt;dbl&gt;</th><th scope=col>&lt;dbl&gt;</th><th scope=col>&lt;dbl&gt;</th><th scope=col>&lt;dbl&gt;</th><th scope=col>&lt;dbl&gt;</th><th scope=col>&lt;dbl&gt;</th></tr>\n",
       "</thead>\n",
       "<tbody>\n",
       "\t<tr><th scope=row>1</th><td>Afghanistan</td><td>2015</td><td>Developing</td><td>65.0</td><td>263</td><td>62</td><td>0.01</td><td>71.279624</td><td>65</td><td>1154</td><td>⋯</td><td> 6</td><td>8.16</td><td>65</td><td>0.1</td><td>584.25921</td><td>33736494</td><td>17.2</td><td>17.3</td><td>0.479</td><td>10.1</td></tr>\n",
       "\t<tr><th scope=row>2</th><td>Afghanistan</td><td>2014</td><td>Developing</td><td>59.9</td><td>271</td><td>64</td><td>0.01</td><td>73.523582</td><td>62</td><td> 492</td><td>⋯</td><td>58</td><td>8.18</td><td>62</td><td>0.1</td><td>612.69651</td><td>  327582</td><td>17.5</td><td>17.5</td><td>0.476</td><td>10.0</td></tr>\n",
       "\t<tr><th scope=row>3</th><td>Afghanistan</td><td>2013</td><td>Developing</td><td>59.9</td><td>268</td><td>66</td><td>0.01</td><td>73.219243</td><td>64</td><td> 430</td><td>⋯</td><td>62</td><td>8.13</td><td>64</td><td>0.1</td><td>631.74498</td><td>31731688</td><td>17.7</td><td>17.7</td><td>0.470</td><td> 9.9</td></tr>\n",
       "\t<tr><th scope=row>4</th><td>Afghanistan</td><td>2012</td><td>Developing</td><td>59.5</td><td>272</td><td>69</td><td>0.01</td><td>78.184215</td><td>67</td><td>2787</td><td>⋯</td><td>67</td><td>8.52</td><td>67</td><td>0.1</td><td>669.95900</td><td> 3696958</td><td>17.9</td><td>18.0</td><td>0.463</td><td> 9.8</td></tr>\n",
       "\t<tr><th scope=row>5</th><td>Afghanistan</td><td>2011</td><td>Developing</td><td>59.2</td><td>275</td><td>71</td><td>0.01</td><td> 7.097109</td><td>68</td><td>3013</td><td>⋯</td><td>68</td><td>7.87</td><td>68</td><td>0.1</td><td> 63.53723</td><td> 2978599</td><td>18.2</td><td>18.2</td><td>0.454</td><td> 9.5</td></tr>\n",
       "\t<tr><th scope=row>6</th><td>Afghanistan</td><td>2010</td><td>Developing</td><td>58.8</td><td>279</td><td>74</td><td>0.01</td><td>79.679367</td><td>66</td><td>1989</td><td>⋯</td><td>66</td><td>9.20</td><td>66</td><td>0.1</td><td>553.32894</td><td> 2883167</td><td>18.4</td><td>18.4</td><td>0.448</td><td> 9.2</td></tr>\n",
       "</tbody>\n",
       "</table>\n"
      ],
      "text/latex": [
       "A data.frame: 6 × 22\n",
       "\\begin{tabular}{r|lllllllllllllllllllll}\n",
       "  & Country & Year & Status & Life.expectancy & Adult.Mortality & infant.deaths & Alcohol & percentage.expenditure & Hepatitis.B & Measles & ⋯ & Polio & Total.expenditure & Diphtheria & HIV.AIDS & GDP & Population & thinness..1.19.years & thinness.5.9.years & Income.composition.of.resources & Schooling\\\\\n",
       "  & <chr> & <int> & <chr> & <dbl> & <int> & <int> & <dbl> & <dbl> & <int> & <int> & ⋯ & <int> & <dbl> & <int> & <dbl> & <dbl> & <dbl> & <dbl> & <dbl> & <dbl> & <dbl>\\\\\n",
       "\\hline\n",
       "\t1 & Afghanistan & 2015 & Developing & 65.0 & 263 & 62 & 0.01 & 71.279624 & 65 & 1154 & ⋯ &  6 & 8.16 & 65 & 0.1 & 584.25921 & 33736494 & 17.2 & 17.3 & 0.479 & 10.1\\\\\n",
       "\t2 & Afghanistan & 2014 & Developing & 59.9 & 271 & 64 & 0.01 & 73.523582 & 62 &  492 & ⋯ & 58 & 8.18 & 62 & 0.1 & 612.69651 &   327582 & 17.5 & 17.5 & 0.476 & 10.0\\\\\n",
       "\t3 & Afghanistan & 2013 & Developing & 59.9 & 268 & 66 & 0.01 & 73.219243 & 64 &  430 & ⋯ & 62 & 8.13 & 64 & 0.1 & 631.74498 & 31731688 & 17.7 & 17.7 & 0.470 &  9.9\\\\\n",
       "\t4 & Afghanistan & 2012 & Developing & 59.5 & 272 & 69 & 0.01 & 78.184215 & 67 & 2787 & ⋯ & 67 & 8.52 & 67 & 0.1 & 669.95900 &  3696958 & 17.9 & 18.0 & 0.463 &  9.8\\\\\n",
       "\t5 & Afghanistan & 2011 & Developing & 59.2 & 275 & 71 & 0.01 &  7.097109 & 68 & 3013 & ⋯ & 68 & 7.87 & 68 & 0.1 &  63.53723 &  2978599 & 18.2 & 18.2 & 0.454 &  9.5\\\\\n",
       "\t6 & Afghanistan & 2010 & Developing & 58.8 & 279 & 74 & 0.01 & 79.679367 & 66 & 1989 & ⋯ & 66 & 9.20 & 66 & 0.1 & 553.32894 &  2883167 & 18.4 & 18.4 & 0.448 &  9.2\\\\\n",
       "\\end{tabular}\n"
      ],
      "text/markdown": [
       "\n",
       "A data.frame: 6 × 22\n",
       "\n",
       "| <!--/--> | Country &lt;chr&gt; | Year &lt;int&gt; | Status &lt;chr&gt; | Life.expectancy &lt;dbl&gt; | Adult.Mortality &lt;int&gt; | infant.deaths &lt;int&gt; | Alcohol &lt;dbl&gt; | percentage.expenditure &lt;dbl&gt; | Hepatitis.B &lt;int&gt; | Measles &lt;int&gt; | ⋯ ⋯ | Polio &lt;int&gt; | Total.expenditure &lt;dbl&gt; | Diphtheria &lt;int&gt; | HIV.AIDS &lt;dbl&gt; | GDP &lt;dbl&gt; | Population &lt;dbl&gt; | thinness..1.19.years &lt;dbl&gt; | thinness.5.9.years &lt;dbl&gt; | Income.composition.of.resources &lt;dbl&gt; | Schooling &lt;dbl&gt; |\n",
       "|---|---|---|---|---|---|---|---|---|---|---|---|---|---|---|---|---|---|---|---|---|---|\n",
       "| 1 | Afghanistan | 2015 | Developing | 65.0 | 263 | 62 | 0.01 | 71.279624 | 65 | 1154 | ⋯ |  6 | 8.16 | 65 | 0.1 | 584.25921 | 33736494 | 17.2 | 17.3 | 0.479 | 10.1 |\n",
       "| 2 | Afghanistan | 2014 | Developing | 59.9 | 271 | 64 | 0.01 | 73.523582 | 62 |  492 | ⋯ | 58 | 8.18 | 62 | 0.1 | 612.69651 |   327582 | 17.5 | 17.5 | 0.476 | 10.0 |\n",
       "| 3 | Afghanistan | 2013 | Developing | 59.9 | 268 | 66 | 0.01 | 73.219243 | 64 |  430 | ⋯ | 62 | 8.13 | 64 | 0.1 | 631.74498 | 31731688 | 17.7 | 17.7 | 0.470 |  9.9 |\n",
       "| 4 | Afghanistan | 2012 | Developing | 59.5 | 272 | 69 | 0.01 | 78.184215 | 67 | 2787 | ⋯ | 67 | 8.52 | 67 | 0.1 | 669.95900 |  3696958 | 17.9 | 18.0 | 0.463 |  9.8 |\n",
       "| 5 | Afghanistan | 2011 | Developing | 59.2 | 275 | 71 | 0.01 |  7.097109 | 68 | 3013 | ⋯ | 68 | 7.87 | 68 | 0.1 |  63.53723 |  2978599 | 18.2 | 18.2 | 0.454 |  9.5 |\n",
       "| 6 | Afghanistan | 2010 | Developing | 58.8 | 279 | 74 | 0.01 | 79.679367 | 66 | 1989 | ⋯ | 66 | 9.20 | 66 | 0.1 | 553.32894 |  2883167 | 18.4 | 18.4 | 0.448 |  9.2 |\n",
       "\n"
      ],
      "text/plain": [
       "  Country     Year Status     Life.expectancy Adult.Mortality infant.deaths\n",
       "1 Afghanistan 2015 Developing 65.0            263             62           \n",
       "2 Afghanistan 2014 Developing 59.9            271             64           \n",
       "3 Afghanistan 2013 Developing 59.9            268             66           \n",
       "4 Afghanistan 2012 Developing 59.5            272             69           \n",
       "5 Afghanistan 2011 Developing 59.2            275             71           \n",
       "6 Afghanistan 2010 Developing 58.8            279             74           \n",
       "  Alcohol percentage.expenditure Hepatitis.B Measles ⋯ Polio Total.expenditure\n",
       "1 0.01    71.279624              65          1154    ⋯  6    8.16             \n",
       "2 0.01    73.523582              62           492    ⋯ 58    8.18             \n",
       "3 0.01    73.219243              64           430    ⋯ 62    8.13             \n",
       "4 0.01    78.184215              67          2787    ⋯ 67    8.52             \n",
       "5 0.01     7.097109              68          3013    ⋯ 68    7.87             \n",
       "6 0.01    79.679367              66          1989    ⋯ 66    9.20             \n",
       "  Diphtheria HIV.AIDS GDP       Population thinness..1.19.years\n",
       "1 65         0.1      584.25921 33736494   17.2                \n",
       "2 62         0.1      612.69651   327582   17.5                \n",
       "3 64         0.1      631.74498 31731688   17.7                \n",
       "4 67         0.1      669.95900  3696958   17.9                \n",
       "5 68         0.1       63.53723  2978599   18.2                \n",
       "6 66         0.1      553.32894  2883167   18.4                \n",
       "  thinness.5.9.years Income.composition.of.resources Schooling\n",
       "1 17.3               0.479                           10.1     \n",
       "2 17.5               0.476                           10.0     \n",
       "3 17.7               0.470                            9.9     \n",
       "4 18.0               0.463                            9.8     \n",
       "5 18.2               0.454                            9.5     \n",
       "6 18.4               0.448                            9.2     "
      ]
     },
     "metadata": {},
     "output_type": "display_data"
    }
   ],
   "source": [
    "lifeData1 <- read.csv(\"D:/Code/BIOSTAT682/Life Expectancy Data.csv\")\n",
    "head(lifeData1)"
   ]
  },
  {
   "cell_type": "code",
   "execution_count": 5,
   "metadata": {
    "vscode": {
     "languageId": "r"
    }
   },
   "outputs": [],
   "source": [
    "library(tidyr)\n",
    "\n",
    "lifeData <- lifeData1 %>% drop_na()"
   ]
  },
  {
   "cell_type": "code",
   "execution_count": 9,
   "metadata": {
    "vscode": {
     "languageId": "r"
    }
   },
   "outputs": [
    {
     "name": "stderr",
     "output_type": "stream",
     "text": [
      "corrplot 0.92 loaded\n",
      "\n"
     ]
    },
    {
     "data": {
      "image/png": "[encoded data removed]",
      "text/plain": [
       "Plot with title \"\""
      ]
     },
     "metadata": {
      "image/png": {
       "height": 420,
       "width": 420
      }
     },
     "output_type": "display_data"
    }
   ],
   "source": [
    "# generate correlation plot\n",
    "\n",
    "lifeData_Matrix <- as.matrix(lifeData)[,-(1:4)]\n",
    "lifeData_Matrix.numeric <- apply(lifeData_Matrix, 2, as.numeric)  # element in original matrix is character\n",
    "\n",
    "library(corrplot)\n",
    "corrplot(cor(lifeData_Matrix.numeric), method=\"color\")"
   ]
  },
  {
   "cell_type": "markdown",
   "metadata": {},
   "source": [
    "## Frequentist Way"
   ]
  },
  {
   "cell_type": "code",
   "execution_count": 6,
   "metadata": {
    "vscode": {
     "languageId": "r"
    }
   },
   "outputs": [
    {
     "data": {
      "text/plain": [
       "\n",
       "Call:\n",
       "lm(formula = Life.expectancy ~ . - Country, data = lifeData)\n",
       "\n",
       "Residuals:\n",
       "     Min       1Q   Median       3Q      Max \n",
       "-16.7681  -2.1427   0.0273   2.1776  12.4242 \n",
       "\n",
       "Coefficients:\n",
       "                                  Estimate Std. Error t value Pr(>|t|)    \n",
       "(Intercept)                      3.090e+02  4.621e+01   6.687 3.12e-11 ***\n",
       "Year                            -1.272e-01  2.308e-02  -5.510 4.18e-08 ***\n",
       "StatusDeveloping                -8.865e-01  3.353e-01  -2.644  0.00827 ** \n",
       "Adult.Mortality                 -1.621e-02  9.441e-04 -17.171  < 2e-16 ***\n",
       "infant.deaths                    8.873e-02  1.059e-02   8.376  < 2e-16 ***\n",
       "Alcohol                         -1.313e-01  3.366e-02  -3.901 9.95e-05 ***\n",
       "percentage.expenditure           3.026e-04  1.789e-04   1.691  0.09096 .  \n",
       "Hepatitis.B                     -3.258e-03  4.449e-03  -0.732  0.46413    \n",
       "Measles                         -1.033e-05  1.070e-05  -0.966  0.33439    \n",
       "BMI                              3.183e-02  5.955e-03   5.345 1.03e-07 ***\n",
       "under.five.deaths               -6.662e-02  7.673e-03  -8.682  < 2e-16 ***\n",
       "Polio                            5.797e-03  5.121e-03   1.132  0.25776    \n",
       "Total.expenditure                9.220e-02  4.042e-02   2.281  0.02268 *  \n",
       "Diphtheria                       1.403e-02  5.877e-03   2.387  0.01712 *  \n",
       "HIV.AIDS                        -4.481e-01  1.780e-02 -25.174  < 2e-16 ***\n",
       "GDP                              2.451e-05  2.826e-05   0.867  0.38594    \n",
       "Population                      -6.085e-10  1.733e-09  -0.351  0.72558    \n",
       "thinness..1.19.years            -5.815e-03  5.254e-02  -0.111  0.91189    \n",
       "thinness.5.9.years              -5.010e-02  5.185e-02  -0.966  0.33412    \n",
       "Income.composition.of.resources  1.045e+01  8.327e-01  12.549  < 2e-16 ***\n",
       "Schooling                        8.949e-01  5.910e-02  15.142  < 2e-16 ***\n",
       "---\n",
       "Signif. codes:  0 '***' 0.001 '**' 0.01 '*' 0.05 '.' 0.1 ' ' 1\n",
       "\n",
       "Residual standard error: 3.556 on 1628 degrees of freedom\n",
       "Multiple R-squared:  0.8386,\tAdjusted R-squared:  0.8366 \n",
       "F-statistic: 422.9 on 20 and 1628 DF,  p-value: < 2.2e-16\n"
      ]
     },
     "metadata": {},
     "output_type": "display_data"
    }
   ],
   "source": [
    "lmod <- lm(Life.expectancy ~ . - Country, data = lifeData)\n",
    "summary(lmod)"
   ]
  },
  {
   "cell_type": "code",
   "execution_count": 7,
   "metadata": {
    "vscode": {
     "languageId": "r"
    }
   },
   "outputs": [
    {
     "data": {
      "image/png": "[encoded data removed]",
      "text/plain": [
       "plot without title"
      ]
     },
     "metadata": {
      "image/png": {
       "height": 420,
       "width": 420
      }
     },
     "output_type": "display_data"
    }
   ],
   "source": [
    "plot(fitted(lmod), residuals(lmod))\n",
    "abline(h = 0)"
   ]
  },
  {
   "cell_type": "code",
   "execution_count": 8,
   "metadata": {
    "vscode": {
     "languageId": "r"
    }
   },
   "outputs": [
    {
     "data": {
      "image/png": "[encoded data removed]",
      "text/plain": [
       "Plot with title \"Normal Q-Q Plot\""
      ]
     },
     "metadata": {
      "image/png": {
       "height": 420,
       "width": 420
      }
     },
     "output_type": "display_data"
    }
   ],
   "source": [
    "qqnorm(residuals(lmod))\n",
    "qqline(residuals(lmod))"
   ]
  },
  {
   "cell_type": "code",
   "execution_count": 11,
   "metadata": {
    "vscode": {
     "languageId": "r"
    }
   },
   "outputs": [
    {
     "name": "stderr",
     "output_type": "stream",
     "text": [
      "Loading required package: SparseM\n",
      "\n",
      "\n",
      "Attaching package: 'SparseM'\n",
      "\n",
      "\n",
      "The following object is masked from 'package:base':\n",
      "\n",
      "    backsolve\n",
      "\n",
      "\n",
      "Warning message in summary.rq(ladmod):\n",
      "\"36 non-positive fis\"\n"
     ]
    },
    {
     "data": {
      "text/plain": [
       "\n",
       "Call: rq(formula = Life.expectancy ~ . - Country, data = lifeData)\n",
       "\n",
       "tau: [1] 0.5\n",
       "\n",
       "Coefficients:\n",
       "                                Value     Std. Error t value   Pr(>|t|) \n",
       "(Intercept)                     263.27559  35.18477    7.48266   0.00000\n",
       "Year                             -0.10470   0.01760   -5.94967   0.00000\n",
       "StatusDeveloping                 -0.01519   0.21259   -0.07143   0.94306\n",
       "Adult.Mortality                  -0.02168   0.00181  -11.99926   0.00000\n",
       "infant.deaths                     0.07051   0.01028    6.85988   0.00000\n",
       "Alcohol                          -0.07762   0.02374   -3.27005   0.00110\n",
       "percentage.expenditure            0.00013   0.00004    3.07267   0.00216\n",
       "Hepatitis.B                       0.00202   0.00362    0.55896   0.57627\n",
       "Measles                           0.00000   0.00001   -0.05876   0.95315\n",
       "BMI                               0.03075   0.00403    7.62665   0.00000\n",
       "under.five.deaths                -0.05225   0.00732   -7.14249   0.00000\n",
       "Polio                             0.00263   0.00508    0.51760   0.60480\n",
       "Total.expenditure                 0.08461   0.03688    2.29438   0.02190\n",
       "Diphtheria                        0.01647   0.00410    4.02039   0.00006\n",
       "HIV.AIDS                         -0.38185   0.03869   -9.87069   0.00000\n",
       "GDP                               0.00004   0.00001    5.79134   0.00000\n",
       "Population                        0.00000   0.00000   -0.69746   0.48561\n",
       "thinness..1.19.years              0.00797   0.03152    0.25287   0.80040\n",
       "thinness.5.9.years               -0.04395   0.03378   -1.30094   0.19346\n",
       "Income.composition.of.resources  12.09741   2.60458    4.64468   0.00000\n",
       "Schooling                         0.80951   0.09709    8.33779   0.00000"
      ]
     },
     "metadata": {},
     "output_type": "display_data"
    }
   ],
   "source": [
    "library(quantreg)\n",
    "ladmod <- rq(Life.expectancy ~ . - Country, data = lifeData)\n",
    "summary(ladmod)"
   ]
  },
  {
   "cell_type": "markdown",
   "metadata": {},
   "source": [
    "## Bayesian Way"
   ]
  },
  {
   "cell_type": "code",
   "execution_count": 14,
   "metadata": {
    "vscode": {
     "languageId": "r"
    }
   },
   "outputs": [],
   "source": [
    "library(R2jags)\n",
    "\n",
    "N = nrow(lifeData)\n",
    "x1 = rep(0,N)\n",
    "x2 = rep(0,N)\n",
    "x3 = rep(0,N)\n",
    "x4 = rep(0,N)\n",
    "x5 = rep(0,N)\n",
    "x6 = rep(0,N)\n",
    "x7 = rep(0,N)\n",
    "x8 = rep(0,N)\n",
    "x9 = rep(0,N)\n",
    "x10 = rep(0,N)\n",
    "x11 = rep(0,N)\n",
    "x12 = rep(0,N)\n",
    "x13 = rep(0,N)\n",
    "x14 = rep(0,N)\n",
    "x15 = rep(0,N)\n",
    "status = rep(0,N)\n",
    "\n",
    "#set up dummy/index variables\n",
    "for (i in 1:N) {\n",
    "  x1[i] = ifelse(lifeData$Year[i] == 2001,1,0)\n",
    "  x2[i] = ifelse(lifeData$Year[i] == 2002,1,0)\n",
    "  x3[i] = ifelse(lifeData$Year[i] == 2003,1,0)\n",
    "  x4[i] = ifelse(lifeData$Year[i] == 2004,1,0)\n",
    "  x5[i] = ifelse(lifeData$Year[i] == 2005,1,0)\n",
    "  x6[i] = ifelse(lifeData$Year[i] == 2006,1,0)\n",
    "  x7[i] = ifelse(lifeData$Year[i] == 2007,1,0)\n",
    "  x8[i] = ifelse(lifeData$Year[i] == 2008,1,0)\n",
    "  x9[i] = ifelse(lifeData$Year[i] == 2009,1,0)\n",
    "  x10[i] = ifelse(lifeData$Year[i] == 2010,1,0)\n",
    "  x11[i] = ifelse(lifeData$Year[i] == 2011,1,0)\n",
    "  x12[i] = ifelse(lifeData$Year[i] == 2012,1,0)\n",
    "  x13[i] = ifelse(lifeData$Year[i] == 2013,1,0)\n",
    "  x14[i] = ifelse(lifeData$Year[i] == 2014,1,0)\n",
    "  x15[i] = ifelse(lifeData$Year[i] == 2015,1,0)\n",
    "  status[i] = ifelse(lifeData$Status[i]==\"Developing\",1,0)\n",
    "}"
   ]
  },
  {
   "cell_type": "code",
   "execution_count": 22,
   "metadata": {
    "vscode": {
     "languageId": "r"
    }
   },
   "outputs": [],
   "source": [
    "mortality = lifeData$\"Adult.Mortality\"\n",
    "infant_deaths = lifeData$\"infant.deaths\"\n",
    "alcohol = lifeData$\"Alcohol\"\n",
    "percExp = lifeData$\"percentage.expenditure\"\n",
    "hepB = lifeData$\"Hepatitis.B\"\n",
    "measles = lifeData$\"Measles\"\n",
    "BMI = lifeData$\"BMI\"\n",
    "under5Deaths = lifeData$\"under.five.deaths\"\n",
    "polio = lifeData$\"Polio\"\n",
    "totalExp = lifeData$\"Total.expenditure\"\n",
    "dipth = lifeData$\"Diphtheria\"\n",
    "hivaids = lifeData$\"HIV.AIDS\"\n",
    "gdp = lifeData$\"GDP\"\n",
    "pop = lifeData$\"Population\"\n",
    "thin1019 = lifeData$\"thinness..1.19.years\"\n",
    "thin59 = lifeData$\"thinness.5.9.years\"\n",
    "incomeComp = lifeData$\"Income.composition.of.resources\"\n",
    "school = lifeData$\"Schooling\"\n",
    "y = lifeData$\"Life.expectancy\"\n",
    "J = length(unique(lifeData$Country)) # number of countries (135)\n",
    "ident = diag(35)\n",
    "\n",
    "# encode country\n",
    "indicesDict = c(unique(lifeData$Country))\n",
    "indices = rep(0,N)\n",
    "for (i in 1:N) {\n",
    "  indices[i] = which(indicesDict==lifeData$Country[i])\n",
    "}\n",
    "\n",
    "life_expectancy.data = c(\"x1\",\"x2\",\"x3\",\"x4\",\"x5\",\"x6\",\"x7\",\"x8\",\"x9\",\"x10\",\"x11\",\"x12\",\"x13\",\"x14\",\"x15\",\"y\",\"mortality\",\"infant_deaths\",\"alcohol\", \"status\",\n",
    "                         \"percExp\",\"hepB\",\"measles\",\"BMI\",\"under5Deaths\",\"polio\",\"totalExp\",\"dipth\",\"hivaids\",\"gdp\",\"pop\",\"thin1019\",\"thin59\",\n",
    "                         \"incomeComp\",\"school\",\"N\",\"J\",\"indices\")"
   ]
  },
  {
   "cell_type": "code",
   "execution_count": 20,
   "metadata": {
    "vscode": {
     "languageId": "r"
    }
   },
   "outputs": [],
   "source": [
    "save.parms = c(\"beta\",\"betay\",\"mu\")\n",
    "# use wishart for variance of covariates in the beginning, uninformative prior\n",
    "life_expectancy.model = function()\n",
    "{\n",
    "  for (i in 1:N) {\n",
    "     y[i] ~ dnorm(mu[indices[i],i],tau)\n",
    "     # indices[i] gets the cluster number\n",
    "     # intercept + year_covariates * x0 through x14 + developing_covairate * developing + ...\n",
    "     mu[indices[i],i] <- \n",
    "          betay[indices[i],1] #intercept\n",
    "          + betay[indices[i],2]*x1[i] #2001\n",
    "          + betay[indices[i],3]*x2[i] #2002\n",
    "          + betay[indices[i],4]*x3[i] #2003\n",
    "          + betay[indices[i],5]*x4[i] #2004\n",
    "          + betay[indices[i],6]*x5[i] #2005\n",
    "          + betay[indices[i],7]*x6[i] #2005\n",
    "          + betay[indices[i],8]*x7[i] #2007\n",
    "          + betay[indices[i],9]*x8[i] #2008\n",
    "          + betay[indices[i],10]*x9[i] #2009\n",
    "          + betay[indices[i],11]*x10[i] #2010\n",
    "          + betay[indices[i],12]*x11[i] #2011\n",
    "          + betay[indices[i],13]*x12[i] #2012\n",
    "          + betay[indices[i],14]*x13[i] #2013\n",
    "          + betay[indices[i],15]*x14[i] #2014\n",
    "          + betay[indices[i],16]*x15[i] #2015\n",
    "          + betay[indices[i],17]*mortality[i] #mortality\n",
    "          + betay[indices[i],18]*infant_deaths[i] #infant_deaths\n",
    "          + betay[indices[i],19]*alcohol[i] #alcohol\n",
    "          + betay[indices[i],20]*percExp[i] #percentage expenditure\n",
    "          + betay[indices[i],21]*hepB[i] #hepatitis B\n",
    "          + betay[indices[i],22]*measles[i] #meases\n",
    "          + betay[indices[i],23]*BMI[i] #BMI \n",
    "          + betay[indices[i],24]*under5Deaths[i] #under 5 deaths\n",
    "          + betay[indices[i],25]*polio[i] #Polio\n",
    "          + betay[indices[i],26]*totalExp[i] #total expenditure\n",
    "          + betay[indices[i],27]*dipth[i] #diptheria\n",
    "          + betay[indices[i],28]*hivaids[i] #hiv.aids\n",
    "          + betay[indices[i],29]*gdp[i] #gdp\n",
    "          + betay[indices[i],30]*pop[i] #population\n",
    "          + betay[indices[i],31]*thin1019[i] #thinness relevance 10-19 yrs old\n",
    "          + betay[indices[i],32]*thin59[i] #thinness relevance 5-9 yrs old\n",
    "          + betay[indices[i],33]*incomeComp[i] #income composition\n",
    "          + betay[indices[i],34]*school[i] #years of schooling\n",
    "          + betay[indices[i],35]*status[i] #status, developing or not\n",
    "  }\n",
    "  for (j in 1:J) {\n",
    "    for (k in 1:35) {\n",
    "      betay[j,k] ~ dnorm(beta[k],P)\n",
    "    }\n",
    "  }      \n",
    "  for (k in 1:35) {\n",
    "    beta[k] ~ dnorm(0,1e-6)\n",
    "  }\n",
    "  tau ~ dgamma(1e-6,1e-6)\n",
    "  P ~ dgamma(1e-6,1e-6)\n",
    "   \n",
    "  #P[1:34,1:34] ~ dwish(ident,3)\n",
    "}"
   ]
  },
  {
   "cell_type": "code",
   "execution_count": 23,
   "metadata": {
    "vscode": {
     "languageId": "r"
    }
   },
   "outputs": [],
   "source": [
    "life_expectancy.out = jags(data=life_expectancy.data,parameters.to.save=save.parms,model.file=life_expectancy.model,\n",
    "                n.chains=3,n.iter=10000,n.burnin=5000,n.thin=1)\n",
    "print(life_expectancy.out,digits=5)"
   ]
  },
  {
   "cell_type": "code",
   "execution_count": null,
   "metadata": {
    "vscode": {
     "languageId": "r"
    }
   },
   "outputs": [],
   "source": []
  }
 ],
 "metadata": {
  "kernelspec": {
   "display_name": "R",
   "language": "R",
   "name": "ir"
  },
  "language_info": {
   "codemirror_mode": "r",
   "file_extension": ".r",
   "mimetype": "text/x-r-source",
   "name": "R",
   "pygments_lexer": "r",
   "version": "4.2.0"
  },
  "orig_nbformat": 4
 },
 "nbformat": 4,
 "nbformat_minor": 2
}
