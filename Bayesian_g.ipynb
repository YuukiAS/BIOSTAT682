{
 "cells": [
  {
   "cell_type": "code",
   "execution_count": 81,
   "source": [
    "library(tidyr)\n",
    "library(dplyr)\n",
    "library(corrplot)\n",
    "\n",
    "\n",
    "lifeData <- read.csv(\"C:/Code/BIOSTAT682/Life Expectancy_v6.csv\")\n",
    "\n",
    "dim(lifeData)\n",
    "head(lifeData)"
   ],
   "outputs": [
    {
     "output_type": "display_data",
     "data": {
      "text/html": [
       "<style>\n",
       ".list-inline {list-style: none; margin:0; padding: 0}\n",
       ".list-inline>li {display: inline-block}\n",
       ".list-inline>li:not(:last-child)::after {content: \"\\00b7\"; padding: 0 .5ex}\n",
       "</style>\n",
       "<ol class=list-inline><li>1619</li><li>19</li></ol>\n"
      ],
      "text/latex": [
       "\\begin{enumerate*}\n",
       "\\item 1619\n",
       "\\item 19\n",
       "\\end{enumerate*}\n"
      ],
      "text/markdown": [
       "1. 1619\n",
       "2. 19\n",
       "\n",
       "\n"
      ],
      "text/plain": [
       "[1] 1619   19"
      ]
     },
     "metadata": {}
    },
    {
     "output_type": "display_data",
     "data": {
      "text/html": [
       "<table class=\"dataframe\">\n",
       "<caption>A data.frame: 6 × 19</caption>\n",
       "<thead>\n",
       "\t<tr><th></th><th scope=col>Country</th><th scope=col>Year</th><th scope=col>Status</th><th scope=col>Life.expectancy</th><th scope=col>Adult.Mortality</th><th scope=col>Alcohol</th><th scope=col>Hepatitis.B</th><th scope=col>Measles</th><th scope=col>BMI</th><th scope=col>Polio</th><th scope=col>Total.expenditure</th><th scope=col>Diphtheria</th><th scope=col>HIV.AIDS</th><th scope=col>GDP</th><th scope=col>Population</th><th scope=col>thinness.1.19.years.</th><th scope=col>Income.composition.of.resources</th><th scope=col>Schooling</th><th scope=col>Continent</th></tr>\n",
       "\t<tr><th></th><th scope=col>&lt;chr&gt;</th><th scope=col>&lt;int&gt;</th><th scope=col>&lt;chr&gt;</th><th scope=col>&lt;dbl&gt;</th><th scope=col>&lt;int&gt;</th><th scope=col>&lt;dbl&gt;</th><th scope=col>&lt;int&gt;</th><th scope=col>&lt;int&gt;</th><th scope=col>&lt;dbl&gt;</th><th scope=col>&lt;int&gt;</th><th scope=col>&lt;dbl&gt;</th><th scope=col>&lt;int&gt;</th><th scope=col>&lt;dbl&gt;</th><th scope=col>&lt;dbl&gt;</th><th scope=col>&lt;dbl&gt;</th><th scope=col>&lt;dbl&gt;</th><th scope=col>&lt;dbl&gt;</th><th scope=col>&lt;dbl&gt;</th><th scope=col>&lt;chr&gt;</th></tr>\n",
       "</thead>\n",
       "<tbody>\n",
       "\t<tr><th scope=row>1</th><td>Afghanistan</td><td>2015</td><td>Developing</td><td>65.0</td><td>263</td><td>0.01</td><td>65</td><td>1154</td><td>19.1</td><td> 6</td><td>8.16</td><td>65</td><td>0.1</td><td>0.005842592</td><td>33736494</td><td>17.2</td><td>0.479</td><td>10.1</td><td>Asia</td></tr>\n",
       "\t<tr><th scope=row>2</th><td>Afghanistan</td><td>2014</td><td>Developing</td><td>59.9</td><td>271</td><td>0.01</td><td>62</td><td> 492</td><td>18.6</td><td>58</td><td>8.18</td><td>62</td><td>0.1</td><td>0.006126965</td><td>32758200</td><td>17.5</td><td>0.476</td><td>10.0</td><td>Asia</td></tr>\n",
       "\t<tr><th scope=row>3</th><td>Afghanistan</td><td>2013</td><td>Developing</td><td>59.9</td><td>268</td><td>0.01</td><td>64</td><td> 430</td><td>18.1</td><td>62</td><td>8.13</td><td>64</td><td>0.1</td><td>0.006317450</td><td>31731688</td><td>17.7</td><td>0.470</td><td> 9.9</td><td>Asia</td></tr>\n",
       "\t<tr><th scope=row>4</th><td>Afghanistan</td><td>2012</td><td>Developing</td><td>59.5</td><td>272</td><td>0.01</td><td>67</td><td>2787</td><td>17.6</td><td>67</td><td>8.52</td><td>67</td><td>0.1</td><td>0.006699590</td><td>36969580</td><td>17.9</td><td>0.463</td><td> 9.8</td><td>Asia</td></tr>\n",
       "\t<tr><th scope=row>5</th><td>Afghanistan</td><td>2011</td><td>Developing</td><td>59.2</td><td>275</td><td>0.01</td><td>68</td><td>3013</td><td>17.2</td><td>68</td><td>7.87</td><td>68</td><td>0.1</td><td>0.006353723</td><td>29785990</td><td>18.2</td><td>0.454</td><td> 9.5</td><td>Asia</td></tr>\n",
       "\t<tr><th scope=row>6</th><td>Afghanistan</td><td>2010</td><td>Developing</td><td>58.8</td><td>279</td><td>0.01</td><td>66</td><td>1989</td><td>16.7</td><td>66</td><td>9.20</td><td>66</td><td>0.1</td><td>0.005533289</td><td>28831670</td><td>18.4</td><td>0.448</td><td> 9.2</td><td>Asia</td></tr>\n",
       "</tbody>\n",
       "</table>\n"
      ],
      "text/latex": [
       "A data.frame: 6 × 19\n",
       "\\begin{tabular}{r|lllllllllllllllllll}\n",
       "  & Country & Year & Status & Life.expectancy & Adult.Mortality & Alcohol & Hepatitis.B & Measles & BMI & Polio & Total.expenditure & Diphtheria & HIV.AIDS & GDP & Population & thinness.1.19.years. & Income.composition.of.resources & Schooling & Continent\\\\\n",
       "  & <chr> & <int> & <chr> & <dbl> & <int> & <dbl> & <int> & <int> & <dbl> & <int> & <dbl> & <int> & <dbl> & <dbl> & <dbl> & <dbl> & <dbl> & <dbl> & <chr>\\\\\n",
       "\\hline\n",
       "\t1 & Afghanistan & 2015 & Developing & 65.0 & 263 & 0.01 & 65 & 1154 & 19.1 &  6 & 8.16 & 65 & 0.1 & 0.005842592 & 33736494 & 17.2 & 0.479 & 10.1 & Asia\\\\\n",
       "\t2 & Afghanistan & 2014 & Developing & 59.9 & 271 & 0.01 & 62 &  492 & 18.6 & 58 & 8.18 & 62 & 0.1 & 0.006126965 & 32758200 & 17.5 & 0.476 & 10.0 & Asia\\\\\n",
       "\t3 & Afghanistan & 2013 & Developing & 59.9 & 268 & 0.01 & 64 &  430 & 18.1 & 62 & 8.13 & 64 & 0.1 & 0.006317450 & 31731688 & 17.7 & 0.470 &  9.9 & Asia\\\\\n",
       "\t4 & Afghanistan & 2012 & Developing & 59.5 & 272 & 0.01 & 67 & 2787 & 17.6 & 67 & 8.52 & 67 & 0.1 & 0.006699590 & 36969580 & 17.9 & 0.463 &  9.8 & Asia\\\\\n",
       "\t5 & Afghanistan & 2011 & Developing & 59.2 & 275 & 0.01 & 68 & 3013 & 17.2 & 68 & 7.87 & 68 & 0.1 & 0.006353723 & 29785990 & 18.2 & 0.454 &  9.5 & Asia\\\\\n",
       "\t6 & Afghanistan & 2010 & Developing & 58.8 & 279 & 0.01 & 66 & 1989 & 16.7 & 66 & 9.20 & 66 & 0.1 & 0.005533289 & 28831670 & 18.4 & 0.448 &  9.2 & Asia\\\\\n",
       "\\end{tabular}\n"
      ],
      "text/markdown": [
       "\n",
       "A data.frame: 6 × 19\n",
       "\n",
       "| <!--/--> | Country &lt;chr&gt; | Year &lt;int&gt; | Status &lt;chr&gt; | Life.expectancy &lt;dbl&gt; | Adult.Mortality &lt;int&gt; | Alcohol &lt;dbl&gt; | Hepatitis.B &lt;int&gt; | Measles &lt;int&gt; | BMI &lt;dbl&gt; | Polio &lt;int&gt; | Total.expenditure &lt;dbl&gt; | Diphtheria &lt;int&gt; | HIV.AIDS &lt;dbl&gt; | GDP &lt;dbl&gt; | Population &lt;dbl&gt; | thinness.1.19.years. &lt;dbl&gt; | Income.composition.of.resources &lt;dbl&gt; | Schooling &lt;dbl&gt; | Continent &lt;chr&gt; |\n",
       "|---|---|---|---|---|---|---|---|---|---|---|---|---|---|---|---|---|---|---|---|\n",
       "| 1 | Afghanistan | 2015 | Developing | 65.0 | 263 | 0.01 | 65 | 1154 | 19.1 |  6 | 8.16 | 65 | 0.1 | 0.005842592 | 33736494 | 17.2 | 0.479 | 10.1 | Asia |\n",
       "| 2 | Afghanistan | 2014 | Developing | 59.9 | 271 | 0.01 | 62 |  492 | 18.6 | 58 | 8.18 | 62 | 0.1 | 0.006126965 | 32758200 | 17.5 | 0.476 | 10.0 | Asia |\n",
       "| 3 | Afghanistan | 2013 | Developing | 59.9 | 268 | 0.01 | 64 |  430 | 18.1 | 62 | 8.13 | 64 | 0.1 | 0.006317450 | 31731688 | 17.7 | 0.470 |  9.9 | Asia |\n",
       "| 4 | Afghanistan | 2012 | Developing | 59.5 | 272 | 0.01 | 67 | 2787 | 17.6 | 67 | 8.52 | 67 | 0.1 | 0.006699590 | 36969580 | 17.9 | 0.463 |  9.8 | Asia |\n",
       "| 5 | Afghanistan | 2011 | Developing | 59.2 | 275 | 0.01 | 68 | 3013 | 17.2 | 68 | 7.87 | 68 | 0.1 | 0.006353723 | 29785990 | 18.2 | 0.454 |  9.5 | Asia |\n",
       "| 6 | Afghanistan | 2010 | Developing | 58.8 | 279 | 0.01 | 66 | 1989 | 16.7 | 66 | 9.20 | 66 | 0.1 | 0.005533289 | 28831670 | 18.4 | 0.448 |  9.2 | Asia |\n",
       "\n"
      ],
      "text/plain": [
       "  Country     Year Status     Life.expectancy Adult.Mortality Alcohol\n",
       "1 Afghanistan 2015 Developing 65.0            263             0.01   \n",
       "2 Afghanistan 2014 Developing 59.9            271             0.01   \n",
       "3 Afghanistan 2013 Developing 59.9            268             0.01   \n",
       "4 Afghanistan 2012 Developing 59.5            272             0.01   \n",
       "5 Afghanistan 2011 Developing 59.2            275             0.01   \n",
       "6 Afghanistan 2010 Developing 58.8            279             0.01   \n",
       "  Hepatitis.B Measles BMI  Polio Total.expenditure Diphtheria HIV.AIDS\n",
       "1 65          1154    19.1  6    8.16              65         0.1     \n",
       "2 62           492    18.6 58    8.18              62         0.1     \n",
       "3 64           430    18.1 62    8.13              64         0.1     \n",
       "4 67          2787    17.6 67    8.52              67         0.1     \n",
       "5 68          3013    17.2 68    7.87              68         0.1     \n",
       "6 66          1989    16.7 66    9.20              66         0.1     \n",
       "  GDP         Population thinness.1.19.years. Income.composition.of.resources\n",
       "1 0.005842592 33736494   17.2                 0.479                          \n",
       "2 0.006126965 32758200   17.5                 0.476                          \n",
       "3 0.006317450 31731688   17.7                 0.470                          \n",
       "4 0.006699590 36969580   17.9                 0.463                          \n",
       "5 0.006353723 29785990   18.2                 0.454                          \n",
       "6 0.005533289 28831670   18.4                 0.448                          \n",
       "  Schooling Continent\n",
       "1 10.1      Asia     \n",
       "2 10.0      Asia     \n",
       "3  9.9      Asia     \n",
       "4  9.8      Asia     \n",
       "5  9.5      Asia     \n",
       "6  9.2      Asia     "
      ]
     },
     "metadata": {}
    }
   ],
   "metadata": {
    "vscode": {
     "languageId": "r"
    }
   }
  },
  {
   "cell_type": "code",
   "execution_count": 82,
   "source": [
    "lifeData_train <- lifeData %>% filter(Year < 2013)\n",
    "lifeData_test <- lifeData %>% filter(Year >= 2013)\n",
    "dim(lifeData_train)\n",
    "dim(lifeData_test)"
   ],
   "outputs": [
    {
     "output_type": "display_data",
     "data": {
      "text/html": [
       "<style>\n",
       ".list-inline {list-style: none; margin:0; padding: 0}\n",
       ".list-inline>li {display: inline-block}\n",
       ".list-inline>li:not(:last-child)::after {content: \"\\00b7\"; padding: 0 .5ex}\n",
       "</style>\n",
       "<ol class=list-inline><li>1364</li><li>19</li></ol>\n"
      ],
      "text/latex": [
       "\\begin{enumerate*}\n",
       "\\item 1364\n",
       "\\item 19\n",
       "\\end{enumerate*}\n"
      ],
      "text/markdown": [
       "1. 1364\n",
       "2. 19\n",
       "\n",
       "\n"
      ],
      "text/plain": [
       "[1] 1364   19"
      ]
     },
     "metadata": {}
    },
    {
     "output_type": "display_data",
     "data": {
      "text/html": [
       "<style>\n",
       ".list-inline {list-style: none; margin:0; padding: 0}\n",
       ".list-inline>li {display: inline-block}\n",
       ".list-inline>li:not(:last-child)::after {content: \"\\00b7\"; padding: 0 .5ex}\n",
       "</style>\n",
       "<ol class=list-inline><li>255</li><li>19</li></ol>\n"
      ],
      "text/latex": [
       "\\begin{enumerate*}\n",
       "\\item 255\n",
       "\\item 19\n",
       "\\end{enumerate*}\n"
      ],
      "text/markdown": [
       "1. 255\n",
       "2. 19\n",
       "\n",
       "\n"
      ],
      "text/plain": [
       "[1] 255  19"
      ]
     },
     "metadata": {}
    }
   ],
   "metadata": {
    "vscode": {
     "languageId": "r"
    }
   }
  },
  {
   "cell_type": "code",
   "execution_count": 83,
   "source": [
    "library(corrplot)\n",
    "\n",
    "lifeData_train.matrix <- as.matrix(lifeData_train)[,-(1:4)]\n",
    "lifeData_train.matrix <- apply(lifeData_train.matrix, 2, as.numeric)\n",
    "corrplot(cor(lifeData_train.matrix))"
   ],
   "outputs": [
    {
     "output_type": "stream",
     "name": "stderr",
     "text": [
      "Warning message in apply(lifeData_train.matrix, 2, as.numeric):\n",
      "\"NAs introduced by coercion\"\n"
     ]
    },
    {
     "output_type": "display_data",
     "data": {
      "image/png": "[encoded data removed]",
      "text/plain": [
       "Plot with title \"\""
      ]
     },
     "metadata": {
      "image/png": {
       "width": 420,
       "height": 420
      }
     }
    }
   ],
   "metadata": {}
  },
  {
   "cell_type": "code",
   "execution_count": 84,
   "source": [
    "library(R2jags)\n",
    "\n",
    "status = rep(0,nrow(lifeData_train))\n",
    "for (i in 1:nrow(lifeData_train)) {\n",
    "  status[i] = ifelse(lifeData_train$Status[i]==\"Developing\",1,2)\n",
    "}\n",
    "\n",
    "continent = as.numeric(as.factor(lifeData_train$Continent))\n",
    "mortality = lifeData_train$\"Adult.Mortality\"\n",
    "infant_deaths = lifeData_train$\"infant.deaths\"\n",
    "alcohol = lifeData_train$\"Alcohol\"\n",
    "percExp = lifeData_train$\"percentage.expenditure\"\n",
    "hepB = lifeData_train$\"Hepatitis.B\"\n",
    "measles = lifeData_train$\"Measles\" / 100\n",
    "BMI = lifeData_train$\"BMI\"\n",
    "under5Deaths = lifeData_train$\"under.five.deaths\"\n",
    "polio = lifeData_train$\"Polio\"\n",
    "totalExp = lifeData_train$\"Total.expenditure\"\n",
    "dipth = lifeData_train$\"Diphtheria\"\n",
    "hivaids = lifeData_train$\"HIV.AIDS\"\n",
    "gdp = lifeData_train$\"GDP\" \n",
    "pop = lifeData_train$\"Population\" / 10000000\n",
    "thin1019 = lifeData_train$\"thinness.1.19.years\"\n",
    "thin59 = lifeData_train$\"thinness.5.9.years\"\n",
    "incomeComp = lifeData_train$\"Income.composition.of.resources\"\n",
    "school = lifeData_train$\"Schooling\"\n",
    "y = lifeData_train$\"Life.expectancy\"\n",
    "N = length(lifeData_train$Country) #go through each point\n",
    "J = length(unique(lifeData_train$Country)) #go through each country\n",
    "\n",
    "# encode country\n",
    "indicesDict = c(unique(lifeData_train$Country))\n",
    "indices = rep(0,N)\n",
    "for (i in 1:N) {\n",
    "  indices[i] = which(indicesDict==lifeData_train$Country[i])\n",
    "}"
   ],
   "outputs": [],
   "metadata": {
    "vscode": {
     "languageId": "r"
    }
   }
  },
  {
   "cell_type": "code",
   "execution_count": 107,
   "source": [
    "lifeData_train$Country[104]\n",
    "indices[104]"
   ],
   "outputs": [
    {
     "output_type": "display_data",
     "data": {
      "text/html": [
       "'Bangladesh'"
      ],
      "text/latex": [
       "'Bangladesh'"
      ],
      "text/markdown": [
       "'Bangladesh'"
      ],
      "text/plain": [
       "[1] \"Bangladesh\""
      ]
     },
     "metadata": {}
    },
    {
     "output_type": "display_data",
     "data": {
      "text/html": [
       "10"
      ],
      "text/latex": [
       "10"
      ],
      "text/markdown": [
       "10"
      ],
      "text/plain": [
       "[1] 10"
      ]
     },
     "metadata": {}
    }
   ],
   "metadata": {}
  },
  {
   "cell_type": "markdown",
   "source": [
    "## Model using Country + Continent as encoding"
   ],
   "metadata": {}
  },
  {
   "cell_type": "code",
   "execution_count": 85,
   "source": [
    "X = cbind(mortality, alcohol, hepB, measles, BMI, polio,\n",
    "            totalExp, dipth, hivaids, gdp, pop, thin1019, incomeComp, school)\n",
    "XTX = t(X) %*% X\n",
    "g = 1\n",
    "\n",
    "save.parms.1 = c(\"alpha\", \"alphay\", \"beta\",\"betay\", \"sdev\")\n",
    "life_expectancy.data.1 = c(\"y\",\"mortality\",\"alcohol\", \n",
    "                            \"hepB\",\"measles\",\"BMI\",\"polio\",\"totalExp\",\n",
    "                            \"dipth\",\"hivaids\",\"gdp\",\"pop\",\"thin1019\",\n",
    "                            \"incomeComp\",\"school\",\"N\",\"J\",\"indices\", \"continent\",\n",
    "                            \"g\", \"XTX\")                         "
   ],
   "outputs": [],
   "metadata": {
    "vscode": {
     "languageId": "r"
    }
   }
  },
  {
   "cell_type": "code",
   "execution_count": 86,
   "source": [
    "life_expectancy.model.1 = function()\n",
    "{\n",
    "  for (i in 1:N) {\n",
    "     y[i] ~ dnorm(mu[i],tau) \n",
    "     mu[i] <- \n",
    "          alphay[indices[i]] # intercept\n",
    "          + betay[continent[i],1]*mortality[i] \n",
    "          + betay[continent[i],2]*alcohol[i] \n",
    "          + betay[continent[i],3]*hepB[i] \n",
    "          + betay[continent[i],4]*measles[i] \n",
    "          + betay[continent[i],5]*BMI[i] \n",
    "          + betay[continent[i],6]*polio[i] \n",
    "          + betay[continent[i],7]*totalExp[i] \n",
    "          + betay[continent[i],8]*dipth[i] \n",
    "          + betay[continent[i],9]*hivaids[i] \n",
    "          + betay[continent[i],10]*gdp[i] \n",
    "          + betay[continent[i],11]*pop[i] \n",
    "          + betay[continent[i],12]*thin1019[i] \n",
    "          + betay[continent[i],13]*incomeComp[i] \n",
    "          + betay[continent[i],14]*school[i] \n",
    "  }\n",
    "  alpha ~ dnorm(60, 1e-4)\n",
    "  for (j in 1:J) {\n",
    "    alphay[j] ~ dnorm(alpha, tau2)\n",
    "  }      \n",
    "\n",
    "  for (k in 1:14) {\n",
    "    beta[k] ~ dnorm(0,1e-6)\n",
    "  }\n",
    "  \n",
    "  for(j in 1:6) {\n",
    "      betay[j,1:14] ~ dmnorm(beta, XTX*tau2/g) \n",
    "  }\n",
    "  tau ~ dgamma(1e-6,1e-6)\n",
    "  tau2 ~ dgamma(1e-6,1e-6)\n",
    "\n",
    "  sdev <- sqrt(1/tau)\n",
    "}"
   ],
   "outputs": [],
   "metadata": {
    "vscode": {
     "languageId": "r"
    }
   }
  },
  {
   "cell_type": "code",
   "execution_count": 87,
   "source": [
    "life_expectancy.out.1 = jags(data=life_expectancy.data.1,parameters.to.save=save.parms.1,model.file=life_expectancy.model.1,\n",
    "                           n.chains=3,n.iter=20000,n.burnin=5000,n.thin=1)\n",
    "print(life_expectancy.out.1, digits = 6)"
   ],
   "outputs": [
    {
     "output_type": "stream",
     "name": "stdout",
     "text": [
      "Compiling model graph\n",
      "   Resolving undeclared variables\n",
      "   Allocating nodes\n",
      "Graph information:\n",
      "   Observed stochastic nodes: 1364\n",
      "   Unobserved stochastic nodes: 154\n",
      "   Total graph size: 34687\n",
      "\n",
      "Initializing model\n",
      "\n",
      "Inference for Bugs model at \"C:/Users/MINGCH~1/AppData/Local/Temp/Rtmpqw4iK9/model76455eb6868.txt\", fit using jags,\n",
      " 3 chains, each with 20000 iterations (first 5000 discarded)\n",
      " n.sims = 45000 iterations saved\n",
      "                mu.vect   sd.vect        2.5%         25%         50%\n",
      "alpha         56.758582  1.244445   54.122403   55.958721   56.764656\n",
      "alphay[1]     53.970666  1.468620   50.861561   53.036626   54.003765\n",
      "alphay[2]     58.499102  1.270444   55.912697   57.668728   58.507587\n",
      "alphay[3]     58.210910  1.420835   55.227798   57.305041   58.237189\n",
      "alphay[4]     47.090911  1.360188   44.309281   46.200786   47.122403\n",
      "alphay[5]     56.192631  1.462997   53.212107   55.213981   56.193098\n",
      "alphay[6]     58.775638  1.287257   56.132960   57.941257   58.795311\n",
      "alphay[7]     57.167866  1.606580   53.922852   56.087085   57.155147\n",
      "alphay[8]     60.964299  1.382975   58.220383   60.028181   60.935577\n",
      "alphay[9]     57.754835  1.255570   55.125180   56.943993   57.776392\n",
      "alphay[10]    61.496408  1.506120   58.407825   60.509619   61.516966\n",
      "alphay[11]    53.812532  1.495692   50.828124   52.808101   53.813410\n",
      "alphay[12]    57.196616  1.485062   54.196975   56.196860   57.164357\n",
      "alphay[13]    55.437354  1.333990   52.691655   54.562027   55.442686\n",
      "alphay[14]    51.857191  1.216740   49.250273   51.087800   51.882847\n",
      "alphay[15]    58.861725  1.553055   55.626621   57.849765   58.880292\n",
      "alphay[16]    60.105697  1.346262   57.349546   59.212778   60.117088\n",
      "alphay[17]    52.078634  1.539668   48.762791   51.098428   52.092274\n",
      "alphay[18]    57.231805  1.413084   54.346627   56.297835   57.253653\n",
      "alphay[19]    55.841307  1.430901   52.985330   54.885610   55.844809\n",
      "alphay[20]    53.676414  1.319370   51.027708   52.806130   53.687033\n",
      "alphay[21]    52.550855  1.325360   49.827057   51.695888   52.558849\n",
      "alphay[22]    60.215269  1.318580   57.491089   59.355964   60.216660\n",
      "alphay[23]    57.619609  1.365070   54.762644   56.733720   57.639721\n",
      "alphay[24]    51.029165  1.310363   48.283938   50.182100   51.056137\n",
      "alphay[25]    60.374817  1.539303   57.300561   59.350825   60.351562\n",
      "alphay[26]    52.227257  1.334416   49.450156   51.369272   52.261854\n",
      "alphay[27]    53.000620  1.225631   50.461203   52.216542   53.030529\n",
      "alphay[28]    60.162541  1.454466   57.237533   59.180547   60.178556\n",
      "alphay[29]    61.597365  1.384273   58.824679   60.673627   61.593330\n",
      "alphay[30]    58.506882  1.279518   55.873451   57.667849   58.532268\n",
      "alphay[31]    54.883700  1.249557   52.192711   54.088510   54.907060\n",
      "alphay[32]    62.425895  1.294291   59.787581   61.572954   62.427470\n",
      "alphay[33]    56.809531  1.483754   53.872582   55.799446   56.806846\n",
      "alphay[34]    59.413036  1.370380   56.713067   58.488358   59.392659\n",
      "alphay[35]    58.142972  1.314655   55.431789   57.297642   58.173368\n",
      "alphay[36]    58.286343  1.304153   55.592209   57.428786   58.304884\n",
      "alphay[37]    59.538106  1.285815   56.871690   58.703692   59.545198\n",
      "alphay[38]    57.517420  1.337308   54.720094   56.654065   57.542828\n",
      "alphay[39]    59.148785  1.285467   56.483769   58.323508   59.166932\n",
      "alphay[40]    55.638053  1.514128   52.616241   54.617268   55.623193\n",
      "alphay[41]    57.671385  1.156873   55.258967   56.912325   57.699795\n",
      "alphay[42]    53.329288  1.489499   50.177045   52.374911   53.361244\n",
      "alphay[43]    61.135106  1.501457   58.153753   60.122096   61.112120\n",
      "alphay[44]    53.931546  1.323496   51.230997   53.050298   53.937905\n",
      "alphay[45]    58.800935  1.295603   56.153832   57.940214   58.812763\n",
      "alphay[46]    59.055174  1.465467   56.129099   58.056501   59.043628\n",
      "alphay[47]    55.067179  1.279355   52.342854   54.262428   55.084695\n",
      "alphay[48]    59.888633  1.423188   57.010710   58.933529   59.876000\n",
      "alphay[49]    61.214701  1.277256   58.603478   60.384029   61.226931\n",
      "alphay[50]    54.229640  1.237910   51.584398   53.435443   54.267533\n",
      "alphay[51]    52.178123  1.388050   49.313781   51.275850   52.191751\n",
      "alphay[52]    54.596418  1.348071   51.878542   53.713196   54.603357\n",
      "alphay[53]    60.363426  1.261777   57.773972   59.544596   60.375190\n",
      "alphay[54]    57.854993  2.977990   52.005599   55.861123   57.834770\n",
      "alphay[55]    57.288740  1.236677   54.680541   56.513378   57.323887\n",
      "alphay[56]    58.649585  1.352279   55.810710   57.796823   58.701592\n",
      "alphay[57]    60.629439  1.710162   57.266241   59.466035   60.612912\n",
      "alphay[58]    60.233634  1.442809   57.243690   59.271590   60.243969\n",
      "alphay[59]    60.936357  1.415561   58.094597   59.990571   60.932950\n",
      "alphay[60]    59.687188  1.328580   56.978979   58.821440   59.693056\n",
      "alphay[61]    56.197587  1.460496   53.167206   55.245866   56.229306\n",
      "alphay[62]    52.151289  1.426734   49.202909   51.223293   52.166795\n",
      "alphay[63]    53.622811  1.302419   50.792197   52.804844   53.643489\n",
      "alphay[64]    49.986128  1.452169   47.006624   49.041748   50.015310\n",
      "alphay[65]    56.722985  1.495872   53.663545   55.733530   56.722323\n",
      "alphay[66]    57.695915  1.423668   54.730232   56.759983   57.732758\n",
      "alphay[67]    50.874692  1.572745   47.488343   49.881349   50.910509\n",
      "alphay[68]    55.458095  1.387958   52.610759   54.548267   55.472047\n",
      "alphay[69]    55.077154  1.532307   51.979179   54.057233   55.080498\n",
      "alphay[70]    58.056823  1.468144   55.165903   57.055906   58.034904\n",
      "alphay[71]    56.914805  1.218207   54.309929   56.141163   56.938703\n",
      "alphay[72]    51.573391  1.473962   48.394159   50.645591   51.607221\n",
      "alphay[73]    59.975884  1.371626   57.073931   59.089717   59.981958\n",
      "alphay[74]    62.793331  1.463005   59.833756   61.818222   62.793955\n",
      "alphay[75]    51.963826  1.186855   49.480288   51.204209   51.991779\n",
      "alphay[76]    60.892657  1.391137   58.091236   59.951537   60.899873\n",
      "alphay[77]    56.607371  1.207019   54.082917   55.826259   56.633547\n",
      "alphay[78]    59.016872  1.377796   56.100458   58.117258   59.018280\n",
      "alphay[79]    59.214217  1.341526   56.475114   58.343788   59.235825\n",
      "alphay[80]    53.246476  1.363383   50.395544   52.377458   53.267932\n",
      "alphay[81]    57.202314  1.442102   54.263095   56.239877   57.218286\n",
      "alphay[82]    58.358514  1.341173   55.572962   57.515585   58.387759\n",
      "alphay[83]    54.043515  1.202605   51.457761   53.285323   54.069226\n",
      "alphay[84]    56.362550  1.308258   53.666337   55.513794   56.385184\n",
      "alphay[85]    55.843413  1.524493   52.750501   54.840121   55.862944\n",
      "alphay[86]    58.385876  1.472009   55.284883   57.430821   58.393331\n",
      "alphay[87]    57.064670  1.852399   53.405590   55.823894   57.054922\n",
      "alphay[88]    60.458110  1.264704   57.838743   59.645225   60.477275\n",
      "alphay[89]    56.572066  1.191331   54.174316   55.788140   56.588033\n",
      "alphay[90]    50.978506  1.365745   48.174016   50.075166   51.013936\n",
      "alphay[91]    57.943975  1.525373   54.808130   56.954705   57.984052\n",
      "alphay[92]    60.612683  1.318884   57.946311   59.744418   60.624365\n",
      "alphay[93]    54.565374  1.198216   52.042704   53.805047   54.602111\n",
      "alphay[94]    58.919293  1.289212   56.280781   58.072233   58.930577\n",
      "alphay[95]    58.000805  1.318057   55.287516   57.138460   58.014398\n",
      "alphay[96]    57.684192  1.180127   55.210758   56.923569   57.691452\n",
      "alphay[97]    57.258763  1.428636   54.346868   56.306080   57.257659\n",
      "alphay[98]    58.780475  1.413546   55.990456   57.818892   58.756006\n",
      "alphay[99]    57.543426  1.410977   54.711794   56.609826   57.546972\n",
      "alphay[100]   52.359591  1.517403   49.276680   51.357775   52.380074\n",
      "alphay[101]   55.031111  1.318119   52.333796   54.177593   55.045770\n",
      "alphay[102]   58.087966  1.347296   55.344933   57.197388   58.127886\n",
      "alphay[103]   56.133432  1.319403   53.424961   55.278159   56.129225\n",
      "alphay[104]   57.433060  1.321663   54.665580   56.581441   57.453795\n",
      "alphay[105]   57.490302  1.419601   54.637366   56.542893   57.486742\n",
      "alphay[106]   59.018211  1.359022   56.233197   58.119888   59.013775\n",
      "alphay[107]   46.320760  1.472851   43.258247   45.375254   46.349392\n",
      "alphay[108]   57.500255  1.235900   54.942607   56.722783   57.518914\n",
      "alphay[109]   52.840408  1.527106   49.653361   51.819650   52.878740\n",
      "alphay[110]   60.725472  1.434284   57.858501   59.760065   60.708568\n",
      "alphay[111]   61.142760  1.567318   57.862708   60.124427   61.147952\n",
      "alphay[112]   56.749852  1.368785   53.927631   55.852979   56.773554\n",
      "alphay[113]   54.270291  1.455172   51.284051   53.322971   54.273313\n",
      "alphay[114]   58.976494  1.792573   55.459991   57.767523   58.970874\n",
      "alphay[115]   60.528469  1.339522   57.771143   59.660086   60.564267\n",
      "alphay[116]   55.446252  1.235375   52.849400   54.654005   55.462757\n",
      "alphay[117]   60.911715  1.344530   58.124421   60.023144   60.913373\n",
      "alphay[118]   56.803724  1.437218   53.787819   55.878334   56.832127\n",
      "alphay[119]   52.500103  1.412375   49.510065   51.593279   52.533817\n",
      "alphay[120]   54.864545  1.453160   51.867618   53.921234   54.904115\n",
      "alphay[121]   57.793542  1.362969   54.982421   56.895681   57.794938\n",
      "alphay[122]   55.853638  1.408490   52.976791   54.928531   55.877578\n",
      "alphay[123]   57.819934  1.392294   54.907649   56.933640   57.857462\n",
      "alphay[124]   53.937248  1.342803   51.163041   53.065795   53.953758\n",
      "alphay[125]   53.505927  1.349206   50.728248   52.622236   53.528612\n",
      "alphay[126]   54.507454  1.462156   51.473971   53.548966   54.519687\n",
      "alphay[127]   57.788193  1.424943   54.881782   56.832574   57.796932\n",
      "alphay[128]   55.405311  1.315924   52.659455   54.566042   55.421845\n",
      "alphay[129]   59.903236  1.153551   57.500998   59.157154   59.918870\n",
      "alphay[130]   53.547039  1.410369   50.477947   52.641303   53.579050\n",
      "alphay[131]   53.344487  1.469735   50.199466   52.416327   53.374251\n",
      "beta[1]       -0.016573  0.001761   -0.020081   -0.017725   -0.016600\n",
      "beta[2]        0.010100  0.048190   -0.083169   -0.023105    0.010076\n",
      "beta[3]        0.006783  0.005799   -0.004877    0.002853    0.007012\n",
      "beta[4]       -0.000668  0.000884   -0.002389   -0.001270   -0.000670\n",
      "beta[5]        0.096606  0.014408    0.068220    0.086865    0.096351\n",
      "beta[6]        0.002590  0.018016   -0.036657   -0.008985    0.004097\n",
      "beta[7]       -0.065683  0.037682   -0.140910   -0.090971   -0.064867\n",
      "beta[8]        0.027494  0.018060   -0.008099    0.014434    0.027372\n",
      "beta[9]       -0.237852  0.028071   -0.293734   -0.256737   -0.237165\n",
      "beta[10]       6.113650  1.179506    3.819711    5.303020    6.109779\n",
      "beta[11]       0.011216  0.025046   -0.038132   -0.005054    0.011099\n",
      "beta[12]      -0.025748  0.045930   -0.114194   -0.058037   -0.025770\n",
      "beta[13]       2.147698  0.715855    0.692850    1.684450    2.159390\n",
      "beta[14]       0.616603  0.068462    0.482510    0.571372    0.616772\n",
      "betay[1,1]    -0.019414  0.001646   -0.022620   -0.020520   -0.019426\n",
      "betay[2,1]    -0.016667  0.001985   -0.020482   -0.018010   -0.016691\n",
      "betay[3,1]    -0.016165  0.002016   -0.020123   -0.017514   -0.016188\n",
      "betay[4,1]    -0.014299  0.002132   -0.018488   -0.015730   -0.014314\n",
      "betay[5,1]    -0.017350  0.002075   -0.021366   -0.018762   -0.017371\n",
      "betay[6,1]    -0.015520  0.002096   -0.019563   -0.016927   -0.015535\n",
      "betay[1,2]     0.004236  0.051408   -0.096658   -0.030484    0.004216\n",
      "betay[2,2]     0.009186  0.055363   -0.099769   -0.028187    0.009146\n",
      "betay[3,2]     0.012868  0.048336   -0.082159   -0.019874    0.012829\n",
      "betay[4,2]     0.002979  0.057588   -0.109467   -0.035718    0.002660\n",
      "betay[5,2]     0.008171  0.058093   -0.104127   -0.031145    0.008167\n",
      "betay[6,2]     0.023714  0.057374   -0.088547   -0.015058    0.024037\n",
      "betay[1,3]     0.004601  0.006583   -0.008170    0.000161    0.004586\n",
      "betay[2,3]     0.008856  0.005962   -0.002886    0.004835    0.008899\n",
      "betay[3,3]     0.004163  0.006274   -0.008150   -0.000065    0.004213\n",
      "betay[4,3]     0.006354  0.008028   -0.009530    0.000929    0.006394\n",
      "betay[5,3]     0.008673  0.008820   -0.008562    0.002662    0.008612\n",
      "betay[6,3]     0.007994  0.008481   -0.008534    0.002245    0.007990\n",
      "betay[1,4]    -0.001285  0.000762   -0.002779   -0.001801   -0.001286\n",
      "betay[2,4]     0.000302  0.000850   -0.001355   -0.000268    0.000296\n",
      "betay[3,4]    -0.000955  0.001191   -0.003293   -0.001754   -0.000955\n",
      "betay[4,4]    -0.000863  0.001293   -0.003400   -0.001739   -0.000863\n",
      "betay[5,4]    -0.000493  0.001261   -0.002952   -0.001341   -0.000498\n",
      "betay[6,4]    -0.000712  0.001279   -0.003198   -0.001572   -0.000716\n",
      "betay[1,5]     0.087809  0.015383    0.058232    0.077282    0.087624\n",
      "betay[2,5]     0.095291  0.016541    0.063071    0.084086    0.095145\n",
      "betay[3,5]     0.107146  0.016659    0.074509    0.095863    0.106931\n",
      "betay[4,5]     0.096496  0.016880    0.063647    0.085076    0.096411\n",
      "betay[5,5]     0.096816  0.017284    0.063350    0.085160    0.096649\n",
      "betay[6,5]     0.095907  0.017071    0.062782    0.084399    0.095785\n",
      "betay[1,6]     0.000316  0.020975   -0.041572   -0.013718    0.000617\n",
      "betay[2,6]     0.006621  0.023482   -0.040512   -0.009045    0.007109\n",
      "betay[3,6]     0.003945  0.026634   -0.049674   -0.013817    0.004399\n",
      "betay[4,6]    -0.007825  0.024942   -0.057676   -0.024529   -0.007320\n",
      "betay[5,6]     0.010755  0.019426   -0.027458   -0.002416    0.010913\n",
      "betay[6,6]     0.002297  0.021283   -0.040209   -0.011823    0.002628\n",
      "betay[1,7]    -0.055610  0.044699   -0.143246   -0.085645   -0.055681\n",
      "betay[2,7]    -0.047237  0.050794   -0.147344   -0.081378   -0.047027\n",
      "betay[3,7]    -0.110100  0.035460   -0.179471   -0.134190   -0.109831\n",
      "betay[4,7]    -0.070973  0.052001   -0.172914   -0.105841   -0.071108\n",
      "betay[5,7]    -0.054398  0.053831   -0.160474   -0.090691   -0.054162\n",
      "betay[6,7]    -0.055017  0.047989   -0.148086   -0.087633   -0.055124\n",
      "betay[1,8]     0.037018  0.021442   -0.004753    0.022483    0.037055\n",
      "betay[2,8]     0.021364  0.023660   -0.024775    0.005416    0.021294\n",
      "betay[3,8]     0.026636  0.026067   -0.024530    0.009017    0.026629\n",
      "betay[4,8]     0.032540  0.025389   -0.017427    0.015408    0.032527\n",
      "betay[5,8]     0.019718  0.015490   -0.010853    0.009256    0.019731\n",
      "betay[6,8]     0.027115  0.022117   -0.016655    0.012231    0.027179\n",
      "betay[1,9]    -0.195672  0.021556   -0.239017   -0.209965   -0.195408\n",
      "betay[2,9]    -0.240322  0.034383   -0.308989   -0.263216   -0.239784\n",
      "betay[3,9]    -0.240392  0.034574   -0.309131   -0.263513   -0.239978\n",
      "betay[4,9]    -0.268085  0.035335   -0.338489   -0.291654   -0.267391\n",
      "betay[5,9]    -0.227874  0.035170   -0.297668   -0.251529   -0.227434\n",
      "betay[6,9]    -0.254972  0.035035   -0.325015   -0.278348   -0.254451\n",
      "betay[1,10]    5.441128  1.505357    2.488056    4.423727    5.443556\n",
      "betay[2,10]    6.259104  1.502314    3.318664    5.245226    6.259643\n",
      "betay[3,10]    6.319792  0.924076    4.537062    5.696704    6.313053\n",
      "betay[4,10]    6.312436  1.488929    3.399794    5.306509    6.315447\n",
      "betay[5,10]    6.123458  1.478887    3.178520    5.140647    6.123378\n",
      "betay[6,10]    6.230462  1.417315    3.428566    5.280691    6.230230\n",
      "betay[1,11]    0.015476  0.026621   -0.036866   -0.002030    0.015415\n",
      "betay[2,11]    0.007622  0.024050   -0.039714   -0.008156    0.007679\n",
      "betay[3,11]    0.008069  0.027025   -0.045328   -0.009668    0.008033\n",
      "betay[4,11]    0.010848  0.026470   -0.041156   -0.006607    0.010582\n",
      "betay[5,11]    0.012103  0.027192   -0.041528   -0.005844    0.012050\n",
      "betay[6,11]    0.012996  0.027195   -0.040957   -0.004787    0.013094\n",
      "betay[1,12]   -0.028043  0.043980   -0.112710   -0.058421   -0.028148\n",
      "betay[2,12]   -0.019571  0.048351   -0.112829   -0.052702   -0.020142\n",
      "betay[3,12]   -0.008327  0.053341   -0.110853   -0.045040   -0.008562\n",
      "betay[4,12]   -0.039712  0.053313   -0.142239   -0.076088   -0.040213\n",
      "betay[5,12]   -0.024096  0.053595   -0.127917   -0.060758   -0.024193\n",
      "betay[6,12]   -0.034635  0.053706   -0.137817   -0.071620   -0.034631\n",
      "betay[1,13]    2.484208  0.902871    0.701698    1.878209    2.490573\n",
      "betay[2,13]    1.928211  0.846815    0.238890    1.368021    1.935649\n",
      "betay[3,13]    2.236570  0.954554    0.347069    1.599206    2.249037\n",
      "betay[4,13]    2.611277  1.082797    0.469750    1.882619    2.619814\n",
      "betay[5,13]    2.002136  0.823095    0.357964    1.450354    2.008112\n",
      "betay[6,13]    1.667016  0.821551    0.043376    1.116746    1.671536\n",
      "betay[1,14]    0.628039  0.079570    0.474294    0.573658    0.627515\n",
      "betay[2,14]    0.622927  0.084725    0.458358    0.565956    0.622413\n",
      "betay[3,14]    0.599312  0.083632    0.435266    0.542774    0.599072\n",
      "betay[4,14]    0.616428  0.090484    0.440953    0.554790    0.615664\n",
      "betay[5,14]    0.612720  0.090102    0.437289    0.552174    0.612268\n",
      "betay[6,14]    0.617905  0.088558    0.446805    0.557708    0.617758\n",
      "sdev           1.598813  0.033575    1.534614    1.576017    1.598258\n",
      "deviance    5151.239644 23.529314 5107.251675 5135.069712 5150.559163\n",
      "                    75%       97.5%     Rhat n.eff\n",
      "alpha         57.630889   59.048457 1.081927    37\n",
      "alphay[1]     54.981155   56.686062 1.038264    79\n",
      "alphay[2]     59.361237   60.895153 1.086778    33\n",
      "alphay[3]     59.180551   60.885486 1.072713    41\n",
      "alphay[4]     48.027807   49.622738 1.048274    61\n",
      "alphay[5]     57.211055   58.928226 1.070296    42\n",
      "alphay[6]     59.651600   61.190257 1.088543    32\n",
      "alphay[7]     58.300902   60.189675 1.052602    57\n",
      "alphay[8]     61.927805   63.602801 1.062626    47\n",
      "alphay[9]     58.604951   60.140978 1.076423    37\n",
      "alphay[10]    62.550786   64.304045 1.050156    60\n",
      "alphay[11]    54.870180   56.602822 1.079644    37\n",
      "alphay[12]    58.243541   59.996898 1.074482    39\n",
      "alphay[13]    56.364393   57.903832 1.076739    38\n",
      "alphay[14]    52.699800   54.084471 1.057646    52\n",
      "alphay[15]    59.934335   61.763206 1.052661    57\n",
      "alphay[16]    61.027388   62.647745 1.077136    37\n",
      "alphay[17]    53.151783   54.881641 1.063656    47\n",
      "alphay[18]    58.195025   59.931545 1.076496    37\n",
      "alphay[19]    56.835168   58.536232 1.094365    31\n",
      "alphay[20]    54.584840   56.166663 1.060404    45\n",
      "alphay[21]    53.459438   55.038004 1.050045    58\n",
      "alphay[22]    61.144972   62.631881 1.051747    59\n",
      "alphay[23]    58.569678   60.143173 1.040090    76\n",
      "alphay[24]    51.938047   53.442917 1.056831    52\n",
      "alphay[25]    61.429149   63.336422 1.068193    40\n",
      "alphay[26]    53.132340   54.735197 1.032732    85\n",
      "alphay[27]    53.840826   55.304596 1.038961    70\n",
      "alphay[28]    61.174194   62.896579 1.070020    41\n",
      "alphay[29]    62.560219   64.201716 1.044425    63\n",
      "alphay[30]    59.375759   60.917589 1.088570    33\n",
      "alphay[31]    55.746638   57.190847 1.049493    61\n",
      "alphay[32]    63.314929   64.865343 1.074183    39\n",
      "alphay[33]    57.841148   59.662944 1.074870    37\n",
      "alphay[34]    60.364712   62.033225 1.083143    34\n",
      "alphay[35]    59.026673   60.652188 1.074663    37\n",
      "alphay[36]    59.190146   60.730277 1.071638    43\n",
      "alphay[37]    60.429754   61.924625 1.073002    40\n",
      "alphay[38]    58.424843   60.024068 1.077836    37\n",
      "alphay[39]    60.025033   61.571939 1.062475    45\n",
      "alphay[40]    56.703653   58.493154 1.068964    43\n",
      "alphay[41]    58.460955   59.830880 1.047593    57\n",
      "alphay[42]    54.345914   56.099821 1.078841    38\n",
      "alphay[43]    62.159612   64.021730 1.076835    36\n",
      "alphay[44]    54.871012   56.377424 1.047954    65\n",
      "alphay[45]    59.698929   61.234003 1.076002    39\n",
      "alphay[46]    60.076087   61.844219 1.069881    41\n",
      "alphay[47]    55.952354   57.405838 1.058274    51\n",
      "alphay[48]    60.876033   62.567800 1.079922    36\n",
      "alphay[49]    62.070597   63.665443 1.074434    37\n",
      "alphay[50]    55.075046   56.518097 1.035493    85\n",
      "alphay[51]    53.126063   54.813817 1.041541    67\n",
      "alphay[52]    55.531734   57.094448 1.077972    38\n",
      "alphay[53]    61.210236   62.763483 1.081587    35\n",
      "alphay[54]    59.873328   63.636648 1.013185   170\n",
      "alphay[55]    58.116952   59.610322 1.040230    69\n",
      "alphay[56]    59.557784   61.198010 1.080907    36\n",
      "alphay[57]    61.810315   63.926353 1.050437    54\n",
      "alphay[58]    61.246990   62.924413 1.064883    44\n",
      "alphay[59]    61.911351   63.620738 1.077898    37\n",
      "alphay[60]    60.599892   62.183531 1.077838    37\n",
      "alphay[61]    57.191326   58.977560 1.078052    37\n",
      "alphay[62]    53.152776   54.775094 1.074538    39\n",
      "alphay[63]    54.538964   55.988767 1.049290    62\n",
      "alphay[64]    50.957906   52.784397 1.096066    29\n",
      "alphay[65]    57.771850   59.507645 1.075168    40\n",
      "alphay[66]    58.682846   60.367070 1.070664    43\n",
      "alphay[67]    51.956882   53.768998 1.055280    54\n",
      "alphay[68]    56.403196   58.092034 1.045482    61\n",
      "alphay[69]    56.152754   57.929055 1.074346    40\n",
      "alphay[70]    59.076961   60.854862 1.073129    37\n",
      "alphay[71]    57.761355   59.149007 1.044885    68\n",
      "alphay[72]    52.588983   54.281571 1.049457    59\n",
      "alphay[73]    60.931779   62.504769 1.056854    55\n",
      "alphay[74]    63.833564   65.505648 1.042481    73\n",
      "alphay[75]    52.765877   54.180524 1.058264    49\n",
      "alphay[76]    61.842106   63.539221 1.081656    35\n",
      "alphay[77]    57.433151   58.866477 1.051750    56\n",
      "alphay[78]    59.999711   61.524087 1.054449    57\n",
      "alphay[79]    60.113644   61.772372 1.098059    29\n",
      "alphay[80]    54.175351   55.780057 1.070492    41\n",
      "alphay[81]    58.201342   59.920792 1.071228    41\n",
      "alphay[82]    59.243696   60.941963 1.091652    32\n",
      "alphay[83]    54.867684   56.251883 1.045006    64\n",
      "alphay[84]    57.263687   58.801807 1.063818    46\n",
      "alphay[85]    56.892403   58.719923 1.042214    66\n",
      "alphay[86]    59.419535   61.100079 1.043676    72\n",
      "alphay[87]    58.325689   60.687276 1.043075    60\n",
      "alphay[88]    61.307460   62.848396 1.086656    33\n",
      "alphay[89]    57.392750   58.830991 1.030142    85\n",
      "alphay[90]    51.922464   53.542618 1.048513    58\n",
      "alphay[91]    59.002373   60.772896 1.053891    56\n",
      "alphay[92]    61.520855   63.098743 1.079815    36\n",
      "alphay[93]    55.377648   56.814238 1.070824    39\n",
      "alphay[94]    59.820202   61.307880 1.067512    43\n",
      "alphay[95]    58.913521   60.452965 1.069799    42\n",
      "alphay[96]    58.499271   59.892969 1.042626    67\n",
      "alphay[97]    58.262214   59.931788 1.075742    40\n",
      "alphay[98]    59.781015   61.458617 1.070793    41\n",
      "alphay[99]    58.517252   60.173605 1.082597    36\n",
      "alphay[100]   53.391264   55.243940 1.082214    35\n",
      "alphay[101]   55.948284   57.485619 1.053400    55\n",
      "alphay[102]   59.018704   60.631244 1.080270    35\n",
      "alphay[103]   57.049811   58.586327 1.059319    49\n",
      "alphay[104]   58.343138   59.896536 1.051826    58\n",
      "alphay[105]   58.468464   60.183559 1.082968    34\n",
      "alphay[106]   59.999196   61.500106 1.060043    49\n",
      "alphay[107]   47.326962   49.095470 1.039703    70\n",
      "alphay[108]   58.311409   59.901200 1.093740    29\n",
      "alphay[109]   53.912212   55.652239 1.062426    50\n",
      "alphay[110]   61.716455   63.450182 1.079578    36\n",
      "alphay[111]   62.246347   64.040847 1.040062    82\n",
      "alphay[112]   57.684956   59.325190 1.078116    37\n",
      "alphay[113]   55.293351   56.974203 1.053058    53\n",
      "alphay[114]   60.202250   62.455726 1.043011    58\n",
      "alphay[115]   61.428203   63.089561 1.087284    32\n",
      "alphay[116]   56.289087   57.766260 1.060886    47\n",
      "alphay[117]   61.879009   63.374322 1.054003    56\n",
      "alphay[118]   57.795507   59.478461 1.028510   120\n",
      "alphay[119]   53.465617   55.127267 1.034946    87\n",
      "alphay[120]   55.852500   57.606755 1.086786    33\n",
      "alphay[121]   58.745669   60.315286 1.067298    44\n",
      "alphay[122]   56.818535   58.514423 1.071192    42\n",
      "alphay[123]   58.742313   60.485825 1.090051    33\n",
      "alphay[124]   54.847199   56.491222 1.074061    37\n",
      "alphay[125]   54.438769   56.044546 1.038016    78\n",
      "alphay[126]   55.518660   57.265920 1.081754    36\n",
      "alphay[127]   58.774992   60.462241 1.076832    38\n",
      "alphay[128]   56.304365   57.863581 1.069546    41\n",
      "alphay[129]   60.691643   62.065379 1.071036    40\n",
      "alphay[130]   54.529789   56.115145 1.040712    76\n",
      "alphay[131]   54.355456   56.045743 1.056721    52\n",
      "beta[1]       -0.015392   -0.013135 1.015099   140\n",
      "beta[2]        0.043112    0.102754 1.009836   350\n",
      "beta[3]        0.010747    0.017678 1.030532    71\n",
      "beta[4]       -0.000071    0.001069 1.002705  1200\n",
      "beta[5]        0.105889    0.126593 1.086742    29\n",
      "beta[6]        0.016190    0.032174 1.284507    11\n",
      "beta[7]       -0.039981    0.007630 1.001477  3900\n",
      "beta[8]        0.040484    0.062829 1.094122    28\n",
      "beta[9]       -0.218792   -0.183156 1.006150   390\n",
      "beta[10]       6.922950    8.402954 1.001717  2700\n",
      "beta[11]       0.027628    0.060469 1.001759  2500\n",
      "beta[12]       0.004710    0.064576 1.010637   230\n",
      "beta[13]       2.633021    3.512948 1.010373   450\n",
      "beta[14]       0.661473    0.755684 1.035960    73\n",
      "betay[1,1]    -0.018326   -0.016121 1.014996   140\n",
      "betay[2,1]    -0.015351   -0.012716 1.012140   180\n",
      "betay[3,1]    -0.014831   -0.012130 1.011452   190\n",
      "betay[4,1]    -0.012878   -0.010082 1.010336   220\n",
      "betay[5,1]    -0.015968   -0.013213 1.009909   230\n",
      "betay[6,1]    -0.014129   -0.011350 1.010766   210\n",
      "betay[1,2]     0.039170    0.104265 1.005058   680\n",
      "betay[2,2]     0.047104    0.117140 1.005606   490\n",
      "betay[3,2]     0.045402    0.107382 1.005493   580\n",
      "betay[4,2]     0.042106    0.116003 1.006028   520\n",
      "betay[5,2]     0.047444    0.121697 1.006247   490\n",
      "betay[6,2]     0.062294    0.135914 1.005156   700\n",
      "betay[1,3]     0.009052    0.017496 1.009588   230\n",
      "betay[2,3]     0.012872    0.020500 1.011016   200\n",
      "betay[3,3]     0.008347    0.016438 1.009013   250\n",
      "betay[4,3]     0.011795    0.021980 1.011159   200\n",
      "betay[5,3]     0.014643    0.025943 1.016521   130\n",
      "betay[6,3]     0.013764    0.024502 1.012574   170\n",
      "betay[1,4]    -0.000762    0.000200 1.004219   620\n",
      "betay[2,4]     0.000872    0.001975 1.001992  2000\n",
      "betay[3,4]    -0.000149    0.001367 1.001632  3000\n",
      "betay[4,4]     0.000012    0.001653 1.001539  3500\n",
      "betay[5,4]     0.000349    0.002013 1.001609  3100\n",
      "betay[6,4]     0.000146    0.001806 1.001911  2100\n",
      "betay[1,5]     0.098091    0.118303 1.053328    43\n",
      "betay[2,5]     0.106314    0.128254 1.055909    42\n",
      "betay[3,5]     0.118234    0.140361 1.054329    43\n",
      "betay[4,5]     0.107678    0.130318 1.056388    41\n",
      "betay[5,5]     0.108407    0.131167 1.056635    41\n",
      "betay[6,5]     0.107259    0.130283 1.058553    40\n",
      "betay[1,6]     0.014681    0.040513 1.069640    34\n",
      "betay[2,6]     0.022556    0.051411 1.074933    32\n",
      "betay[3,6]     0.022049    0.054941 1.079037    30\n",
      "betay[4,6]     0.009113    0.039602 1.080256    30\n",
      "betay[5,6]     0.023993    0.048710 1.086867    28\n",
      "betay[6,6]     0.016733    0.042989 1.066627    35\n",
      "betay[1,7]    -0.025605    0.031901 1.001276  6400\n",
      "betay[2,7]    -0.012763    0.051441 1.001370  5000\n",
      "betay[3,7]    -0.086039   -0.041278 1.001767  2500\n",
      "betay[4,7]    -0.035969    0.031529 1.001403  4600\n",
      "betay[5,7]    -0.018275    0.050823 1.001248  7100\n",
      "betay[6,7]    -0.022718    0.038988 1.001220  7900\n",
      "betay[1,8]     0.051549    0.079091 1.019712   110\n",
      "betay[2,8]     0.037329    0.067817 1.022247   100\n",
      "betay[3,8]     0.044234    0.077843 1.031168    72\n",
      "betay[4,8]     0.049884    0.082246 1.024348    91\n",
      "betay[5,8]     0.030250    0.049919 1.016032   130\n",
      "betay[6,8]     0.042022    0.070159 1.015893   140\n",
      "betay[1,9]    -0.181223   -0.153605 1.005955   400\n",
      "betay[2,9]    -0.216993   -0.173803 1.004299   600\n",
      "betay[3,9]    -0.217000   -0.173472 1.004562   560\n",
      "betay[4,9]    -0.244002   -0.199995 1.005002   500\n",
      "betay[5,9]    -0.203848   -0.159891 1.003733   730\n",
      "betay[6,9]    -0.231311   -0.187311 1.004075   650\n",
      "betay[1,10]    6.467495    8.394413 1.001627  3000\n",
      "betay[2,10]    7.273370    9.191303 1.001281  6300\n",
      "betay[3,10]    6.934749    8.159548 1.001341  5300\n",
      "betay[4,10]    7.312196    9.208644 1.001138 12000\n",
      "betay[5,10]    7.114455    9.031837 1.001337  5400\n",
      "betay[6,10]    7.184301    8.981404 1.001458  4100\n",
      "betay[1,11]    0.033180    0.067693 1.001885  2200\n",
      "betay[2,11]    0.023411    0.055354 1.001345  5300\n",
      "betay[3,11]    0.025957    0.061447 1.001458  4100\n",
      "betay[4,11]    0.028343    0.063448 1.001812  2400\n",
      "betay[5,11]    0.030083    0.065599 1.001644  3000\n",
      "betay[6,11]    0.030891    0.066317 1.001662  2900\n",
      "betay[1,12]    0.001536    0.058566 1.008154   310\n",
      "betay[2,12]    0.013091    0.076481 1.009576   270\n",
      "betay[3,12]    0.027686    0.097020 1.008083   290\n",
      "betay[4,12]   -0.003466    0.064920 1.008410   290\n",
      "betay[5,12]    0.012118    0.081861 1.007518   310\n",
      "betay[6,12]    0.001691    0.071244 1.008113   300\n",
      "betay[1,13]    3.086825    4.252437 1.001909  2100\n",
      "betay[2,13]    2.506266    3.551667 1.001715  2700\n",
      "betay[3,13]    2.882018    4.088756 1.002170  1700\n",
      "betay[4,13]    3.345752    4.722452 1.003310   860\n",
      "betay[5,13]    2.559391    3.594439 1.002548  1300\n",
      "betay[6,13]    2.219099    3.271306 1.001333  5500\n",
      "betay[1,14]    0.681570    0.786615 1.011488   210\n",
      "betay[2,14]    0.679367    0.790623 1.017143   130\n",
      "betay[3,14]    0.655754    0.763772 1.012229   190\n",
      "betay[4,14]    0.676940    0.795626 1.012549   190\n",
      "betay[5,14]    0.673229    0.791183 1.020923   110\n",
      "betay[6,14]    0.676624    0.794152 1.015806   150\n",
      "sdev           1.620752    1.666790 1.002747  1100\n",
      "deviance    5166.656514 5199.396133 1.009261   240\n",
      "\n",
      "For each parameter, n.eff is a crude measure of effective sample size,\n",
      "and Rhat is the potential scale reduction factor (at convergence, Rhat=1).\n",
      "\n",
      "DIC info (using the rule, pD = var(deviance)/2)\n",
      "pD = 274.5 and DIC = 5425.8\n",
      "DIC is an estimate of expected predictive error (lower deviance is better).\n"
     ]
    }
   ],
   "metadata": {
    "vscode": {
     "languageId": "r"
    }
   }
  },
  {
   "cell_type": "code",
   "execution_count": 88,
   "source": [
    "attach.jags(life_expectancy.out.1)\n",
    "\n",
    "# alphay.1 <- mcmc(alphay)\n",
    "# alphay.1 <- apply(alphay.1, 2, mean)\n",
    "# betay.1 <- mcmc(betay)\n",
    "# betay.1 <- apply(betay.1, 2, mean)\n",
    "# gamma.1 <- mcmc(gamma)\n",
    "# gamma.1 <- apply(gamma.1, 2, mean)"
   ],
   "outputs": [],
   "metadata": {}
  },
  {
   "cell_type": "code",
   "execution_count": 89,
   "source": [
    "alphay.1 <- apply(mcmc(alphay),2,mean)\n",
    "head(alphay.1)"
   ],
   "outputs": [
    {
     "output_type": "display_data",
     "data": {
      "text/html": [
       "<style>\n",
       ".dl-inline {width: auto; margin:0; padding: 0}\n",
       ".dl-inline>dt, .dl-inline>dd {float: none; width: auto; display: inline-block}\n",
       ".dl-inline>dt::after {content: \":\\0020\"; padding-right: .5ex}\n",
       ".dl-inline>dt:not(:first-of-type) {padding-left: .5ex}\n",
       "</style><dl class=dl-inline><dt>var1</dt><dd>53.9706657661931</dd><dt>var2</dt><dd>58.4991018807249</dd><dt>var3</dt><dd>58.2109096791599</dd><dt>var4</dt><dd>47.0909111566468</dd><dt>var5</dt><dd>56.1926307152855</dd><dt>var6</dt><dd>58.7756383223032</dd></dl>\n"
      ],
      "text/latex": [
       "\\begin{description*}\n",
       "\\item[var1] 53.9706657661931\n",
       "\\item[var2] 58.4991018807249\n",
       "\\item[var3] 58.2109096791599\n",
       "\\item[var4] 47.0909111566468\n",
       "\\item[var5] 56.1926307152855\n",
       "\\item[var6] 58.7756383223032\n",
       "\\end{description*}\n"
      ],
      "text/markdown": [
       "var1\n",
       ":   53.9706657661931var2\n",
       ":   58.4991018807249var3\n",
       ":   58.2109096791599var4\n",
       ":   47.0909111566468var5\n",
       ":   56.1926307152855var6\n",
       ":   58.7756383223032\n",
       "\n"
      ],
      "text/plain": [
       "    var1     var2     var3     var4     var5     var6 \n",
       "53.97067 58.49910 58.21091 47.09091 56.19263 58.77564 "
      ]
     },
     "metadata": {}
    }
   ],
   "metadata": {}
  },
  {
   "cell_type": "code",
   "execution_count": 90,
   "source": [
    "betay_matrix <- apply(mcmc(betay), 2:3, mean)"
   ],
   "outputs": [],
   "metadata": {}
  },
  {
   "cell_type": "code",
   "execution_count": 159,
   "source": [
    "X = cbind(mortality, alcohol, hepB, measles, BMI, polio,\n",
    "            totalExp, dipth, hivaids, gdp, pop, thin1019, incomeComp, school)\n",
    "\n",
    "fit = rep(NA, nrow(lifeData_train))\n",
    "for (i in 1:nrow(lifeData_train)) {\n",
    "    fit[i] = alphay.1[indices[i]]\n",
    "    continent_id = which(lifeData_train[i,]$Continent == levels(as.factor(lifeData_train$Continent)))\n",
    "    for (j in 1:14) {\n",
    "        fit[i] = fit[i] + betay_matrix[continent_id, j] * X[i,j]\n",
    "    }\n",
    "}\n"
   ],
   "outputs": [],
   "metadata": {}
  },
  {
   "cell_type": "code",
   "execution_count": 92,
   "source": [
    "r = fit - lifeData_train[,4]"
   ],
   "outputs": [],
   "metadata": {}
  },
  {
   "cell_type": "code",
   "execution_count": 163,
   "source": [
    "plot(fit, r)\n",
    "abline(h =0)\n",
    "qqnorm(r)\n",
    "qqline(r)"
   ],
   "outputs": [
    {
     "output_type": "display_data",
     "data": {
      "image/png": "[encoded data removed]",
      "text/plain": [
       "plot without title"
      ]
     },
     "metadata": {
      "image/png": {
       "width": 420,
       "height": 420
      }
     }
    },
    {
     "output_type": "display_data",
     "data": {
      "image/png": "[encoded data removed]",
      "text/plain": [
       "Plot with title \"Normal Q-Q Plot\""
      ]
     },
     "metadata": {
      "image/png": {
       "width": 420,
       "height": 420
      }
     }
    }
   ],
   "metadata": {}
  },
  {
   "cell_type": "markdown",
   "source": [
    "# Test"
   ],
   "metadata": {}
  },
  {
   "cell_type": "code",
   "execution_count": 94,
   "source": [
    "status_test = rep(0,nrow(lifeData_test))\n",
    "for (i in 1:nrow(lifeData_test)) {\n",
    "  status_test[i] = ifelse(lifeData_test$Status[i]==\"Developing\",0,1)\n",
    "}\n",
    "mortality_test = lifeData_test$\"Adult.Mortality\"\n",
    "alcohol_test = lifeData_test$\"Alcohol\"\n",
    "hepB_test = lifeData_test$\"Hepatitis.B\"\n",
    "measles_test = lifeData_test$\"Measles\" / 100\n",
    "BMI_test = lifeData_test$\"BMI\"\n",
    "polio_test = lifeData_test$\"Polio\"\n",
    "totalExp_test = lifeData_test$\"Total.expenditure\"\n",
    "dipth_test = lifeData_test$\"Diphtheria\"\n",
    "hivaids_test = lifeData_test$\"HIV.AIDS\"\n",
    "gdp_test = lifeData_test$\"GDP\"\n",
    "pop_test = lifeData_test$\"Population\" / 10000000\n",
    "thin1019_test = lifeData_test$\"thinness.1.19.years\"\n",
    "incomeComp_test = lifeData_test$\"Income.composition.of.resources\"\n",
    "school_test = lifeData_test$\"Schooling\"\n",
    "\n",
    "indicesDict_test = c(unique(lifeData_test$Country))\n",
    "indices_test = rep(0,nrow(lifeData_test))\n",
    "for (i in 1:nrow(lifeData_test)) {\n",
    "  indices_test[i] = which(indicesDict==lifeData_test$Country[i])\n",
    "}"
   ],
   "outputs": [],
   "metadata": {}
  },
  {
   "cell_type": "code",
   "execution_count": 95,
   "source": [
    "X_test = cbind(mortality_test, alcohol_test, hepB_test, measles_test, BMI_test, polio_test,\n",
    "            totalExp_test, dipth_test, hivaids_test, gdp_test, pop_test, thin1019_test, incomeComp_test, school_test)\n",
    "\n",
    "fit_test = rep(NA, nrow(lifeData_test))\n",
    "for (i in 1:nrow(lifeData_test)) {\n",
    "    fit_test[i] = alphay.1[indices_test[i]]\n",
    "    continent_id = which(lifeData_test[i,]$Continent == levels(as.factor(lifeData_test$Continent)))\n",
    "    for (j in 1:14) {\n",
    "        fit_test[i] = fit_test[i] + betay_matrix[continent_id, j] * X_test[i,j]\n",
    "    }\n",
    "}"
   ],
   "outputs": [],
   "metadata": {}
  },
  {
   "cell_type": "code",
   "execution_count": 96,
   "source": [
    "rmse <- function(x,y) {\n",
    "    return(sqrt(mean((x-y)^2)))\n",
    "}\n",
    "rmse(fit_test, lifeData_test[,4])"
   ],
   "outputs": [
    {
     "output_type": "display_data",
     "data": {
      "text/html": [
       "2.49045214215011"
      ],
      "text/latex": [
       "2.49045214215011"
      ],
      "text/markdown": [
       "2.49045214215011"
      ],
      "text/plain": [
       "[1] 2.490452"
      ]
     },
     "metadata": {}
    }
   ],
   "metadata": {}
  },
  {
   "cell_type": "markdown",
   "source": [
    "# Get rid of outliers"
   ],
   "metadata": {}
  },
  {
   "cell_type": "code",
   "execution_count": 97,
   "source": [
    "outlierIndex <- which(abs(r) > 3.5*mean(sdev))"
   ],
   "outputs": [],
   "metadata": {}
  },
  {
   "cell_type": "code",
   "execution_count": 98,
   "source": [
    "mean(sdev)"
   ],
   "outputs": [
    {
     "output_type": "display_data",
     "data": {
      "text/html": [
       "1.59881311884063"
      ],
      "text/latex": [
       "1.59881311884063"
      ],
      "text/markdown": [
       "1.59881311884063"
      ],
      "text/plain": [
       "[1] 1.598813"
      ]
     },
     "metadata": {}
    }
   ],
   "metadata": {}
  },
  {
   "cell_type": "code",
   "execution_count": 99,
   "source": [
    "lifeData_remove_outlier <- lifeData[-outlierIndex,]"
   ],
   "outputs": [],
   "metadata": {}
  },
  {
   "cell_type": "code",
   "execution_count": 100,
   "source": [
    "write.csv(lifeData_remove_outlier, \"C:/Code/BIOSTAT682/Life Expectancy_v6.csv\", row.names = FALSE)"
   ],
   "outputs": [],
   "metadata": {}
  },
  {
   "cell_type": "markdown",
   "source": [
    "# Get the mean"
   ],
   "metadata": {}
  },
  {
   "cell_type": "code",
   "execution_count": 169,
   "source": [
    "lifeData_result <- lifeData_train\n",
    "lifeData_result$fit <- fit"
   ],
   "outputs": [],
   "metadata": {}
  },
  {
   "cell_type": "code",
   "execution_count": 177,
   "source": [
    "lifeData_result %>% group_by(Country) %>% summarise(mean = mean(fit)) %>% arrange(mean)"
   ],
   "outputs": [
    {
     "output_type": "display_data",
     "data": {
      "text/html": [
       "<table class=\"dataframe\">\n",
       "<caption>A tibble: 131 × 2</caption>\n",
       "<thead>\n",
       "\t<tr><th scope=col>Country</th><th scope=col>mean</th></tr>\n",
       "\t<tr><th scope=col>&lt;chr&gt;</th><th scope=col>&lt;dbl&gt;</th></tr>\n",
       "</thead>\n",
       "<tbody>\n",
       "\t<tr><td>Sierra Leone            </td><td>47.93245</td></tr>\n",
       "\t<tr><td>Zimbabwe                </td><td>48.02656</td></tr>\n",
       "\t<tr><td>Lesotho                 </td><td>48.04082</td></tr>\n",
       "\t<tr><td>Malawi                  </td><td>49.11079</td></tr>\n",
       "\t<tr><td>Swaziland               </td><td>49.76120</td></tr>\n",
       "\t<tr><td>Central African Republic</td><td>50.39756</td></tr>\n",
       "\t<tr><td>Angola                  </td><td>50.79428</td></tr>\n",
       "\t<tr><td>Chad                    </td><td>52.40868</td></tr>\n",
       "\t<tr><td>Nigeria                 </td><td>52.85927</td></tr>\n",
       "\t<tr><td>Mozambique              </td><td>52.91084</td></tr>\n",
       "\t<tr><td>Botswana                </td><td>54.06395</td></tr>\n",
       "\t<tr><td>Cameroon                </td><td>54.60114</td></tr>\n",
       "\t<tr><td>Mali                    </td><td>55.07755</td></tr>\n",
       "\t<tr><td>Uganda                  </td><td>55.17054</td></tr>\n",
       "\t<tr><td>Burundi                 </td><td>55.50004</td></tr>\n",
       "\t<tr><td>South Africa            </td><td>55.91924</td></tr>\n",
       "\t<tr><td>Zambia                  </td><td>56.13556</td></tr>\n",
       "\t<tr><td>Burkina Faso            </td><td>56.78088</td></tr>\n",
       "\t<tr><td>Kenya                   </td><td>57.06529</td></tr>\n",
       "\t<tr><td>Guinea-Bissau           </td><td>57.18574</td></tr>\n",
       "\t<tr><td>Afghanistan             </td><td>57.45778</td></tr>\n",
       "\t<tr><td>Benin                   </td><td>57.46379</td></tr>\n",
       "\t<tr><td>Guinea                  </td><td>57.55852</td></tr>\n",
       "\t<tr><td>Togo                    </td><td>57.69424</td></tr>\n",
       "\t<tr><td>Niger                   </td><td>59.43242</td></tr>\n",
       "\t<tr><td>Rwanda                  </td><td>59.59196</td></tr>\n",
       "\t<tr><td>Ghana                   </td><td>61.19991</td></tr>\n",
       "\t<tr><td>Eritrea                 </td><td>61.32114</td></tr>\n",
       "\t<tr><td>Liberia                 </td><td>61.35372</td></tr>\n",
       "\t<tr><td>Papua New Guinea        </td><td>61.49004</td></tr>\n",
       "\t<tr><td>⋮</td><td>⋮</td></tr>\n",
       "\t<tr><td>Ecuador               </td><td>74.36826</td></tr>\n",
       "\t<tr><td>Albania               </td><td>74.58874</td></tr>\n",
       "\t<tr><td>Montenegro            </td><td>74.83153</td></tr>\n",
       "\t<tr><td>Maldives              </td><td>75.07088</td></tr>\n",
       "\t<tr><td>Argentina             </td><td>75.09425</td></tr>\n",
       "\t<tr><td>Poland                </td><td>75.25921</td></tr>\n",
       "\t<tr><td>Mexico                </td><td>75.46216</td></tr>\n",
       "\t<tr><td>Uruguay               </td><td>75.87147</td></tr>\n",
       "\t<tr><td>Bosnia and Herzegovina</td><td>75.89138</td></tr>\n",
       "\t<tr><td>Panama                </td><td>76.19605</td></tr>\n",
       "\t<tr><td>Croatia               </td><td>76.47122</td></tr>\n",
       "\t<tr><td>Costa Rica            </td><td>78.28550</td></tr>\n",
       "\t<tr><td>Portugal              </td><td>78.71788</td></tr>\n",
       "\t<tr><td>Cyprus                </td><td>78.97277</td></tr>\n",
       "\t<tr><td>Chile                 </td><td>79.25003</td></tr>\n",
       "\t<tr><td>Belgium               </td><td>79.51655</td></tr>\n",
       "\t<tr><td>Luxembourg            </td><td>80.09454</td></tr>\n",
       "\t<tr><td>Germany               </td><td>80.17919</td></tr>\n",
       "\t<tr><td>Greece                </td><td>80.29381</td></tr>\n",
       "\t<tr><td>Malta                 </td><td>80.71903</td></tr>\n",
       "\t<tr><td>Israel                </td><td>81.01491</td></tr>\n",
       "\t<tr><td>Netherlands           </td><td>81.07170</td></tr>\n",
       "\t<tr><td>Sweden                </td><td>81.45364</td></tr>\n",
       "\t<tr><td>Austria               </td><td>81.58176</td></tr>\n",
       "\t<tr><td>Australia             </td><td>81.78655</td></tr>\n",
       "\t<tr><td>Spain                 </td><td>81.87548</td></tr>\n",
       "\t<tr><td>France                </td><td>82.14485</td></tr>\n",
       "\t<tr><td>Canada                </td><td>82.21899</td></tr>\n",
       "\t<tr><td>Italy                 </td><td>82.23133</td></tr>\n",
       "\t<tr><td>Ireland               </td><td>84.70845</td></tr>\n",
       "</tbody>\n",
       "</table>\n"
      ],
      "text/latex": [
       "A tibble: 131 × 2\n",
       "\\begin{tabular}{ll}\n",
       " Country & mean\\\\\n",
       " <chr> & <dbl>\\\\\n",
       "\\hline\n",
       "\t Sierra Leone             & 47.93245\\\\\n",
       "\t Zimbabwe                 & 48.02656\\\\\n",
       "\t Lesotho                  & 48.04082\\\\\n",
       "\t Malawi                   & 49.11079\\\\\n",
       "\t Swaziland                & 49.76120\\\\\n",
       "\t Central African Republic & 50.39756\\\\\n",
       "\t Angola                   & 50.79428\\\\\n",
       "\t Chad                     & 52.40868\\\\\n",
       "\t Nigeria                  & 52.85927\\\\\n",
       "\t Mozambique               & 52.91084\\\\\n",
       "\t Botswana                 & 54.06395\\\\\n",
       "\t Cameroon                 & 54.60114\\\\\n",
       "\t Mali                     & 55.07755\\\\\n",
       "\t Uganda                   & 55.17054\\\\\n",
       "\t Burundi                  & 55.50004\\\\\n",
       "\t South Africa             & 55.91924\\\\\n",
       "\t Zambia                   & 56.13556\\\\\n",
       "\t Burkina Faso             & 56.78088\\\\\n",
       "\t Kenya                    & 57.06529\\\\\n",
       "\t Guinea-Bissau            & 57.18574\\\\\n",
       "\t Afghanistan              & 57.45778\\\\\n",
       "\t Benin                    & 57.46379\\\\\n",
       "\t Guinea                   & 57.55852\\\\\n",
       "\t Togo                     & 57.69424\\\\\n",
       "\t Niger                    & 59.43242\\\\\n",
       "\t Rwanda                   & 59.59196\\\\\n",
       "\t Ghana                    & 61.19991\\\\\n",
       "\t Eritrea                  & 61.32114\\\\\n",
       "\t Liberia                  & 61.35372\\\\\n",
       "\t Papua New Guinea         & 61.49004\\\\\n",
       "\t ⋮ & ⋮\\\\\n",
       "\t Ecuador                & 74.36826\\\\\n",
       "\t Albania                & 74.58874\\\\\n",
       "\t Montenegro             & 74.83153\\\\\n",
       "\t Maldives               & 75.07088\\\\\n",
       "\t Argentina              & 75.09425\\\\\n",
       "\t Poland                 & 75.25921\\\\\n",
       "\t Mexico                 & 75.46216\\\\\n",
       "\t Uruguay                & 75.87147\\\\\n",
       "\t Bosnia and Herzegovina & 75.89138\\\\\n",
       "\t Panama                 & 76.19605\\\\\n",
       "\t Croatia                & 76.47122\\\\\n",
       "\t Costa Rica             & 78.28550\\\\\n",
       "\t Portugal               & 78.71788\\\\\n",
       "\t Cyprus                 & 78.97277\\\\\n",
       "\t Chile                  & 79.25003\\\\\n",
       "\t Belgium                & 79.51655\\\\\n",
       "\t Luxembourg             & 80.09454\\\\\n",
       "\t Germany                & 80.17919\\\\\n",
       "\t Greece                 & 80.29381\\\\\n",
       "\t Malta                  & 80.71903\\\\\n",
       "\t Israel                 & 81.01491\\\\\n",
       "\t Netherlands            & 81.07170\\\\\n",
       "\t Sweden                 & 81.45364\\\\\n",
       "\t Austria                & 81.58176\\\\\n",
       "\t Australia              & 81.78655\\\\\n",
       "\t Spain                  & 81.87548\\\\\n",
       "\t France                 & 82.14485\\\\\n",
       "\t Canada                 & 82.21899\\\\\n",
       "\t Italy                  & 82.23133\\\\\n",
       "\t Ireland                & 84.70845\\\\\n",
       "\\end{tabular}\n"
      ],
      "text/markdown": [
       "\n",
       "A tibble: 131 × 2\n",
       "\n",
       "| Country &lt;chr&gt; | mean &lt;dbl&gt; |\n",
       "|---|---|\n",
       "| Sierra Leone             | 47.93245 |\n",
       "| Zimbabwe                 | 48.02656 |\n",
       "| Lesotho                  | 48.04082 |\n",
       "| Malawi                   | 49.11079 |\n",
       "| Swaziland                | 49.76120 |\n",
       "| Central African Republic | 50.39756 |\n",
       "| Angola                   | 50.79428 |\n",
       "| Chad                     | 52.40868 |\n",
       "| Nigeria                  | 52.85927 |\n",
       "| Mozambique               | 52.91084 |\n",
       "| Botswana                 | 54.06395 |\n",
       "| Cameroon                 | 54.60114 |\n",
       "| Mali                     | 55.07755 |\n",
       "| Uganda                   | 55.17054 |\n",
       "| Burundi                  | 55.50004 |\n",
       "| South Africa             | 55.91924 |\n",
       "| Zambia                   | 56.13556 |\n",
       "| Burkina Faso             | 56.78088 |\n",
       "| Kenya                    | 57.06529 |\n",
       "| Guinea-Bissau            | 57.18574 |\n",
       "| Afghanistan              | 57.45778 |\n",
       "| Benin                    | 57.46379 |\n",
       "| Guinea                   | 57.55852 |\n",
       "| Togo                     | 57.69424 |\n",
       "| Niger                    | 59.43242 |\n",
       "| Rwanda                   | 59.59196 |\n",
       "| Ghana                    | 61.19991 |\n",
       "| Eritrea                  | 61.32114 |\n",
       "| Liberia                  | 61.35372 |\n",
       "| Papua New Guinea         | 61.49004 |\n",
       "| ⋮ | ⋮ |\n",
       "| Ecuador                | 74.36826 |\n",
       "| Albania                | 74.58874 |\n",
       "| Montenegro             | 74.83153 |\n",
       "| Maldives               | 75.07088 |\n",
       "| Argentina              | 75.09425 |\n",
       "| Poland                 | 75.25921 |\n",
       "| Mexico                 | 75.46216 |\n",
       "| Uruguay                | 75.87147 |\n",
       "| Bosnia and Herzegovina | 75.89138 |\n",
       "| Panama                 | 76.19605 |\n",
       "| Croatia                | 76.47122 |\n",
       "| Costa Rica             | 78.28550 |\n",
       "| Portugal               | 78.71788 |\n",
       "| Cyprus                 | 78.97277 |\n",
       "| Chile                  | 79.25003 |\n",
       "| Belgium                | 79.51655 |\n",
       "| Luxembourg             | 80.09454 |\n",
       "| Germany                | 80.17919 |\n",
       "| Greece                 | 80.29381 |\n",
       "| Malta                  | 80.71903 |\n",
       "| Israel                 | 81.01491 |\n",
       "| Netherlands            | 81.07170 |\n",
       "| Sweden                 | 81.45364 |\n",
       "| Austria                | 81.58176 |\n",
       "| Australia              | 81.78655 |\n",
       "| Spain                  | 81.87548 |\n",
       "| France                 | 82.14485 |\n",
       "| Canada                 | 82.21899 |\n",
       "| Italy                  | 82.23133 |\n",
       "| Ireland                | 84.70845 |\n",
       "\n"
      ],
      "text/plain": [
       "    Country                  mean    \n",
       "1   Sierra Leone             47.93245\n",
       "2   Zimbabwe                 48.02656\n",
       "3   Lesotho                  48.04082\n",
       "4   Malawi                   49.11079\n",
       "5   Swaziland                49.76120\n",
       "6   Central African Republic 50.39756\n",
       "7   Angola                   50.79428\n",
       "8   Chad                     52.40868\n",
       "9   Nigeria                  52.85927\n",
       "10  Mozambique               52.91084\n",
       "11  Botswana                 54.06395\n",
       "12  Cameroon                 54.60114\n",
       "13  Mali                     55.07755\n",
       "14  Uganda                   55.17054\n",
       "15  Burundi                  55.50004\n",
       "16  South Africa             55.91924\n",
       "17  Zambia                   56.13556\n",
       "18  Burkina Faso             56.78088\n",
       "19  Kenya                    57.06529\n",
       "20  Guinea-Bissau            57.18574\n",
       "21  Afghanistan              57.45778\n",
       "22  Benin                    57.46379\n",
       "23  Guinea                   57.55852\n",
       "24  Togo                     57.69424\n",
       "25  Niger                    59.43242\n",
       "26  Rwanda                   59.59196\n",
       "27  Ghana                    61.19991\n",
       "28  Eritrea                  61.32114\n",
       "29  Liberia                  61.35372\n",
       "30  Papua New Guinea         61.49004\n",
       "⋮   ⋮                        ⋮       \n",
       "102 Ecuador                  74.36826\n",
       "103 Albania                  74.58874\n",
       "104 Montenegro               74.83153\n",
       "105 Maldives                 75.07088\n",
       "106 Argentina                75.09425\n",
       "107 Poland                   75.25921\n",
       "108 Mexico                   75.46216\n",
       "109 Uruguay                  75.87147\n",
       "110 Bosnia and Herzegovina   75.89138\n",
       "111 Panama                   76.19605\n",
       "112 Croatia                  76.47122\n",
       "113 Costa Rica               78.28550\n",
       "114 Portugal                 78.71788\n",
       "115 Cyprus                   78.97277\n",
       "116 Chile                    79.25003\n",
       "117 Belgium                  79.51655\n",
       "118 Luxembourg               80.09454\n",
       "119 Germany                  80.17919\n",
       "120 Greece                   80.29381\n",
       "121 Malta                    80.71903\n",
       "122 Israel                   81.01491\n",
       "123 Netherlands              81.07170\n",
       "124 Sweden                   81.45364\n",
       "125 Austria                  81.58176\n",
       "126 Australia                81.78655\n",
       "127 Spain                    81.87548\n",
       "128 France                   82.14485\n",
       "129 Canada                   82.21899\n",
       "130 Italy                    82.23133\n",
       "131 Ireland                  84.70845"
      ]
     },
     "metadata": {}
    }
   ],
   "metadata": {}
  },
  {
   "cell_type": "code",
   "execution_count": null,
   "source": [],
   "outputs": [],
   "metadata": {}
  }
 ],
 "metadata": {
  "kernelspec": {
   "display_name": "R",
   "language": "R",
   "name": "ir"
  },
  "language_info": {
   "name": "R",
   "codemirror_mode": "r",
   "pygments_lexer": "r",
   "mimetype": "text/x-r-source",
   "file_extension": ".r",
   "version": "4.2.1"
  },
  "orig_nbformat": 4
 },
 "nbformat": 4,
 "nbformat_minor": 2
}