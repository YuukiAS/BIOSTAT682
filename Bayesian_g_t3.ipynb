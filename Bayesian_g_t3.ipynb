{
 "cells": [
  {
   "cell_type": "code",
   "execution_count": 17,
   "source": [
    "library(tidyr)\n",
    "library(dplyr)\n",
    "library(corrplot)\n",
    "\n",
    "\n",
    "lifeData <- read.csv(\"C:/Code/BIOSTAT682/Life Expectancy_v5.csv\")\n",
    "\n",
    "dim(lifeData)\n",
    "head(lifeData)"
   ],
   "outputs": [
    {
     "output_type": "display_data",
     "data": {
      "text/html": [
       "<style>\n",
       ".list-inline {list-style: none; margin:0; padding: 0}\n",
       ".list-inline>li {display: inline-block}\n",
       ".list-inline>li:not(:last-child)::after {content: \"\\00b7\"; padding: 0 .5ex}\n",
       "</style>\n",
       "<ol class=list-inline><li>1646</li><li>19</li></ol>\n"
      ],
      "text/latex": [
       "\\begin{enumerate*}\n",
       "\\item 1646\n",
       "\\item 19\n",
       "\\end{enumerate*}\n"
      ],
      "text/markdown": [
       "1. 1646\n",
       "2. 19\n",
       "\n",
       "\n"
      ],
      "text/plain": [
       "[1] 1646   19"
      ]
     },
     "metadata": {}
    },
    {
     "output_type": "display_data",
     "data": {
      "text/html": [
       "<table class=\"dataframe\">\n",
       "<caption>A data.frame: 6 × 19</caption>\n",
       "<thead>\n",
       "\t<tr><th></th><th scope=col>Country</th><th scope=col>Year</th><th scope=col>Status</th><th scope=col>Life.expectancy</th><th scope=col>Adult.Mortality</th><th scope=col>Alcohol</th><th scope=col>Hepatitis.B</th><th scope=col>Measles</th><th scope=col>BMI</th><th scope=col>Polio</th><th scope=col>Total.expenditure</th><th scope=col>Diphtheria</th><th scope=col>HIV.AIDS</th><th scope=col>GDP</th><th scope=col>Population</th><th scope=col>thinness.1.19.years.</th><th scope=col>Income.composition.of.resources</th><th scope=col>Schooling</th><th scope=col>Continent</th></tr>\n",
       "\t<tr><th></th><th scope=col>&lt;chr&gt;</th><th scope=col>&lt;int&gt;</th><th scope=col>&lt;chr&gt;</th><th scope=col>&lt;dbl&gt;</th><th scope=col>&lt;int&gt;</th><th scope=col>&lt;dbl&gt;</th><th scope=col>&lt;int&gt;</th><th scope=col>&lt;int&gt;</th><th scope=col>&lt;dbl&gt;</th><th scope=col>&lt;int&gt;</th><th scope=col>&lt;dbl&gt;</th><th scope=col>&lt;int&gt;</th><th scope=col>&lt;dbl&gt;</th><th scope=col>&lt;dbl&gt;</th><th scope=col>&lt;dbl&gt;</th><th scope=col>&lt;dbl&gt;</th><th scope=col>&lt;dbl&gt;</th><th scope=col>&lt;dbl&gt;</th><th scope=col>&lt;chr&gt;</th></tr>\n",
       "</thead>\n",
       "<tbody>\n",
       "\t<tr><th scope=row>1</th><td>Afghanistan</td><td>2015</td><td>Developing</td><td>65.0</td><td>263</td><td>0.01</td><td>65</td><td>1154</td><td>19.1</td><td> 6</td><td>8.16</td><td>65</td><td>0.1</td><td>0.005842592</td><td>33736494</td><td>17.2</td><td>0.479</td><td>10.1</td><td>Asia</td></tr>\n",
       "\t<tr><th scope=row>2</th><td>Afghanistan</td><td>2014</td><td>Developing</td><td>59.9</td><td>271</td><td>0.01</td><td>62</td><td> 492</td><td>18.6</td><td>58</td><td>8.18</td><td>62</td><td>0.1</td><td>0.006126965</td><td>32758200</td><td>17.5</td><td>0.476</td><td>10.0</td><td>Asia</td></tr>\n",
       "\t<tr><th scope=row>3</th><td>Afghanistan</td><td>2013</td><td>Developing</td><td>59.9</td><td>268</td><td>0.01</td><td>64</td><td> 430</td><td>18.1</td><td>62</td><td>8.13</td><td>64</td><td>0.1</td><td>0.006317450</td><td>31731688</td><td>17.7</td><td>0.470</td><td> 9.9</td><td>Asia</td></tr>\n",
       "\t<tr><th scope=row>4</th><td>Afghanistan</td><td>2012</td><td>Developing</td><td>59.5</td><td>272</td><td>0.01</td><td>67</td><td>2787</td><td>17.6</td><td>67</td><td>8.52</td><td>67</td><td>0.1</td><td>0.006699590</td><td>36969580</td><td>17.9</td><td>0.463</td><td> 9.8</td><td>Asia</td></tr>\n",
       "\t<tr><th scope=row>5</th><td>Afghanistan</td><td>2011</td><td>Developing</td><td>59.2</td><td>275</td><td>0.01</td><td>68</td><td>3013</td><td>17.2</td><td>68</td><td>7.87</td><td>68</td><td>0.1</td><td>0.006353723</td><td>29785990</td><td>18.2</td><td>0.454</td><td> 9.5</td><td>Asia</td></tr>\n",
       "\t<tr><th scope=row>6</th><td>Afghanistan</td><td>2010</td><td>Developing</td><td>58.8</td><td>279</td><td>0.01</td><td>66</td><td>1989</td><td>16.7</td><td>66</td><td>9.20</td><td>66</td><td>0.1</td><td>0.005533289</td><td>28831670</td><td>18.4</td><td>0.448</td><td> 9.2</td><td>Asia</td></tr>\n",
       "</tbody>\n",
       "</table>\n"
      ],
      "text/latex": [
       "A data.frame: 6 × 19\n",
       "\\begin{tabular}{r|lllllllllllllllllll}\n",
       "  & Country & Year & Status & Life.expectancy & Adult.Mortality & Alcohol & Hepatitis.B & Measles & BMI & Polio & Total.expenditure & Diphtheria & HIV.AIDS & GDP & Population & thinness.1.19.years. & Income.composition.of.resources & Schooling & Continent\\\\\n",
       "  & <chr> & <int> & <chr> & <dbl> & <int> & <dbl> & <int> & <int> & <dbl> & <int> & <dbl> & <int> & <dbl> & <dbl> & <dbl> & <dbl> & <dbl> & <dbl> & <chr>\\\\\n",
       "\\hline\n",
       "\t1 & Afghanistan & 2015 & Developing & 65.0 & 263 & 0.01 & 65 & 1154 & 19.1 &  6 & 8.16 & 65 & 0.1 & 0.005842592 & 33736494 & 17.2 & 0.479 & 10.1 & Asia\\\\\n",
       "\t2 & Afghanistan & 2014 & Developing & 59.9 & 271 & 0.01 & 62 &  492 & 18.6 & 58 & 8.18 & 62 & 0.1 & 0.006126965 & 32758200 & 17.5 & 0.476 & 10.0 & Asia\\\\\n",
       "\t3 & Afghanistan & 2013 & Developing & 59.9 & 268 & 0.01 & 64 &  430 & 18.1 & 62 & 8.13 & 64 & 0.1 & 0.006317450 & 31731688 & 17.7 & 0.470 &  9.9 & Asia\\\\\n",
       "\t4 & Afghanistan & 2012 & Developing & 59.5 & 272 & 0.01 & 67 & 2787 & 17.6 & 67 & 8.52 & 67 & 0.1 & 0.006699590 & 36969580 & 17.9 & 0.463 &  9.8 & Asia\\\\\n",
       "\t5 & Afghanistan & 2011 & Developing & 59.2 & 275 & 0.01 & 68 & 3013 & 17.2 & 68 & 7.87 & 68 & 0.1 & 0.006353723 & 29785990 & 18.2 & 0.454 &  9.5 & Asia\\\\\n",
       "\t6 & Afghanistan & 2010 & Developing & 58.8 & 279 & 0.01 & 66 & 1989 & 16.7 & 66 & 9.20 & 66 & 0.1 & 0.005533289 & 28831670 & 18.4 & 0.448 &  9.2 & Asia\\\\\n",
       "\\end{tabular}\n"
      ],
      "text/markdown": [
       "\n",
       "A data.frame: 6 × 19\n",
       "\n",
       "| <!--/--> | Country &lt;chr&gt; | Year &lt;int&gt; | Status &lt;chr&gt; | Life.expectancy &lt;dbl&gt; | Adult.Mortality &lt;int&gt; | Alcohol &lt;dbl&gt; | Hepatitis.B &lt;int&gt; | Measles &lt;int&gt; | BMI &lt;dbl&gt; | Polio &lt;int&gt; | Total.expenditure &lt;dbl&gt; | Diphtheria &lt;int&gt; | HIV.AIDS &lt;dbl&gt; | GDP &lt;dbl&gt; | Population &lt;dbl&gt; | thinness.1.19.years. &lt;dbl&gt; | Income.composition.of.resources &lt;dbl&gt; | Schooling &lt;dbl&gt; | Continent &lt;chr&gt; |\n",
       "|---|---|---|---|---|---|---|---|---|---|---|---|---|---|---|---|---|---|---|---|\n",
       "| 1 | Afghanistan | 2015 | Developing | 65.0 | 263 | 0.01 | 65 | 1154 | 19.1 |  6 | 8.16 | 65 | 0.1 | 0.005842592 | 33736494 | 17.2 | 0.479 | 10.1 | Asia |\n",
       "| 2 | Afghanistan | 2014 | Developing | 59.9 | 271 | 0.01 | 62 |  492 | 18.6 | 58 | 8.18 | 62 | 0.1 | 0.006126965 | 32758200 | 17.5 | 0.476 | 10.0 | Asia |\n",
       "| 3 | Afghanistan | 2013 | Developing | 59.9 | 268 | 0.01 | 64 |  430 | 18.1 | 62 | 8.13 | 64 | 0.1 | 0.006317450 | 31731688 | 17.7 | 0.470 |  9.9 | Asia |\n",
       "| 4 | Afghanistan | 2012 | Developing | 59.5 | 272 | 0.01 | 67 | 2787 | 17.6 | 67 | 8.52 | 67 | 0.1 | 0.006699590 | 36969580 | 17.9 | 0.463 |  9.8 | Asia |\n",
       "| 5 | Afghanistan | 2011 | Developing | 59.2 | 275 | 0.01 | 68 | 3013 | 17.2 | 68 | 7.87 | 68 | 0.1 | 0.006353723 | 29785990 | 18.2 | 0.454 |  9.5 | Asia |\n",
       "| 6 | Afghanistan | 2010 | Developing | 58.8 | 279 | 0.01 | 66 | 1989 | 16.7 | 66 | 9.20 | 66 | 0.1 | 0.005533289 | 28831670 | 18.4 | 0.448 |  9.2 | Asia |\n",
       "\n"
      ],
      "text/plain": [
       "  Country     Year Status     Life.expectancy Adult.Mortality Alcohol\n",
       "1 Afghanistan 2015 Developing 65.0            263             0.01   \n",
       "2 Afghanistan 2014 Developing 59.9            271             0.01   \n",
       "3 Afghanistan 2013 Developing 59.9            268             0.01   \n",
       "4 Afghanistan 2012 Developing 59.5            272             0.01   \n",
       "5 Afghanistan 2011 Developing 59.2            275             0.01   \n",
       "6 Afghanistan 2010 Developing 58.8            279             0.01   \n",
       "  Hepatitis.B Measles BMI  Polio Total.expenditure Diphtheria HIV.AIDS\n",
       "1 65          1154    19.1  6    8.16              65         0.1     \n",
       "2 62           492    18.6 58    8.18              62         0.1     \n",
       "3 64           430    18.1 62    8.13              64         0.1     \n",
       "4 67          2787    17.6 67    8.52              67         0.1     \n",
       "5 68          3013    17.2 68    7.87              68         0.1     \n",
       "6 66          1989    16.7 66    9.20              66         0.1     \n",
       "  GDP         Population thinness.1.19.years. Income.composition.of.resources\n",
       "1 0.005842592 33736494   17.2                 0.479                          \n",
       "2 0.006126965 32758200   17.5                 0.476                          \n",
       "3 0.006317450 31731688   17.7                 0.470                          \n",
       "4 0.006699590 36969580   17.9                 0.463                          \n",
       "5 0.006353723 29785990   18.2                 0.454                          \n",
       "6 0.005533289 28831670   18.4                 0.448                          \n",
       "  Schooling Continent\n",
       "1 10.1      Asia     \n",
       "2 10.0      Asia     \n",
       "3  9.9      Asia     \n",
       "4  9.8      Asia     \n",
       "5  9.5      Asia     \n",
       "6  9.2      Asia     "
      ]
     },
     "metadata": {}
    }
   ],
   "metadata": {
    "vscode": {
     "languageId": "r"
    }
   }
  },
  {
   "cell_type": "code",
   "execution_count": 18,
   "source": [
    "lifeData_train <- lifeData %>% filter(Year < 2013)\n",
    "lifeData_test <- lifeData %>% filter(Year >= 2013)\n",
    "dim(lifeData_train)\n",
    "dim(lifeData_test)"
   ],
   "outputs": [
    {
     "output_type": "display_data",
     "data": {
      "text/html": [
       "<style>\n",
       ".list-inline {list-style: none; margin:0; padding: 0}\n",
       ".list-inline>li {display: inline-block}\n",
       ".list-inline>li:not(:last-child)::after {content: \"\\00b7\"; padding: 0 .5ex}\n",
       "</style>\n",
       "<ol class=list-inline><li>1386</li><li>19</li></ol>\n"
      ],
      "text/latex": [
       "\\begin{enumerate*}\n",
       "\\item 1386\n",
       "\\item 19\n",
       "\\end{enumerate*}\n"
      ],
      "text/markdown": [
       "1. 1386\n",
       "2. 19\n",
       "\n",
       "\n"
      ],
      "text/plain": [
       "[1] 1386   19"
      ]
     },
     "metadata": {}
    },
    {
     "output_type": "display_data",
     "data": {
      "text/html": [
       "<style>\n",
       ".list-inline {list-style: none; margin:0; padding: 0}\n",
       ".list-inline>li {display: inline-block}\n",
       ".list-inline>li:not(:last-child)::after {content: \"\\00b7\"; padding: 0 .5ex}\n",
       "</style>\n",
       "<ol class=list-inline><li>260</li><li>19</li></ol>\n"
      ],
      "text/latex": [
       "\\begin{enumerate*}\n",
       "\\item 260\n",
       "\\item 19\n",
       "\\end{enumerate*}\n"
      ],
      "text/markdown": [
       "1. 260\n",
       "2. 19\n",
       "\n",
       "\n"
      ],
      "text/plain": [
       "[1] 260  19"
      ]
     },
     "metadata": {}
    }
   ],
   "metadata": {
    "vscode": {
     "languageId": "r"
    }
   }
  },
  {
   "cell_type": "code",
   "execution_count": 19,
   "source": [
    "library(corrplot)\n",
    "\n",
    "lifeData_train.matrix <- as.matrix(lifeData_train)[,-(1:4)]\n",
    "lifeData_train.matrix <- apply(lifeData_train.matrix, 2, as.numeric)\n",
    "corrplot(cor(lifeData_train.matrix))"
   ],
   "outputs": [
    {
     "output_type": "stream",
     "name": "stderr",
     "text": [
      "Warning message in apply(lifeData_train.matrix, 2, as.numeric):\n",
      "\"NAs introduced by coercion\"\n"
     ]
    },
    {
     "output_type": "display_data",
     "data": {
      "image/png": "[encoded data removed]",
      "text/plain": [
       "Plot with title \"\""
      ]
     },
     "metadata": {
      "image/png": {
       "width": 420,
       "height": 420
      }
     }
    }
   ],
   "metadata": {}
  },
  {
   "cell_type": "code",
   "execution_count": 20,
   "source": [
    "library(R2jags)\n",
    "\n",
    "status = rep(0,nrow(lifeData_train))\n",
    "for (i in 1:nrow(lifeData_train)) {\n",
    "  status[i] = ifelse(lifeData_train$Status[i]==\"Developing\",1,2)\n",
    "}\n",
    "\n",
    "continent = as.numeric(as.factor(lifeData_train$Continent))\n",
    "mortality = lifeData_train$\"Adult.Mortality\"\n",
    "infant_deaths = lifeData_train$\"infant.deaths\"\n",
    "alcohol = lifeData_train$\"Alcohol\"\n",
    "percExp = lifeData_train$\"percentage.expenditure\"\n",
    "hepB = lifeData_train$\"Hepatitis.B\"\n",
    "measles = lifeData_train$\"Measles\" / 100\n",
    "BMI = lifeData_train$\"BMI\"\n",
    "under5Deaths = lifeData_train$\"under.five.deaths\"\n",
    "polio = lifeData_train$\"Polio\"\n",
    "totalExp = lifeData_train$\"Total.expenditure\"\n",
    "dipth = lifeData_train$\"Diphtheria\"\n",
    "hivaids = lifeData_train$\"HIV.AIDS\"\n",
    "gdp = lifeData_train$\"GDP\" \n",
    "pop = lifeData_train$\"Population\" / 10000000\n",
    "thin1019 = lifeData_train$\"thinness.1.19.years\"\n",
    "thin59 = lifeData_train$\"thinness.5.9.years\"\n",
    "incomeComp = lifeData_train$\"Income.composition.of.resources\"\n",
    "school = lifeData_train$\"Schooling\"\n",
    "y = lifeData_train$\"Life.expectancy\"\n",
    "N = length(lifeData_train$Country) #go through each point\n",
    "J = length(unique(lifeData_train$Country)) #go through each country\n",
    "\n",
    "# encode country\n",
    "indicesDict = c(unique(lifeData_train$Country))\n",
    "indices = rep(0,N)\n",
    "for (i in 1:N) {\n",
    "  indices[i] = which(indicesDict==lifeData_train$Country[i])\n",
    "}"
   ],
   "outputs": [],
   "metadata": {
    "vscode": {
     "languageId": "r"
    }
   }
  },
  {
   "cell_type": "markdown",
   "source": [
    "## Model using Country + Continent as encoding"
   ],
   "metadata": {}
  },
  {
   "cell_type": "code",
   "execution_count": 21,
   "source": [
    "X = cbind(mortality, alcohol, hepB, measles, BMI, polio,\n",
    "            totalExp, dipth, hivaids, gdp, pop, thin1019, incomeComp, school)\n",
    "XTX = t(X) %*% X\n",
    "g = 1\n",
    "\n",
    "save.parms.1 = c(\"alpha\", \"alphay\", \"beta\",\"betay\")\n",
    "life_expectancy.data.1 = c(\"y\",\"mortality\",\"alcohol\", \n",
    "                            \"hepB\",\"measles\",\"BMI\",\"polio\",\"totalExp\",\n",
    "                            \"dipth\",\"hivaids\",\"gdp\",\"pop\",\"thin1019\",\n",
    "                            \"incomeComp\",\"school\",\"N\",\"J\",\"indices\", \"continent\",\n",
    "                            \"g\", \"XTX\")                         "
   ],
   "outputs": [],
   "metadata": {
    "vscode": {
     "languageId": "r"
    }
   }
  },
  {
   "cell_type": "code",
   "execution_count": 22,
   "source": [
    "life_expectancy.model.1 = function()\n",
    "{\n",
    "  for (i in 1:N) {\n",
    "     y[i] ~ dnorm(mu[i],tau*k[i]) \n",
    "     mu[i] <- \n",
    "          alphay[indices[i]] # intercept\n",
    "          + betay[continent[i],1]*mortality[i] \n",
    "          + betay[continent[i],2]*alcohol[i] \n",
    "          + betay[continent[i],3]*hepB[i] \n",
    "          + betay[continent[i],4]*measles[i] \n",
    "          + betay[continent[i],5]*BMI[i] \n",
    "          + betay[continent[i],6]*polio[i] \n",
    "          + betay[continent[i],7]*totalExp[i] \n",
    "          + betay[continent[i],8]*dipth[i] \n",
    "          + betay[continent[i],9]*hivaids[i] \n",
    "          + betay[continent[i],10]*gdp[i] \n",
    "          + betay[continent[i],11]*pop[i] \n",
    "          + betay[continent[i],12]*thin1019[i] \n",
    "          + betay[continent[i],13]*incomeComp[i] \n",
    "          + betay[continent[i],14]*school[i] \n",
    "    k[i] ~ dgamma(3/2,3/2)\n",
    "  }\n",
    "  alpha ~ dnorm(60, 1e-4)\n",
    "  for (j in 1:J) {\n",
    "    alphay[j] ~ dnorm(alpha, tau2)\n",
    "  }      \n",
    "\n",
    "  for (k in 1:14) {\n",
    "    beta[k] ~ dnorm(0,1e-6)\n",
    "  }\n",
    "  \n",
    "  for(j in 1:6) {\n",
    "      betay[j,1:14] ~ dmnorm(beta, XTX*tau2/g) \n",
    "  }\n",
    "  tau ~ dgamma(1e-6,1e-6)\n",
    "  tau2 ~ dgamma(1e-6,1e-6)\n",
    "}"
   ],
   "outputs": [],
   "metadata": {
    "vscode": {
     "languageId": "r"
    }
   }
  },
  {
   "cell_type": "code",
   "execution_count": 23,
   "source": [
    "life_expectancy.out.1 = jags(data=life_expectancy.data.1,parameters.to.save=save.parms.1,model.file=life_expectancy.model.1,\n",
    "                           n.chains=3,n.iter=20000,n.burnin=5000,n.thin=1)\n",
    "print(life_expectancy.out.1, digits = 6)"
   ],
   "outputs": [
    {
     "output_type": "stream",
     "name": "stdout",
     "text": [
      "Compiling model graph\n",
      "   Resolving undeclared variables\n",
      "   Allocating nodes\n",
      "Graph information:\n",
      "   Observed stochastic nodes: 1386\n",
      "   Unobserved stochastic nodes: 1540\n",
      "   Total graph size: 37961\n",
      "\n",
      "Initializing model\n",
      "\n",
      "Inference for Bugs model at \"C:/Users/MINGCH~1/AppData/Local/Temp/Rtmp0sJ9BN/model15041f1336a9.txt\", fit using jags,\n",
      " 3 chains, each with 20000 iterations (first 5000 discarded)\n",
      " n.sims = 45000 iterations saved\n",
      "                mu.vect   sd.vect        2.5%         25%         50%\n",
      "alpha         67.399154  0.487182   66.478210   67.054065   67.391173\n",
      "alphay[1]     64.423000  0.602197   63.235011   64.016041   64.426622\n",
      "alphay[2]     68.846414  0.983217   65.251728   68.625899   69.017892\n",
      "alphay[3]     68.938338  0.478400   68.051249   68.595713   68.927259\n",
      "alphay[4]     58.010765  0.559545   56.922191   57.623550   58.011516\n",
      "alphay[5]     67.820857  0.515539   66.851351   67.459422   67.802779\n",
      "alphay[6]     68.948564  0.429332   68.133098   68.650384   68.942304\n",
      "alphay[7]     68.904446  0.640527   67.659901   68.470946   68.897011\n",
      "alphay[8]     70.297885  0.515314   69.305190   69.948961   70.290668\n",
      "alphay[9]     66.568477  0.469561   65.668181   66.242937   66.561875\n",
      "alphay[10]    69.590804  0.582398   68.462778   69.185377   69.589285\n",
      "alphay[11]    66.909730  0.550372   65.872691   66.521892   66.899821\n",
      "alphay[12]    68.773263  0.529420   67.749203   68.416116   68.766781\n",
      "alphay[13]    66.883238  0.470616   66.004336   66.545259   66.875099\n",
      "alphay[14]    62.144873  0.453547   61.272611   61.831190   62.143758\n",
      "alphay[15]    69.739639  0.593219   68.583792   69.333011   69.740229\n",
      "alphay[16]    69.907631  0.474577   69.005435   69.578444   69.897495\n",
      "alphay[17]    66.111120  0.584312   65.010440   65.701987   66.107149\n",
      "alphay[18]    68.683312  0.526530   67.695905   68.311677   68.672290\n",
      "alphay[19]    67.369297  0.500467   66.430049   67.013254   67.359854\n",
      "alphay[20]    63.854854  0.515789   62.831641   63.509416   63.859170\n",
      "alphay[21]    63.803719  0.524176   62.772079   63.448923   63.809539\n",
      "alphay[22]    69.090545  0.474407   68.186858   68.756889   69.081910\n",
      "alphay[23]    67.451036  0.533325   66.403710   67.087561   67.450386\n",
      "alphay[24]    63.050105  0.509768   62.069834   62.693773   63.049468\n",
      "alphay[25]    70.174402  0.566328   69.085672   69.788324   70.168939\n",
      "alphay[26]    62.957531  0.696748   61.655979   62.479919   62.939921\n",
      "alphay[27]    61.688610  0.515144   60.678016   61.337967   61.692970\n",
      "alphay[28]    70.842553  0.497906   69.899854   70.494345   70.830827\n",
      "alphay[29]    70.043749  0.506123   69.084152   69.691961   70.038583\n",
      "alphay[30]    69.091787  0.436566   68.272697   68.781167   69.081433\n",
      "alphay[31]    64.565517  0.482902   63.632095   64.229296   64.561090\n",
      "alphay[32]    72.247403  0.437483   71.425311   71.941233   72.240093\n",
      "alphay[33]    65.900037  0.550142   64.855019   65.523651   65.891540\n",
      "alphay[34]    69.736022  0.473974   68.823148   69.410825   69.732986\n",
      "alphay[35]    67.048001  0.516798   66.045806   66.697785   67.046598\n",
      "alphay[36]    69.380246  0.466828   68.492869   69.049467   69.370411\n",
      "alphay[37]    70.137061  0.441581   69.320827   69.822729   70.124809\n",
      "alphay[38]    69.149168  0.507970   68.192334   68.790076   69.136592\n",
      "alphay[39]    69.317506  0.528327   68.267726   68.958762   69.322895\n",
      "alphay[40]    68.283448  0.553622   67.218419   67.903248   68.279125\n",
      "alphay[41]    66.905140  0.485060   65.962277   66.576940   66.901280\n",
      "alphay[42]    66.189278  0.529104   65.211501   65.803136   66.176289\n",
      "alphay[43]    71.413511  0.568400   70.311677   71.031638   71.409439\n",
      "alphay[44]    65.154613  0.518208   64.167133   64.796377   65.147434\n",
      "alphay[45]    68.780518  0.441348   67.943507   68.473720   68.772815\n",
      "alphay[46]    69.607144  0.534733   68.572537   69.243385   69.604552\n",
      "alphay[47]    64.931381  0.561857   63.847499   64.550688   64.921651\n",
      "alphay[48]    70.037683  0.488696   69.103860   69.696590   70.032893\n",
      "alphay[49]    73.463345  1.891864   69.103980   73.318919   74.132134\n",
      "alphay[50]    64.284191  0.499842   63.321191   63.940198   64.279343\n",
      "alphay[51]    62.253491  0.510960   61.260481   61.903768   62.252105\n",
      "alphay[52]    65.978994  0.497295   65.020992   65.630082   65.976010\n",
      "alphay[53]    70.266786  0.433695   69.442072   69.967287   70.257396\n",
      "alphay[54]    69.124588  1.627747   65.925996   68.064234   69.091427\n",
      "alphay[55]    67.288241  0.526184   66.285592   66.924859   67.273651\n",
      "alphay[56]    67.560082  1.216716   65.997078   66.801232   67.277988\n",
      "alphay[57]    72.480095  0.734247   71.079002   71.984499   72.464959\n",
      "alphay[58]    70.583937  0.525431   69.589014   70.216697   70.573519\n",
      "alphay[59]    70.597982  0.490276   69.668906   70.259138   70.592313\n",
      "alphay[60]    70.241672  0.451175   69.401449   69.921542   70.230674\n",
      "alphay[61]    66.907827  0.510225   65.942751   66.549968   66.897953\n",
      "alphay[62]    65.771155  0.530571   64.794995   65.389005   65.764443\n",
      "alphay[63]    64.631810  0.520991   63.623403   64.275252   64.629190\n",
      "alphay[64]    62.752920  0.608410   61.601465   62.328842   62.746170\n",
      "alphay[65]    67.989676  0.556136   66.951229   67.595889   67.976273\n",
      "alphay[66]    67.776614  0.515295   66.791171   67.418515   67.771016\n",
      "alphay[67]    64.827296  0.625049   63.629710   64.387322   64.830410\n",
      "alphay[68]    64.190276  0.624045   63.013101   63.769757   64.173988\n",
      "alphay[69]    67.856830  0.580149   66.755479   67.451054   67.851850\n",
      "alphay[70]    68.928731  0.592332   67.753370   68.533059   68.930143\n",
      "alphay[71]    66.259205  0.494791   65.290791   65.919195   66.259110\n",
      "alphay[72]    64.798718  0.611131   63.611886   64.377172   64.806638\n",
      "alphay[73]    70.091582  0.471678   69.202946   69.756622   70.080906\n",
      "alphay[74]    71.183613  0.584139   70.053486   70.779431   71.184973\n",
      "alphay[75]    61.741598  0.499217   60.752630   61.400285   61.747469\n",
      "alphay[76]    69.977093  0.505410   69.018087   69.623761   69.970189\n",
      "alphay[77]    64.657639  0.455873   63.768787   64.345334   64.657350\n",
      "alphay[78]    69.768066  0.497226   68.829176   69.417286   69.756607\n",
      "alphay[79]    69.911936  0.454516   69.050525   69.591933   69.900943\n",
      "alphay[80]    65.851436  0.505309   64.900421   65.492455   65.848060\n",
      "alphay[81]    68.124471  0.483783   67.226184   67.779834   68.115082\n",
      "alphay[82]    68.054061  0.459759   67.189664   67.729592   68.048845\n",
      "alphay[83]    64.274120  0.726111   62.966193   63.765054   64.237857\n",
      "alphay[84]    67.558525  0.504970   66.578843   67.208888   67.555704\n",
      "alphay[85]    66.830945  0.550670   65.759397   66.454592   66.826584\n",
      "alphay[86]    68.406667  0.555025   67.321074   68.022674   68.407172\n",
      "alphay[87]    68.915579  0.696773   67.556611   68.448086   68.911237\n",
      "alphay[88]    70.213582  0.462155   69.334389   69.891316   70.204860\n",
      "alphay[89]    64.369323  0.511969   63.377774   64.026953   64.365953\n",
      "alphay[90]    60.999762  0.594428   59.856877   60.589012   60.993608\n",
      "alphay[91]    67.086079  0.584701   65.969319   66.672062   67.078690\n",
      "alphay[92]    70.793495  0.456776   69.932013   70.473607   70.787368\n",
      "alphay[93]    65.097124  0.514796   64.112972   64.735895   65.097221\n",
      "alphay[94]    69.376396  0.448154   68.531149   69.063481   69.365743\n",
      "alphay[95]    68.788093  0.461459   67.934751   68.463746   68.773036\n",
      "alphay[96]    68.296039  0.475838   67.400859   67.961256   68.287627\n",
      "alphay[97]    69.067281  0.490121   68.162934   68.715119   69.054322\n",
      "alphay[98]    70.094953  0.507841   69.124877   69.748844   70.084656\n",
      "alphay[99]    67.770993  0.493141   66.853177   67.416479   67.763177\n",
      "alphay[100]   66.726272  0.597342   65.598956   66.307105   66.719586\n",
      "alphay[101]   65.720814  0.640142   64.454596   65.286200   65.723385\n",
      "alphay[102]   67.779713  0.551558   66.727035   67.396418   67.771612\n",
      "alphay[103]   66.505279  0.480122   65.578486   66.174570   66.498842\n",
      "alphay[104]   67.250538  0.579490   66.098040   66.863156   67.252829\n",
      "alphay[105]   68.301154  0.480400   67.403668   67.961623   68.290788\n",
      "alphay[106]   70.125441  0.507247   69.168661   69.770249   70.112260\n",
      "alphay[107]   58.861519  0.625462   57.620299   58.443671   58.868621\n",
      "alphay[108]   67.576390  0.462340   66.705879   67.253029   67.571068\n",
      "alphay[109]   65.441260  0.573189   64.362931   65.033636   65.435703\n",
      "alphay[110]   70.720505  0.500248   69.779611   70.375714   70.712605\n",
      "alphay[111]   71.599828  0.582382   70.481122   71.193426   71.597364\n",
      "alphay[112]   67.785336  0.513132   66.817929   67.426036   67.776495\n",
      "alphay[113]   64.550194  0.532594   63.537021   64.182871   64.540468\n",
      "alphay[114]   70.123534  0.674810   68.793127   69.669343   70.129378\n",
      "alphay[115]   70.005059  0.462683   69.118503   69.680756   70.004151\n",
      "alphay[116]   65.278613  0.439994   64.440794   64.972142   65.271267\n",
      "alphay[117]   71.360988  0.480717   70.464009   71.017700   71.354561\n",
      "alphay[118]   66.248940  0.541790   65.199797   65.873012   66.243533\n",
      "alphay[119]   63.731850  0.611654   62.536824   63.315491   63.736059\n",
      "alphay[120]   66.643788  0.524601   65.665308   66.266951   66.631815\n",
      "alphay[121]   67.778176  0.492340   66.839171   67.434431   67.772668\n",
      "alphay[122]   64.506869  0.466582   63.628621   64.175026   64.499793\n",
      "alphay[123]   67.730345  0.484473   66.813306   67.391761   67.718712\n",
      "alphay[124]   65.236115  0.501130   64.273285   64.885840   65.233059\n",
      "alphay[125]   65.590857  0.603474   64.385647   65.184124   65.597335\n",
      "alphay[126]   66.824286  0.535608   65.831077   66.442404   66.812942\n",
      "alphay[127]   68.824191  0.482665   67.918611   68.481442   68.810403\n",
      "alphay[128]   66.132036  0.455634   65.268098   65.812758   66.125403\n",
      "alphay[129]   68.420107  0.438840   67.596855   68.109827   68.407735\n",
      "alphay[130]   65.069484  0.592567   63.930273   64.658258   65.067851\n",
      "alphay[131]   66.994753  0.614934   65.827630   66.564095   66.997447\n",
      "beta[1]       -0.037286  0.001197   -0.039443   -0.038121   -0.037378\n",
      "beta[2]        0.003563  0.023459   -0.041340   -0.012429    0.003459\n",
      "beta[3]        0.005432  0.003299   -0.000937    0.003229    0.005346\n",
      "beta[4]       -0.000023  0.000530   -0.001061   -0.000383   -0.000022\n",
      "beta[5]        0.055014  0.007932    0.039220    0.049703    0.054885\n",
      "beta[6]        0.002684  0.009127   -0.018079   -0.002560    0.003707\n",
      "beta[7]       -0.002050  0.020908   -0.043078   -0.016145   -0.002206\n",
      "beta[8]        0.005462  0.008872   -0.010148   -0.000857    0.004454\n",
      "beta[9]       -0.059602  0.018498   -0.095875   -0.071990   -0.059606\n",
      "beta[10]       4.010829  0.701195    2.634504    3.537525    4.016160\n",
      "beta[11]      -0.002323  0.013561   -0.029254   -0.011427   -0.002027\n",
      "beta[12]      -0.064704  0.022263   -0.109346   -0.079652   -0.064189\n",
      "beta[13]       1.071230  0.424553    0.237749    0.786617    1.067959\n",
      "beta[14]       0.391485  0.039054    0.315966    0.365927    0.389921\n",
      "betay[1,1]    -0.038361  0.001006   -0.040242   -0.039063   -0.038387\n",
      "betay[2,1]    -0.038504  0.001400   -0.041139   -0.039460   -0.038558\n",
      "betay[3,1]    -0.036447  0.001386   -0.038991   -0.037408   -0.036514\n",
      "betay[4,1]    -0.036738  0.001539   -0.039608   -0.037800   -0.036801\n",
      "betay[5,1]    -0.037410  0.001549   -0.040319   -0.038471   -0.037472\n",
      "betay[6,1]    -0.036210  0.001547   -0.039072   -0.037290   -0.036263\n",
      "betay[1,2]    -0.011106  0.024774   -0.058877   -0.027910   -0.011327\n",
      "betay[2,2]    -0.002442  0.030149   -0.061388   -0.022544   -0.002777\n",
      "betay[3,2]    -0.002814  0.023132   -0.045671   -0.018557   -0.003728\n",
      "betay[4,2]     0.008150  0.033958   -0.057836   -0.014648    0.008097\n",
      "betay[5,2]     0.000522  0.035067   -0.067825   -0.023426    0.000619\n",
      "betay[6,2]     0.029661  0.034324   -0.036885    0.006546    0.029430\n",
      "betay[1,3]     0.004061  0.003472   -0.002677    0.001723    0.004021\n",
      "betay[2,3]     0.009725  0.002461    0.004908    0.008061    0.009733\n",
      "betay[3,3]     0.002231  0.003101   -0.003694    0.000132    0.002181\n",
      "betay[4,3]     0.005943  0.004380   -0.002496    0.003008    0.005877\n",
      "betay[5,3]     0.006404  0.006417   -0.006186    0.002102    0.006387\n",
      "betay[6,3]     0.003093  0.005427   -0.007452   -0.000576    0.003054\n",
      "betay[1,4]    -0.000691  0.000377   -0.001457   -0.000936   -0.000682\n",
      "betay[2,4]     0.000102  0.000333   -0.000573   -0.000114    0.000108\n",
      "betay[3,4]     0.000143  0.000668   -0.001161   -0.000304    0.000144\n",
      "betay[4,4]    -0.000098  0.000919   -0.001900   -0.000711   -0.000100\n",
      "betay[5,4]     0.000264  0.000935   -0.001586   -0.000360    0.000263\n",
      "betay[6,4]     0.000118  0.000889   -0.001615   -0.000481    0.000116\n",
      "betay[1,5]     0.042723  0.008574    0.026226    0.036874    0.042735\n",
      "betay[2,5]     0.051466  0.009290    0.033655    0.045049    0.051362\n",
      "betay[3,5]     0.068820  0.010316    0.048532    0.061856    0.068837\n",
      "betay[4,5]     0.056519  0.009698    0.037279    0.050006    0.056511\n",
      "betay[5,5]     0.056345  0.010995    0.034758    0.049035    0.056338\n",
      "betay[6,5]     0.054358  0.010665    0.033565    0.047237    0.054274\n",
      "betay[1,6]    -0.008458  0.010607   -0.029349   -0.015529   -0.008455\n",
      "betay[2,6]     0.009120  0.010759   -0.012094    0.001885    0.009123\n",
      "betay[3,6]    -0.004814  0.015502   -0.035551   -0.015169   -0.004608\n",
      "betay[4,6]     0.011018  0.013331   -0.015514    0.002093    0.011145\n",
      "betay[5,6]     0.003678  0.010731   -0.017428   -0.003460    0.003669\n",
      "betay[6,6]     0.004830  0.009529   -0.014567   -0.001408    0.005076\n",
      "betay[1,7]    -0.015687  0.022467   -0.060369   -0.030525   -0.015503\n",
      "betay[2,7]     0.011948  0.028115   -0.043541   -0.006826    0.011973\n",
      "betay[3,7]    -0.036032  0.019448   -0.074075   -0.049178   -0.036085\n",
      "betay[4,7]     0.012321  0.029810   -0.045201   -0.007775    0.011949\n",
      "betay[5,7]     0.011432  0.039399   -0.065268   -0.015118    0.011373\n",
      "betay[6,7]     0.002510  0.028398   -0.053145   -0.016512    0.002464\n",
      "betay[1,8]     0.015397  0.010744   -0.005734    0.008097    0.015396\n",
      "betay[2,8]    -0.002885  0.011111   -0.024587   -0.010355   -0.002847\n",
      "betay[3,8]     0.013529  0.014947   -0.015665    0.003424    0.013494\n",
      "betay[4,8]    -0.005769  0.014027   -0.033077   -0.015240   -0.005831\n",
      "betay[5,8]     0.004530  0.005679   -0.006511    0.000879    0.004446\n",
      "betay[6,8]     0.009953  0.010632   -0.010833    0.002767    0.009870\n",
      "betay[1,9]    -0.042585  0.009843   -0.062020   -0.049192   -0.042424\n",
      "betay[2,9]    -0.045498  0.024691   -0.093625   -0.062262   -0.045405\n",
      "betay[3,9]    -0.067782  0.024403   -0.116313   -0.083851   -0.067689\n",
      "betay[4,9]    -0.065671  0.025547   -0.116029   -0.082725   -0.065494\n",
      "betay[5,9]    -0.058815  0.025791   -0.109879   -0.075956   -0.058884\n",
      "betay[6,9]    -0.077668  0.025840   -0.129000   -0.094851   -0.077379\n",
      "betay[1,10]    3.618776  0.996958    1.663879    2.955511    3.622517\n",
      "betay[2,10]    3.954054  0.987506    2.019573    3.291872    3.958161\n",
      "betay[3,10]    4.148381  0.593492    2.944371    3.757119    4.163022\n",
      "betay[4,10]    3.878579  0.976168    1.957948    3.224732    3.881353\n",
      "betay[5,10]    4.368573  0.885800    2.618892    3.779026    4.372331\n",
      "betay[6,10]    4.068685  0.832993    2.435061    3.511550    4.067734\n",
      "betay[1,11]   -0.000322  0.015398   -0.031179   -0.010571   -0.000078\n",
      "betay[2,11]   -0.001106  0.013113   -0.028161   -0.009381   -0.000664\n",
      "betay[3,11]   -0.007405  0.015694   -0.038147   -0.018037   -0.007215\n",
      "betay[4,11]   -0.001740  0.014117   -0.029636   -0.011112   -0.001669\n",
      "betay[5,11]   -0.002042  0.016179   -0.034155   -0.012923   -0.001932\n",
      "betay[6,11]   -0.001607  0.016166   -0.033568   -0.012417   -0.001392\n",
      "betay[1,12]   -0.072082  0.019017   -0.110386   -0.084567   -0.071671\n",
      "betay[2,12]   -0.058194  0.021577   -0.102236   -0.072410   -0.057340\n",
      "betay[3,12]   -0.051181  0.031039   -0.112435   -0.072124   -0.050943\n",
      "betay[4,12]   -0.068403  0.031120   -0.130372   -0.089217   -0.068050\n",
      "betay[5,12]   -0.064150  0.031890   -0.126666   -0.085760   -0.064106\n",
      "betay[6,12]   -0.074846  0.031374   -0.137392   -0.096010   -0.074520\n",
      "betay[1,13]    1.511848  0.551513    0.453090    1.134353    1.508208\n",
      "betay[2,13]    0.973474  0.373948    0.249583    0.724767    0.970708\n",
      "betay[3,13]    1.151901  0.629845    0.023707    0.719501    1.108321\n",
      "betay[4,13]    1.576429  0.788282    0.034424    1.045832    1.574476\n",
      "betay[5,13]    0.669214  0.490194   -0.284350    0.338733    0.668119\n",
      "betay[6,13]    0.538899  0.433067   -0.284513    0.242295    0.527726\n",
      "betay[1,14]    0.458448  0.044883    0.371269    0.428124    0.458422\n",
      "betay[2,14]    0.404275  0.043570    0.319033    0.374770    0.404108\n",
      "betay[3,14]    0.361359  0.049178    0.266661    0.328235    0.360785\n",
      "betay[4,14]    0.365144  0.057367    0.252993    0.326341    0.365241\n",
      "betay[5,14]    0.394051  0.061441    0.273539    0.352925    0.393932\n",
      "betay[6,14]    0.364416  0.055583    0.257097    0.326712    0.364358\n",
      "deviance    2781.822978 67.894144 2650.383266 2735.734919 2781.424738\n",
      "                    75%       97.5%     Rhat n.eff\n",
      "alpha         67.732512   68.358125 1.177823    15\n",
      "alphay[1]     64.840668   65.589218 1.151996    18\n",
      "alphay[2]     69.376823   70.027262 1.361413    14\n",
      "alphay[3]     69.268341   69.896965 1.160597    17\n",
      "alphay[4]     58.400050   59.090335 1.139058    19\n",
      "alphay[5]     68.174903   68.849295 1.170189    16\n",
      "alphay[6]     69.240378   69.793853 1.159674    17\n",
      "alphay[7]     69.335756   70.171668 1.147134    18\n",
      "alphay[8]     70.638011   71.340582 1.157079    17\n",
      "alphay[9]     66.888646   67.499585 1.141088    19\n",
      "alphay[10]    70.001651   70.711610 1.105229    24\n",
      "alphay[11]    67.277983   68.020875 1.178419    15\n",
      "alphay[12]    69.124719   69.841421 1.178103    16\n",
      "alphay[13]    67.203474   67.821931 1.189124    15\n",
      "alphay[14]    62.460547   63.012518 1.178676    15\n",
      "alphay[15]    70.143751   70.892256 1.150235    18\n",
      "alphay[16]    70.232954   70.847957 1.143351    18\n",
      "alphay[17]    66.515897   67.252389 1.196374    14\n",
      "alphay[18]    69.043413   69.735927 1.131880    20\n",
      "alphay[19]    67.709110   68.368489 1.168943    16\n",
      "alphay[20]    64.207811   64.843137 1.124339    21\n",
      "alphay[21]    64.163059   64.803603 1.145044    18\n",
      "alphay[22]    69.424758   70.009281 1.163944    17\n",
      "alphay[23]    67.815335   68.483070 1.135700    19\n",
      "alphay[24]    63.404000   64.037535 1.172781    16\n",
      "alphay[25]    70.549359   71.313579 1.136929    19\n",
      "alphay[26]    63.411135   64.380884 1.073308    32\n",
      "alphay[27]    62.041891   62.677853 1.112953    22\n",
      "alphay[28]    71.181235   71.837334 1.147511    18\n",
      "alphay[29]    70.384134   71.058152 1.111331    23\n",
      "alphay[30]    69.394969   69.963860 1.164885    16\n",
      "alphay[31]    64.902599   65.496501 1.155002    17\n",
      "alphay[32]    72.543644   73.119986 1.146078    18\n",
      "alphay[33]    66.264770   67.002815 1.097667    25\n",
      "alphay[34]    70.052366   70.684827 1.157084    17\n",
      "alphay[35]    67.397684   68.063998 1.094640    26\n",
      "alphay[36]    69.702390   70.304776 1.173017    16\n",
      "alphay[37]    70.438779   71.016313 1.160372    17\n",
      "alphay[38]    69.498939   70.148037 1.149170    18\n",
      "alphay[39]    69.682359   70.325610 1.114531    22\n",
      "alphay[40]    68.652725   69.397866 1.179006    15\n",
      "alphay[41]    67.236047   67.851400 1.118984    21\n",
      "alphay[42]    66.560459   67.226935 1.173913    16\n",
      "alphay[43]    71.785478   72.561823 1.146174    18\n",
      "alphay[44]    65.509715   66.170282 1.165673    16\n",
      "alphay[45]    69.083308   69.653430 1.164203    17\n",
      "alphay[46]    69.959101   70.686939 1.174755    16\n",
      "alphay[47]    65.309280   66.051929 1.112528    22\n",
      "alphay[48]    70.365573   71.020909 1.178199    15\n",
      "alphay[49]    74.667166   75.564395 1.040489    61\n",
      "alphay[50]    64.628338   65.258835 1.127183    20\n",
      "alphay[51]    62.602788   63.246048 1.131756    20\n",
      "alphay[52]    66.323021   66.947939 1.177275    16\n",
      "alphay[53]    70.561175   71.132294 1.145411    18\n",
      "alphay[54]    70.160984   72.420891 1.018969   120\n",
      "alphay[55]    67.646231   68.328565 1.114705    22\n",
      "alphay[56]    67.884622   70.983528 1.019858   110\n",
      "alphay[57]    72.957293   73.977413 1.094152    26\n",
      "alphay[58]    70.934907   71.642652 1.147995    18\n",
      "alphay[59]    70.923060   71.595522 1.181397    15\n",
      "alphay[60]    70.548820   71.146111 1.153727    17\n",
      "alphay[61]    67.256921   67.921426 1.146638    18\n",
      "alphay[62]    66.128112   66.825703 1.200903    14\n",
      "alphay[63]    64.990663   65.629247 1.162514    17\n",
      "alphay[64]    63.163362   63.972789 1.077855    31\n",
      "alphay[65]    68.367392   69.106066 1.158763    17\n",
      "alphay[66]    68.126653   68.802521 1.134073    20\n",
      "alphay[67]    65.259809   66.034689 1.161566    17\n",
      "alphay[68]    64.590692   65.473349 1.081676    29\n",
      "alphay[69]    68.249562   69.010685 1.164613    16\n",
      "alphay[70]    69.329502   70.087775 1.123659    21\n",
      "alphay[71]    66.601154   67.212897 1.145548    18\n",
      "alphay[72]    65.222421   65.963661 1.150189    18\n",
      "alphay[73]    70.421647   71.004125 1.176820    16\n",
      "alphay[74]    71.583006   72.314124 1.104191    24\n",
      "alphay[75]    62.088974   62.689102 1.119260    21\n",
      "alphay[76]    70.315254   70.993900 1.136374    19\n",
      "alphay[77]    64.966382   65.544182 1.128065    20\n",
      "alphay[78]    70.116215   70.738186 1.187715    15\n",
      "alphay[79]    70.225478   70.824797 1.140560    19\n",
      "alphay[80]    66.197508   66.845650 1.182695    15\n",
      "alphay[81]    68.449753   69.103399 1.170600    16\n",
      "alphay[82]    68.367983   68.965999 1.136025    19\n",
      "alphay[83]    64.739628   65.803723 1.062032    37\n",
      "alphay[84]    67.916646   68.518290 1.144475    18\n",
      "alphay[85]    67.209062   67.903447 1.133420    19\n",
      "alphay[86]    68.791995   69.482196 1.152929    17\n",
      "alphay[87]    69.381876   70.298851 1.100208    25\n",
      "alphay[88]    70.529437   71.134137 1.135350    19\n",
      "alphay[89]    64.707355   65.386431 1.068207    35\n",
      "alphay[90]    61.406009   62.175203 1.114201    22\n",
      "alphay[91]    67.499768   68.209959 1.112809    22\n",
      "alphay[92]    71.107437   71.701999 1.159055    17\n",
      "alphay[93]    65.459952   66.101712 1.107388    23\n",
      "alphay[94]    69.678313   70.271534 1.161703    17\n",
      "alphay[95]    69.104202   69.714336 1.146722    18\n",
      "alphay[96]    68.621589   69.240089 1.147445    18\n",
      "alphay[97]    69.398545   70.070949 1.193525    15\n",
      "alphay[98]    70.437738   71.122058 1.168675    16\n",
      "alphay[99]    68.103928   68.767070 1.192621    15\n",
      "alphay[100]   67.124645   67.936712 1.157350    17\n",
      "alphay[101]   66.164721   66.957099 1.112452    22\n",
      "alphay[102]   68.162947   68.853702 1.091031    27\n",
      "alphay[103]   66.834918   67.442096 1.160811    17\n",
      "alphay[104]   67.644071   68.380990 1.099637    25\n",
      "alphay[105]   68.629287   69.263088 1.175773    16\n",
      "alphay[106]   70.474902   71.123555 1.186347    15\n",
      "alphay[107]   59.287868   60.064131 1.129582    20\n",
      "alphay[108]   67.892539   68.491826 1.106833    24\n",
      "alphay[109]   65.836979   66.584947 1.173916    16\n",
      "alphay[110]   71.052349   71.742416 1.177140    16\n",
      "alphay[111]   72.003254   72.734374 1.137704    19\n",
      "alphay[112]   68.137874   68.794805 1.146691    18\n",
      "alphay[113]   64.914334   65.602306 1.148440    18\n",
      "alphay[114]   70.574657   71.445616 1.099966    25\n",
      "alphay[115]   70.328275   70.897467 1.144605    18\n",
      "alphay[116]   65.577814   66.152265 1.158763    17\n",
      "alphay[117]   71.697995   72.296195 1.180923    15\n",
      "alphay[118]   66.624728   67.308131 1.135342    19\n",
      "alphay[119]   64.151997   64.904743 1.116738    22\n",
      "alphay[120]   67.010205   67.674947 1.132167    20\n",
      "alphay[121]   68.120230   68.740919 1.168897    16\n",
      "alphay[122]   64.827374   65.431560 1.136089    19\n",
      "alphay[123]   68.063985   68.690663 1.152058    18\n",
      "alphay[124]   65.579069   66.225726 1.139334    19\n",
      "alphay[125]   66.004124   66.754575 1.133433    20\n",
      "alphay[126]   67.187221   67.909383 1.188980    15\n",
      "alphay[127]   69.159303   69.785186 1.176691    16\n",
      "alphay[128]   66.443328   67.029502 1.175056    16\n",
      "alphay[129]   68.717500   69.304423 1.111351    23\n",
      "alphay[130]   65.480560   66.213632 1.146195    18\n",
      "alphay[131]   67.422354   68.184058 1.154062    17\n",
      "beta[1]       -0.036512   -0.034808 1.049985    47\n",
      "beta[2]        0.019196    0.049823 1.005445   460\n",
      "beta[3]        0.007656    0.012062 1.010417   220\n",
      "beta[4]        0.000332    0.001022 1.001266  6600\n",
      "beta[5]        0.060547    0.070213 1.002291  1500\n",
      "beta[6]        0.008943    0.018465 1.099222    30\n",
      "beta[7]        0.011952    0.039232 1.001543  3500\n",
      "beta[8]        0.010662    0.026700 1.122115    26\n",
      "beta[9]       -0.047052   -0.023813 1.010719   210\n",
      "beta[10]       4.484459    5.373242 1.005132   480\n",
      "beta[11]       0.006857    0.023922 1.001602  7700\n",
      "beta[12]      -0.049310   -0.022706 1.023335    92\n",
      "beta[13]       1.356925    1.897311 1.003295   910\n",
      "beta[14]       0.415135    0.474717 1.050873    49\n",
      "betay[1,1]    -0.037679   -0.036328 1.053077    43\n",
      "betay[2,1]    -0.037588   -0.035646 1.046432    49\n",
      "betay[3,1]    -0.035530   -0.033598 1.032316    70\n",
      "betay[4,1]    -0.035732   -0.033559 1.030288    74\n",
      "betay[5,1]    -0.036390   -0.034233 1.026128    85\n",
      "betay[6,1]    -0.035196   -0.033045 1.026465    85\n",
      "betay[1,2]     0.005188    0.038479 1.003506   790\n",
      "betay[2,2]     0.017723    0.056932 1.003542   890\n",
      "betay[3,2]     0.011984    0.045232 1.003786   730\n",
      "betay[4,2]     0.030610    0.075095 1.004252   610\n",
      "betay[5,2]     0.024139    0.069197 1.003645   750\n",
      "betay[6,2]     0.052690    0.097269 1.002505  1300\n",
      "betay[1,3]     0.006391    0.010968 1.002138  1700\n",
      "betay[2,3]     0.011373    0.014576 1.001161 10000\n",
      "betay[3,3]     0.004253    0.008488 1.001077 18000\n",
      "betay[4,3]     0.008859    0.014657 1.002640  1200\n",
      "betay[5,3]     0.010718    0.018961 1.002670  1200\n",
      "betay[6,3]     0.006717    0.013948 1.004195   620\n",
      "betay[1,4]    -0.000437    0.000018 1.001036 28000\n",
      "betay[2,4]     0.000324    0.000744 1.002958  1000\n",
      "betay[3,4]     0.000588    0.001460 1.000975 45000\n",
      "betay[4,4]     0.000515    0.001708 1.001195  8700\n",
      "betay[5,4]     0.000888    0.002101 1.000988 45000\n",
      "betay[6,4]     0.000716    0.001873 1.001362  5000\n",
      "betay[1,5]     0.048453    0.059548 1.001270  6600\n",
      "betay[2,5]     0.057799    0.069846 1.001716  2700\n",
      "betay[3,5]     0.075769    0.088954 1.001928  2100\n",
      "betay[4,5]     0.063216    0.075331 1.001430  4300\n",
      "betay[5,5]     0.063705    0.077989 1.002021  1900\n",
      "betay[6,5]     0.061569    0.075300 1.001681  2800\n",
      "betay[1,6]    -0.001367    0.012162 1.004944   510\n",
      "betay[2,6]     0.016449    0.029991 1.005763   420\n",
      "betay[3,6]     0.005683    0.025170 1.012574   170\n",
      "betay[4,6]     0.020039    0.036725 1.005927   410\n",
      "betay[5,6]     0.010870    0.024685 1.001677  2800\n",
      "betay[6,6]     0.011222    0.023102 1.003834   700\n",
      "betay[1,7]    -0.000448    0.027735 1.001219  7900\n",
      "betay[2,7]     0.030798    0.066897 1.002286  1500\n",
      "betay[3,7]    -0.022870    0.001732 1.001386  4800\n",
      "betay[4,7]     0.032348    0.071196 1.000992 45000\n",
      "betay[5,7]     0.038123    0.088662 1.001402  4600\n",
      "betay[6,7]     0.021548    0.058179 1.001351  5200\n",
      "betay[1,8]     0.022646    0.036503 1.001827  2300\n",
      "betay[2,8]     0.004552    0.018842 1.004662   540\n",
      "betay[3,8]     0.023447    0.043206 1.011508   190\n",
      "betay[4,8]     0.003650    0.021769 1.006065   390\n",
      "betay[5,8]     0.008060    0.016110 1.002059  1800\n",
      "betay[6,8]     0.017059    0.031015 1.005461   450\n",
      "betay[1,9]    -0.035938   -0.023520 1.023317    92\n",
      "betay[2,9]    -0.028932    0.002975 1.010249   220\n",
      "betay[3,9]    -0.051238   -0.020422 1.005648   430\n",
      "betay[4,9]    -0.048412   -0.015830 1.006571   360\n",
      "betay[5,9]    -0.041681   -0.008396 1.005054   490\n",
      "betay[6,9]    -0.060143   -0.027514 1.004688   540\n",
      "betay[1,10]    4.293497    5.557020 1.003710   730\n",
      "betay[2,10]    4.615184    5.891881 1.003038   970\n",
      "betay[3,10]    4.558902    5.265593 1.003623   760\n",
      "betay[4,10]    4.539522    5.766766 1.002400  1400\n",
      "betay[5,10]    4.958883    6.098220 1.002190  1600\n",
      "betay[6,10]    4.624057    5.711984 1.002687  1200\n",
      "betay[1,11]    0.009986    0.029712 1.000984 45000\n",
      "betay[2,11]    0.007539    0.024257 1.001682 23000\n",
      "betay[3,11]    0.003202    0.023124 1.001206  9500\n",
      "betay[4,11]    0.007747    0.025968 1.002258  1600\n",
      "betay[5,11]    0.009019    0.029227 1.001235  7400\n",
      "betay[6,11]    0.009349    0.030182 1.001147 11000\n",
      "betay[1,12]   -0.059249   -0.035881 1.014622   150\n",
      "betay[2,12]   -0.043155   -0.018215 1.023615    90\n",
      "betay[3,12]   -0.030250    0.009315 1.015089   140\n",
      "betay[4,12]   -0.047423   -0.008471 1.016576   130\n",
      "betay[5,12]   -0.042597   -0.001958 1.012905   170\n",
      "betay[6,12]   -0.053541   -0.014648 1.013098   170\n",
      "betay[1,13]    1.881460    2.613408 1.003972   670\n",
      "betay[2,13]    1.219147    1.718170 1.002005  1900\n",
      "betay[3,13]    1.535691    2.526360 1.003791   710\n",
      "betay[4,13]    2.105465    3.135639 1.002021  1900\n",
      "betay[5,13]    0.999548    1.633052 1.003344   840\n",
      "betay[6,13]    0.821729    1.412738 1.001877  2200\n",
      "betay[1,14]    0.488856    0.546735 1.016196   140\n",
      "betay[2,14]    0.433461    0.489938 1.022556    96\n",
      "betay[3,14]    0.394142    0.459158 1.016856   130\n",
      "betay[4,14]    0.403665    0.477730 1.018295   120\n",
      "betay[5,14]    0.434707    0.514743 1.016907   140\n",
      "betay[6,14]    0.401400    0.474774 1.022783    99\n",
      "deviance    2827.291247 2916.436872 1.013005   170\n",
      "\n",
      "For each parameter, n.eff is a crude measure of effective sample size,\n",
      "and Rhat is the potential scale reduction factor (at convergence, Rhat=1).\n",
      "\n",
      "DIC info (using the rule, pD = var(deviance)/2)\n",
      "pD = 2277.3 and DIC = 5059.1\n",
      "DIC is an estimate of expected predictive error (lower deviance is better).\n"
     ]
    }
   ],
   "metadata": {
    "vscode": {
     "languageId": "r"
    }
   }
  },
  {
   "cell_type": "code",
   "execution_count": 24,
   "source": [
    "attach.jags(life_expectancy.out.1)\n",
    "\n",
    "# alphay.1 <- mcmc(alphay)\n",
    "# alphay.1 <- apply(alphay.1, 2, mean)\n",
    "# betay.1 <- mcmc(betay)\n",
    "# betay.1 <- apply(betay.1, 2, mean)\n",
    "# gamma.1 <- mcmc(gamma)\n",
    "# gamma.1 <- apply(gamma.1, 2, mean)"
   ],
   "outputs": [],
   "metadata": {}
  },
  {
   "cell_type": "code",
   "execution_count": 25,
   "source": [
    "alphay.1 <- apply(mcmc(alphay),2,mean)\n",
    "head(alphay.1)"
   ],
   "outputs": [
    {
     "output_type": "display_data",
     "data": {
      "text/html": [
       "<style>\n",
       ".dl-inline {width: auto; margin:0; padding: 0}\n",
       ".dl-inline>dt, .dl-inline>dd {float: none; width: auto; display: inline-block}\n",
       ".dl-inline>dt::after {content: \":\\0020\"; padding-right: .5ex}\n",
       ".dl-inline>dt:not(:first-of-type) {padding-left: .5ex}\n",
       "</style><dl class=dl-inline><dt>var1</dt><dd>64.4230003321923</dd><dt>var2</dt><dd>68.8464144512933</dd><dt>var3</dt><dd>68.9383378752337</dd><dt>var4</dt><dd>58.0107652546254</dd><dt>var5</dt><dd>67.8208568553055</dd><dt>var6</dt><dd>68.9485643424532</dd></dl>\n"
      ],
      "text/latex": [
       "\\begin{description*}\n",
       "\\item[var1] 64.4230003321923\n",
       "\\item[var2] 68.8464144512933\n",
       "\\item[var3] 68.9383378752337\n",
       "\\item[var4] 58.0107652546254\n",
       "\\item[var5] 67.8208568553055\n",
       "\\item[var6] 68.9485643424532\n",
       "\\end{description*}\n"
      ],
      "text/markdown": [
       "var1\n",
       ":   64.4230003321923var2\n",
       ":   68.8464144512933var3\n",
       ":   68.9383378752337var4\n",
       ":   58.0107652546254var5\n",
       ":   67.8208568553055var6\n",
       ":   68.9485643424532\n",
       "\n"
      ],
      "text/plain": [
       "    var1     var2     var3     var4     var5     var6 \n",
       "64.42300 68.84641 68.93834 58.01077 67.82086 68.94856 "
      ]
     },
     "metadata": {}
    }
   ],
   "metadata": {}
  },
  {
   "cell_type": "code",
   "execution_count": 26,
   "source": [
    "betay_matrix <- apply(mcmc(betay), 2:3, mean)"
   ],
   "outputs": [],
   "metadata": {}
  },
  {
   "cell_type": "code",
   "execution_count": 27,
   "source": [
    "\n",
    "X = cbind(mortality, alcohol, hepB, measles, BMI, polio,\n",
    "            totalExp, dipth, hivaids, gdp, pop, thin1019, incomeComp, school)\n",
    "\n",
    "fit = rep(NA, nrow(lifeData_train))\n",
    "for (i in 1:nrow(lifeData_train)) {\n",
    "    fit[i] = alphay.1[indices[i]]\n",
    "    continent_id = which(lifeData_train[i,]$Continent == levels(as.factor(lifeData_train$Continent)))\n",
    "    for (j in 1:14) {\n",
    "        fit[i] = fit[i] + betay_matrix[continent_id, j] * X[i,j]\n",
    "    }\n",
    "}\n"
   ],
   "outputs": [],
   "metadata": {}
  },
  {
   "cell_type": "code",
   "execution_count": 28,
   "source": [
    "r = fit - lifeData_train[,4]"
   ],
   "outputs": [],
   "metadata": {}
  },
  {
   "cell_type": "code",
   "execution_count": 29,
   "source": [
    "plot(fit, r)\n",
    "abline(h =0)\n",
    "qqnorm(r)\n",
    "qqline(r)"
   ],
   "outputs": [
    {
     "output_type": "display_data",
     "data": {
      "image/png": "[encoded data removed]",
      "text/plain": [
       "plot without title"
      ]
     },
     "metadata": {
      "image/png": {
       "width": 420,
       "height": 420
      }
     }
    },
    {
     "output_type": "display_data",
     "data": {
      "image/png": "[encoded data removed]",
      "text/plain": [
       "Plot with title \"Normal Q-Q Plot\""
      ]
     },
     "metadata": {
      "image/png": {
       "width": 420,
       "height": 420
      }
     }
    }
   ],
   "metadata": {}
  },
  {
   "cell_type": "markdown",
   "source": [
    "# Test"
   ],
   "metadata": {}
  },
  {
   "cell_type": "code",
   "execution_count": 30,
   "source": [
    "status_test = rep(0,nrow(lifeData_test))\n",
    "for (i in 1:nrow(lifeData_test)) {\n",
    "  status_test[i] = ifelse(lifeData_test$Status[i]==\"Developing\",0,1)\n",
    "}\n",
    "mortality_test = lifeData_test$\"Adult.Mortality\"\n",
    "alcohol_test = lifeData_test$\"Alcohol\"\n",
    "hepB_test = lifeData_test$\"Hepatitis.B\"\n",
    "measles_test = lifeData_test$\"Measles\" / 100\n",
    "BMI_test = lifeData_test$\"BMI\"\n",
    "polio_test = lifeData_test$\"Polio\"\n",
    "totalExp_test = lifeData_test$\"Total.expenditure\"\n",
    "dipth_test = lifeData_test$\"Diphtheria\"\n",
    "hivaids_test = lifeData_test$\"HIV.AIDS\"\n",
    "gdp_test = lifeData_test$\"GDP\"\n",
    "pop_test = lifeData_test$\"Population\" / 10000000\n",
    "thin1019_test = lifeData_test$\"thinness.1.19.years\"\n",
    "incomeComp_test = lifeData_test$\"Income.composition.of.resources\"\n",
    "school_test = lifeData_test$\"Schooling\"\n",
    "\n",
    "indicesDict_test = c(unique(lifeData_test$Country))\n",
    "indices_test = rep(0,nrow(lifeData_test))\n",
    "for (i in 1:nrow(lifeData_test)) {\n",
    "  indices_test[i] = which(indicesDict==lifeData_test$Country[i])\n",
    "}"
   ],
   "outputs": [],
   "metadata": {}
  },
  {
   "cell_type": "code",
   "execution_count": 31,
   "source": [
    "X_test = cbind(mortality_test, alcohol_test, hepB_test, measles_test, BMI_test, polio_test,\n",
    "            totalExp_test, dipth_test, hivaids_test, gdp_test, pop_test, thin1019_test, incomeComp_test, school_test)\n",
    "\n",
    "fit_test = rep(NA, nrow(lifeData_test))\n",
    "for (i in 1:nrow(lifeData_test)) {\n",
    "    fit_test[i] = alphay.1[indices_test[i]]\n",
    "    continent_id = which(lifeData_test[i,]$Continent == levels(as.factor(lifeData_test$Continent)))\n",
    "    for (j in 1:14) {\n",
    "        fit_test[i] = fit_test[i] + betay_matrix[continent_id, j] * X_test[i,j]\n",
    "    }\n",
    "}"
   ],
   "outputs": [],
   "metadata": {}
  },
  {
   "cell_type": "code",
   "execution_count": 32,
   "source": [
    "rmse <- function(x,y) {\n",
    "    return(sqrt(mean((x-y)^2)))\n",
    "}\n",
    "rmse(fit_test, lifeData_test[,4])"
   ],
   "outputs": [
    {
     "output_type": "display_data",
     "data": {
      "text/html": [
       "2.57960259879198"
      ],
      "text/latex": [
       "2.57960259879198"
      ],
      "text/markdown": [
       "2.57960259879198"
      ],
      "text/plain": [
       "[1] 2.579603"
      ]
     },
     "metadata": {}
    }
   ],
   "metadata": {}
  },
  {
   "cell_type": "code",
   "execution_count": null,
   "source": [],
   "outputs": [],
   "metadata": {}
  }
 ],
 "metadata": {
  "kernelspec": {
   "display_name": "R",
   "language": "R",
   "name": "ir"
  },
  "language_info": {
   "name": "R",
   "codemirror_mode": "r",
   "pygments_lexer": "r",
   "mimetype": "text/x-r-source",
   "file_extension": ".r",
   "version": "4.2.1"
  },
  "orig_nbformat": 4
 },
 "nbformat": 4,
 "nbformat_minor": 2
}