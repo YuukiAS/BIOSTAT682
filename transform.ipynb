{
 "cells": [
  {
   "cell_type": "code",
   "execution_count": 2,
   "source": [
    "library(tidyr)\n",
    "library(dplyr)\n",
    "library(corrplot)\n",
    "\n",
    "\n",
    "lifeData_original <- read.csv(\"D:/Code/BIOSTAT682/Life Expectancy.csv\")\n",
    "dim(lifeData_original)\n",
    "\n",
    "countries_to_drop = c(\"Equatorial Guinea\", \"Haiti\")  # they only have predict data, no training data\n",
    "\n",
    "lifeData_full <- lifeData_original %>% drop_na() %>% filter(!Country %in% countries_to_drop)\n",
    "\n",
    "dim(lifeData_full)"
   ],
   "outputs": [
    {
     "output_type": "stream",
     "name": "stderr",
     "text": [
      "\n",
      "Attaching package: 'dplyr'\n",
      "\n",
      "\n",
      "The following objects are masked from 'package:stats':\n",
      "\n",
      "    filter, lag\n",
      "\n",
      "\n",
      "The following objects are masked from 'package:base':\n",
      "\n",
      "    intersect, setdiff, setequal, union\n",
      "\n",
      "\n",
      "corrplot 0.92 loaded\n",
      "\n"
     ]
    },
    {
     "output_type": "display_data",
     "data": {
      "text/html": [
       "<style>\n",
       ".list-inline {list-style: none; margin:0; padding: 0}\n",
       ".list-inline>li {display: inline-block}\n",
       ".list-inline>li:not(:last-child)::after {content: \"\\00b7\"; padding: 0 .5ex}\n",
       "</style>\n",
       "<ol class=list-inline><li>2938</li><li>22</li></ol>\n"
      ],
      "text/latex": [
       "\\begin{enumerate*}\n",
       "\\item 2938\n",
       "\\item 22\n",
       "\\end{enumerate*}\n"
      ],
      "text/markdown": [
       "1. 2938\n",
       "2. 22\n",
       "\n",
       "\n"
      ],
      "text/plain": [
       "[1] 2938   22"
      ]
     },
     "metadata": {}
    },
    {
     "output_type": "display_data",
     "data": {
      "text/html": [
       "<style>\n",
       ".list-inline {list-style: none; margin:0; padding: 0}\n",
       ".list-inline>li {display: inline-block}\n",
       ".list-inline>li:not(:last-child)::after {content: \"\\00b7\"; padding: 0 .5ex}\n",
       "</style>\n",
       "<ol class=list-inline><li>1646</li><li>22</li></ol>\n"
      ],
      "text/latex": [
       "\\begin{enumerate*}\n",
       "\\item 1646\n",
       "\\item 22\n",
       "\\end{enumerate*}\n"
      ],
      "text/markdown": [
       "1. 1646\n",
       "2. 22\n",
       "\n",
       "\n"
      ],
      "text/plain": [
       "[1] 1646   22"
      ]
     },
     "metadata": {}
    }
   ],
   "metadata": {
    "vscode": {
     "languageId": "r"
    }
   }
  },
  {
   "cell_type": "code",
   "execution_count": 28,
   "source": [
    "write.csv(lifeData_full,\"D:/Code/BIOSTAT682/Life Expectancy_v0.csv\", row.names = FALSE)"
   ],
   "outputs": [],
   "metadata": {
    "vscode": {
     "languageId": "r"
    }
   }
  },
  {
   "cell_type": "code",
   "execution_count": 31,
   "source": [
    "columns_to_drop = c(\"percentage.expenditure\", \"infant.deaths\", \"under.five.deaths\", \"thinness.5.9.years.\")\n",
    "lifeData_col_dropped <- lifeData_full %>% select(-one_of(columns_to_drop))\n",
    "write.csv(lifeData_col_dropped,\"D:/Code/BIOSTAT682/Life Expectancy_v1.csv\", row.names = FALSE)"
   ],
   "outputs": [],
   "metadata": {
    "vscode": {
     "languageId": "r"
    }
   }
  },
  {
   "cell_type": "code",
   "execution_count": 58,
   "source": [
    "lifeData_corrected <- lifeData_col_dropped\n",
    "for(i in 2:(nrow(lifeData_corrected)-1)){\n",
    "  if (lifeData_corrected[i,]$Country %in% c(\"Canada\", \"Greece\")) {\n",
    "      lifeData_corrected[i,]$Status = \"Developed\"\n",
    "  }\n",
    "  if (lifeData_corrected[i,]$Country == lifeData_corrected[i-1,]$Country) {\n",
    "    for(j in 5:ncol(lifeData_corrected)) {\n",
    "      if (80*lifeData_corrected[i,j] < lifeData_corrected[i-1,j]) {\n",
    "        lifeData_corrected[i,j] = lifeData_corrected[i,j] * 100\n",
    "      } \n",
    "      if (8*lifeData_corrected[i,j] < lifeData_corrected[i-1,j]) {\n",
    "        lifeData_corrected[i,j] = lifeData_corrected[i,j] * 10\n",
    "      }\n",
    "    }\n",
    "  }\n",
    "  if (lifeData_corrected[i,]$Country == lifeData_corrected[i+1,]$Country) {\n",
    "    for(j in 5:ncol(lifeData_corrected)) {\n",
    "      if (80*lifeData_corrected[i,j] < lifeData_corrected[i+1,j]) {\n",
    "        lifeData_corrected[i,j] = lifeData_corrected[i,j] * 100\n",
    "      }\n",
    "      if (8*lifeData_corrected[i,j] < lifeData_corrected[i+1,j]) {\n",
    "        lifeData_corrected[i,j] = lifeData_corrected[i,j] * 10\n",
    "      }\n",
    "    }\n",
    "  }\n",
    "}"
   ],
   "outputs": [],
   "metadata": {
    "vscode": {
     "languageId": "r"
    }
   }
  },
  {
   "cell_type": "code",
   "execution_count": 59,
   "source": [
    "head(lifeData_corrected, 20)\n",
    "write.csv(lifeData_corrected,\"D:/Code/BIOSTAT682/Life Expectancy_v2.csv\", row.names = FALSE)"
   ],
   "outputs": [
    {
     "output_type": "display_data",
     "data": {
      "text/html": [
       "<table class=\"dataframe\">\n",
       "<caption>A data.frame: 20 × 18</caption>\n",
       "<thead>\n",
       "\t<tr><th></th><th scope=col>Country</th><th scope=col>Year</th><th scope=col>Status</th><th scope=col>Life.expectancy</th><th scope=col>Adult.Mortality</th><th scope=col>Alcohol</th><th scope=col>Hepatitis.B</th><th scope=col>Measles</th><th scope=col>BMI</th><th scope=col>Polio</th><th scope=col>Total.expenditure</th><th scope=col>Diphtheria</th><th scope=col>HIV.AIDS</th><th scope=col>GDP</th><th scope=col>Population</th><th scope=col>thinness.1.19.years.</th><th scope=col>Income.composition.of.resources</th><th scope=col>Schooling</th></tr>\n",
       "\t<tr><th></th><th scope=col>&lt;chr&gt;</th><th scope=col>&lt;int&gt;</th><th scope=col>&lt;chr&gt;</th><th scope=col>&lt;dbl&gt;</th><th scope=col>&lt;dbl&gt;</th><th scope=col>&lt;dbl&gt;</th><th scope=col>&lt;dbl&gt;</th><th scope=col>&lt;dbl&gt;</th><th scope=col>&lt;dbl&gt;</th><th scope=col>&lt;dbl&gt;</th><th scope=col>&lt;dbl&gt;</th><th scope=col>&lt;dbl&gt;</th><th scope=col>&lt;dbl&gt;</th><th scope=col>&lt;dbl&gt;</th><th scope=col>&lt;dbl&gt;</th><th scope=col>&lt;dbl&gt;</th><th scope=col>&lt;dbl&gt;</th><th scope=col>&lt;dbl&gt;</th></tr>\n",
       "</thead>\n",
       "<tbody>\n",
       "\t<tr><th scope=row>1</th><td>Afghanistan</td><td>2015</td><td>Developing</td><td>65.0</td><td>263</td><td>0.01</td><td>65</td><td>1154</td><td>19.1</td><td> 6</td><td>8.16</td><td>65</td><td>0.1</td><td> 584.2592</td><td>33736494</td><td>17.2</td><td>0.479</td><td>10.1</td></tr>\n",
       "\t<tr><th scope=row>2</th><td>Afghanistan</td><td>2014</td><td>Developing</td><td>59.9</td><td>271</td><td>0.01</td><td>62</td><td> 492</td><td>18.6</td><td>58</td><td>8.18</td><td>62</td><td>0.1</td><td> 612.6965</td><td>32758200</td><td>17.5</td><td>0.476</td><td>10.0</td></tr>\n",
       "\t<tr><th scope=row>3</th><td>Afghanistan</td><td>2013</td><td>Developing</td><td>59.9</td><td>268</td><td>0.01</td><td>64</td><td> 430</td><td>18.1</td><td>62</td><td>8.13</td><td>64</td><td>0.1</td><td> 631.7450</td><td>31731688</td><td>17.7</td><td>0.470</td><td> 9.9</td></tr>\n",
       "\t<tr><th scope=row>4</th><td>Afghanistan</td><td>2012</td><td>Developing</td><td>59.5</td><td>272</td><td>0.01</td><td>67</td><td>2787</td><td>17.6</td><td>67</td><td>8.52</td><td>67</td><td>0.1</td><td> 669.9590</td><td>36969580</td><td>17.9</td><td>0.463</td><td> 9.8</td></tr>\n",
       "\t<tr><th scope=row>5</th><td>Afghanistan</td><td>2011</td><td>Developing</td><td>59.2</td><td>275</td><td>0.01</td><td>68</td><td>3013</td><td>17.2</td><td>68</td><td>7.87</td><td>68</td><td>0.1</td><td> 635.3723</td><td>29785990</td><td>18.2</td><td>0.454</td><td> 9.5</td></tr>\n",
       "\t<tr><th scope=row>6</th><td>Afghanistan</td><td>2010</td><td>Developing</td><td>58.8</td><td>279</td><td>0.01</td><td>66</td><td>1989</td><td>16.7</td><td>66</td><td>9.20</td><td>66</td><td>0.1</td><td> 553.3289</td><td>28831670</td><td>18.4</td><td>0.448</td><td> 9.2</td></tr>\n",
       "\t<tr><th scope=row>7</th><td>Afghanistan</td><td>2009</td><td>Developing</td><td>58.6</td><td>281</td><td>0.01</td><td>63</td><td>2861</td><td>16.2</td><td>63</td><td>9.42</td><td>63</td><td>0.1</td><td> 445.8933</td><td>28433100</td><td>18.6</td><td>0.434</td><td> 8.9</td></tr>\n",
       "\t<tr><th scope=row>8</th><td>Afghanistan</td><td>2008</td><td>Developing</td><td>58.1</td><td>287</td><td>0.03</td><td>64</td><td>1599</td><td>15.7</td><td>64</td><td>8.33</td><td>64</td><td>0.1</td><td> 373.3611</td><td>27294310</td><td>18.8</td><td>0.433</td><td> 8.7</td></tr>\n",
       "\t<tr><th scope=row>9</th><td>Afghanistan</td><td>2007</td><td>Developing</td><td>57.5</td><td>295</td><td>0.02</td><td>63</td><td>1141</td><td>15.2</td><td>63</td><td>6.73</td><td>63</td><td>0.1</td><td> 369.8358</td><td>26616792</td><td>19.0</td><td>0.415</td><td> 8.4</td></tr>\n",
       "\t<tr><th scope=row>10</th><td>Afghanistan</td><td>2006</td><td>Developing</td><td>57.3</td><td>295</td><td>0.03</td><td>64</td><td>1990</td><td>14.7</td><td>58</td><td>7.43</td><td>58</td><td>0.1</td><td> 272.5638</td><td>25893450</td><td>19.2</td><td>0.405</td><td> 8.1</td></tr>\n",
       "\t<tr><th scope=row>11</th><td>Afghanistan</td><td>2005</td><td>Developing</td><td>57.3</td><td>291</td><td>0.02</td><td>66</td><td>1296</td><td>14.2</td><td>58</td><td>8.70</td><td>58</td><td>0.1</td><td> 252.9413</td><td>25779800</td><td>19.3</td><td>0.396</td><td> 7.9</td></tr>\n",
       "\t<tr><th scope=row>12</th><td>Afghanistan</td><td>2004</td><td>Developing</td><td>57.0</td><td>293</td><td>0.02</td><td>67</td><td> 466</td><td>13.8</td><td>50</td><td>8.79</td><td>50</td><td>0.1</td><td> 219.1414</td><td>24118979</td><td>19.5</td><td>0.381</td><td> 6.8</td></tr>\n",
       "\t<tr><th scope=row>13</th><td>Afghanistan</td><td>2003</td><td>Developing</td><td>56.7</td><td>295</td><td>0.01</td><td>65</td><td> 798</td><td>13.4</td><td>41</td><td>8.82</td><td>41</td><td>0.1</td><td> 198.7285</td><td>23648510</td><td>19.7</td><td>0.373</td><td> 6.5</td></tr>\n",
       "\t<tr><th scope=row>14</th><td>Afghanistan</td><td>2002</td><td>Developing</td><td>56.2</td><td>300</td><td>0.01</td><td>64</td><td>2486</td><td>13.0</td><td>36</td><td>7.76</td><td>36</td><td>0.1</td><td> 187.8459</td><td>21979923</td><td>19.9</td><td>0.341</td><td> 6.2</td></tr>\n",
       "\t<tr><th scope=row>15</th><td>Afghanistan</td><td>2001</td><td>Developing</td><td>55.3</td><td>316</td><td>0.01</td><td>63</td><td>8762</td><td>12.6</td><td>35</td><td>7.80</td><td>33</td><td>0.1</td><td> 117.4970</td><td> 2966463</td><td>21.0</td><td>0.340</td><td> 5.9</td></tr>\n",
       "\t<tr><th scope=row>16</th><td>Afghanistan</td><td>2000</td><td>Developing</td><td>54.8</td><td>321</td><td>0.01</td><td>62</td><td>6532</td><td>12.2</td><td>24</td><td>8.20</td><td>24</td><td>0.1</td><td> 114.5600</td><td> 2937560</td><td>23.0</td><td>0.338</td><td> 5.5</td></tr>\n",
       "\t<tr><th scope=row>17</th><td>Albania    </td><td>2015</td><td>Developing</td><td>77.8</td><td> 74</td><td>4.60</td><td>99</td><td>   0</td><td>58.0</td><td>99</td><td>6.00</td><td>99</td><td>0.1</td><td>3954.2278</td><td>  288730</td><td> 1.2</td><td>0.762</td><td>14.2</td></tr>\n",
       "\t<tr><th scope=row>18</th><td>Albania    </td><td>2014</td><td>Developing</td><td>77.5</td><td> 80</td><td>4.51</td><td>98</td><td>   0</td><td>57.2</td><td>98</td><td>5.88</td><td>98</td><td>0.1</td><td>4575.7638</td><td>  288914</td><td> 1.2</td><td>0.761</td><td>14.2</td></tr>\n",
       "\t<tr><th scope=row>19</th><td>Albania    </td><td>2013</td><td>Developing</td><td>77.2</td><td> 84</td><td>4.76</td><td>99</td><td>   0</td><td>56.5</td><td>99</td><td>5.66</td><td>99</td><td>0.1</td><td>4414.7231</td><td>  289592</td><td> 1.3</td><td>0.759</td><td>14.2</td></tr>\n",
       "\t<tr><th scope=row>20</th><td>Albania    </td><td>2012</td><td>Developing</td><td>76.9</td><td> 86</td><td>5.14</td><td>99</td><td>   9</td><td>55.8</td><td>99</td><td>5.59</td><td>99</td><td>0.1</td><td>4247.6144</td><td>  294100</td><td> 1.3</td><td>0.752</td><td>14.2</td></tr>\n",
       "</tbody>\n",
       "</table>\n"
      ],
      "text/latex": [
       "A data.frame: 20 × 18\n",
       "\\begin{tabular}{r|llllllllllllllllll}\n",
       "  & Country & Year & Status & Life.expectancy & Adult.Mortality & Alcohol & Hepatitis.B & Measles & BMI & Polio & Total.expenditure & Diphtheria & HIV.AIDS & GDP & Population & thinness.1.19.years. & Income.composition.of.resources & Schooling\\\\\n",
       "  & <chr> & <int> & <chr> & <dbl> & <dbl> & <dbl> & <dbl> & <dbl> & <dbl> & <dbl> & <dbl> & <dbl> & <dbl> & <dbl> & <dbl> & <dbl> & <dbl> & <dbl>\\\\\n",
       "\\hline\n",
       "\t1 & Afghanistan & 2015 & Developing & 65.0 & 263 & 0.01 & 65 & 1154 & 19.1 &  6 & 8.16 & 65 & 0.1 &  584.2592 & 33736494 & 17.2 & 0.479 & 10.1\\\\\n",
       "\t2 & Afghanistan & 2014 & Developing & 59.9 & 271 & 0.01 & 62 &  492 & 18.6 & 58 & 8.18 & 62 & 0.1 &  612.6965 & 32758200 & 17.5 & 0.476 & 10.0\\\\\n",
       "\t3 & Afghanistan & 2013 & Developing & 59.9 & 268 & 0.01 & 64 &  430 & 18.1 & 62 & 8.13 & 64 & 0.1 &  631.7450 & 31731688 & 17.7 & 0.470 &  9.9\\\\\n",
       "\t4 & Afghanistan & 2012 & Developing & 59.5 & 272 & 0.01 & 67 & 2787 & 17.6 & 67 & 8.52 & 67 & 0.1 &  669.9590 & 36969580 & 17.9 & 0.463 &  9.8\\\\\n",
       "\t5 & Afghanistan & 2011 & Developing & 59.2 & 275 & 0.01 & 68 & 3013 & 17.2 & 68 & 7.87 & 68 & 0.1 &  635.3723 & 29785990 & 18.2 & 0.454 &  9.5\\\\\n",
       "\t6 & Afghanistan & 2010 & Developing & 58.8 & 279 & 0.01 & 66 & 1989 & 16.7 & 66 & 9.20 & 66 & 0.1 &  553.3289 & 28831670 & 18.4 & 0.448 &  9.2\\\\\n",
       "\t7 & Afghanistan & 2009 & Developing & 58.6 & 281 & 0.01 & 63 & 2861 & 16.2 & 63 & 9.42 & 63 & 0.1 &  445.8933 & 28433100 & 18.6 & 0.434 &  8.9\\\\\n",
       "\t8 & Afghanistan & 2008 & Developing & 58.1 & 287 & 0.03 & 64 & 1599 & 15.7 & 64 & 8.33 & 64 & 0.1 &  373.3611 & 27294310 & 18.8 & 0.433 &  8.7\\\\\n",
       "\t9 & Afghanistan & 2007 & Developing & 57.5 & 295 & 0.02 & 63 & 1141 & 15.2 & 63 & 6.73 & 63 & 0.1 &  369.8358 & 26616792 & 19.0 & 0.415 &  8.4\\\\\n",
       "\t10 & Afghanistan & 2006 & Developing & 57.3 & 295 & 0.03 & 64 & 1990 & 14.7 & 58 & 7.43 & 58 & 0.1 &  272.5638 & 25893450 & 19.2 & 0.405 &  8.1\\\\\n",
       "\t11 & Afghanistan & 2005 & Developing & 57.3 & 291 & 0.02 & 66 & 1296 & 14.2 & 58 & 8.70 & 58 & 0.1 &  252.9413 & 25779800 & 19.3 & 0.396 &  7.9\\\\\n",
       "\t12 & Afghanistan & 2004 & Developing & 57.0 & 293 & 0.02 & 67 &  466 & 13.8 & 50 & 8.79 & 50 & 0.1 &  219.1414 & 24118979 & 19.5 & 0.381 &  6.8\\\\\n",
       "\t13 & Afghanistan & 2003 & Developing & 56.7 & 295 & 0.01 & 65 &  798 & 13.4 & 41 & 8.82 & 41 & 0.1 &  198.7285 & 23648510 & 19.7 & 0.373 &  6.5\\\\\n",
       "\t14 & Afghanistan & 2002 & Developing & 56.2 & 300 & 0.01 & 64 & 2486 & 13.0 & 36 & 7.76 & 36 & 0.1 &  187.8459 & 21979923 & 19.9 & 0.341 &  6.2\\\\\n",
       "\t15 & Afghanistan & 2001 & Developing & 55.3 & 316 & 0.01 & 63 & 8762 & 12.6 & 35 & 7.80 & 33 & 0.1 &  117.4970 &  2966463 & 21.0 & 0.340 &  5.9\\\\\n",
       "\t16 & Afghanistan & 2000 & Developing & 54.8 & 321 & 0.01 & 62 & 6532 & 12.2 & 24 & 8.20 & 24 & 0.1 &  114.5600 &  2937560 & 23.0 & 0.338 &  5.5\\\\\n",
       "\t17 & Albania     & 2015 & Developing & 77.8 &  74 & 4.60 & 99 &    0 & 58.0 & 99 & 6.00 & 99 & 0.1 & 3954.2278 &   288730 &  1.2 & 0.762 & 14.2\\\\\n",
       "\t18 & Albania     & 2014 & Developing & 77.5 &  80 & 4.51 & 98 &    0 & 57.2 & 98 & 5.88 & 98 & 0.1 & 4575.7638 &   288914 &  1.2 & 0.761 & 14.2\\\\\n",
       "\t19 & Albania     & 2013 & Developing & 77.2 &  84 & 4.76 & 99 &    0 & 56.5 & 99 & 5.66 & 99 & 0.1 & 4414.7231 &   289592 &  1.3 & 0.759 & 14.2\\\\\n",
       "\t20 & Albania     & 2012 & Developing & 76.9 &  86 & 5.14 & 99 &    9 & 55.8 & 99 & 5.59 & 99 & 0.1 & 4247.6144 &   294100 &  1.3 & 0.752 & 14.2\\\\\n",
       "\\end{tabular}\n"
      ],
      "text/markdown": [
       "\n",
       "A data.frame: 20 × 18\n",
       "\n",
       "| <!--/--> | Country &lt;chr&gt; | Year &lt;int&gt; | Status &lt;chr&gt; | Life.expectancy &lt;dbl&gt; | Adult.Mortality &lt;dbl&gt; | Alcohol &lt;dbl&gt; | Hepatitis.B &lt;dbl&gt; | Measles &lt;dbl&gt; | BMI &lt;dbl&gt; | Polio &lt;dbl&gt; | Total.expenditure &lt;dbl&gt; | Diphtheria &lt;dbl&gt; | HIV.AIDS &lt;dbl&gt; | GDP &lt;dbl&gt; | Population &lt;dbl&gt; | thinness.1.19.years. &lt;dbl&gt; | Income.composition.of.resources &lt;dbl&gt; | Schooling &lt;dbl&gt; |\n",
       "|---|---|---|---|---|---|---|---|---|---|---|---|---|---|---|---|---|---|---|\n",
       "| 1 | Afghanistan | 2015 | Developing | 65.0 | 263 | 0.01 | 65 | 1154 | 19.1 |  6 | 8.16 | 65 | 0.1 |  584.2592 | 33736494 | 17.2 | 0.479 | 10.1 |\n",
       "| 2 | Afghanistan | 2014 | Developing | 59.9 | 271 | 0.01 | 62 |  492 | 18.6 | 58 | 8.18 | 62 | 0.1 |  612.6965 | 32758200 | 17.5 | 0.476 | 10.0 |\n",
       "| 3 | Afghanistan | 2013 | Developing | 59.9 | 268 | 0.01 | 64 |  430 | 18.1 | 62 | 8.13 | 64 | 0.1 |  631.7450 | 31731688 | 17.7 | 0.470 |  9.9 |\n",
       "| 4 | Afghanistan | 2012 | Developing | 59.5 | 272 | 0.01 | 67 | 2787 | 17.6 | 67 | 8.52 | 67 | 0.1 |  669.9590 | 36969580 | 17.9 | 0.463 |  9.8 |\n",
       "| 5 | Afghanistan | 2011 | Developing | 59.2 | 275 | 0.01 | 68 | 3013 | 17.2 | 68 | 7.87 | 68 | 0.1 |  635.3723 | 29785990 | 18.2 | 0.454 |  9.5 |\n",
       "| 6 | Afghanistan | 2010 | Developing | 58.8 | 279 | 0.01 | 66 | 1989 | 16.7 | 66 | 9.20 | 66 | 0.1 |  553.3289 | 28831670 | 18.4 | 0.448 |  9.2 |\n",
       "| 7 | Afghanistan | 2009 | Developing | 58.6 | 281 | 0.01 | 63 | 2861 | 16.2 | 63 | 9.42 | 63 | 0.1 |  445.8933 | 28433100 | 18.6 | 0.434 |  8.9 |\n",
       "| 8 | Afghanistan | 2008 | Developing | 58.1 | 287 | 0.03 | 64 | 1599 | 15.7 | 64 | 8.33 | 64 | 0.1 |  373.3611 | 27294310 | 18.8 | 0.433 |  8.7 |\n",
       "| 9 | Afghanistan | 2007 | Developing | 57.5 | 295 | 0.02 | 63 | 1141 | 15.2 | 63 | 6.73 | 63 | 0.1 |  369.8358 | 26616792 | 19.0 | 0.415 |  8.4 |\n",
       "| 10 | Afghanistan | 2006 | Developing | 57.3 | 295 | 0.03 | 64 | 1990 | 14.7 | 58 | 7.43 | 58 | 0.1 |  272.5638 | 25893450 | 19.2 | 0.405 |  8.1 |\n",
       "| 11 | Afghanistan | 2005 | Developing | 57.3 | 291 | 0.02 | 66 | 1296 | 14.2 | 58 | 8.70 | 58 | 0.1 |  252.9413 | 25779800 | 19.3 | 0.396 |  7.9 |\n",
       "| 12 | Afghanistan | 2004 | Developing | 57.0 | 293 | 0.02 | 67 |  466 | 13.8 | 50 | 8.79 | 50 | 0.1 |  219.1414 | 24118979 | 19.5 | 0.381 |  6.8 |\n",
       "| 13 | Afghanistan | 2003 | Developing | 56.7 | 295 | 0.01 | 65 |  798 | 13.4 | 41 | 8.82 | 41 | 0.1 |  198.7285 | 23648510 | 19.7 | 0.373 |  6.5 |\n",
       "| 14 | Afghanistan | 2002 | Developing | 56.2 | 300 | 0.01 | 64 | 2486 | 13.0 | 36 | 7.76 | 36 | 0.1 |  187.8459 | 21979923 | 19.9 | 0.341 |  6.2 |\n",
       "| 15 | Afghanistan | 2001 | Developing | 55.3 | 316 | 0.01 | 63 | 8762 | 12.6 | 35 | 7.80 | 33 | 0.1 |  117.4970 |  2966463 | 21.0 | 0.340 |  5.9 |\n",
       "| 16 | Afghanistan | 2000 | Developing | 54.8 | 321 | 0.01 | 62 | 6532 | 12.2 | 24 | 8.20 | 24 | 0.1 |  114.5600 |  2937560 | 23.0 | 0.338 |  5.5 |\n",
       "| 17 | Albania     | 2015 | Developing | 77.8 |  74 | 4.60 | 99 |    0 | 58.0 | 99 | 6.00 | 99 | 0.1 | 3954.2278 |   288730 |  1.2 | 0.762 | 14.2 |\n",
       "| 18 | Albania     | 2014 | Developing | 77.5 |  80 | 4.51 | 98 |    0 | 57.2 | 98 | 5.88 | 98 | 0.1 | 4575.7638 |   288914 |  1.2 | 0.761 | 14.2 |\n",
       "| 19 | Albania     | 2013 | Developing | 77.2 |  84 | 4.76 | 99 |    0 | 56.5 | 99 | 5.66 | 99 | 0.1 | 4414.7231 |   289592 |  1.3 | 0.759 | 14.2 |\n",
       "| 20 | Albania     | 2012 | Developing | 76.9 |  86 | 5.14 | 99 |    9 | 55.8 | 99 | 5.59 | 99 | 0.1 | 4247.6144 |   294100 |  1.3 | 0.752 | 14.2 |\n",
       "\n"
      ],
      "text/plain": [
       "   Country     Year Status     Life.expectancy Adult.Mortality Alcohol\n",
       "1  Afghanistan 2015 Developing 65.0            263             0.01   \n",
       "2  Afghanistan 2014 Developing 59.9            271             0.01   \n",
       "3  Afghanistan 2013 Developing 59.9            268             0.01   \n",
       "4  Afghanistan 2012 Developing 59.5            272             0.01   \n",
       "5  Afghanistan 2011 Developing 59.2            275             0.01   \n",
       "6  Afghanistan 2010 Developing 58.8            279             0.01   \n",
       "7  Afghanistan 2009 Developing 58.6            281             0.01   \n",
       "8  Afghanistan 2008 Developing 58.1            287             0.03   \n",
       "9  Afghanistan 2007 Developing 57.5            295             0.02   \n",
       "10 Afghanistan 2006 Developing 57.3            295             0.03   \n",
       "11 Afghanistan 2005 Developing 57.3            291             0.02   \n",
       "12 Afghanistan 2004 Developing 57.0            293             0.02   \n",
       "13 Afghanistan 2003 Developing 56.7            295             0.01   \n",
       "14 Afghanistan 2002 Developing 56.2            300             0.01   \n",
       "15 Afghanistan 2001 Developing 55.3            316             0.01   \n",
       "16 Afghanistan 2000 Developing 54.8            321             0.01   \n",
       "17 Albania     2015 Developing 77.8             74             4.60   \n",
       "18 Albania     2014 Developing 77.5             80             4.51   \n",
       "19 Albania     2013 Developing 77.2             84             4.76   \n",
       "20 Albania     2012 Developing 76.9             86             5.14   \n",
       "   Hepatitis.B Measles BMI  Polio Total.expenditure Diphtheria HIV.AIDS\n",
       "1  65          1154    19.1  6    8.16              65         0.1     \n",
       "2  62           492    18.6 58    8.18              62         0.1     \n",
       "3  64           430    18.1 62    8.13              64         0.1     \n",
       "4  67          2787    17.6 67    8.52              67         0.1     \n",
       "5  68          3013    17.2 68    7.87              68         0.1     \n",
       "6  66          1989    16.7 66    9.20              66         0.1     \n",
       "7  63          2861    16.2 63    9.42              63         0.1     \n",
       "8  64          1599    15.7 64    8.33              64         0.1     \n",
       "9  63          1141    15.2 63    6.73              63         0.1     \n",
       "10 64          1990    14.7 58    7.43              58         0.1     \n",
       "11 66          1296    14.2 58    8.70              58         0.1     \n",
       "12 67           466    13.8 50    8.79              50         0.1     \n",
       "13 65           798    13.4 41    8.82              41         0.1     \n",
       "14 64          2486    13.0 36    7.76              36         0.1     \n",
       "15 63          8762    12.6 35    7.80              33         0.1     \n",
       "16 62          6532    12.2 24    8.20              24         0.1     \n",
       "17 99             0    58.0 99    6.00              99         0.1     \n",
       "18 98             0    57.2 98    5.88              98         0.1     \n",
       "19 99             0    56.5 99    5.66              99         0.1     \n",
       "20 99             9    55.8 99    5.59              99         0.1     \n",
       "   GDP       Population thinness.1.19.years. Income.composition.of.resources\n",
       "1   584.2592 33736494   17.2                 0.479                          \n",
       "2   612.6965 32758200   17.5                 0.476                          \n",
       "3   631.7450 31731688   17.7                 0.470                          \n",
       "4   669.9590 36969580   17.9                 0.463                          \n",
       "5   635.3723 29785990   18.2                 0.454                          \n",
       "6   553.3289 28831670   18.4                 0.448                          \n",
       "7   445.8933 28433100   18.6                 0.434                          \n",
       "8   373.3611 27294310   18.8                 0.433                          \n",
       "9   369.8358 26616792   19.0                 0.415                          \n",
       "10  272.5638 25893450   19.2                 0.405                          \n",
       "11  252.9413 25779800   19.3                 0.396                          \n",
       "12  219.1414 24118979   19.5                 0.381                          \n",
       "13  198.7285 23648510   19.7                 0.373                          \n",
       "14  187.8459 21979923   19.9                 0.341                          \n",
       "15  117.4970  2966463   21.0                 0.340                          \n",
       "16  114.5600  2937560   23.0                 0.338                          \n",
       "17 3954.2278   288730    1.2                 0.762                          \n",
       "18 4575.7638   288914    1.2                 0.761                          \n",
       "19 4414.7231   289592    1.3                 0.759                          \n",
       "20 4247.6144   294100    1.3                 0.752                          \n",
       "   Schooling\n",
       "1  10.1     \n",
       "2  10.0     \n",
       "3   9.9     \n",
       "4   9.8     \n",
       "5   9.5     \n",
       "6   9.2     \n",
       "7   8.9     \n",
       "8   8.7     \n",
       "9   8.4     \n",
       "10  8.1     \n",
       "11  7.9     \n",
       "12  6.8     \n",
       "13  6.5     \n",
       "14  6.2     \n",
       "15  5.9     \n",
       "16  5.5     \n",
       "17 14.2     \n",
       "18 14.2     \n",
       "19 14.2     \n",
       "20 14.2     "
      ]
     },
     "metadata": {}
    }
   ],
   "metadata": {
    "vscode": {
     "languageId": "r"
    }
   }
  },
  {
   "cell_type": "code",
   "execution_count": 4,
   "source": [
    "write.csv(lifeData_scaled,\"D:/Code/BIOSTAT682/Life Expectancy_v4.csv\", row.names = FALSE)"
   ],
   "outputs": [],
   "metadata": {
    "vscode": {
     "languageId": "r"
    }
   }
  },
  {
   "cell_type": "code",
   "execution_count": 1,
   "source": [
    "lifeData_scaled = read.csv(\"C:/Code/BIOSTAT682/Life Expectancy_v4.csv\")\n",
    "lmod <- lm(Life.expectancy ~ . - Year, data = lifeData_scaled)\n",
    "summary(lmod)"
   ],
   "outputs": [
    {
     "output_type": "display_data",
     "data": {
      "text/plain": [
       "\n",
       "Call:\n",
       "lm(formula = Life.expectancy ~ . - Year, data = lifeData_scaled)\n",
       "\n",
       "Residuals:\n",
       "    Min      1Q  Median      3Q     Max \n",
       "-5.5556 -0.7493 -0.1601  0.3691  8.7564 \n",
       "\n",
       "Coefficients: (1 not defined because of singularities)\n",
       "                                  Estimate Std. Error t value Pr(>|t|)    \n",
       "(Intercept)                      5.425e+01  1.363e+00  39.797  < 2e-16 ***\n",
       "CountryAlbania                   9.082e+00  1.068e+00   8.504  < 2e-16 ***\n",
       "CountryAlgeria                   7.915e+00  9.584e-01   8.258 3.21e-16 ***\n",
       "CountryAngola                   -6.909e+00  9.162e-01  -7.541 8.05e-14 ***\n",
       "CountryArgentina                 6.931e+00  1.133e+00   6.116 1.22e-09 ***\n",
       "CountryArmenia                   8.630e+00  1.033e+00   8.353  < 2e-16 ***\n",
       "CountryAustralia                 8.994e+00  1.253e+00   7.177 1.12e-12 ***\n",
       "CountryAustria                   1.286e+01  1.180e+00  10.902  < 2e-16 ***\n",
       "CountryAzerbaijan                6.837e+00  9.993e-01   6.841 1.14e-11 ***\n",
       "CountryBangladesh                8.690e+00  8.725e-01   9.960  < 2e-16 ***\n",
       "CountryBelarus                   5.128e+00  1.141e+00   4.494 7.51e-06 ***\n",
       "CountryBelgium                   1.079e+01  1.219e+00   8.847  < 2e-16 ***\n",
       "CountryBelize                    4.999e+00  9.916e-01   5.041 5.18e-07 ***\n",
       "CountryBenin                    -1.688e+00  8.165e-01  -2.067 0.038868 *  \n",
       "CountryBhutan                    5.458e+00  7.308e-01   7.468 1.37e-13 ***\n",
       "CountryBosnia and Herzegovina    1.021e+01  1.059e+00   9.643  < 2e-16 ***\n",
       "CountryBotswana                 -1.491e-01  9.474e-01  -0.157 0.874938    \n",
       "CountryBrazil                    7.789e+00  1.092e+00   7.132 1.53e-12 ***\n",
       "CountryBulgaria                  7.475e+00  1.113e+00   6.716 2.64e-11 ***\n",
       "CountryBurkina Faso              5.726e-01  9.201e-01   0.622 0.533812    \n",
       "CountryBurundi                  -1.245e+00  8.858e-01  -1.406 0.159950    \n",
       "CountryCabo Verde                7.980e+00  8.889e-01   8.977  < 2e-16 ***\n",
       "CountryCambodia                  4.360e+00  8.498e-01   5.131 3.25e-07 ***\n",
       "CountryCameroon                 -2.247e+00  9.278e-01  -2.422 0.015548 *  \n",
       "CountryCanada                    1.335e+01  1.280e+00  10.426  < 2e-16 ***\n",
       "CountryCentral African Republic -2.015e+00  9.710e-01  -2.076 0.038100 *  \n",
       "CountryChad                     -2.494e+00  9.273e-01  -2.690 0.007234 ** \n",
       "CountryChile                     1.173e+01  1.171e+00  10.012  < 2e-16 ***\n",
       "CountryChina                     1.047e+01  1.044e+00  10.035  < 2e-16 ***\n",
       "CountryColombia                  8.645e+00  1.010e+00   8.558  < 2e-16 ***\n",
       "CountryComoros                   1.014e+00  8.495e-01   1.194 0.232736    \n",
       "CountryCosta Rica                1.248e+01  1.030e+00  12.114  < 2e-16 ***\n",
       "CountryCroatia                   9.296e+00  1.237e+00   7.515 9.73e-14 ***\n",
       "CountryCyprus                    1.210e+01  1.172e+00  10.325  < 2e-16 ***\n",
       "CountryDjibouti                  5.978e+00  1.030e+00   5.807 7.77e-09 ***\n",
       "CountryDominican Republic        8.084e+00  9.898e-01   8.168 6.59e-16 ***\n",
       "CountryEcuador                   9.279e+00  1.030e+00   9.009  < 2e-16 ***\n",
       "CountryEl Salvador               7.185e+00  1.011e+00   7.108 1.82e-12 ***\n",
       "CountryEritrea                   5.432e+00  9.253e-01   5.870 5.35e-09 ***\n",
       "CountryEstonia                   7.069e+00  1.161e+00   6.091 1.42e-09 ***\n",
       "CountryEthiopia                  4.175e+00  9.605e-01   4.347 1.47e-05 ***\n",
       "CountryFiji                      2.721e+00  9.824e-01   2.770 0.005679 ** \n",
       "CountryFrance                    1.418e+01  1.265e+00  11.208  < 2e-16 ***\n",
       "CountryGabon                     2.340e+00  9.755e-01   2.399 0.016549 *  \n",
       "CountryGeorgia                   8.700e+00  1.013e+00   8.586  < 2e-16 ***\n",
       "CountryGermany                   1.214e+01  1.184e+00  10.250  < 2e-16 ***\n",
       "CountryGhana                     1.336e+00  8.455e-01   1.580 0.114223    \n",
       "CountryGreece                    1.231e+01  1.151e+00  10.696  < 2e-16 ***\n",
       "CountryGuatemala                 1.012e+01  1.071e+00   9.448  < 2e-16 ***\n",
       "CountryGuinea                   -1.875e-01  8.835e-01  -0.212 0.831954    \n",
       "CountryGuinea-Bissau            -1.006e+00  9.890e-01  -1.017 0.309392    \n",
       "CountryGuyana                    3.904e+00  9.463e-01   4.125 3.90e-05 ***\n",
       "CountryHonduras                  9.709e+00  1.001e+00   9.702  < 2e-16 ***\n",
       "CountryIndia                     8.573e+00  4.151e+00   2.065 0.039054 *  \n",
       "CountryIndonesia                 4.603e+00  1.167e+00   3.944 8.37e-05 ***\n",
       "CountryIraq                      7.877e+00  9.641e-01   8.171 6.43e-16 ***\n",
       "CountryIreland                   1.202e+01  1.396e+00   8.614  < 2e-16 ***\n",
       "CountryIsrael                    1.123e+01  1.093e+00  10.273  < 2e-16 ***\n",
       "CountryItaly                     1.270e+01  1.156e+00  10.983  < 2e-16 ***\n",
       "CountryJamaica                   9.540e+00  1.055e+00   9.039  < 2e-16 ***\n",
       "CountryJordan                    6.435e+00  9.894e-01   6.504 1.06e-10 ***\n",
       "CountryKazakhstan                1.400e+00  1.030e+00   1.359 0.174492    \n",
       "CountryKenya                     3.051e-02  8.407e-01   0.036 0.971059    \n",
       "CountryKiribati                  9.693e-01  1.156e+00   0.838 0.401935    \n",
       "CountryLatvia                    7.257e+00  1.082e+00   6.707 2.80e-11 ***\n",
       "CountryLebanon                   8.102e+00  9.799e-01   8.268 2.97e-16 ***\n",
       "CountryLesotho                  -2.831e+00  9.796e-01  -2.890 0.003911 ** \n",
       "CountryLiberia                   1.624e+00  9.415e-01   1.725 0.084700 .  \n",
       "CountryLithuania                 6.242e+00  1.129e+00   5.530 3.77e-08 ***\n",
       "CountryLuxembourg                1.222e+01  1.276e+00   9.578  < 2e-16 ***\n",
       "CountryMadagascar                3.038e+00  8.147e-01   3.728 0.000200 ***\n",
       "CountryMalawi                   -2.849e+00  9.482e-01  -3.005 0.002700 ** \n",
       "CountryMalaysia                  7.921e+00  8.410e-01   9.418  < 2e-16 ***\n",
       "CountryMaldives                  1.004e+01  7.784e-01  12.899  < 2e-16 ***\n",
       "CountryMali                     -1.811e+00  8.100e-01  -2.236 0.025467 *  \n",
       "CountryMalta                     1.304e+01  1.161e+00  11.236  < 2e-16 ***\n",
       "CountryMauritania                2.989e+00  8.775e-01   3.407 0.000675 ***\n",
       "CountryMauritius                 6.842e+00  8.762e-01   7.809 1.08e-14 ***\n",
       "CountryMexico                    1.043e+01  1.070e+00   9.744  < 2e-16 ***\n",
       "CountryMongolia                  1.877e+00  9.961e-01   1.884 0.059762 .  \n",
       "CountryMontenegro                7.430e+00  1.117e+00   6.654 3.99e-11 ***\n",
       "CountryMorocco                   8.324e+00  9.287e-01   8.963  < 2e-16 ***\n",
       "CountryMozambique               -6.435e-02  9.637e-01  -0.067 0.946772    \n",
       "CountryMyanmar                   3.419e+00  7.997e-01   4.275 2.03e-05 ***\n",
       "CountryNamibia                   3.614e+00  1.040e+00   3.475 0.000525 ***\n",
       "CountryNepal                     4.896e+00  7.307e-01   6.699 2.95e-11 ***\n",
       "CountryNetherlands               1.021e+01  1.470e+00   6.951 5.41e-12 ***\n",
       "CountryNicaragua                 1.007e+01  1.015e+00   9.921  < 2e-16 ***\n",
       "CountryNiger                     4.847e+00  1.051e+00   4.612 4.33e-06 ***\n",
       "CountryNigeria                  -2.421e+00  1.008e+00  -2.402 0.016435 *  \n",
       "CountryPakistan                  5.510e+00  8.358e-01   6.592 5.99e-11 ***\n",
       "CountryPanama                    1.110e+01  1.048e+00  10.589  < 2e-16 ***\n",
       "CountryPapua New Guinea          2.902e+00  1.008e+00   2.879 0.004043 ** \n",
       "CountryParaguay                  8.525e+00  1.029e+00   8.281 2.67e-16 ***\n",
       "CountryPeru                      8.170e+00  1.062e+00   7.690 2.65e-14 ***\n",
       "CountryPhilippines               5.224e+00  1.040e+00   5.023 5.70e-07 ***\n",
       "CountryPoland                    8.331e+00  1.097e+00   7.592 5.50e-14 ***\n",
       "CountryPortugal                  1.147e+01  1.185e+00   9.686  < 2e-16 ***\n",
       "CountryRomania                   8.361e+00  1.056e+00   7.919 4.63e-15 ***\n",
       "CountryRussian Federation        4.106e+00  1.161e+00   3.535 0.000420 ***\n",
       "CountryRwanda                    2.195e+00  9.178e-01   2.391 0.016907 *  \n",
       "CountrySamoa                     8.917e+00  1.121e+00   7.953 3.56e-15 ***\n",
       "CountrySao Tome and Principe     3.978e+00  9.146e-01   4.349 1.46e-05 ***\n",
       "CountrySenegal                   4.389e+00  7.914e-01   5.545 3.46e-08 ***\n",
       "CountrySerbia                    8.464e+00  1.112e+00   7.610 4.80e-14 ***\n",
       "CountrySeychelles                7.545e+00  9.417e-01   8.012 2.25e-15 ***\n",
       "CountrySierra Leone             -8.040e+00  9.263e-01  -8.680  < 2e-16 ***\n",
       "CountrySolomon Islands           6.673e+00  1.045e+00   6.385 2.27e-10 ***\n",
       "CountrySouth Africa              2.098e+00  9.323e-01   2.250 0.024590 *  \n",
       "CountrySpain                     1.289e+01  1.182e+00  10.907  < 2e-16 ***\n",
       "CountrySri Lanka                 7.926e+00  8.282e-01   9.571  < 2e-16 ***\n",
       "CountrySuriname                  6.924e+00  1.040e+00   6.661 3.81e-11 ***\n",
       "CountrySwaziland                 1.868e+00  1.080e+00   1.730 0.083759 .  \n",
       "CountrySweden                    1.235e+01  1.401e+00   8.813  < 2e-16 ***\n",
       "CountrySyrian Arab Republic      9.580e+00  9.974e-01   9.605  < 2e-16 ***\n",
       "CountryTajikistan                3.692e+00  9.466e-01   3.900 0.000100 ***\n",
       "CountryThailand                  8.829e+00  8.801e-01  10.032  < 2e-16 ***\n",
       "CountryTimor-Leste               2.729e+00  9.311e-01   2.931 0.003430 ** \n",
       "CountryTogo                     -2.189e+00  9.612e-01  -2.277 0.022907 *  \n",
       "CountryTonga                     5.657e+00  1.119e+00   5.055 4.84e-07 ***\n",
       "CountryTrinidad and Tobago       6.896e+00  9.423e-01   7.318 4.09e-13 ***\n",
       "CountryTunisia                   6.043e+00  9.571e-01   6.314 3.57e-10 ***\n",
       "CountryTurkey                    8.078e+00  9.728e-01   8.304 2.22e-16 ***\n",
       "CountryTurkmenistan              2.949e+00  1.019e+00   2.895 0.003848 ** \n",
       "CountryUganda                    6.201e-01  9.237e-01   0.671 0.502126    \n",
       "CountryUkraine                   5.756e+00  1.051e+00   5.479 5.02e-08 ***\n",
       "CountryUruguay                   8.436e+00  1.078e+00   7.828 9.26e-15 ***\n",
       "CountryUzbekistan                3.980e+00  9.865e-01   4.034 5.76e-05 ***\n",
       "CountryVanuatu                   8.871e+00  1.021e+00   8.686  < 2e-16 ***\n",
       "CountryZambia                   -4.691e-01  9.323e-01  -0.503 0.614898    \n",
       "CountryZimbabwe                 -4.418e-02  9.609e-01  -0.046 0.963331    \n",
       "StatusDeveloping                        NA         NA      NA       NA    \n",
       "Adult.Mortality                 -1.359e-02  1.432e-03  -9.490  < 2e-16 ***\n",
       "Alcohol                         -1.202e-01  3.615e-02  -3.326 0.000903 ***\n",
       "Hepatitis.B                      1.533e-02  4.392e-03   3.490 0.000497 ***\n",
       "Measles                         -1.107e-05  6.376e-06  -1.737 0.082664 .  \n",
       "BMI                              7.766e-03  1.109e-02   0.700 0.483869    \n",
       "Polio                            1.707e-03  1.009e-02   0.169 0.865713    \n",
       "Total.expenditure               -5.185e-02  2.788e-02  -1.860 0.063080 .  \n",
       "Diphtheria                       5.391e-03  1.016e-02   0.531 0.595699    \n",
       "HIV.AIDS                        -2.492e-01  1.893e-02 -13.165  < 2e-16 ***\n",
       "GDP                              3.109e+00  7.815e-01   3.978 7.28e-05 ***\n",
       "Population                      -2.375e-09  3.417e-09  -0.695 0.487152    \n",
       "thinness.1.19.years.            -1.726e-02  4.254e-02  -0.406 0.685030    \n",
       "Income.composition.of.resources  2.404e+00  5.785e-01   4.155 3.43e-05 ***\n",
       "Schooling                        7.568e-01  6.726e-02  11.252  < 2e-16 ***\n",
       "---\n",
       "Signif. codes:  0 '***' 0.001 '**' 0.01 '*' 0.05 '.' 0.1 ' ' 1\n",
       "\n",
       "Residual standard error: 1.697 on 1501 degrees of freedom\n",
       "Multiple R-squared:  0.9661,\tAdjusted R-squared:  0.9628 \n",
       "F-statistic: 296.8 on 144 and 1501 DF,  p-value: < 2.2e-16\n"
      ]
     },
     "metadata": {}
    }
   ],
   "metadata": {
    "vscode": {
     "languageId": "r"
    }
   }
  },
  {
   "cell_type": "code",
   "execution_count": 2,
   "source": [
    "plot(fitted(lmod), residuals(lmod))\n",
    "abline(h=0)\n",
    "qqnorm(residuals(lmod))\n",
    "qqline(residuals(lmod))"
   ],
   "outputs": [
    {
     "output_type": "display_data",
     "data": {
      "image/png": "[encoded data removed]",
      "text/plain": [
       "plot without title"
      ]
     },
     "metadata": {
      "image/png": {
       "width": 420,
       "height": 420
      }
     }
    },
    {
     "output_type": "display_data",
     "data": {
      "image/png": "[encoded data removed]",
      "text/plain": [
       "Plot with title \"Normal Q-Q Plot\""
      ]
     },
     "metadata": {
      "image/png": {
       "width": 420,
       "height": 420
      }
     }
    }
   ],
   "metadata": {
    "vscode": {
     "languageId": "r"
    }
   }
  },
  {
   "cell_type": "code",
   "execution_count": 3,
   "source": [
    "lifeData_scaled = read.csv(\"C:/Code/BIOSTAT682/Life Expectancy_v4.csv\")"
   ],
   "outputs": [],
   "metadata": {
    "vscode": {
     "languageId": "r"
    }
   }
  },
  {
   "cell_type": "code",
   "execution_count": 4,
   "source": [
    "Asia_Countries <- c(\"Afghanistan\", \"Armenia\", \"Azerbaijan\", \"Bangladesh\", \"Bhutan\", \"Cambodia\", \"China\", \"Georgia\", \"India\", \"Indonesia\", \"Kazakhstan\", \"Malaysia\", \"Maldives\", \"Mongolia\", \"Myanmar\", \"Nepal\", \"Pakistan\", \"Philippines\", \"Sri Lanka\", \"Tajikistan\", \"Thailand\", \"Timor-Leste\", \"Turkey\",\"Turkmenistan\", \"Uzbekistan\")\n",
    "EuroNA_Countries <- c(\"Albania\", \"Austria\", \"Belarus\", \"Belgium\", \"Bosnia and Herzegovina\", \"Bulgaria\", \"Canada\", \"Croatia\", \"Cyprus\", \"Estonia\", \"France\", \"Germany\", \"Greece\", \"Ireland\", \"Italy\", \"Latvia\", \"Lithuania\", \"Luxembourg\", \"Malta\", \"Montenegro\", \"Netherlands\", \"Poland\", \"Portugal\", \"Romania\", \"Russian Federation\", \"Serbia\", \"Spain\", \"Sweden\", \"Ukraine\")\n",
    "Africa_Countries <- c(\"Algeria\", \"Angola\", \"Benin\", \"Botswana\", \"Burkina Faso\", \"Burundi\", \"Cabo Verde\", \"Cameroon\", \"Central African Republic\", \"Chad\", \"Comoros\", \"Djibouti\", \"Eritrea\", \"Ethiopia\", \"Gabon\", \"Ghana\", \"Guinea\", \"Guinea-Bissau\", \"Kenya\", \"Lesotho\", \"Liberia\", \"Madagascar\", \"Malawi\", \"Mali\", \"Mauritania\", \"Mauritius\", \"Morocco\", \"Mozambique\", \"Namibia\", \"Niger\", \"Nigeria\", \"Rwanda\", \"Sao Tome and Principe\", \"Senegal\", \"Seychelles\", \"Sierra Leone\", \"South Africa\", \"Swaziland\", \"Togo\", \"Tunisia\", \"Uganda\", \"Zambia\", \"Zimbabwe\")\n",
    "LatinAmerica_Countries <- c(\"Argentina\", \"Belize\", \"Brazil\", \"Chile\", \"Colombia\", \"Costa Rica\", \"Dominican Republic\", \"Ecuador\", \"El Salvador\", \"Guatemala\", \"Guyana\", \"Honduras\", \"Jamaica\", \"Mexico\", \"Nicaragua\", \"Panama\", \"Paraguay\", \"Peru\", \"Suriname\", \"Uruguay\")\n",
    "MiddleEast_Countries <- c(\"Iraq\", \"Israel\", \"Jordan\", \"Lebanon\", \"Syrian Arab Republic\")\n",
    "Oceania_Countries <- c(\"Australia\", \"Fiji\",\"Kiribati\", \"Papua New Guinea\", \"Samoa\", \"Solomon Islands\", \"Tonga\", \"Trinidad and Tobago\", \"Vanuatu\")"
   ],
   "outputs": [],
   "metadata": {}
  },
  {
   "cell_type": "code",
   "execution_count": 12,
   "source": [
    "lifeData_continent <- lifeData_scaled\n",
    "lifeData_continent$Continent <- rep(NA, nrow(lifeData_continent))\n",
    "for(i in 1:nrow(lifeData_continent)) {\n",
    "    if (lifeData_continent[i,]$Country %in% Asia_Countries) {\n",
    "        lifeData_continent[i,]$Continent <- \"Asia\"\n",
    "    } else if (lifeData_continent[i,]$Country %in% EuroNA_Countries) {\n",
    "        lifeData_continent[i,]$Continent <- \"Europe or North America\"\n",
    "    } else if (lifeData_continent[i,]$Country %in% Africa_Countries) {\n",
    "        lifeData_continent[i,]$Continent <- \"Africa\"\n",
    "    } else if (lifeData_continent[i,]$Country %in% LatinAmerica_Countries) {\n",
    "        lifeData_continent[i,]$Continent <- \"Latin America\"\n",
    "    } else if (lifeData_continent[i,]$Country %in% MiddleEast_Countries) {\n",
    "        lifeData_continent[i,]$Continent <- \"Middle East\"\n",
    "    } else if (lifeData_continent[i,]$Country %in% Oceania_Countries) {\n",
    "        lifeData_continent[i,]$Continent <- \"Oceania\"\n",
    "    }\n",
    "}"
   ],
   "outputs": [],
   "metadata": {}
  },
  {
   "cell_type": "code",
   "execution_count": 13,
   "source": [
    "head(lifeData_continent, 20)"
   ],
   "outputs": [
    {
     "output_type": "display_data",
     "data": {
      "text/html": [
       "<table class=\"dataframe\">\n",
       "<caption>A data.frame: 20 × 19</caption>\n",
       "<thead>\n",
       "\t<tr><th></th><th scope=col>Country</th><th scope=col>Year</th><th scope=col>Status</th><th scope=col>Life.expectancy</th><th scope=col>Adult.Mortality</th><th scope=col>Alcohol</th><th scope=col>Hepatitis.B</th><th scope=col>Measles</th><th scope=col>BMI</th><th scope=col>Polio</th><th scope=col>Total.expenditure</th><th scope=col>Diphtheria</th><th scope=col>HIV.AIDS</th><th scope=col>GDP</th><th scope=col>Population</th><th scope=col>thinness.1.19.years.</th><th scope=col>Income.composition.of.resources</th><th scope=col>Schooling</th><th scope=col>Continent</th></tr>\n",
       "\t<tr><th></th><th scope=col>&lt;chr&gt;</th><th scope=col>&lt;int&gt;</th><th scope=col>&lt;chr&gt;</th><th scope=col>&lt;dbl&gt;</th><th scope=col>&lt;int&gt;</th><th scope=col>&lt;dbl&gt;</th><th scope=col>&lt;int&gt;</th><th scope=col>&lt;int&gt;</th><th scope=col>&lt;dbl&gt;</th><th scope=col>&lt;int&gt;</th><th scope=col>&lt;dbl&gt;</th><th scope=col>&lt;int&gt;</th><th scope=col>&lt;dbl&gt;</th><th scope=col>&lt;dbl&gt;</th><th scope=col>&lt;dbl&gt;</th><th scope=col>&lt;dbl&gt;</th><th scope=col>&lt;dbl&gt;</th><th scope=col>&lt;dbl&gt;</th><th scope=col>&lt;chr&gt;</th></tr>\n",
       "</thead>\n",
       "<tbody>\n",
       "\t<tr><th scope=row>1</th><td>Afghanistan</td><td>2015</td><td>Developing</td><td>65.0</td><td>263</td><td>0.01</td><td>65</td><td>1154</td><td>19.1</td><td> 6</td><td>8.16</td><td>65</td><td>0.1</td><td>0.005842592</td><td>33736494</td><td>17.2</td><td>0.479</td><td>10.1</td><td>Asia                   </td></tr>\n",
       "\t<tr><th scope=row>2</th><td>Afghanistan</td><td>2014</td><td>Developing</td><td>59.9</td><td>271</td><td>0.01</td><td>62</td><td> 492</td><td>18.6</td><td>58</td><td>8.18</td><td>62</td><td>0.1</td><td>0.006126965</td><td>32758200</td><td>17.5</td><td>0.476</td><td>10.0</td><td>Asia                   </td></tr>\n",
       "\t<tr><th scope=row>3</th><td>Afghanistan</td><td>2013</td><td>Developing</td><td>59.9</td><td>268</td><td>0.01</td><td>64</td><td> 430</td><td>18.1</td><td>62</td><td>8.13</td><td>64</td><td>0.1</td><td>0.006317450</td><td>31731688</td><td>17.7</td><td>0.470</td><td> 9.9</td><td>Asia                   </td></tr>\n",
       "\t<tr><th scope=row>4</th><td>Afghanistan</td><td>2012</td><td>Developing</td><td>59.5</td><td>272</td><td>0.01</td><td>67</td><td>2787</td><td>17.6</td><td>67</td><td>8.52</td><td>67</td><td>0.1</td><td>0.006699590</td><td>36969580</td><td>17.9</td><td>0.463</td><td> 9.8</td><td>Asia                   </td></tr>\n",
       "\t<tr><th scope=row>5</th><td>Afghanistan</td><td>2011</td><td>Developing</td><td>59.2</td><td>275</td><td>0.01</td><td>68</td><td>3013</td><td>17.2</td><td>68</td><td>7.87</td><td>68</td><td>0.1</td><td>0.006353723</td><td>29785990</td><td>18.2</td><td>0.454</td><td> 9.5</td><td>Asia                   </td></tr>\n",
       "\t<tr><th scope=row>6</th><td>Afghanistan</td><td>2010</td><td>Developing</td><td>58.8</td><td>279</td><td>0.01</td><td>66</td><td>1989</td><td>16.7</td><td>66</td><td>9.20</td><td>66</td><td>0.1</td><td>0.005533289</td><td>28831670</td><td>18.4</td><td>0.448</td><td> 9.2</td><td>Asia                   </td></tr>\n",
       "\t<tr><th scope=row>7</th><td>Afghanistan</td><td>2009</td><td>Developing</td><td>58.6</td><td>281</td><td>0.01</td><td>63</td><td>2861</td><td>16.2</td><td>63</td><td>9.42</td><td>63</td><td>0.1</td><td>0.004458933</td><td>28433100</td><td>18.6</td><td>0.434</td><td> 8.9</td><td>Asia                   </td></tr>\n",
       "\t<tr><th scope=row>8</th><td>Afghanistan</td><td>2008</td><td>Developing</td><td>58.1</td><td>287</td><td>0.03</td><td>64</td><td>1599</td><td>15.7</td><td>64</td><td>8.33</td><td>64</td><td>0.1</td><td>0.003733611</td><td>27294310</td><td>18.8</td><td>0.433</td><td> 8.7</td><td>Asia                   </td></tr>\n",
       "\t<tr><th scope=row>9</th><td>Afghanistan</td><td>2007</td><td>Developing</td><td>57.5</td><td>295</td><td>0.02</td><td>63</td><td>1141</td><td>15.2</td><td>63</td><td>6.73</td><td>63</td><td>0.1</td><td>0.003698358</td><td>26616792</td><td>19.0</td><td>0.415</td><td> 8.4</td><td>Asia                   </td></tr>\n",
       "\t<tr><th scope=row>10</th><td>Afghanistan</td><td>2006</td><td>Developing</td><td>57.3</td><td>295</td><td>0.03</td><td>64</td><td>1990</td><td>14.7</td><td>58</td><td>7.43</td><td>58</td><td>0.1</td><td>0.002725638</td><td>25893450</td><td>19.2</td><td>0.405</td><td> 8.1</td><td>Asia                   </td></tr>\n",
       "\t<tr><th scope=row>11</th><td>Afghanistan</td><td>2005</td><td>Developing</td><td>57.3</td><td>291</td><td>0.02</td><td>66</td><td>1296</td><td>14.2</td><td>58</td><td>8.70</td><td>58</td><td>0.1</td><td>0.002529413</td><td>25779800</td><td>19.3</td><td>0.396</td><td> 7.9</td><td>Asia                   </td></tr>\n",
       "\t<tr><th scope=row>12</th><td>Afghanistan</td><td>2004</td><td>Developing</td><td>57.0</td><td>293</td><td>0.02</td><td>67</td><td> 466</td><td>13.8</td><td>50</td><td>8.79</td><td>50</td><td>0.1</td><td>0.002191414</td><td>24118979</td><td>19.5</td><td>0.381</td><td> 6.8</td><td>Asia                   </td></tr>\n",
       "\t<tr><th scope=row>13</th><td>Afghanistan</td><td>2003</td><td>Developing</td><td>56.7</td><td>295</td><td>0.01</td><td>65</td><td> 798</td><td>13.4</td><td>41</td><td>8.82</td><td>41</td><td>0.1</td><td>0.001987285</td><td>23648510</td><td>19.7</td><td>0.373</td><td> 6.5</td><td>Asia                   </td></tr>\n",
       "\t<tr><th scope=row>14</th><td>Afghanistan</td><td>2002</td><td>Developing</td><td>56.2</td><td>300</td><td>0.01</td><td>64</td><td>2486</td><td>13.0</td><td>36</td><td>7.76</td><td>36</td><td>0.1</td><td>0.001878460</td><td>21979923</td><td>19.9</td><td>0.341</td><td> 6.2</td><td>Asia                   </td></tr>\n",
       "\t<tr><th scope=row>15</th><td>Afghanistan</td><td>2001</td><td>Developing</td><td>55.3</td><td>316</td><td>0.01</td><td>63</td><td>8762</td><td>12.6</td><td>35</td><td>7.80</td><td>33</td><td>0.1</td><td>0.001174970</td><td> 2966463</td><td>21.0</td><td>0.340</td><td> 5.9</td><td>Asia                   </td></tr>\n",
       "\t<tr><th scope=row>16</th><td>Afghanistan</td><td>2000</td><td>Developing</td><td>54.8</td><td>321</td><td>0.01</td><td>62</td><td>6532</td><td>12.2</td><td>24</td><td>8.20</td><td>24</td><td>0.1</td><td>0.001145600</td><td> 2937560</td><td>23.0</td><td>0.338</td><td> 5.5</td><td>Asia                   </td></tr>\n",
       "\t<tr><th scope=row>17</th><td>Albania    </td><td>2015</td><td>Developing</td><td>77.8</td><td> 74</td><td>4.60</td><td>99</td><td>   0</td><td>58.0</td><td>99</td><td>6.00</td><td>99</td><td>0.1</td><td>0.039542278</td><td>  288730</td><td> 1.2</td><td>0.762</td><td>14.2</td><td>Europe or North America</td></tr>\n",
       "\t<tr><th scope=row>18</th><td>Albania    </td><td>2014</td><td>Developing</td><td>77.5</td><td> 80</td><td>4.51</td><td>98</td><td>   0</td><td>57.2</td><td>98</td><td>5.88</td><td>98</td><td>0.1</td><td>0.045757638</td><td>  288914</td><td> 1.2</td><td>0.761</td><td>14.2</td><td>Europe or North America</td></tr>\n",
       "\t<tr><th scope=row>19</th><td>Albania    </td><td>2013</td><td>Developing</td><td>77.2</td><td> 84</td><td>4.76</td><td>99</td><td>   0</td><td>56.5</td><td>99</td><td>5.66</td><td>99</td><td>0.1</td><td>0.044147231</td><td>  289592</td><td> 1.3</td><td>0.759</td><td>14.2</td><td>Europe or North America</td></tr>\n",
       "\t<tr><th scope=row>20</th><td>Albania    </td><td>2012</td><td>Developing</td><td>76.9</td><td> 86</td><td>5.14</td><td>99</td><td>   9</td><td>55.8</td><td>99</td><td>5.59</td><td>99</td><td>0.1</td><td>0.042476144</td><td>  294100</td><td> 1.3</td><td>0.752</td><td>14.2</td><td>Europe or North America</td></tr>\n",
       "</tbody>\n",
       "</table>\n"
      ],
      "text/latex": [
       "A data.frame: 20 × 19\n",
       "\\begin{tabular}{r|lllllllllllllllllll}\n",
       "  & Country & Year & Status & Life.expectancy & Adult.Mortality & Alcohol & Hepatitis.B & Measles & BMI & Polio & Total.expenditure & Diphtheria & HIV.AIDS & GDP & Population & thinness.1.19.years. & Income.composition.of.resources & Schooling & Continent\\\\\n",
       "  & <chr> & <int> & <chr> & <dbl> & <int> & <dbl> & <int> & <int> & <dbl> & <int> & <dbl> & <int> & <dbl> & <dbl> & <dbl> & <dbl> & <dbl> & <dbl> & <chr>\\\\\n",
       "\\hline\n",
       "\t1 & Afghanistan & 2015 & Developing & 65.0 & 263 & 0.01 & 65 & 1154 & 19.1 &  6 & 8.16 & 65 & 0.1 & 0.005842592 & 33736494 & 17.2 & 0.479 & 10.1 & Asia                   \\\\\n",
       "\t2 & Afghanistan & 2014 & Developing & 59.9 & 271 & 0.01 & 62 &  492 & 18.6 & 58 & 8.18 & 62 & 0.1 & 0.006126965 & 32758200 & 17.5 & 0.476 & 10.0 & Asia                   \\\\\n",
       "\t3 & Afghanistan & 2013 & Developing & 59.9 & 268 & 0.01 & 64 &  430 & 18.1 & 62 & 8.13 & 64 & 0.1 & 0.006317450 & 31731688 & 17.7 & 0.470 &  9.9 & Asia                   \\\\\n",
       "\t4 & Afghanistan & 2012 & Developing & 59.5 & 272 & 0.01 & 67 & 2787 & 17.6 & 67 & 8.52 & 67 & 0.1 & 0.006699590 & 36969580 & 17.9 & 0.463 &  9.8 & Asia                   \\\\\n",
       "\t5 & Afghanistan & 2011 & Developing & 59.2 & 275 & 0.01 & 68 & 3013 & 17.2 & 68 & 7.87 & 68 & 0.1 & 0.006353723 & 29785990 & 18.2 & 0.454 &  9.5 & Asia                   \\\\\n",
       "\t6 & Afghanistan & 2010 & Developing & 58.8 & 279 & 0.01 & 66 & 1989 & 16.7 & 66 & 9.20 & 66 & 0.1 & 0.005533289 & 28831670 & 18.4 & 0.448 &  9.2 & Asia                   \\\\\n",
       "\t7 & Afghanistan & 2009 & Developing & 58.6 & 281 & 0.01 & 63 & 2861 & 16.2 & 63 & 9.42 & 63 & 0.1 & 0.004458933 & 28433100 & 18.6 & 0.434 &  8.9 & Asia                   \\\\\n",
       "\t8 & Afghanistan & 2008 & Developing & 58.1 & 287 & 0.03 & 64 & 1599 & 15.7 & 64 & 8.33 & 64 & 0.1 & 0.003733611 & 27294310 & 18.8 & 0.433 &  8.7 & Asia                   \\\\\n",
       "\t9 & Afghanistan & 2007 & Developing & 57.5 & 295 & 0.02 & 63 & 1141 & 15.2 & 63 & 6.73 & 63 & 0.1 & 0.003698358 & 26616792 & 19.0 & 0.415 &  8.4 & Asia                   \\\\\n",
       "\t10 & Afghanistan & 2006 & Developing & 57.3 & 295 & 0.03 & 64 & 1990 & 14.7 & 58 & 7.43 & 58 & 0.1 & 0.002725638 & 25893450 & 19.2 & 0.405 &  8.1 & Asia                   \\\\\n",
       "\t11 & Afghanistan & 2005 & Developing & 57.3 & 291 & 0.02 & 66 & 1296 & 14.2 & 58 & 8.70 & 58 & 0.1 & 0.002529413 & 25779800 & 19.3 & 0.396 &  7.9 & Asia                   \\\\\n",
       "\t12 & Afghanistan & 2004 & Developing & 57.0 & 293 & 0.02 & 67 &  466 & 13.8 & 50 & 8.79 & 50 & 0.1 & 0.002191414 & 24118979 & 19.5 & 0.381 &  6.8 & Asia                   \\\\\n",
       "\t13 & Afghanistan & 2003 & Developing & 56.7 & 295 & 0.01 & 65 &  798 & 13.4 & 41 & 8.82 & 41 & 0.1 & 0.001987285 & 23648510 & 19.7 & 0.373 &  6.5 & Asia                   \\\\\n",
       "\t14 & Afghanistan & 2002 & Developing & 56.2 & 300 & 0.01 & 64 & 2486 & 13.0 & 36 & 7.76 & 36 & 0.1 & 0.001878460 & 21979923 & 19.9 & 0.341 &  6.2 & Asia                   \\\\\n",
       "\t15 & Afghanistan & 2001 & Developing & 55.3 & 316 & 0.01 & 63 & 8762 & 12.6 & 35 & 7.80 & 33 & 0.1 & 0.001174970 &  2966463 & 21.0 & 0.340 &  5.9 & Asia                   \\\\\n",
       "\t16 & Afghanistan & 2000 & Developing & 54.8 & 321 & 0.01 & 62 & 6532 & 12.2 & 24 & 8.20 & 24 & 0.1 & 0.001145600 &  2937560 & 23.0 & 0.338 &  5.5 & Asia                   \\\\\n",
       "\t17 & Albania     & 2015 & Developing & 77.8 &  74 & 4.60 & 99 &    0 & 58.0 & 99 & 6.00 & 99 & 0.1 & 0.039542278 &   288730 &  1.2 & 0.762 & 14.2 & Europe or North America\\\\\n",
       "\t18 & Albania     & 2014 & Developing & 77.5 &  80 & 4.51 & 98 &    0 & 57.2 & 98 & 5.88 & 98 & 0.1 & 0.045757638 &   288914 &  1.2 & 0.761 & 14.2 & Europe or North America\\\\\n",
       "\t19 & Albania     & 2013 & Developing & 77.2 &  84 & 4.76 & 99 &    0 & 56.5 & 99 & 5.66 & 99 & 0.1 & 0.044147231 &   289592 &  1.3 & 0.759 & 14.2 & Europe or North America\\\\\n",
       "\t20 & Albania     & 2012 & Developing & 76.9 &  86 & 5.14 & 99 &    9 & 55.8 & 99 & 5.59 & 99 & 0.1 & 0.042476144 &   294100 &  1.3 & 0.752 & 14.2 & Europe or North America\\\\\n",
       "\\end{tabular}\n"
      ],
      "text/markdown": [
       "\n",
       "A data.frame: 20 × 19\n",
       "\n",
       "| <!--/--> | Country &lt;chr&gt; | Year &lt;int&gt; | Status &lt;chr&gt; | Life.expectancy &lt;dbl&gt; | Adult.Mortality &lt;int&gt; | Alcohol &lt;dbl&gt; | Hepatitis.B &lt;int&gt; | Measles &lt;int&gt; | BMI &lt;dbl&gt; | Polio &lt;int&gt; | Total.expenditure &lt;dbl&gt; | Diphtheria &lt;int&gt; | HIV.AIDS &lt;dbl&gt; | GDP &lt;dbl&gt; | Population &lt;dbl&gt; | thinness.1.19.years. &lt;dbl&gt; | Income.composition.of.resources &lt;dbl&gt; | Schooling &lt;dbl&gt; | Continent &lt;chr&gt; |\n",
       "|---|---|---|---|---|---|---|---|---|---|---|---|---|---|---|---|---|---|---|---|\n",
       "| 1 | Afghanistan | 2015 | Developing | 65.0 | 263 | 0.01 | 65 | 1154 | 19.1 |  6 | 8.16 | 65 | 0.1 | 0.005842592 | 33736494 | 17.2 | 0.479 | 10.1 | Asia                    |\n",
       "| 2 | Afghanistan | 2014 | Developing | 59.9 | 271 | 0.01 | 62 |  492 | 18.6 | 58 | 8.18 | 62 | 0.1 | 0.006126965 | 32758200 | 17.5 | 0.476 | 10.0 | Asia                    |\n",
       "| 3 | Afghanistan | 2013 | Developing | 59.9 | 268 | 0.01 | 64 |  430 | 18.1 | 62 | 8.13 | 64 | 0.1 | 0.006317450 | 31731688 | 17.7 | 0.470 |  9.9 | Asia                    |\n",
       "| 4 | Afghanistan | 2012 | Developing | 59.5 | 272 | 0.01 | 67 | 2787 | 17.6 | 67 | 8.52 | 67 | 0.1 | 0.006699590 | 36969580 | 17.9 | 0.463 |  9.8 | Asia                    |\n",
       "| 5 | Afghanistan | 2011 | Developing | 59.2 | 275 | 0.01 | 68 | 3013 | 17.2 | 68 | 7.87 | 68 | 0.1 | 0.006353723 | 29785990 | 18.2 | 0.454 |  9.5 | Asia                    |\n",
       "| 6 | Afghanistan | 2010 | Developing | 58.8 | 279 | 0.01 | 66 | 1989 | 16.7 | 66 | 9.20 | 66 | 0.1 | 0.005533289 | 28831670 | 18.4 | 0.448 |  9.2 | Asia                    |\n",
       "| 7 | Afghanistan | 2009 | Developing | 58.6 | 281 | 0.01 | 63 | 2861 | 16.2 | 63 | 9.42 | 63 | 0.1 | 0.004458933 | 28433100 | 18.6 | 0.434 |  8.9 | Asia                    |\n",
       "| 8 | Afghanistan | 2008 | Developing | 58.1 | 287 | 0.03 | 64 | 1599 | 15.7 | 64 | 8.33 | 64 | 0.1 | 0.003733611 | 27294310 | 18.8 | 0.433 |  8.7 | Asia                    |\n",
       "| 9 | Afghanistan | 2007 | Developing | 57.5 | 295 | 0.02 | 63 | 1141 | 15.2 | 63 | 6.73 | 63 | 0.1 | 0.003698358 | 26616792 | 19.0 | 0.415 |  8.4 | Asia                    |\n",
       "| 10 | Afghanistan | 2006 | Developing | 57.3 | 295 | 0.03 | 64 | 1990 | 14.7 | 58 | 7.43 | 58 | 0.1 | 0.002725638 | 25893450 | 19.2 | 0.405 |  8.1 | Asia                    |\n",
       "| 11 | Afghanistan | 2005 | Developing | 57.3 | 291 | 0.02 | 66 | 1296 | 14.2 | 58 | 8.70 | 58 | 0.1 | 0.002529413 | 25779800 | 19.3 | 0.396 |  7.9 | Asia                    |\n",
       "| 12 | Afghanistan | 2004 | Developing | 57.0 | 293 | 0.02 | 67 |  466 | 13.8 | 50 | 8.79 | 50 | 0.1 | 0.002191414 | 24118979 | 19.5 | 0.381 |  6.8 | Asia                    |\n",
       "| 13 | Afghanistan | 2003 | Developing | 56.7 | 295 | 0.01 | 65 |  798 | 13.4 | 41 | 8.82 | 41 | 0.1 | 0.001987285 | 23648510 | 19.7 | 0.373 |  6.5 | Asia                    |\n",
       "| 14 | Afghanistan | 2002 | Developing | 56.2 | 300 | 0.01 | 64 | 2486 | 13.0 | 36 | 7.76 | 36 | 0.1 | 0.001878460 | 21979923 | 19.9 | 0.341 |  6.2 | Asia                    |\n",
       "| 15 | Afghanistan | 2001 | Developing | 55.3 | 316 | 0.01 | 63 | 8762 | 12.6 | 35 | 7.80 | 33 | 0.1 | 0.001174970 |  2966463 | 21.0 | 0.340 |  5.9 | Asia                    |\n",
       "| 16 | Afghanistan | 2000 | Developing | 54.8 | 321 | 0.01 | 62 | 6532 | 12.2 | 24 | 8.20 | 24 | 0.1 | 0.001145600 |  2937560 | 23.0 | 0.338 |  5.5 | Asia                    |\n",
       "| 17 | Albania     | 2015 | Developing | 77.8 |  74 | 4.60 | 99 |    0 | 58.0 | 99 | 6.00 | 99 | 0.1 | 0.039542278 |   288730 |  1.2 | 0.762 | 14.2 | Europe or North America |\n",
       "| 18 | Albania     | 2014 | Developing | 77.5 |  80 | 4.51 | 98 |    0 | 57.2 | 98 | 5.88 | 98 | 0.1 | 0.045757638 |   288914 |  1.2 | 0.761 | 14.2 | Europe or North America |\n",
       "| 19 | Albania     | 2013 | Developing | 77.2 |  84 | 4.76 | 99 |    0 | 56.5 | 99 | 5.66 | 99 | 0.1 | 0.044147231 |   289592 |  1.3 | 0.759 | 14.2 | Europe or North America |\n",
       "| 20 | Albania     | 2012 | Developing | 76.9 |  86 | 5.14 | 99 |    9 | 55.8 | 99 | 5.59 | 99 | 0.1 | 0.042476144 |   294100 |  1.3 | 0.752 | 14.2 | Europe or North America |\n",
       "\n"
      ],
      "text/plain": [
       "   Country     Year Status     Life.expectancy Adult.Mortality Alcohol\n",
       "1  Afghanistan 2015 Developing 65.0            263             0.01   \n",
       "2  Afghanistan 2014 Developing 59.9            271             0.01   \n",
       "3  Afghanistan 2013 Developing 59.9            268             0.01   \n",
       "4  Afghanistan 2012 Developing 59.5            272             0.01   \n",
       "5  Afghanistan 2011 Developing 59.2            275             0.01   \n",
       "6  Afghanistan 2010 Developing 58.8            279             0.01   \n",
       "7  Afghanistan 2009 Developing 58.6            281             0.01   \n",
       "8  Afghanistan 2008 Developing 58.1            287             0.03   \n",
       "9  Afghanistan 2007 Developing 57.5            295             0.02   \n",
       "10 Afghanistan 2006 Developing 57.3            295             0.03   \n",
       "11 Afghanistan 2005 Developing 57.3            291             0.02   \n",
       "12 Afghanistan 2004 Developing 57.0            293             0.02   \n",
       "13 Afghanistan 2003 Developing 56.7            295             0.01   \n",
       "14 Afghanistan 2002 Developing 56.2            300             0.01   \n",
       "15 Afghanistan 2001 Developing 55.3            316             0.01   \n",
       "16 Afghanistan 2000 Developing 54.8            321             0.01   \n",
       "17 Albania     2015 Developing 77.8             74             4.60   \n",
       "18 Albania     2014 Developing 77.5             80             4.51   \n",
       "19 Albania     2013 Developing 77.2             84             4.76   \n",
       "20 Albania     2012 Developing 76.9             86             5.14   \n",
       "   Hepatitis.B Measles BMI  Polio Total.expenditure Diphtheria HIV.AIDS\n",
       "1  65          1154    19.1  6    8.16              65         0.1     \n",
       "2  62           492    18.6 58    8.18              62         0.1     \n",
       "3  64           430    18.1 62    8.13              64         0.1     \n",
       "4  67          2787    17.6 67    8.52              67         0.1     \n",
       "5  68          3013    17.2 68    7.87              68         0.1     \n",
       "6  66          1989    16.7 66    9.20              66         0.1     \n",
       "7  63          2861    16.2 63    9.42              63         0.1     \n",
       "8  64          1599    15.7 64    8.33              64         0.1     \n",
       "9  63          1141    15.2 63    6.73              63         0.1     \n",
       "10 64          1990    14.7 58    7.43              58         0.1     \n",
       "11 66          1296    14.2 58    8.70              58         0.1     \n",
       "12 67           466    13.8 50    8.79              50         0.1     \n",
       "13 65           798    13.4 41    8.82              41         0.1     \n",
       "14 64          2486    13.0 36    7.76              36         0.1     \n",
       "15 63          8762    12.6 35    7.80              33         0.1     \n",
       "16 62          6532    12.2 24    8.20              24         0.1     \n",
       "17 99             0    58.0 99    6.00              99         0.1     \n",
       "18 98             0    57.2 98    5.88              98         0.1     \n",
       "19 99             0    56.5 99    5.66              99         0.1     \n",
       "20 99             9    55.8 99    5.59              99         0.1     \n",
       "   GDP         Population thinness.1.19.years. Income.composition.of.resources\n",
       "1  0.005842592 33736494   17.2                 0.479                          \n",
       "2  0.006126965 32758200   17.5                 0.476                          \n",
       "3  0.006317450 31731688   17.7                 0.470                          \n",
       "4  0.006699590 36969580   17.9                 0.463                          \n",
       "5  0.006353723 29785990   18.2                 0.454                          \n",
       "6  0.005533289 28831670   18.4                 0.448                          \n",
       "7  0.004458933 28433100   18.6                 0.434                          \n",
       "8  0.003733611 27294310   18.8                 0.433                          \n",
       "9  0.003698358 26616792   19.0                 0.415                          \n",
       "10 0.002725638 25893450   19.2                 0.405                          \n",
       "11 0.002529413 25779800   19.3                 0.396                          \n",
       "12 0.002191414 24118979   19.5                 0.381                          \n",
       "13 0.001987285 23648510   19.7                 0.373                          \n",
       "14 0.001878460 21979923   19.9                 0.341                          \n",
       "15 0.001174970  2966463   21.0                 0.340                          \n",
       "16 0.001145600  2937560   23.0                 0.338                          \n",
       "17 0.039542278   288730    1.2                 0.762                          \n",
       "18 0.045757638   288914    1.2                 0.761                          \n",
       "19 0.044147231   289592    1.3                 0.759                          \n",
       "20 0.042476144   294100    1.3                 0.752                          \n",
       "   Schooling Continent              \n",
       "1  10.1      Asia                   \n",
       "2  10.0      Asia                   \n",
       "3   9.9      Asia                   \n",
       "4   9.8      Asia                   \n",
       "5   9.5      Asia                   \n",
       "6   9.2      Asia                   \n",
       "7   8.9      Asia                   \n",
       "8   8.7      Asia                   \n",
       "9   8.4      Asia                   \n",
       "10  8.1      Asia                   \n",
       "11  7.9      Asia                   \n",
       "12  6.8      Asia                   \n",
       "13  6.5      Asia                   \n",
       "14  6.2      Asia                   \n",
       "15  5.9      Asia                   \n",
       "16  5.5      Asia                   \n",
       "17 14.2      Europe or North America\n",
       "18 14.2      Europe or North America\n",
       "19 14.2      Europe or North America\n",
       "20 14.2      Europe or North America"
      ]
     },
     "metadata": {}
    }
   ],
   "metadata": {}
  },
  {
   "cell_type": "code",
   "execution_count": 15,
   "source": [
    "write.csv(lifeData_continent,\"C:/Code/BIOSTAT682/Life Expectancy_v5.csv\", row.names = FALSE)"
   ],
   "outputs": [],
   "metadata": {}
  },
  {
   "cell_type": "code",
   "execution_count": null,
   "source": [],
   "outputs": [],
   "metadata": {}
  }
 ],
 "metadata": {
  "kernelspec": {
   "display_name": "R",
   "language": "R",
   "name": "ir"
  },
  "language_info": {
   "name": "R",
   "codemirror_mode": "r",
   "pygments_lexer": "r",
   "mimetype": "text/x-r-source",
   "file_extension": ".r",
   "version": "4.2.1"
  },
  "orig_nbformat": 4
 },
 "nbformat": 4,
 "nbformat_minor": 2
}