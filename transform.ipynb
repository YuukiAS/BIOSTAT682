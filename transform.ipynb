{
 "cells": [
  {
   "cell_type": "code",
   "execution_count": 2,
   "metadata": {
    "vscode": {
     "languageId": "r"
    }
   },
   "outputs": [
    {
     "name": "stderr",
     "output_type": "stream",
     "text": [
      "\n",
      "Attaching package: 'dplyr'\n",
      "\n",
      "\n",
      "The following objects are masked from 'package:stats':\n",
      "\n",
      "    filter, lag\n",
      "\n",
      "\n",
      "The following objects are masked from 'package:base':\n",
      "\n",
      "    intersect, setdiff, setequal, union\n",
      "\n",
      "\n",
      "corrplot 0.92 loaded\n",
      "\n"
     ]
    },
    {
     "data": {
      "text/html": [
       "<style>\n",
       ".list-inline {list-style: none; margin:0; padding: 0}\n",
       ".list-inline>li {display: inline-block}\n",
       ".list-inline>li:not(:last-child)::after {content: \"\\00b7\"; padding: 0 .5ex}\n",
       "</style>\n",
       "<ol class=list-inline><li>2938</li><li>22</li></ol>\n"
      ],
      "text/latex": [
       "\\begin{enumerate*}\n",
       "\\item 2938\n",
       "\\item 22\n",
       "\\end{enumerate*}\n"
      ],
      "text/markdown": [
       "1. 2938\n",
       "2. 22\n",
       "\n",
       "\n"
      ],
      "text/plain": [
       "[1] 2938   22"
      ]
     },
     "metadata": {},
     "output_type": "display_data"
    },
    {
     "data": {
      "text/html": [
       "<style>\n",
       ".list-inline {list-style: none; margin:0; padding: 0}\n",
       ".list-inline>li {display: inline-block}\n",
       ".list-inline>li:not(:last-child)::after {content: \"\\00b7\"; padding: 0 .5ex}\n",
       "</style>\n",
       "<ol class=list-inline><li>1646</li><li>22</li></ol>\n"
      ],
      "text/latex": [
       "\\begin{enumerate*}\n",
       "\\item 1646\n",
       "\\item 22\n",
       "\\end{enumerate*}\n"
      ],
      "text/markdown": [
       "1. 1646\n",
       "2. 22\n",
       "\n",
       "\n"
      ],
      "text/plain": [
       "[1] 1646   22"
      ]
     },
     "metadata": {},
     "output_type": "display_data"
    }
   ],
   "source": [
    "library(tidyr)\n",
    "library(dplyr)\n",
    "library(corrplot)\n",
    "\n",
    "\n",
    "lifeData_original <- read.csv(\"D:/Code/BIOSTAT682/Life Expectancy.csv\")\n",
    "dim(lifeData_original)\n",
    "\n",
    "countries_to_drop = c(\"Equatorial Guinea\", \"Haiti\")  # they only have predict data, no training data\n",
    "\n",
    "lifeData_full <- lifeData_original %>% drop_na() %>% filter(!Country %in% countries_to_drop)\n",
    "\n",
    "dim(lifeData_full)"
   ]
  },
  {
   "cell_type": "code",
   "execution_count": 28,
   "metadata": {
    "vscode": {
     "languageId": "r"
    }
   },
   "outputs": [],
   "source": [
    "write.csv(lifeData_full,\"D:/Code/BIOSTAT682/Life Expectancy_v0.csv\", row.names = FALSE)"
   ]
  },
  {
   "cell_type": "code",
   "execution_count": 31,
   "metadata": {
    "vscode": {
     "languageId": "r"
    }
   },
   "outputs": [],
   "source": [
    "columns_to_drop = c(\"percentage.expenditure\", \"infant.deaths\", \"under.five.deaths\", \"thinness.5.9.years.\")\n",
    "lifeData_col_dropped <- lifeData_full %>% select(-one_of(columns_to_drop))\n",
    "write.csv(lifeData_col_dropped,\"D:/Code/BIOSTAT682/Life Expectancy_v1.csv\", row.names = FALSE)"
   ]
  },
  {
   "cell_type": "code",
   "execution_count": 58,
   "metadata": {
    "vscode": {
     "languageId": "r"
    }
   },
   "outputs": [],
   "source": [
    "lifeData_corrected <- lifeData_col_dropped\n",
    "for(i in 2:(nrow(lifeData_corrected)-1)){\n",
    "  if (lifeData_corrected[i,]$Country %in% c(\"Canada\", \"Greece\")) {\n",
    "      lifeData_corrected[i,]$Status = \"Developed\"\n",
    "  }\n",
    "  if (lifeData_corrected[i,]$Country == lifeData_corrected[i-1,]$Country) {\n",
    "    for(j in 5:ncol(lifeData_corrected)) {\n",
    "      if (80*lifeData_corrected[i,j] < lifeData_corrected[i-1,j]) {\n",
    "        lifeData_corrected[i,j] = lifeData_corrected[i,j] * 100\n",
    "      } \n",
    "      if (8*lifeData_corrected[i,j] < lifeData_corrected[i-1,j]) {\n",
    "        lifeData_corrected[i,j] = lifeData_corrected[i,j] * 10\n",
    "      }\n",
    "    }\n",
    "  }\n",
    "  if (lifeData_corrected[i,]$Country == lifeData_corrected[i+1,]$Country) {\n",
    "    for(j in 5:ncol(lifeData_corrected)) {\n",
    "      if (80*lifeData_corrected[i,j] < lifeData_corrected[i+1,j]) {\n",
    "        lifeData_corrected[i,j] = lifeData_corrected[i,j] * 100\n",
    "      }\n",
    "      if (8*lifeData_corrected[i,j] < lifeData_corrected[i+1,j]) {\n",
    "        lifeData_corrected[i,j] = lifeData_corrected[i,j] * 10\n",
    "      }\n",
    "    }\n",
    "  }\n",
    "}"
   ]
  },
  {
   "cell_type": "code",
   "execution_count": 59,
   "metadata": {
    "vscode": {
     "languageId": "r"
    }
   },
   "outputs": [
    {
     "data": {
      "text/html": [
       "<table class=\"dataframe\">\n",
       "<caption>A data.frame: 20 × 18</caption>\n",
       "<thead>\n",
       "\t<tr><th></th><th scope=col>Country</th><th scope=col>Year</th><th scope=col>Status</th><th scope=col>Life.expectancy</th><th scope=col>Adult.Mortality</th><th scope=col>Alcohol</th><th scope=col>Hepatitis.B</th><th scope=col>Measles</th><th scope=col>BMI</th><th scope=col>Polio</th><th scope=col>Total.expenditure</th><th scope=col>Diphtheria</th><th scope=col>HIV.AIDS</th><th scope=col>GDP</th><th scope=col>Population</th><th scope=col>thinness.1.19.years.</th><th scope=col>Income.composition.of.resources</th><th scope=col>Schooling</th></tr>\n",
       "\t<tr><th></th><th scope=col>&lt;chr&gt;</th><th scope=col>&lt;int&gt;</th><th scope=col>&lt;chr&gt;</th><th scope=col>&lt;dbl&gt;</th><th scope=col>&lt;dbl&gt;</th><th scope=col>&lt;dbl&gt;</th><th scope=col>&lt;dbl&gt;</th><th scope=col>&lt;dbl&gt;</th><th scope=col>&lt;dbl&gt;</th><th scope=col>&lt;dbl&gt;</th><th scope=col>&lt;dbl&gt;</th><th scope=col>&lt;dbl&gt;</th><th scope=col>&lt;dbl&gt;</th><th scope=col>&lt;dbl&gt;</th><th scope=col>&lt;dbl&gt;</th><th scope=col>&lt;dbl&gt;</th><th scope=col>&lt;dbl&gt;</th><th scope=col>&lt;dbl&gt;</th></tr>\n",
       "</thead>\n",
       "<tbody>\n",
       "\t<tr><th scope=row>1</th><td>Afghanistan</td><td>2015</td><td>Developing</td><td>65.0</td><td>263</td><td>0.01</td><td>65</td><td>1154</td><td>19.1</td><td> 6</td><td>8.16</td><td>65</td><td>0.1</td><td> 584.2592</td><td>33736494</td><td>17.2</td><td>0.479</td><td>10.1</td></tr>\n",
       "\t<tr><th scope=row>2</th><td>Afghanistan</td><td>2014</td><td>Developing</td><td>59.9</td><td>271</td><td>0.01</td><td>62</td><td> 492</td><td>18.6</td><td>58</td><td>8.18</td><td>62</td><td>0.1</td><td> 612.6965</td><td>32758200</td><td>17.5</td><td>0.476</td><td>10.0</td></tr>\n",
       "\t<tr><th scope=row>3</th><td>Afghanistan</td><td>2013</td><td>Developing</td><td>59.9</td><td>268</td><td>0.01</td><td>64</td><td> 430</td><td>18.1</td><td>62</td><td>8.13</td><td>64</td><td>0.1</td><td> 631.7450</td><td>31731688</td><td>17.7</td><td>0.470</td><td> 9.9</td></tr>\n",
       "\t<tr><th scope=row>4</th><td>Afghanistan</td><td>2012</td><td>Developing</td><td>59.5</td><td>272</td><td>0.01</td><td>67</td><td>2787</td><td>17.6</td><td>67</td><td>8.52</td><td>67</td><td>0.1</td><td> 669.9590</td><td>36969580</td><td>17.9</td><td>0.463</td><td> 9.8</td></tr>\n",
       "\t<tr><th scope=row>5</th><td>Afghanistan</td><td>2011</td><td>Developing</td><td>59.2</td><td>275</td><td>0.01</td><td>68</td><td>3013</td><td>17.2</td><td>68</td><td>7.87</td><td>68</td><td>0.1</td><td> 635.3723</td><td>29785990</td><td>18.2</td><td>0.454</td><td> 9.5</td></tr>\n",
       "\t<tr><th scope=row>6</th><td>Afghanistan</td><td>2010</td><td>Developing</td><td>58.8</td><td>279</td><td>0.01</td><td>66</td><td>1989</td><td>16.7</td><td>66</td><td>9.20</td><td>66</td><td>0.1</td><td> 553.3289</td><td>28831670</td><td>18.4</td><td>0.448</td><td> 9.2</td></tr>\n",
       "\t<tr><th scope=row>7</th><td>Afghanistan</td><td>2009</td><td>Developing</td><td>58.6</td><td>281</td><td>0.01</td><td>63</td><td>2861</td><td>16.2</td><td>63</td><td>9.42</td><td>63</td><td>0.1</td><td> 445.8933</td><td>28433100</td><td>18.6</td><td>0.434</td><td> 8.9</td></tr>\n",
       "\t<tr><th scope=row>8</th><td>Afghanistan</td><td>2008</td><td>Developing</td><td>58.1</td><td>287</td><td>0.03</td><td>64</td><td>1599</td><td>15.7</td><td>64</td><td>8.33</td><td>64</td><td>0.1</td><td> 373.3611</td><td>27294310</td><td>18.8</td><td>0.433</td><td> 8.7</td></tr>\n",
       "\t<tr><th scope=row>9</th><td>Afghanistan</td><td>2007</td><td>Developing</td><td>57.5</td><td>295</td><td>0.02</td><td>63</td><td>1141</td><td>15.2</td><td>63</td><td>6.73</td><td>63</td><td>0.1</td><td> 369.8358</td><td>26616792</td><td>19.0</td><td>0.415</td><td> 8.4</td></tr>\n",
       "\t<tr><th scope=row>10</th><td>Afghanistan</td><td>2006</td><td>Developing</td><td>57.3</td><td>295</td><td>0.03</td><td>64</td><td>1990</td><td>14.7</td><td>58</td><td>7.43</td><td>58</td><td>0.1</td><td> 272.5638</td><td>25893450</td><td>19.2</td><td>0.405</td><td> 8.1</td></tr>\n",
       "\t<tr><th scope=row>11</th><td>Afghanistan</td><td>2005</td><td>Developing</td><td>57.3</td><td>291</td><td>0.02</td><td>66</td><td>1296</td><td>14.2</td><td>58</td><td>8.70</td><td>58</td><td>0.1</td><td> 252.9413</td><td>25779800</td><td>19.3</td><td>0.396</td><td> 7.9</td></tr>\n",
       "\t<tr><th scope=row>12</th><td>Afghanistan</td><td>2004</td><td>Developing</td><td>57.0</td><td>293</td><td>0.02</td><td>67</td><td> 466</td><td>13.8</td><td>50</td><td>8.79</td><td>50</td><td>0.1</td><td> 219.1414</td><td>24118979</td><td>19.5</td><td>0.381</td><td> 6.8</td></tr>\n",
       "\t<tr><th scope=row>13</th><td>Afghanistan</td><td>2003</td><td>Developing</td><td>56.7</td><td>295</td><td>0.01</td><td>65</td><td> 798</td><td>13.4</td><td>41</td><td>8.82</td><td>41</td><td>0.1</td><td> 198.7285</td><td>23648510</td><td>19.7</td><td>0.373</td><td> 6.5</td></tr>\n",
       "\t<tr><th scope=row>14</th><td>Afghanistan</td><td>2002</td><td>Developing</td><td>56.2</td><td>300</td><td>0.01</td><td>64</td><td>2486</td><td>13.0</td><td>36</td><td>7.76</td><td>36</td><td>0.1</td><td> 187.8459</td><td>21979923</td><td>19.9</td><td>0.341</td><td> 6.2</td></tr>\n",
       "\t<tr><th scope=row>15</th><td>Afghanistan</td><td>2001</td><td>Developing</td><td>55.3</td><td>316</td><td>0.01</td><td>63</td><td>8762</td><td>12.6</td><td>35</td><td>7.80</td><td>33</td><td>0.1</td><td> 117.4970</td><td> 2966463</td><td>21.0</td><td>0.340</td><td> 5.9</td></tr>\n",
       "\t<tr><th scope=row>16</th><td>Afghanistan</td><td>2000</td><td>Developing</td><td>54.8</td><td>321</td><td>0.01</td><td>62</td><td>6532</td><td>12.2</td><td>24</td><td>8.20</td><td>24</td><td>0.1</td><td> 114.5600</td><td> 2937560</td><td>23.0</td><td>0.338</td><td> 5.5</td></tr>\n",
       "\t<tr><th scope=row>17</th><td>Albania    </td><td>2015</td><td>Developing</td><td>77.8</td><td> 74</td><td>4.60</td><td>99</td><td>   0</td><td>58.0</td><td>99</td><td>6.00</td><td>99</td><td>0.1</td><td>3954.2278</td><td>  288730</td><td> 1.2</td><td>0.762</td><td>14.2</td></tr>\n",
       "\t<tr><th scope=row>18</th><td>Albania    </td><td>2014</td><td>Developing</td><td>77.5</td><td> 80</td><td>4.51</td><td>98</td><td>   0</td><td>57.2</td><td>98</td><td>5.88</td><td>98</td><td>0.1</td><td>4575.7638</td><td>  288914</td><td> 1.2</td><td>0.761</td><td>14.2</td></tr>\n",
       "\t<tr><th scope=row>19</th><td>Albania    </td><td>2013</td><td>Developing</td><td>77.2</td><td> 84</td><td>4.76</td><td>99</td><td>   0</td><td>56.5</td><td>99</td><td>5.66</td><td>99</td><td>0.1</td><td>4414.7231</td><td>  289592</td><td> 1.3</td><td>0.759</td><td>14.2</td></tr>\n",
       "\t<tr><th scope=row>20</th><td>Albania    </td><td>2012</td><td>Developing</td><td>76.9</td><td> 86</td><td>5.14</td><td>99</td><td>   9</td><td>55.8</td><td>99</td><td>5.59</td><td>99</td><td>0.1</td><td>4247.6144</td><td>  294100</td><td> 1.3</td><td>0.752</td><td>14.2</td></tr>\n",
       "</tbody>\n",
       "</table>\n"
      ],
      "text/latex": [
       "A data.frame: 20 × 18\n",
       "\\begin{tabular}{r|llllllllllllllllll}\n",
       "  & Country & Year & Status & Life.expectancy & Adult.Mortality & Alcohol & Hepatitis.B & Measles & BMI & Polio & Total.expenditure & Diphtheria & HIV.AIDS & GDP & Population & thinness.1.19.years. & Income.composition.of.resources & Schooling\\\\\n",
       "  & <chr> & <int> & <chr> & <dbl> & <dbl> & <dbl> & <dbl> & <dbl> & <dbl> & <dbl> & <dbl> & <dbl> & <dbl> & <dbl> & <dbl> & <dbl> & <dbl> & <dbl>\\\\\n",
       "\\hline\n",
       "\t1 & Afghanistan & 2015 & Developing & 65.0 & 263 & 0.01 & 65 & 1154 & 19.1 &  6 & 8.16 & 65 & 0.1 &  584.2592 & 33736494 & 17.2 & 0.479 & 10.1\\\\\n",
       "\t2 & Afghanistan & 2014 & Developing & 59.9 & 271 & 0.01 & 62 &  492 & 18.6 & 58 & 8.18 & 62 & 0.1 &  612.6965 & 32758200 & 17.5 & 0.476 & 10.0\\\\\n",
       "\t3 & Afghanistan & 2013 & Developing & 59.9 & 268 & 0.01 & 64 &  430 & 18.1 & 62 & 8.13 & 64 & 0.1 &  631.7450 & 31731688 & 17.7 & 0.470 &  9.9\\\\\n",
       "\t4 & Afghanistan & 2012 & Developing & 59.5 & 272 & 0.01 & 67 & 2787 & 17.6 & 67 & 8.52 & 67 & 0.1 &  669.9590 & 36969580 & 17.9 & 0.463 &  9.8\\\\\n",
       "\t5 & Afghanistan & 2011 & Developing & 59.2 & 275 & 0.01 & 68 & 3013 & 17.2 & 68 & 7.87 & 68 & 0.1 &  635.3723 & 29785990 & 18.2 & 0.454 &  9.5\\\\\n",
       "\t6 & Afghanistan & 2010 & Developing & 58.8 & 279 & 0.01 & 66 & 1989 & 16.7 & 66 & 9.20 & 66 & 0.1 &  553.3289 & 28831670 & 18.4 & 0.448 &  9.2\\\\\n",
       "\t7 & Afghanistan & 2009 & Developing & 58.6 & 281 & 0.01 & 63 & 2861 & 16.2 & 63 & 9.42 & 63 & 0.1 &  445.8933 & 28433100 & 18.6 & 0.434 &  8.9\\\\\n",
       "\t8 & Afghanistan & 2008 & Developing & 58.1 & 287 & 0.03 & 64 & 1599 & 15.7 & 64 & 8.33 & 64 & 0.1 &  373.3611 & 27294310 & 18.8 & 0.433 &  8.7\\\\\n",
       "\t9 & Afghanistan & 2007 & Developing & 57.5 & 295 & 0.02 & 63 & 1141 & 15.2 & 63 & 6.73 & 63 & 0.1 &  369.8358 & 26616792 & 19.0 & 0.415 &  8.4\\\\\n",
       "\t10 & Afghanistan & 2006 & Developing & 57.3 & 295 & 0.03 & 64 & 1990 & 14.7 & 58 & 7.43 & 58 & 0.1 &  272.5638 & 25893450 & 19.2 & 0.405 &  8.1\\\\\n",
       "\t11 & Afghanistan & 2005 & Developing & 57.3 & 291 & 0.02 & 66 & 1296 & 14.2 & 58 & 8.70 & 58 & 0.1 &  252.9413 & 25779800 & 19.3 & 0.396 &  7.9\\\\\n",
       "\t12 & Afghanistan & 2004 & Developing & 57.0 & 293 & 0.02 & 67 &  466 & 13.8 & 50 & 8.79 & 50 & 0.1 &  219.1414 & 24118979 & 19.5 & 0.381 &  6.8\\\\\n",
       "\t13 & Afghanistan & 2003 & Developing & 56.7 & 295 & 0.01 & 65 &  798 & 13.4 & 41 & 8.82 & 41 & 0.1 &  198.7285 & 23648510 & 19.7 & 0.373 &  6.5\\\\\n",
       "\t14 & Afghanistan & 2002 & Developing & 56.2 & 300 & 0.01 & 64 & 2486 & 13.0 & 36 & 7.76 & 36 & 0.1 &  187.8459 & 21979923 & 19.9 & 0.341 &  6.2\\\\\n",
       "\t15 & Afghanistan & 2001 & Developing & 55.3 & 316 & 0.01 & 63 & 8762 & 12.6 & 35 & 7.80 & 33 & 0.1 &  117.4970 &  2966463 & 21.0 & 0.340 &  5.9\\\\\n",
       "\t16 & Afghanistan & 2000 & Developing & 54.8 & 321 & 0.01 & 62 & 6532 & 12.2 & 24 & 8.20 & 24 & 0.1 &  114.5600 &  2937560 & 23.0 & 0.338 &  5.5\\\\\n",
       "\t17 & Albania     & 2015 & Developing & 77.8 &  74 & 4.60 & 99 &    0 & 58.0 & 99 & 6.00 & 99 & 0.1 & 3954.2278 &   288730 &  1.2 & 0.762 & 14.2\\\\\n",
       "\t18 & Albania     & 2014 & Developing & 77.5 &  80 & 4.51 & 98 &    0 & 57.2 & 98 & 5.88 & 98 & 0.1 & 4575.7638 &   288914 &  1.2 & 0.761 & 14.2\\\\\n",
       "\t19 & Albania     & 2013 & Developing & 77.2 &  84 & 4.76 & 99 &    0 & 56.5 & 99 & 5.66 & 99 & 0.1 & 4414.7231 &   289592 &  1.3 & 0.759 & 14.2\\\\\n",
       "\t20 & Albania     & 2012 & Developing & 76.9 &  86 & 5.14 & 99 &    9 & 55.8 & 99 & 5.59 & 99 & 0.1 & 4247.6144 &   294100 &  1.3 & 0.752 & 14.2\\\\\n",
       "\\end{tabular}\n"
      ],
      "text/markdown": [
       "\n",
       "A data.frame: 20 × 18\n",
       "\n",
       "| <!--/--> | Country &lt;chr&gt; | Year &lt;int&gt; | Status &lt;chr&gt; | Life.expectancy &lt;dbl&gt; | Adult.Mortality &lt;dbl&gt; | Alcohol &lt;dbl&gt; | Hepatitis.B &lt;dbl&gt; | Measles &lt;dbl&gt; | BMI &lt;dbl&gt; | Polio &lt;dbl&gt; | Total.expenditure &lt;dbl&gt; | Diphtheria &lt;dbl&gt; | HIV.AIDS &lt;dbl&gt; | GDP &lt;dbl&gt; | Population &lt;dbl&gt; | thinness.1.19.years. &lt;dbl&gt; | Income.composition.of.resources &lt;dbl&gt; | Schooling &lt;dbl&gt; |\n",
       "|---|---|---|---|---|---|---|---|---|---|---|---|---|---|---|---|---|---|---|\n",
       "| 1 | Afghanistan | 2015 | Developing | 65.0 | 263 | 0.01 | 65 | 1154 | 19.1 |  6 | 8.16 | 65 | 0.1 |  584.2592 | 33736494 | 17.2 | 0.479 | 10.1 |\n",
       "| 2 | Afghanistan | 2014 | Developing | 59.9 | 271 | 0.01 | 62 |  492 | 18.6 | 58 | 8.18 | 62 | 0.1 |  612.6965 | 32758200 | 17.5 | 0.476 | 10.0 |\n",
       "| 3 | Afghanistan | 2013 | Developing | 59.9 | 268 | 0.01 | 64 |  430 | 18.1 | 62 | 8.13 | 64 | 0.1 |  631.7450 | 31731688 | 17.7 | 0.470 |  9.9 |\n",
       "| 4 | Afghanistan | 2012 | Developing | 59.5 | 272 | 0.01 | 67 | 2787 | 17.6 | 67 | 8.52 | 67 | 0.1 |  669.9590 | 36969580 | 17.9 | 0.463 |  9.8 |\n",
       "| 5 | Afghanistan | 2011 | Developing | 59.2 | 275 | 0.01 | 68 | 3013 | 17.2 | 68 | 7.87 | 68 | 0.1 |  635.3723 | 29785990 | 18.2 | 0.454 |  9.5 |\n",
       "| 6 | Afghanistan | 2010 | Developing | 58.8 | 279 | 0.01 | 66 | 1989 | 16.7 | 66 | 9.20 | 66 | 0.1 |  553.3289 | 28831670 | 18.4 | 0.448 |  9.2 |\n",
       "| 7 | Afghanistan | 2009 | Developing | 58.6 | 281 | 0.01 | 63 | 2861 | 16.2 | 63 | 9.42 | 63 | 0.1 |  445.8933 | 28433100 | 18.6 | 0.434 |  8.9 |\n",
       "| 8 | Afghanistan | 2008 | Developing | 58.1 | 287 | 0.03 | 64 | 1599 | 15.7 | 64 | 8.33 | 64 | 0.1 |  373.3611 | 27294310 | 18.8 | 0.433 |  8.7 |\n",
       "| 9 | Afghanistan | 2007 | Developing | 57.5 | 295 | 0.02 | 63 | 1141 | 15.2 | 63 | 6.73 | 63 | 0.1 |  369.8358 | 26616792 | 19.0 | 0.415 |  8.4 |\n",
       "| 10 | Afghanistan | 2006 | Developing | 57.3 | 295 | 0.03 | 64 | 1990 | 14.7 | 58 | 7.43 | 58 | 0.1 |  272.5638 | 25893450 | 19.2 | 0.405 |  8.1 |\n",
       "| 11 | Afghanistan | 2005 | Developing | 57.3 | 291 | 0.02 | 66 | 1296 | 14.2 | 58 | 8.70 | 58 | 0.1 |  252.9413 | 25779800 | 19.3 | 0.396 |  7.9 |\n",
       "| 12 | Afghanistan | 2004 | Developing | 57.0 | 293 | 0.02 | 67 |  466 | 13.8 | 50 | 8.79 | 50 | 0.1 |  219.1414 | 24118979 | 19.5 | 0.381 |  6.8 |\n",
       "| 13 | Afghanistan | 2003 | Developing | 56.7 | 295 | 0.01 | 65 |  798 | 13.4 | 41 | 8.82 | 41 | 0.1 |  198.7285 | 23648510 | 19.7 | 0.373 |  6.5 |\n",
       "| 14 | Afghanistan | 2002 | Developing | 56.2 | 300 | 0.01 | 64 | 2486 | 13.0 | 36 | 7.76 | 36 | 0.1 |  187.8459 | 21979923 | 19.9 | 0.341 |  6.2 |\n",
       "| 15 | Afghanistan | 2001 | Developing | 55.3 | 316 | 0.01 | 63 | 8762 | 12.6 | 35 | 7.80 | 33 | 0.1 |  117.4970 |  2966463 | 21.0 | 0.340 |  5.9 |\n",
       "| 16 | Afghanistan | 2000 | Developing | 54.8 | 321 | 0.01 | 62 | 6532 | 12.2 | 24 | 8.20 | 24 | 0.1 |  114.5600 |  2937560 | 23.0 | 0.338 |  5.5 |\n",
       "| 17 | Albania     | 2015 | Developing | 77.8 |  74 | 4.60 | 99 |    0 | 58.0 | 99 | 6.00 | 99 | 0.1 | 3954.2278 |   288730 |  1.2 | 0.762 | 14.2 |\n",
       "| 18 | Albania     | 2014 | Developing | 77.5 |  80 | 4.51 | 98 |    0 | 57.2 | 98 | 5.88 | 98 | 0.1 | 4575.7638 |   288914 |  1.2 | 0.761 | 14.2 |\n",
       "| 19 | Albania     | 2013 | Developing | 77.2 |  84 | 4.76 | 99 |    0 | 56.5 | 99 | 5.66 | 99 | 0.1 | 4414.7231 |   289592 |  1.3 | 0.759 | 14.2 |\n",
       "| 20 | Albania     | 2012 | Developing | 76.9 |  86 | 5.14 | 99 |    9 | 55.8 | 99 | 5.59 | 99 | 0.1 | 4247.6144 |   294100 |  1.3 | 0.752 | 14.2 |\n",
       "\n"
      ],
      "text/plain": [
       "   Country     Year Status     Life.expectancy Adult.Mortality Alcohol\n",
       "1  Afghanistan 2015 Developing 65.0            263             0.01   \n",
       "2  Afghanistan 2014 Developing 59.9            271             0.01   \n",
       "3  Afghanistan 2013 Developing 59.9            268             0.01   \n",
       "4  Afghanistan 2012 Developing 59.5            272             0.01   \n",
       "5  Afghanistan 2011 Developing 59.2            275             0.01   \n",
       "6  Afghanistan 2010 Developing 58.8            279             0.01   \n",
       "7  Afghanistan 2009 Developing 58.6            281             0.01   \n",
       "8  Afghanistan 2008 Developing 58.1            287             0.03   \n",
       "9  Afghanistan 2007 Developing 57.5            295             0.02   \n",
       "10 Afghanistan 2006 Developing 57.3            295             0.03   \n",
       "11 Afghanistan 2005 Developing 57.3            291             0.02   \n",
       "12 Afghanistan 2004 Developing 57.0            293             0.02   \n",
       "13 Afghanistan 2003 Developing 56.7            295             0.01   \n",
       "14 Afghanistan 2002 Developing 56.2            300             0.01   \n",
       "15 Afghanistan 2001 Developing 55.3            316             0.01   \n",
       "16 Afghanistan 2000 Developing 54.8            321             0.01   \n",
       "17 Albania     2015 Developing 77.8             74             4.60   \n",
       "18 Albania     2014 Developing 77.5             80             4.51   \n",
       "19 Albania     2013 Developing 77.2             84             4.76   \n",
       "20 Albania     2012 Developing 76.9             86             5.14   \n",
       "   Hepatitis.B Measles BMI  Polio Total.expenditure Diphtheria HIV.AIDS\n",
       "1  65          1154    19.1  6    8.16              65         0.1     \n",
       "2  62           492    18.6 58    8.18              62         0.1     \n",
       "3  64           430    18.1 62    8.13              64         0.1     \n",
       "4  67          2787    17.6 67    8.52              67         0.1     \n",
       "5  68          3013    17.2 68    7.87              68         0.1     \n",
       "6  66          1989    16.7 66    9.20              66         0.1     \n",
       "7  63          2861    16.2 63    9.42              63         0.1     \n",
       "8  64          1599    15.7 64    8.33              64         0.1     \n",
       "9  63          1141    15.2 63    6.73              63         0.1     \n",
       "10 64          1990    14.7 58    7.43              58         0.1     \n",
       "11 66          1296    14.2 58    8.70              58         0.1     \n",
       "12 67           466    13.8 50    8.79              50         0.1     \n",
       "13 65           798    13.4 41    8.82              41         0.1     \n",
       "14 64          2486    13.0 36    7.76              36         0.1     \n",
       "15 63          8762    12.6 35    7.80              33         0.1     \n",
       "16 62          6532    12.2 24    8.20              24         0.1     \n",
       "17 99             0    58.0 99    6.00              99         0.1     \n",
       "18 98             0    57.2 98    5.88              98         0.1     \n",
       "19 99             0    56.5 99    5.66              99         0.1     \n",
       "20 99             9    55.8 99    5.59              99         0.1     \n",
       "   GDP       Population thinness.1.19.years. Income.composition.of.resources\n",
       "1   584.2592 33736494   17.2                 0.479                          \n",
       "2   612.6965 32758200   17.5                 0.476                          \n",
       "3   631.7450 31731688   17.7                 0.470                          \n",
       "4   669.9590 36969580   17.9                 0.463                          \n",
       "5   635.3723 29785990   18.2                 0.454                          \n",
       "6   553.3289 28831670   18.4                 0.448                          \n",
       "7   445.8933 28433100   18.6                 0.434                          \n",
       "8   373.3611 27294310   18.8                 0.433                          \n",
       "9   369.8358 26616792   19.0                 0.415                          \n",
       "10  272.5638 25893450   19.2                 0.405                          \n",
       "11  252.9413 25779800   19.3                 0.396                          \n",
       "12  219.1414 24118979   19.5                 0.381                          \n",
       "13  198.7285 23648510   19.7                 0.373                          \n",
       "14  187.8459 21979923   19.9                 0.341                          \n",
       "15  117.4970  2966463   21.0                 0.340                          \n",
       "16  114.5600  2937560   23.0                 0.338                          \n",
       "17 3954.2278   288730    1.2                 0.762                          \n",
       "18 4575.7638   288914    1.2                 0.761                          \n",
       "19 4414.7231   289592    1.3                 0.759                          \n",
       "20 4247.6144   294100    1.3                 0.752                          \n",
       "   Schooling\n",
       "1  10.1     \n",
       "2  10.0     \n",
       "3   9.9     \n",
       "4   9.8     \n",
       "5   9.5     \n",
       "6   9.2     \n",
       "7   8.9     \n",
       "8   8.7     \n",
       "9   8.4     \n",
       "10  8.1     \n",
       "11  7.9     \n",
       "12  6.8     \n",
       "13  6.5     \n",
       "14  6.2     \n",
       "15  5.9     \n",
       "16  5.5     \n",
       "17 14.2     \n",
       "18 14.2     \n",
       "19 14.2     \n",
       "20 14.2     "
      ]
     },
     "metadata": {},
     "output_type": "display_data"
    }
   ],
   "source": [
    "head(lifeData_corrected, 20)\n",
    "write.csv(lifeData_corrected,\"D:/Code/BIOSTAT682/Life Expectancy_v2.csv\", row.names = FALSE)"
   ]
  },
  {
   "cell_type": "code",
   "execution_count": 4,
   "metadata": {
    "vscode": {
     "languageId": "r"
    }
   },
   "outputs": [],
   "source": [
    "write.csv(lifeData_scaled,\"D:/Code/BIOSTAT682/Life Expectancy_v4.csv\", row.names = FALSE)"
   ]
  },
  {
   "cell_type": "code",
   "execution_count": 5,
   "metadata": {
    "vscode": {
     "languageId": "r"
    }
   },
   "outputs": [
    {
     "data": {
      "text/plain": [
       "\n",
       "Call:\n",
       "lm(formula = Life.expectancy ~ . - Year - Country, data = lifeData_scaled)\n",
       "\n",
       "Residuals:\n",
       "     Min       1Q   Median       3Q      Max \n",
       "-12.7570  -1.3972  -0.1138   1.3281  12.1271 \n",
       "\n",
       "Coefficients:\n",
       "                                  Estimate Std. Error t value Pr(>|t|)    \n",
       "(Intercept)                      6.345e+01  8.802e-01  72.091  < 2e-16 ***\n",
       "StatusDeveloping                -4.399e-01  2.753e-01  -1.598   0.1102    \n",
       "Adult.Mortality                 -4.409e-02  1.157e-03 -38.102  < 2e-16 ***\n",
       "Alcohol                         -5.532e-03  2.637e-02  -0.210   0.8339    \n",
       "Hepatitis.B                     -6.285e-03  5.237e-03  -1.200   0.2303    \n",
       "Measles                         -1.107e-06  7.097e-06  -0.156   0.8760    \n",
       "BMI                              3.868e-02  7.366e-03   5.252 1.71e-07 ***\n",
       "Polio                            2.512e-02  1.379e-02   1.822   0.0687 .  \n",
       "Total.expenditure               -1.231e-02  3.075e-02  -0.400   0.6889    \n",
       "Diphtheria                       2.793e-02  1.389e-02   2.011   0.0445 *  \n",
       "HIV.AIDS                        -4.259e-02  1.818e-02  -2.343   0.0193 *  \n",
       "GDP                              5.423e+00  7.402e-01   7.327 3.68e-13 ***\n",
       "Population                       1.490e-09  7.906e-10   1.885   0.0596 .  \n",
       "thinness.1.19.years.            -5.723e-02  2.277e-02  -2.513   0.0121 *  \n",
       "Income.composition.of.resources  4.298e+00  6.532e-01   6.580 6.32e-11 ***\n",
       "Schooling                        5.321e-01  4.900e-02  10.859  < 2e-16 ***\n",
       "---\n",
       "Signif. codes:  0 '***' 0.001 '**' 0.01 '*' 0.05 '.' 0.1 ' ' 1\n",
       "\n",
       "Residual standard error: 2.74 on 1630 degrees of freedom\n",
       "Multiple R-squared:  0.9039,\tAdjusted R-squared:  0.903 \n",
       "F-statistic:  1022 on 15 and 1630 DF,  p-value: < 2.2e-16\n"
      ]
     },
     "metadata": {},
     "output_type": "display_data"
    }
   ],
   "source": [
    "lifeData_scaled = read.csv(\"D:/Code/BIOSTAT682/Life Expectancy_v4.csv\")\n",
    "lmod <- lm(Life.expectancy ~ . - Year - Country, data = lifeData_scaled)\n",
    "summary(lmod)"
   ]
  },
  {
   "cell_type": "code",
   "execution_count": 5,
   "metadata": {
    "vscode": {
     "languageId": "r"
    }
   },
   "outputs": [
    {
     "data": {
      "image/png": "[encoded data removed]",
      "text/plain": [
       "plot without title"
      ]
     },
     "metadata": {
      "image/png": {
       "height": 420,
       "width": 420
      }
     },
     "output_type": "display_data"
    },
    {
     "data": {
      "image/png": "[encoded data removed]",
      "text/plain": [
       "Plot with title \"Normal Q-Q Plot\""
      ]
     },
     "metadata": {
      "image/png": {
       "height": 420,
       "width": 420
      }
     },
     "output_type": "display_data"
    }
   ],
   "source": [
    "plot(fitted(lmod), residuals(lmod))\n",
    "abline(h=0)\n",
    "qqnorm(residuals(lmod))\n",
    "qqline(residuals(lmod))"
   ]
  },
  {
   "cell_type": "code",
   "execution_count": null,
   "metadata": {
    "vscode": {
     "languageId": "r"
    }
   },
   "outputs": [],
   "source": []
  }
 ],
 "metadata": {
  "kernelspec": {
   "display_name": "R",
   "language": "R",
   "name": "ir"
  },
  "language_info": {
   "codemirror_mode": "r",
   "file_extension": ".r",
   "mimetype": "text/x-r-source",
   "name": "R",
   "pygments_lexer": "r",
   "version": "4.2.0"
  },
  "orig_nbformat": 4
 },
 "nbformat": 4,
 "nbformat_minor": 2
}
