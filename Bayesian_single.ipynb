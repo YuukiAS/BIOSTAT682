{
 "cells": [
  {
   "cell_type": "code",
   "execution_count": 1,
   "source": [
    "library(tidyr)\n",
    "library(dplyr)\n",
    "library(corrplot)\n",
    "\n",
    "\n",
    "lifeData <- read.csv(\"C:/Code/BIOSTAT682/Life Expectancy_v4.csv\")\n",
    "\n",
    "dim(lifeData)\n",
    "head(lifeData)"
   ],
   "outputs": [
    {
     "output_type": "stream",
     "name": "stderr",
     "text": [
      "\n",
      "Attaching package: 'dplyr'\n",
      "\n",
      "\n",
      "The following objects are masked from 'package:stats':\n",
      "\n",
      "    filter, lag\n",
      "\n",
      "\n",
      "The following objects are masked from 'package:base':\n",
      "\n",
      "    intersect, setdiff, setequal, union\n",
      "\n",
      "\n",
      "Warning message:\n",
      "\"package 'corrplot' was built under R version 4.2.2\"\n",
      "corrplot 0.92 loaded\n",
      "\n"
     ]
    },
    {
     "output_type": "display_data",
     "data": {
      "text/html": [
       "<style>\n",
       ".list-inline {list-style: none; margin:0; padding: 0}\n",
       ".list-inline>li {display: inline-block}\n",
       ".list-inline>li:not(:last-child)::after {content: \"\\00b7\"; padding: 0 .5ex}\n",
       "</style>\n",
       "<ol class=list-inline><li>1646</li><li>18</li></ol>\n"
      ],
      "text/latex": [
       "\\begin{enumerate*}\n",
       "\\item 1646\n",
       "\\item 18\n",
       "\\end{enumerate*}\n"
      ],
      "text/markdown": [
       "1. 1646\n",
       "2. 18\n",
       "\n",
       "\n"
      ],
      "text/plain": [
       "[1] 1646   18"
      ]
     },
     "metadata": {}
    },
    {
     "output_type": "display_data",
     "data": {
      "text/html": [
       "<table class=\"dataframe\">\n",
       "<caption>A data.frame: 6 × 18</caption>\n",
       "<thead>\n",
       "\t<tr><th></th><th scope=col>Country</th><th scope=col>Year</th><th scope=col>Status</th><th scope=col>Life.expectancy</th><th scope=col>Adult.Mortality</th><th scope=col>Alcohol</th><th scope=col>Hepatitis.B</th><th scope=col>Measles</th><th scope=col>BMI</th><th scope=col>Polio</th><th scope=col>Total.expenditure</th><th scope=col>Diphtheria</th><th scope=col>HIV.AIDS</th><th scope=col>GDP</th><th scope=col>Population</th><th scope=col>thinness.1.19.years.</th><th scope=col>Income.composition.of.resources</th><th scope=col>Schooling</th></tr>\n",
       "\t<tr><th></th><th scope=col>&lt;chr&gt;</th><th scope=col>&lt;int&gt;</th><th scope=col>&lt;chr&gt;</th><th scope=col>&lt;dbl&gt;</th><th scope=col>&lt;int&gt;</th><th scope=col>&lt;dbl&gt;</th><th scope=col>&lt;int&gt;</th><th scope=col>&lt;int&gt;</th><th scope=col>&lt;dbl&gt;</th><th scope=col>&lt;int&gt;</th><th scope=col>&lt;dbl&gt;</th><th scope=col>&lt;int&gt;</th><th scope=col>&lt;dbl&gt;</th><th scope=col>&lt;dbl&gt;</th><th scope=col>&lt;dbl&gt;</th><th scope=col>&lt;dbl&gt;</th><th scope=col>&lt;dbl&gt;</th><th scope=col>&lt;dbl&gt;</th></tr>\n",
       "</thead>\n",
       "<tbody>\n",
       "\t<tr><th scope=row>1</th><td>Afghanistan</td><td>2015</td><td>Developing</td><td>65.0</td><td>263</td><td>0.01</td><td>65</td><td>1154</td><td>19.1</td><td> 6</td><td>8.16</td><td>65</td><td>0.1</td><td>0.005842592</td><td>33736494</td><td>17.2</td><td>0.479</td><td>10.1</td></tr>\n",
       "\t<tr><th scope=row>2</th><td>Afghanistan</td><td>2014</td><td>Developing</td><td>59.9</td><td>271</td><td>0.01</td><td>62</td><td> 492</td><td>18.6</td><td>58</td><td>8.18</td><td>62</td><td>0.1</td><td>0.006126965</td><td>32758200</td><td>17.5</td><td>0.476</td><td>10.0</td></tr>\n",
       "\t<tr><th scope=row>3</th><td>Afghanistan</td><td>2013</td><td>Developing</td><td>59.9</td><td>268</td><td>0.01</td><td>64</td><td> 430</td><td>18.1</td><td>62</td><td>8.13</td><td>64</td><td>0.1</td><td>0.006317450</td><td>31731688</td><td>17.7</td><td>0.470</td><td> 9.9</td></tr>\n",
       "\t<tr><th scope=row>4</th><td>Afghanistan</td><td>2012</td><td>Developing</td><td>59.5</td><td>272</td><td>0.01</td><td>67</td><td>2787</td><td>17.6</td><td>67</td><td>8.52</td><td>67</td><td>0.1</td><td>0.006699590</td><td>36969580</td><td>17.9</td><td>0.463</td><td> 9.8</td></tr>\n",
       "\t<tr><th scope=row>5</th><td>Afghanistan</td><td>2011</td><td>Developing</td><td>59.2</td><td>275</td><td>0.01</td><td>68</td><td>3013</td><td>17.2</td><td>68</td><td>7.87</td><td>68</td><td>0.1</td><td>0.006353723</td><td>29785990</td><td>18.2</td><td>0.454</td><td> 9.5</td></tr>\n",
       "\t<tr><th scope=row>6</th><td>Afghanistan</td><td>2010</td><td>Developing</td><td>58.8</td><td>279</td><td>0.01</td><td>66</td><td>1989</td><td>16.7</td><td>66</td><td>9.20</td><td>66</td><td>0.1</td><td>0.005533289</td><td>28831670</td><td>18.4</td><td>0.448</td><td> 9.2</td></tr>\n",
       "</tbody>\n",
       "</table>\n"
      ],
      "text/latex": [
       "A data.frame: 6 × 18\n",
       "\\begin{tabular}{r|llllllllllllllllll}\n",
       "  & Country & Year & Status & Life.expectancy & Adult.Mortality & Alcohol & Hepatitis.B & Measles & BMI & Polio & Total.expenditure & Diphtheria & HIV.AIDS & GDP & Population & thinness.1.19.years. & Income.composition.of.resources & Schooling\\\\\n",
       "  & <chr> & <int> & <chr> & <dbl> & <int> & <dbl> & <int> & <int> & <dbl> & <int> & <dbl> & <int> & <dbl> & <dbl> & <dbl> & <dbl> & <dbl> & <dbl>\\\\\n",
       "\\hline\n",
       "\t1 & Afghanistan & 2015 & Developing & 65.0 & 263 & 0.01 & 65 & 1154 & 19.1 &  6 & 8.16 & 65 & 0.1 & 0.005842592 & 33736494 & 17.2 & 0.479 & 10.1\\\\\n",
       "\t2 & Afghanistan & 2014 & Developing & 59.9 & 271 & 0.01 & 62 &  492 & 18.6 & 58 & 8.18 & 62 & 0.1 & 0.006126965 & 32758200 & 17.5 & 0.476 & 10.0\\\\\n",
       "\t3 & Afghanistan & 2013 & Developing & 59.9 & 268 & 0.01 & 64 &  430 & 18.1 & 62 & 8.13 & 64 & 0.1 & 0.006317450 & 31731688 & 17.7 & 0.470 &  9.9\\\\\n",
       "\t4 & Afghanistan & 2012 & Developing & 59.5 & 272 & 0.01 & 67 & 2787 & 17.6 & 67 & 8.52 & 67 & 0.1 & 0.006699590 & 36969580 & 17.9 & 0.463 &  9.8\\\\\n",
       "\t5 & Afghanistan & 2011 & Developing & 59.2 & 275 & 0.01 & 68 & 3013 & 17.2 & 68 & 7.87 & 68 & 0.1 & 0.006353723 & 29785990 & 18.2 & 0.454 &  9.5\\\\\n",
       "\t6 & Afghanistan & 2010 & Developing & 58.8 & 279 & 0.01 & 66 & 1989 & 16.7 & 66 & 9.20 & 66 & 0.1 & 0.005533289 & 28831670 & 18.4 & 0.448 &  9.2\\\\\n",
       "\\end{tabular}\n"
      ],
      "text/markdown": [
       "\n",
       "A data.frame: 6 × 18\n",
       "\n",
       "| <!--/--> | Country &lt;chr&gt; | Year &lt;int&gt; | Status &lt;chr&gt; | Life.expectancy &lt;dbl&gt; | Adult.Mortality &lt;int&gt; | Alcohol &lt;dbl&gt; | Hepatitis.B &lt;int&gt; | Measles &lt;int&gt; | BMI &lt;dbl&gt; | Polio &lt;int&gt; | Total.expenditure &lt;dbl&gt; | Diphtheria &lt;int&gt; | HIV.AIDS &lt;dbl&gt; | GDP &lt;dbl&gt; | Population &lt;dbl&gt; | thinness.1.19.years. &lt;dbl&gt; | Income.composition.of.resources &lt;dbl&gt; | Schooling &lt;dbl&gt; |\n",
       "|---|---|---|---|---|---|---|---|---|---|---|---|---|---|---|---|---|---|---|\n",
       "| 1 | Afghanistan | 2015 | Developing | 65.0 | 263 | 0.01 | 65 | 1154 | 19.1 |  6 | 8.16 | 65 | 0.1 | 0.005842592 | 33736494 | 17.2 | 0.479 | 10.1 |\n",
       "| 2 | Afghanistan | 2014 | Developing | 59.9 | 271 | 0.01 | 62 |  492 | 18.6 | 58 | 8.18 | 62 | 0.1 | 0.006126965 | 32758200 | 17.5 | 0.476 | 10.0 |\n",
       "| 3 | Afghanistan | 2013 | Developing | 59.9 | 268 | 0.01 | 64 |  430 | 18.1 | 62 | 8.13 | 64 | 0.1 | 0.006317450 | 31731688 | 17.7 | 0.470 |  9.9 |\n",
       "| 4 | Afghanistan | 2012 | Developing | 59.5 | 272 | 0.01 | 67 | 2787 | 17.6 | 67 | 8.52 | 67 | 0.1 | 0.006699590 | 36969580 | 17.9 | 0.463 |  9.8 |\n",
       "| 5 | Afghanistan | 2011 | Developing | 59.2 | 275 | 0.01 | 68 | 3013 | 17.2 | 68 | 7.87 | 68 | 0.1 | 0.006353723 | 29785990 | 18.2 | 0.454 |  9.5 |\n",
       "| 6 | Afghanistan | 2010 | Developing | 58.8 | 279 | 0.01 | 66 | 1989 | 16.7 | 66 | 9.20 | 66 | 0.1 | 0.005533289 | 28831670 | 18.4 | 0.448 |  9.2 |\n",
       "\n"
      ],
      "text/plain": [
       "  Country     Year Status     Life.expectancy Adult.Mortality Alcohol\n",
       "1 Afghanistan 2015 Developing 65.0            263             0.01   \n",
       "2 Afghanistan 2014 Developing 59.9            271             0.01   \n",
       "3 Afghanistan 2013 Developing 59.9            268             0.01   \n",
       "4 Afghanistan 2012 Developing 59.5            272             0.01   \n",
       "5 Afghanistan 2011 Developing 59.2            275             0.01   \n",
       "6 Afghanistan 2010 Developing 58.8            279             0.01   \n",
       "  Hepatitis.B Measles BMI  Polio Total.expenditure Diphtheria HIV.AIDS\n",
       "1 65          1154    19.1  6    8.16              65         0.1     \n",
       "2 62           492    18.6 58    8.18              62         0.1     \n",
       "3 64           430    18.1 62    8.13              64         0.1     \n",
       "4 67          2787    17.6 67    8.52              67         0.1     \n",
       "5 68          3013    17.2 68    7.87              68         0.1     \n",
       "6 66          1989    16.7 66    9.20              66         0.1     \n",
       "  GDP         Population thinness.1.19.years. Income.composition.of.resources\n",
       "1 0.005842592 33736494   17.2                 0.479                          \n",
       "2 0.006126965 32758200   17.5                 0.476                          \n",
       "3 0.006317450 31731688   17.7                 0.470                          \n",
       "4 0.006699590 36969580   17.9                 0.463                          \n",
       "5 0.006353723 29785990   18.2                 0.454                          \n",
       "6 0.005533289 28831670   18.4                 0.448                          \n",
       "  Schooling\n",
       "1 10.1     \n",
       "2 10.0     \n",
       "3  9.9     \n",
       "4  9.8     \n",
       "5  9.5     \n",
       "6  9.2     "
      ]
     },
     "metadata": {}
    }
   ],
   "metadata": {
    "vscode": {
     "languageId": "r"
    }
   }
  },
  {
   "cell_type": "code",
   "execution_count": 2,
   "source": [
    "lifeData_train <- lifeData %>% filter(Year < 2013)\n",
    "lifeData_test <- lifeData %>% filter(Year >= 2013)\n",
    "dim(lifeData_train)\n",
    "dim(lifeData_test)"
   ],
   "outputs": [
    {
     "output_type": "display_data",
     "data": {
      "text/html": [
       "<style>\n",
       ".list-inline {list-style: none; margin:0; padding: 0}\n",
       ".list-inline>li {display: inline-block}\n",
       ".list-inline>li:not(:last-child)::after {content: \"\\00b7\"; padding: 0 .5ex}\n",
       "</style>\n",
       "<ol class=list-inline><li>1386</li><li>18</li></ol>\n"
      ],
      "text/latex": [
       "\\begin{enumerate*}\n",
       "\\item 1386\n",
       "\\item 18\n",
       "\\end{enumerate*}\n"
      ],
      "text/markdown": [
       "1. 1386\n",
       "2. 18\n",
       "\n",
       "\n"
      ],
      "text/plain": [
       "[1] 1386   18"
      ]
     },
     "metadata": {}
    },
    {
     "output_type": "display_data",
     "data": {
      "text/html": [
       "<style>\n",
       ".list-inline {list-style: none; margin:0; padding: 0}\n",
       ".list-inline>li {display: inline-block}\n",
       ".list-inline>li:not(:last-child)::after {content: \"\\00b7\"; padding: 0 .5ex}\n",
       "</style>\n",
       "<ol class=list-inline><li>260</li><li>18</li></ol>\n"
      ],
      "text/latex": [
       "\\begin{enumerate*}\n",
       "\\item 260\n",
       "\\item 18\n",
       "\\end{enumerate*}\n"
      ],
      "text/markdown": [
       "1. 260\n",
       "2. 18\n",
       "\n",
       "\n"
      ],
      "text/plain": [
       "[1] 260  18"
      ]
     },
     "metadata": {}
    }
   ],
   "metadata": {
    "vscode": {
     "languageId": "r"
    }
   }
  },
  {
   "cell_type": "code",
   "execution_count": 3,
   "source": [
    "library(R2jags)\n",
    "\n",
    "status = rep(0,nrow(lifeData_train))\n",
    "\n",
    "for (i in 1:nrow(lifeData_train)) {\n",
    "  status[i] = ifelse(lifeData_train$Status[i]==\"Developing\",0,1)\n",
    "}\n",
    "mortality = lifeData_train$\"Adult.Mortality\"\n",
    "alcohol = lifeData_train$\"Alcohol\"\n",
    "hepB = lifeData_train$\"Hepatitis.B\"\n",
    "measles = lifeData_train$\"Measles\"\n",
    "BMI = lifeData_train$\"BMI\"\n",
    "polio = lifeData_train$\"Polio\"\n",
    "totalExp = lifeData_train$\"Total.expenditure\"\n",
    "dipth = lifeData_train$\"Diphtheria\"\n",
    "hivaids = lifeData_train$\"HIV.AIDS\"\n",
    "gdp = lifeData_train$\"GDP\"\n",
    "pop = lifeData_train$\"Population\"\n",
    "thin1019 = lifeData_train$\"thinness.1.19.years\"\n",
    "incomeComp = lifeData_train$\"Income.composition.of.resources\"\n",
    "school = lifeData_train$\"Schooling\"\n",
    "y = lifeData_train$\"Life.expectancy\"\n",
    "N = length(lifeData_train$Country) #go through each point\n",
    "J = length(unique(lifeData_train$Country)) #go through each country\n",
    "\n",
    "# encode country\n",
    "indicesDict = c(unique(lifeData_train$Country))\n",
    "indices = rep(0,N)\n",
    "for (i in 1:N) {\n",
    "  indices[i] = which(indicesDict==lifeData_train$Country[i])\n",
    "}"
   ],
   "outputs": [
    {
     "output_type": "stream",
     "name": "stderr",
     "text": [
      "Loading required package: rjags\n",
      "\n",
      "Loading required package: coda\n",
      "\n",
      "Linked to JAGS 4.3.1\n",
      "\n",
      "Loaded modules: basemod,bugs\n",
      "\n",
      "\n",
      "Attaching package: 'R2jags'\n",
      "\n",
      "\n",
      "The following object is masked from 'package:coda':\n",
      "\n",
      "    traceplot\n",
      "\n",
      "\n"
     ]
    }
   ],
   "metadata": {
    "vscode": {
     "languageId": "r"
    }
   }
  },
  {
   "cell_type": "code",
   "execution_count": 4,
   "source": [
    "save.parms.0 = c(\"beta\")\n",
    "life_expectancy.data.0 = c(\"y\",\"mortality\",\"alcohol\", \"status\",\n",
    "                            \"hepB\",\"measles\",\"BMI\",\"polio\",\"totalExp\",\n",
    "                            \"dipth\",\"hivaids\",\"gdp\",\"pop\",\"thin1019\",\n",
    "                            \"incomeComp\",\"school\",\"N\")    \n",
    "\n",
    "life_expectancy.model.0 = function()\n",
    "{\n",
    "  for (i in 1:N) {\n",
    "     y[i] ~ dnorm(mu[i],tau) #could do tau*k bc precision\n",
    "     #indices[i] gets the cluster number\n",
    "     mu[i] <- \n",
    "          beta[1] # intercept\n",
    "          + beta[2]*status[i]\n",
    "          + beta[3]*mortality[i] \n",
    "          + beta[4]*alcohol[i] \n",
    "          + beta[5]*hepB[i] \n",
    "          + beta[6]*measles[i] \n",
    "          + beta[7]*BMI[i] \n",
    "          + beta[8]*polio[i] \n",
    "          + beta[9]*totalExp[i] \n",
    "          + beta[10]*dipth[i] \n",
    "          + beta[11]*hivaids[i] \n",
    "          + beta[12]*gdp[i] \n",
    "          + beta[13]*pop[i] \n",
    "          + beta[14]*thin1019[i] \n",
    "          + beta[15]*incomeComp[i] \n",
    "          + beta[16]*school[i] \n",
    "  }\n",
    "  for (k in 1:16) {\n",
    "    beta[k] ~ dnorm(0,1e-6)\n",
    "  }\n",
    "  tau ~ dgamma(1e-6,1e-6)\n",
    "}"
   ],
   "outputs": [],
   "metadata": {
    "vscode": {
     "languageId": "r"
    }
   }
  },
  {
   "cell_type": "code",
   "execution_count": 5,
   "source": [
    "life_expectancy.out.0 = jags(data=life_expectancy.data.0,parameters.to.save=save.parms.0,model.file=life_expectancy.model.0,\n",
    "                           n.chains=3,n.iter=10000,n.burnin=2000,n.thin=1)\n",
    "print(life_expectancy.out.0, digits = 6)"
   ],
   "outputs": [
    {
     "output_type": "stream",
     "name": "stderr",
     "text": [
      "module glm loaded\n",
      "\n"
     ]
    },
    {
     "output_type": "stream",
     "name": "stdout",
     "text": [
      "Compiling model graph\n",
      "   Resolving undeclared variables\n",
      "   Allocating nodes\n",
      "Graph information:\n",
      "   Observed stochastic nodes: 1386\n",
      "   Unobserved stochastic nodes: 17\n",
      "   Total graph size: 30440\n",
      "\n",
      "Initializing model\n",
      "\n",
      "Inference for Bugs model at \"C:/Users/MINGCH~1/AppData/Local/Temp/RtmpQRXQI6/modelee8126c1851.txt\", fit using jags,\n",
      " 3 chains, each with 10000 iterations (first 2000 discarded)\n",
      " n.sims = 24000 iterations saved\n",
      "             mu.vect  sd.vect        2.5%         25%         50%         75%\n",
      "beta[1]    63.013208 0.886193   61.278277   62.417895   63.014678   63.614327\n",
      "beta[2]     0.228100 0.287777   -0.339631    0.034656    0.227154    0.424208\n",
      "beta[3]    -0.044317 0.001215   -0.046698   -0.045126   -0.044321   -0.043499\n",
      "beta[4]    -0.028594 0.028755   -0.084770   -0.047847   -0.028608   -0.009185\n",
      "beta[5]    -0.004141 0.005226   -0.014485   -0.007666   -0.004107   -0.000608\n",
      "beta[6]     0.000001 0.000007   -0.000013   -0.000003    0.000002    0.000006\n",
      "beta[7]     0.050171 0.008106    0.034213    0.044754    0.050206    0.055689\n",
      "beta[8]     0.020675 0.017614   -0.013427    0.008741    0.020565    0.032556\n",
      "beta[9]    -0.097042 0.032888   -0.162185   -0.119028   -0.096947   -0.074971\n",
      "beta[10]    0.038549 0.017014    0.005277    0.026993    0.038682    0.050032\n",
      "beta[11]   -0.034648 0.018256   -0.070074   -0.046914   -0.034685   -0.022365\n",
      "beta[12]    6.653374 0.828755    5.028405    6.096981    6.652869    7.209753\n",
      "beta[13]    0.000000 0.000000    0.000000    0.000000    0.000000    0.000000\n",
      "beta[14]   -0.045075 0.023941   -0.092327   -0.061019   -0.044878   -0.028956\n",
      "beta[15]    3.682689 0.638815    2.425788    3.249898    3.687888    4.112456\n",
      "beta[16]    0.512645 0.051723    0.411826    0.477891    0.512444    0.547531\n",
      "deviance 6612.441769 5.915944 6602.913829 6608.151207 6611.782622 6615.934654\n",
      "               97.5%     Rhat n.eff\n",
      "beta[1]    64.754832 1.001117 11000\n",
      "beta[2]     0.784761 1.000940 24000\n",
      "beta[3]    -0.041942 1.001070 15000\n",
      "beta[4]     0.027983 1.000973 24000\n",
      "beta[5]     0.006149 1.001172  8500\n",
      "beta[6]     0.000015 1.000000     1\n",
      "beta[7]     0.065933 1.001130 10000\n",
      "beta[8]     0.055151 1.001132 10000\n",
      "beta[9]    -0.032790 1.000988 24000\n",
      "beta[10]    0.071604 1.001108 12000\n",
      "beta[11]    0.000978 1.001004 24000\n",
      "beta[12]    8.296904 1.001002 24000\n",
      "beta[13]    0.000000 1.000000     1\n",
      "beta[14]    0.001569 1.001035 20000\n",
      "beta[15]    4.928566 1.000939 24000\n",
      "beta[16]    0.614352 1.001117 11000\n",
      "deviance 6625.887419 1.000981 24000\n",
      "\n",
      "For each parameter, n.eff is a crude measure of effective sample size,\n",
      "and Rhat is the potential scale reduction factor (at convergence, Rhat=1).\n",
      "\n",
      "DIC info (using the rule, pD = var(deviance)/2)\n",
      "pD = 17.5 and DIC = 6629.9\n",
      "DIC is an estimate of expected predictive error (lower deviance is better).\n"
     ]
    }
   ],
   "metadata": {
    "vscode": {
     "languageId": "r"
    }
   }
  },
  {
   "cell_type": "code",
   "execution_count": 6,
   "source": [
    "attach.jags(life_expectancy.out.0)\n",
    "beta.0 <- mcmc(beta)\n",
    "beta.0 <- apply(beta.0, 2, mean)"
   ],
   "outputs": [],
   "metadata": {
    "vscode": {
     "languageId": "r"
    }
   }
  },
  {
   "cell_type": "code",
   "execution_count": 8,
   "source": [
    "X.0 = cbind(rep(1, N), status, mortality, alcohol, hepB, measles, BMI,\n",
    "          polio, totalExp, dipth, hivaids, gdp, pop, thin1019, incomeComp, school)\n",
    "fit.0 = X.0 %*% beta.0\n",
    "residual.0 <- as.vector(fit.0 - lifeData_train[,4])"
   ],
   "outputs": [],
   "metadata": {}
  },
  {
   "cell_type": "code",
   "execution_count": 9,
   "source": [
    "plot(fit.0, residual.0)\n",
    "abline(h = 0)\n",
    "\n",
    "qqnorm(residual.0)\n",
    "qqline(residual.0)"
   ],
   "outputs": [
    {
     "output_type": "display_data",
     "data": {
      "image/png": "[encoded data removed]",
      "text/plain": [
       "plot without title"
      ]
     },
     "metadata": {
      "image/png": {
       "width": 420,
       "height": 420
      }
     }
    },
    {
     "output_type": "display_data",
     "data": {
      "image/png": "[encoded data removed]",
      "text/plain": [
       "Plot with title \"Normal Q-Q Plot\""
      ]
     },
     "metadata": {
      "image/png": {
       "width": 420,
       "height": 420
      }
     }
    }
   ],
   "metadata": {}
  },
  {
   "cell_type": "markdown",
   "source": [
    "# Test"
   ],
   "metadata": {}
  },
  {
   "cell_type": "code",
   "execution_count": 17,
   "source": [
    "rmse <- function(x,y) {\n",
    "    return(sqrt(mean((x-y)^2)))\n",
    "}"
   ],
   "outputs": [],
   "metadata": {}
  },
  {
   "cell_type": "code",
   "execution_count": 12,
   "source": [
    "status_test = rep(0,nrow(lifeData_test))\n",
    "for (i in 1:nrow(lifeData_test)) {\n",
    "  status_test[i] = ifelse(lifeData_test$Status[i]==\"Developing\",0,1)\n",
    "}\n",
    "mortality_test = lifeData_test$\"Adult.Mortality\"\n",
    "alcohol_test = lifeData_test$\"Alcohol\"\n",
    "hepB_test = lifeData_test$\"Hepatitis.B\"\n",
    "measles_test = lifeData_test$\"Measles\"\n",
    "BMI_test = lifeData_test$\"BMI\"\n",
    "polio_test = lifeData_test$\"Polio\"\n",
    "totalExp_test = lifeData_test$\"Total.expenditure\"\n",
    "dipth_test = lifeData_test$\"Diphtheria\"\n",
    "hivaids_test = lifeData_test$\"HIV.AIDS\"\n",
    "gdp_test = lifeData_test$\"GDP\"\n",
    "pop_test = lifeData_test$\"Population\"\n",
    "thin1019_test = lifeData_test$\"thinness.1.19.years\"\n",
    "incomeComp_test = lifeData_test$\"Income.composition.of.resources\"\n",
    "school_test = lifeData_test$\"Schooling\""
   ],
   "outputs": [],
   "metadata": {}
  },
  {
   "cell_type": "code",
   "execution_count": 15,
   "source": [
    "X.0_test = cbind(rep(1, nrow(lifeData_test)), status_test, mortality_test, alcohol_test, hepB_test, measles_test, BMI_test,\n",
    "          polio_test, totalExp_test, dipth_test, hivaids_test, gdp_test, pop_test, thin1019_test, incomeComp_test, school_test)\n",
    "fit.0_test = X.0_test %*% beta.0"
   ],
   "outputs": [],
   "metadata": {}
  },
  {
   "cell_type": "code",
   "execution_count": 18,
   "source": [
    "rmse(fit.0_test, lifeData_test[,4])"
   ],
   "outputs": [
    {
     "output_type": "display_data",
     "data": {
      "text/html": [
       "3.342119922401"
      ],
      "text/latex": [
       "3.342119922401"
      ],
      "text/markdown": [
       "3.342119922401"
      ],
      "text/plain": [
       "[1] 3.34212"
      ]
     },
     "metadata": {}
    }
   ],
   "metadata": {}
  },
  {
   "cell_type": "code",
   "execution_count": null,
   "source": [],
   "outputs": [],
   "metadata": {}
  }
 ],
 "metadata": {
  "kernelspec": {
   "display_name": "R",
   "language": "R",
   "name": "ir"
  },
  "language_info": {
   "name": "R",
   "codemirror_mode": "r",
   "pygments_lexer": "r",
   "mimetype": "text/x-r-source",
   "file_extension": ".r",
   "version": "4.2.1"
  },
  "orig_nbformat": 4
 },
 "nbformat": 4,
 "nbformat_minor": 2
}